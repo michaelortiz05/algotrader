{
 "cells": [
  {
   "cell_type": "code",
   "execution_count": 14,
   "id": "01d21fad",
   "metadata": {},
   "outputs": [],
   "source": [
    "import json\n",
    "\n",
    "f = open(\"auth.json\")\n",
    "auth = json.load(f)"
   ]
  },
  {
   "cell_type": "code",
   "execution_count": 19,
   "id": "96d1c535",
   "metadata": {},
   "outputs": [],
   "source": [
    "import alpaca_trade_api as tradeapi\n",
    "\n",
    "BASE_URL = \"https://paper-api.alpaca.markets\"\n",
    "API_KEY = auth['ID']\n",
    "SECRET_KEY = auth['Secret']"
   ]
  },
  {
   "cell_type": "code",
   "execution_count": 20,
   "id": "507d5781",
   "metadata": {},
   "outputs": [],
   "source": [
    "api = tradeapi.REST(key_id=API_KEY, secret_key=SECRET_KEY, \n",
    "                    base_url=BASE_URL, api_version='v2')"
   ]
  },
  {
   "cell_type": "code",
   "execution_count": null,
   "id": "74b71114",
   "metadata": {},
   "outputs": [],
   "source": []
  }
 ],
 "metadata": {
  "kernelspec": {
   "display_name": "Python 3 (ipykernel)",
   "language": "python",
   "name": "python3"
  },
  "language_info": {
   "codemirror_mode": {
    "name": "ipython",
    "version": 3
   },
   "file_extension": ".py",
   "mimetype": "text/x-python",
   "name": "python",
   "nbconvert_exporter": "python",
   "pygments_lexer": "ipython3",
   "version": "3.10.4"
  }
 },
 "nbformat": 4,
 "nbformat_minor": 5
}
