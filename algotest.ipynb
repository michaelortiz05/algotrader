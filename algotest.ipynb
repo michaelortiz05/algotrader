{
 "cells": [
  {
   "cell_type": "code",
   "execution_count": 9,
   "id": "01d21fad",
   "metadata": {},
   "outputs": [],
   "source": [
    "import json\n",
    "\n",
    "f = open(\"authPaper.json\")\n",
    "auth = json.load(f)"
   ]
  },
  {
   "cell_type": "code",
   "execution_count": 15,
   "id": "96d1c535",
   "metadata": {},
   "outputs": [],
   "source": [
    "import alpaca_trade_api as tradeapi\n",
    "\n",
    "BASE_URL = \"https://paper-api.alpaca.markets\"\n",
    "API_KEY = auth['ID']\n",
    "SECRET_KEY = auth['Secret']"
   ]
  },
  {
   "cell_type": "code",
   "execution_count": 11,
   "id": "507d5781",
   "metadata": {},
   "outputs": [],
   "source": [
    "api = tradeapi.REST(key_id=API_KEY, secret_key=SECRET_KEY, \n",
    "                    base_url=BASE_URL, api_version='v2')"
   ]
  },
  {
   "cell_type": "code",
   "execution_count": 17,
   "id": "74b71114",
   "metadata": {},
   "outputs": [],
   "source": [
    "api = tradeapi.REST(key_id=API_KEY, secret_key=SECRET_KEY, \n",
    "                    base_url=BASE_URL, api_version='v2')"
   ]
  },
  {
   "cell_type": "code",
   "execution_count": 18,
   "id": "a8ae7e82",
   "metadata": {},
   "outputs": [
    {
     "data": {
      "text/plain": [
       "Account({   'account_blocked': False,\n",
       "    'account_number': 'PA34Z3GMVTZV',\n",
       "    'accrued_fees': '0',\n",
       "    'buying_power': '200000',\n",
       "    'cash': '100000',\n",
       "    'created_at': '2022-05-31T02:15:09.093041Z',\n",
       "    'crypto_status': 'ACTIVE',\n",
       "    'currency': 'USD',\n",
       "    'daytrade_count': 0,\n",
       "    'daytrading_buying_power': '0',\n",
       "    'equity': '100000',\n",
       "    'id': '2fc73b15-da75-464c-af51-ff86bfbf12a6',\n",
       "    'initial_margin': '0',\n",
       "    'last_equity': '100000',\n",
       "    'last_maintenance_margin': '0',\n",
       "    'long_market_value': '0',\n",
       "    'maintenance_margin': '0',\n",
       "    'multiplier': '2',\n",
       "    'non_marginable_buying_power': '100000',\n",
       "    'pattern_day_trader': False,\n",
       "    'pending_transfer_in': '0',\n",
       "    'portfolio_value': '100000',\n",
       "    'regt_buying_power': '200000',\n",
       "    'short_market_value': '0',\n",
       "    'shorting_enabled': True,\n",
       "    'sma': '0',\n",
       "    'status': 'ACTIVE',\n",
       "    'trade_suspended_by_user': False,\n",
       "    'trading_blocked': False,\n",
       "    'transfers_blocked': False})"
      ]
     },
     "execution_count": 18,
     "metadata": {},
     "output_type": "execute_result"
    }
   ],
   "source": [
    "api.get_account()"
   ]
  },
  {
   "cell_type": "code",
   "execution_count": null,
   "id": "55664874",
   "metadata": {},
   "outputs": [],
   "source": []
  }
 ],
 "metadata": {
  "kernelspec": {
   "display_name": "Python 3 (ipykernel)",
   "language": "python",
   "name": "python3"
  },
  "language_info": {
   "codemirror_mode": {
    "name": "ipython",
    "version": 3
   },
   "file_extension": ".py",
   "mimetype": "text/x-python",
   "name": "python",
   "nbconvert_exporter": "python",
   "pygments_lexer": "ipython3",
   "version": "3.10.4"
  }
 },
 "nbformat": 4,
 "nbformat_minor": 5
}
