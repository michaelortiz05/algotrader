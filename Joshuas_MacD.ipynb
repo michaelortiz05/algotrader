{
 "cells": [
  {
   "cell_type": "code",
   "execution_count": 1,
   "id": "d6291122",
   "metadata": {},
   "outputs": [],
   "source": [
    "import json\n",
    "import os\n",
    "\n",
    "%load_ext dotenv\n",
    "%dotenv\n",
    "\n",
    "# f = open(\"authPaper.json\")\n",
    "# auth = json.load(f)"
   ]
  },
  {
   "cell_type": "code",
   "execution_count": 2,
   "id": "e243c59a",
   "metadata": {},
   "outputs": [],
   "source": [
    "import alpaca_trade_api as tradeapi\n",
    "from alpaca_trade_api.rest import REST, TimeFrame\n",
    "# BASE_URL = \"https://paper-api.alpaca.markets\"\n",
    "# API_KEY = auth['ID']\n",
    "# SECRET_KEY = auth['Secret']"
   ]
  },
  {
   "cell_type": "code",
   "execution_count": 3,
   "id": "03d7ad80",
   "metadata": {},
   "outputs": [],
   "source": [
    "api = tradeapi.REST(key_id= os.getenv('API_KEY'), secret_key=os.getenv('SECRET_KEY'), base_url=os.getenv('APCA_API_BASE_URL'), api_version='v2')"
   ]
  },
  {
   "cell_type": "code",
   "execution_count": 4,
   "id": "371bd3ef",
   "metadata": {},
   "outputs": [],
   "source": [
    "df_apple = api.get_bars(\"AAPL\", TimeFrame.Day, \"2020-01-01\", \"2022-01-08\", adjustment='raw').df"
   ]
  },
  {
   "cell_type": "code",
   "execution_count": 5,
   "id": "6b55f495",
   "metadata": {
    "scrolled": true
   },
   "outputs": [
    {
     "data": {
      "text/plain": [
       "<AxesSubplot:xlabel='timestamp'>"
      ]
     },
     "execution_count": 5,
     "metadata": {},
     "output_type": "execute_result"
    },
    {
     "data": {
      "image/png": "[encoded data removed]",
      "text/plain": [
       "<Figure size 432x288 with 1 Axes>"
      ]
     },
     "metadata": {
      "needs_background": "light"
     },
     "output_type": "display_data"
    }
   ],
   "source": [
    "df_apple['close'].plot()"
   ]
  },
  {
   "cell_type": "code",
   "execution_count": 6,
   "id": "bb98d2ef",
   "metadata": {},
   "outputs": [],
   "source": [
    "# importing forecasting libraries\n",
    "import pmdarima as pm\n",
    "import numpy as npf\n",
    "import matplotlib.pyplot as plt\n",
    "import seaborn as sn"
   ]
  },
  {
   "cell_type": "code",
   "execution_count": 7,
   "id": "06d856f4",
   "metadata": {},
   "outputs": [],
   "source": [
    "arima_model = pm.auto_arima(df_apple['close'], seasonal = False)"
   ]
  },
  {
   "cell_type": "markdown",
   "id": "0910cc41",
   "metadata": {},
   "source": [
    "# Random Walk (Useless)\n",
    "A random walk does not help predict the next values only that the variance will increase... lame <br>\n",
    "This is for predictions involving the closing cost"
   ]
  },
  {
   "cell_type": "code",
   "execution_count": 8,
   "id": "2370ee1e",
   "metadata": {},
   "outputs": [
    {
     "data": {
      "text/html": [
       "<style>#sk-container-id-1 {color: black;background-color: white;}#sk-container-id-1 pre{padding: 0;}#sk-container-id-1 div.sk-toggleable {background-color: white;}#sk-container-id-1 label.sk-toggleable__label {cursor: pointer;display: block;width: 100%;margin-bottom: 0;padding: 0.3em;box-sizing: border-box;text-align: center;}#sk-container-id-1 label.sk-toggleable__label-arrow:before {content: \"▸\";float: left;margin-right: 0.25em;color: #696969;}#sk-container-id-1 label.sk-toggleable__label-arrow:hover:before {color: black;}#sk-container-id-1 div.sk-estimator:hover label.sk-toggleable__label-arrow:before {color: black;}#sk-container-id-1 div.sk-toggleable__content {max-height: 0;max-width: 0;overflow: hidden;text-align: left;background-color: #f0f8ff;}#sk-container-id-1 div.sk-toggleable__content pre {margin: 0.2em;color: black;border-radius: 0.25em;background-color: #f0f8ff;}#sk-container-id-1 input.sk-toggleable__control:checked~div.sk-toggleable__content {max-height: 200px;max-width: 100%;overflow: auto;}#sk-container-id-1 input.sk-toggleable__control:checked~label.sk-toggleable__label-arrow:before {content: \"▾\";}#sk-container-id-1 div.sk-estimator input.sk-toggleable__control:checked~label.sk-toggleable__label {background-color: #d4ebff;}#sk-container-id-1 div.sk-label input.sk-toggleable__control:checked~label.sk-toggleable__label {background-color: #d4ebff;}#sk-container-id-1 input.sk-hidden--visually {border: 0;clip: rect(1px 1px 1px 1px);clip: rect(1px, 1px, 1px, 1px);height: 1px;margin: -1px;overflow: hidden;padding: 0;position: absolute;width: 1px;}#sk-container-id-1 div.sk-estimator {font-family: monospace;background-color: #f0f8ff;border: 1px dotted black;border-radius: 0.25em;box-sizing: border-box;margin-bottom: 0.5em;}#sk-container-id-1 div.sk-estimator:hover {background-color: #d4ebff;}#sk-container-id-1 div.sk-parallel-item::after {content: \"\";width: 100%;border-bottom: 1px solid gray;flex-grow: 1;}#sk-container-id-1 div.sk-label:hover label.sk-toggleable__label {background-color: #d4ebff;}#sk-container-id-1 div.sk-serial::before {content: \"\";position: absolute;border-left: 1px solid gray;box-sizing: border-box;top: 0;bottom: 0;left: 50%;z-index: 0;}#sk-container-id-1 div.sk-serial {display: flex;flex-direction: column;align-items: center;background-color: white;padding-right: 0.2em;padding-left: 0.2em;position: relative;}#sk-container-id-1 div.sk-item {position: relative;z-index: 1;}#sk-container-id-1 div.sk-parallel {display: flex;align-items: stretch;justify-content: center;background-color: white;position: relative;}#sk-container-id-1 div.sk-item::before, #sk-container-id-1 div.sk-parallel-item::before {content: \"\";position: absolute;border-left: 1px solid gray;box-sizing: border-box;top: 0;bottom: 0;left: 50%;z-index: -1;}#sk-container-id-1 div.sk-parallel-item {display: flex;flex-direction: column;z-index: 1;position: relative;background-color: white;}#sk-container-id-1 div.sk-parallel-item:first-child::after {align-self: flex-end;width: 50%;}#sk-container-id-1 div.sk-parallel-item:last-child::after {align-self: flex-start;width: 50%;}#sk-container-id-1 div.sk-parallel-item:only-child::after {width: 0;}#sk-container-id-1 div.sk-dashed-wrapped {border: 1px dashed gray;margin: 0 0.4em 0.5em 0.4em;box-sizing: border-box;padding-bottom: 0.4em;background-color: white;}#sk-container-id-1 div.sk-label label {font-family: monospace;font-weight: bold;display: inline-block;line-height: 1.2em;}#sk-container-id-1 div.sk-label-container {text-align: center;}#sk-container-id-1 div.sk-container {/* jupyter's `normalize.less` sets `[hidden] { display: none; }` but bootstrap.min.css set `[hidden] { display: none !important; }` so we also need the `!important` here to be able to override the default hidden behavior on the sphinx rendered scikit-learn.org. See: https://github.com/scikit-learn/scikit-learn/issues/21755 */display: inline-block !important;position: relative;}#sk-container-id-1 div.sk-text-repr-fallback {display: none;}</style><div id=\"sk-container-id-1\" class=\"sk-top-container\"><div class=\"sk-text-repr-fallback\"><pre> ARIMA(0,1,0)(0,0,0)[0]          </pre><b>In a Jupyter environment, please rerun this cell to show the HTML representation or trust the notebook. <br />On GitHub, the HTML representation is unable to render, please try loading this page with nbviewer.org.</b></div><div class=\"sk-container\" hidden><div class=\"sk-item\"><div class=\"sk-estimator sk-toggleable\"><input class=\"sk-toggleable__control sk-hidden--visually\" id=\"sk-estimator-id-1\" type=\"checkbox\" checked><label for=\"sk-estimator-id-1\" class=\"sk-toggleable__label sk-toggleable__label-arrow\">ARIMA</label><div class=\"sk-toggleable__content\"><pre> ARIMA(0,1,0)(0,0,0)[0]          </pre></div></div></div></div></div>"
      ],
      "text/plain": [
       "ARIMA(order=(0, 1, 0), scoring_args={}, suppress_warnings=True,\n",
       "      with_intercept=False)"
      ]
     },
     "execution_count": 8,
     "metadata": {},
     "output_type": "execute_result"
    }
   ],
   "source": [
    "arima_model"
   ]
  },
  {
   "cell_type": "markdown",
   "id": "90f5153f",
   "metadata": {},
   "source": [
    "# Forecasting Volume\n",
    "\n",
    "We can see that volume is dependant on on previous lag with a ar and ma term."
   ]
  },
  {
   "cell_type": "code",
   "execution_count": 9,
   "id": "97d9fddd",
   "metadata": {},
   "outputs": [
    {
     "data": {
      "text/html": [
       "<style>#sk-container-id-2 {color: black;background-color: white;}#sk-container-id-2 pre{padding: 0;}#sk-container-id-2 div.sk-toggleable {background-color: white;}#sk-container-id-2 label.sk-toggleable__label {cursor: pointer;display: block;width: 100%;margin-bottom: 0;padding: 0.3em;box-sizing: border-box;text-align: center;}#sk-container-id-2 label.sk-toggleable__label-arrow:before {content: \"▸\";float: left;margin-right: 0.25em;color: #696969;}#sk-container-id-2 label.sk-toggleable__label-arrow:hover:before {color: black;}#sk-container-id-2 div.sk-estimator:hover label.sk-toggleable__label-arrow:before {color: black;}#sk-container-id-2 div.sk-toggleable__content {max-height: 0;max-width: 0;overflow: hidden;text-align: left;background-color: #f0f8ff;}#sk-container-id-2 div.sk-toggleable__content pre {margin: 0.2em;color: black;border-radius: 0.25em;background-color: #f0f8ff;}#sk-container-id-2 input.sk-toggleable__control:checked~div.sk-toggleable__content {max-height: 200px;max-width: 100%;overflow: auto;}#sk-container-id-2 input.sk-toggleable__control:checked~label.sk-toggleable__label-arrow:before {content: \"▾\";}#sk-container-id-2 div.sk-estimator input.sk-toggleable__control:checked~label.sk-toggleable__label {background-color: #d4ebff;}#sk-container-id-2 div.sk-label input.sk-toggleable__control:checked~label.sk-toggleable__label {background-color: #d4ebff;}#sk-container-id-2 input.sk-hidden--visually {border: 0;clip: rect(1px 1px 1px 1px);clip: rect(1px, 1px, 1px, 1px);height: 1px;margin: -1px;overflow: hidden;padding: 0;position: absolute;width: 1px;}#sk-container-id-2 div.sk-estimator {font-family: monospace;background-color: #f0f8ff;border: 1px dotted black;border-radius: 0.25em;box-sizing: border-box;margin-bottom: 0.5em;}#sk-container-id-2 div.sk-estimator:hover {background-color: #d4ebff;}#sk-container-id-2 div.sk-parallel-item::after {content: \"\";width: 100%;border-bottom: 1px solid gray;flex-grow: 1;}#sk-container-id-2 div.sk-label:hover label.sk-toggleable__label {background-color: #d4ebff;}#sk-container-id-2 div.sk-serial::before {content: \"\";position: absolute;border-left: 1px solid gray;box-sizing: border-box;top: 0;bottom: 0;left: 50%;z-index: 0;}#sk-container-id-2 div.sk-serial {display: flex;flex-direction: column;align-items: center;background-color: white;padding-right: 0.2em;padding-left: 0.2em;position: relative;}#sk-container-id-2 div.sk-item {position: relative;z-index: 1;}#sk-container-id-2 div.sk-parallel {display: flex;align-items: stretch;justify-content: center;background-color: white;position: relative;}#sk-container-id-2 div.sk-item::before, #sk-container-id-2 div.sk-parallel-item::before {content: \"\";position: absolute;border-left: 1px solid gray;box-sizing: border-box;top: 0;bottom: 0;left: 50%;z-index: -1;}#sk-container-id-2 div.sk-parallel-item {display: flex;flex-direction: column;z-index: 1;position: relative;background-color: white;}#sk-container-id-2 div.sk-parallel-item:first-child::after {align-self: flex-end;width: 50%;}#sk-container-id-2 div.sk-parallel-item:last-child::after {align-self: flex-start;width: 50%;}#sk-container-id-2 div.sk-parallel-item:only-child::after {width: 0;}#sk-container-id-2 div.sk-dashed-wrapped {border: 1px dashed gray;margin: 0 0.4em 0.5em 0.4em;box-sizing: border-box;padding-bottom: 0.4em;background-color: white;}#sk-container-id-2 div.sk-label label {font-family: monospace;font-weight: bold;display: inline-block;line-height: 1.2em;}#sk-container-id-2 div.sk-label-container {text-align: center;}#sk-container-id-2 div.sk-container {/* jupyter's `normalize.less` sets `[hidden] { display: none; }` but bootstrap.min.css set `[hidden] { display: none !important; }` so we also need the `!important` here to be able to override the default hidden behavior on the sphinx rendered scikit-learn.org. See: https://github.com/scikit-learn/scikit-learn/issues/21755 */display: inline-block !important;position: relative;}#sk-container-id-2 div.sk-text-repr-fallback {display: none;}</style><div id=\"sk-container-id-2\" class=\"sk-top-container\"><div class=\"sk-text-repr-fallback\"><pre> ARIMA(1,1,1)(0,0,0)[0]          </pre><b>In a Jupyter environment, please rerun this cell to show the HTML representation or trust the notebook. <br />On GitHub, the HTML representation is unable to render, please try loading this page with nbviewer.org.</b></div><div class=\"sk-container\" hidden><div class=\"sk-item\"><div class=\"sk-estimator sk-toggleable\"><input class=\"sk-toggleable__control sk-hidden--visually\" id=\"sk-estimator-id-2\" type=\"checkbox\" checked><label for=\"sk-estimator-id-2\" class=\"sk-toggleable__label sk-toggleable__label-arrow\">ARIMA</label><div class=\"sk-toggleable__content\"><pre> ARIMA(1,1,1)(0,0,0)[0]          </pre></div></div></div></div></div>"
      ],
      "text/plain": [
       "ARIMA(order=(1, 1, 1), scoring_args={}, suppress_warnings=True,\n",
       "      with_intercept=False)"
      ]
     },
     "execution_count": 9,
     "metadata": {},
     "output_type": "execute_result"
    }
   ],
   "source": [
    "arima_model = pm.auto_arima(df_apple['volume'], seasonal = False)\n",
    "\n",
    "arima_model"
   ]
  },
  {
   "cell_type": "markdown",
   "id": "82e17c30",
   "metadata": {},
   "source": [
    "# Correlation plot"
   ]
  },
  {
   "cell_type": "code",
   "execution_count": 10,
   "id": "046081f4",
   "metadata": {},
   "outputs": [
    {
     "data": {
      "image/png": "[encoded data removed]",
      "text/plain": [
       "<Figure size 432x288 with 2 Axes>"
      ]
     },
     "metadata": {
      "needs_background": "light"
     },
     "output_type": "display_data"
    }
   ],
   "source": [
    "corrMatrix = df_apple.corr()\n",
    "sn.heatmap(corrMatrix, annot=True)\n",
    "plt.show()"
   ]
  },
  {
   "cell_type": "code",
   "execution_count": 11,
   "id": "ff8c91ed",
   "metadata": {},
   "outputs": [],
   "source": [
    "# building linear model\n",
    "import statsmodels.api as sm\n",
    "import math\n",
    "from scipy import stats\n",
    "from scipy import special\n",
    "import pandas as pd\n",
    "import numpy as np"
   ]
  },
  {
   "cell_type": "markdown",
   "id": "6c0a89e5",
   "metadata": {},
   "source": [
    "## creating function to automate linear modeling with variables using forecasted predictors"
   ]
  },
  {
   "cell_type": "code",
   "execution_count": 12,
   "id": "7f05cde6",
   "metadata": {},
   "outputs": [],
   "source": [
    "# Setting to be function variables\n",
    "stock = \"AAPL\"\n",
    "test_set_length = 30"
   ]
  },
  {
   "cell_type": "code",
   "execution_count": 454,
   "id": "aaa22124",
   "metadata": {},
   "outputs": [
    {
     "data": {
      "text/html": [
       "<div>\n",
       "<style scoped>\n",
       "    .dataframe tbody tr th:only-of-type {\n",
       "        vertical-align: middle;\n",
       "    }\n",
       "\n",
       "    .dataframe tbody tr th {\n",
       "        vertical-align: top;\n",
       "    }\n",
       "\n",
       "    .dataframe thead th {\n",
       "        text-align: right;\n",
       "    }\n",
       "</style>\n",
       "<table border=\"1\" class=\"dataframe\">\n",
       "  <thead>\n",
       "    <tr style=\"text-align: right;\">\n",
       "      <th></th>\n",
       "      <th>open</th>\n",
       "      <th>high</th>\n",
       "      <th>low</th>\n",
       "      <th>close</th>\n",
       "      <th>volume</th>\n",
       "      <th>trade_count</th>\n",
       "      <th>vwap</th>\n",
       "    </tr>\n",
       "    <tr>\n",
       "      <th>timestamp</th>\n",
       "      <th></th>\n",
       "      <th></th>\n",
       "      <th></th>\n",
       "      <th></th>\n",
       "      <th></th>\n",
       "      <th></th>\n",
       "      <th></th>\n",
       "    </tr>\n",
       "  </thead>\n",
       "  <tbody>\n",
       "    <tr>\n",
       "      <th>2020-01-02 05:00:00+00:00</th>\n",
       "      <td>296.27</td>\n",
       "      <td>300.6000</td>\n",
       "      <td>295.1900</td>\n",
       "      <td>300.35</td>\n",
       "      <td>33920004</td>\n",
       "      <td>283490</td>\n",
       "      <td>298.439935</td>\n",
       "    </tr>\n",
       "    <tr>\n",
       "      <th>2020-01-03 05:00:00+00:00</th>\n",
       "      <td>296.95</td>\n",
       "      <td>300.5800</td>\n",
       "      <td>296.5000</td>\n",
       "      <td>297.43</td>\n",
       "      <td>36633995</td>\n",
       "      <td>280942</td>\n",
       "      <td>298.810386</td>\n",
       "    </tr>\n",
       "    <tr>\n",
       "      <th>2020-01-06 05:00:00+00:00</th>\n",
       "      <td>293.70</td>\n",
       "      <td>299.9600</td>\n",
       "      <td>292.7500</td>\n",
       "      <td>299.80</td>\n",
       "      <td>29644779</td>\n",
       "      <td>242867</td>\n",
       "      <td>297.799601</td>\n",
       "    </tr>\n",
       "    <tr>\n",
       "      <th>2020-01-07 05:00:00+00:00</th>\n",
       "      <td>299.98</td>\n",
       "      <td>300.9000</td>\n",
       "      <td>297.4800</td>\n",
       "      <td>298.39</td>\n",
       "      <td>27885664</td>\n",
       "      <td>227873</td>\n",
       "      <td>298.924596</td>\n",
       "    </tr>\n",
       "    <tr>\n",
       "      <th>2020-01-08 05:00:00+00:00</th>\n",
       "      <td>297.17</td>\n",
       "      <td>304.4399</td>\n",
       "      <td>297.1560</td>\n",
       "      <td>303.19</td>\n",
       "      <td>33091741</td>\n",
       "      <td>261777</td>\n",
       "      <td>301.165533</td>\n",
       "    </tr>\n",
       "    <tr>\n",
       "      <th>...</th>\n",
       "      <td>...</td>\n",
       "      <td>...</td>\n",
       "      <td>...</td>\n",
       "      <td>...</td>\n",
       "      <td>...</td>\n",
       "      <td>...</td>\n",
       "      <td>...</td>\n",
       "    </tr>\n",
       "    <tr>\n",
       "      <th>2022-06-27 04:00:00+00:00</th>\n",
       "      <td>142.70</td>\n",
       "      <td>143.4900</td>\n",
       "      <td>140.9650</td>\n",
       "      <td>141.66</td>\n",
       "      <td>73357944</td>\n",
       "      <td>516181</td>\n",
       "      <td>142.026287</td>\n",
       "    </tr>\n",
       "    <tr>\n",
       "      <th>2022-06-28 04:00:00+00:00</th>\n",
       "      <td>142.10</td>\n",
       "      <td>143.4220</td>\n",
       "      <td>137.3250</td>\n",
       "      <td>137.44</td>\n",
       "      <td>67315336</td>\n",
       "      <td>546241</td>\n",
       "      <td>139.375156</td>\n",
       "    </tr>\n",
       "    <tr>\n",
       "      <th>2022-06-29 04:00:00+00:00</th>\n",
       "      <td>137.44</td>\n",
       "      <td>140.6700</td>\n",
       "      <td>136.6700</td>\n",
       "      <td>139.23</td>\n",
       "      <td>66354959</td>\n",
       "      <td>572556</td>\n",
       "      <td>139.273624</td>\n",
       "    </tr>\n",
       "    <tr>\n",
       "      <th>2022-06-30 04:00:00+00:00</th>\n",
       "      <td>137.30</td>\n",
       "      <td>138.3700</td>\n",
       "      <td>133.7737</td>\n",
       "      <td>136.72</td>\n",
       "      <td>99036459</td>\n",
       "      <td>710709</td>\n",
       "      <td>136.476185</td>\n",
       "    </tr>\n",
       "    <tr>\n",
       "      <th>2022-07-01 04:00:00+00:00</th>\n",
       "      <td>136.09</td>\n",
       "      <td>139.0400</td>\n",
       "      <td>135.6600</td>\n",
       "      <td>138.93</td>\n",
       "      <td>71174354</td>\n",
       "      <td>558683</td>\n",
       "      <td>137.479845</td>\n",
       "    </tr>\n",
       "  </tbody>\n",
       "</table>\n",
       "<p>630 rows × 7 columns</p>\n",
       "</div>"
      ],
      "text/plain": [
       "                             open      high       low   close    volume  \\\n",
       "timestamp                                                                 \n",
       "2020-01-02 05:00:00+00:00  296.27  300.6000  295.1900  300.35  33920004   \n",
       "2020-01-03 05:00:00+00:00  296.95  300.5800  296.5000  297.43  36633995   \n",
       "2020-01-06 05:00:00+00:00  293.70  299.9600  292.7500  299.80  29644779   \n",
       "2020-01-07 05:00:00+00:00  299.98  300.9000  297.4800  298.39  27885664   \n",
       "2020-01-08 05:00:00+00:00  297.17  304.4399  297.1560  303.19  33091741   \n",
       "...                           ...       ...       ...     ...       ...   \n",
       "2022-06-27 04:00:00+00:00  142.70  143.4900  140.9650  141.66  73357944   \n",
       "2022-06-28 04:00:00+00:00  142.10  143.4220  137.3250  137.44  67315336   \n",
       "2022-06-29 04:00:00+00:00  137.44  140.6700  136.6700  139.23  66354959   \n",
       "2022-06-30 04:00:00+00:00  137.30  138.3700  133.7737  136.72  99036459   \n",
       "2022-07-01 04:00:00+00:00  136.09  139.0400  135.6600  138.93  71174354   \n",
       "\n",
       "                           trade_count        vwap  \n",
       "timestamp                                           \n",
       "2020-01-02 05:00:00+00:00       283490  298.439935  \n",
       "2020-01-03 05:00:00+00:00       280942  298.810386  \n",
       "2020-01-06 05:00:00+00:00       242867  297.799601  \n",
       "2020-01-07 05:00:00+00:00       227873  298.924596  \n",
       "2020-01-08 05:00:00+00:00       261777  301.165533  \n",
       "...                                ...         ...  \n",
       "2022-06-27 04:00:00+00:00       516181  142.026287  \n",
       "2022-06-28 04:00:00+00:00       546241  139.375156  \n",
       "2022-06-29 04:00:00+00:00       572556  139.273624  \n",
       "2022-06-30 04:00:00+00:00       710709  136.476185  \n",
       "2022-07-01 04:00:00+00:00       558683  137.479845  \n",
       "\n",
       "[630 rows x 7 columns]"
      ]
     },
     "execution_count": 454,
     "metadata": {},
     "output_type": "execute_result"
    }
   ],
   "source": [
    "df_bars = api.get_bars(stock, TimeFrame.Day, \"2020-01-01\", \"2022-07-02\", adjustment='raw').df\n",
    "\n",
    "df_bars"
   ]
  },
  {
   "cell_type": "markdown",
   "id": "cd08976a",
   "metadata": {},
   "source": [
    "Uses BoxCox tranformation to get closer to the norality assumption"
   ]
  },
  {
   "cell_type": "code",
   "execution_count": 455,
   "id": "ea691864",
   "metadata": {},
   "outputs": [],
   "source": [
    "transform_variables = ['close', 'volume', 'trade_count']\n",
    "lambda_fitted = [None] * len(transform_variables)\n",
    "# transform training data & save lambda value\n",
    "for ind, variables in enumerate(transform_variables):\n",
    "    transformed_data, fitted_lambda = stats.boxcox(df_bars[variables])\n",
    "    \n",
    "    df_bars[variables] = transformed_data\n",
    "    \n",
    "    lambda_fitted[ind] = fitted_lambda"
   ]
  },
  {
   "cell_type": "markdown",
   "id": "a7f67416",
   "metadata": {},
   "source": [
    "Training and test setting"
   ]
  },
  {
   "cell_type": "code",
   "execution_count": 456,
   "id": "ec158b59",
   "metadata": {},
   "outputs": [],
   "source": [
    "df_bars_train = df_bars[:-test_set_length]\n",
    "df_bars_test = df_bars[-test_set_length:]"
   ]
  },
  {
   "cell_type": "markdown",
   "id": "21c9173b",
   "metadata": {},
   "source": [
    "Fits a linear model using volume and trade_count as predictors with close price as the target"
   ]
  },
  {
   "cell_type": "code",
   "execution_count": 457,
   "id": "16502b2c",
   "metadata": {},
   "outputs": [
    {
     "data": {
      "text/html": [
       "<table class=\"simpletable\">\n",
       "<caption>OLS Regression Results</caption>\n",
       "<tr>\n",
       "  <th>Dep. Variable:</th>          <td>close</td>      <th>  R-squared:         </th>  <td>   0.688</td> \n",
       "</tr>\n",
       "<tr>\n",
       "  <th>Model:</th>                   <td>OLS</td>       <th>  Adj. R-squared:    </th>  <td>   0.687</td> \n",
       "</tr>\n",
       "<tr>\n",
       "  <th>Method:</th>             <td>Least Squares</td>  <th>  F-statistic:       </th>  <td>   692.0</td> \n",
       "</tr>\n",
       "<tr>\n",
       "  <th>Date:</th>             <td>Sun, 03 Jul 2022</td> <th>  Prob (F-statistic):</th>  <td>2.11e-159</td>\n",
       "</tr>\n",
       "<tr>\n",
       "  <th>Time:</th>                 <td>19:45:36</td>     <th>  Log-Likelihood:    </th>  <td>  5656.7</td> \n",
       "</tr>\n",
       "<tr>\n",
       "  <th>No. Observations:</th>      <td>   630</td>      <th>  AIC:               </th> <td>-1.131e+04</td>\n",
       "</tr>\n",
       "<tr>\n",
       "  <th>Df Residuals:</th>          <td>   627</td>      <th>  BIC:               </th> <td>-1.129e+04</td>\n",
       "</tr>\n",
       "<tr>\n",
       "  <th>Df Model:</th>              <td>     2</td>      <th>                     </th>      <td> </td>    \n",
       "</tr>\n",
       "<tr>\n",
       "  <th>Covariance Type:</th>      <td>nonrobust</td>    <th>                     </th>      <td> </td>    \n",
       "</tr>\n",
       "</table>\n",
       "<table class=\"simpletable\">\n",
       "<tr>\n",
       "       <td></td>          <th>coef</th>     <th>std err</th>      <th>t</th>      <th>P>|t|</th>  <th>[0.025</th>    <th>0.975]</th>  \n",
       "</tr>\n",
       "<tr>\n",
       "  <th>const</th>       <td>    0.5904</td> <td> 8.49e-05</td> <td> 6956.208</td> <td> 0.000</td> <td>    0.590</td> <td>    0.591</td>\n",
       "</tr>\n",
       "<tr>\n",
       "  <th>volume</th>      <td>-1.241e-06</td> <td> 4.25e-08</td> <td>  -29.196</td> <td> 0.000</td> <td>-1.32e-06</td> <td>-1.16e-06</td>\n",
       "</tr>\n",
       "<tr>\n",
       "  <th>trade_count</th> <td>    0.0002</td> <td> 8.88e-06</td> <td>   17.924</td> <td> 0.000</td> <td>    0.000</td> <td>    0.000</td>\n",
       "</tr>\n",
       "</table>\n",
       "<table class=\"simpletable\">\n",
       "<tr>\n",
       "  <th>Omnibus:</th>       <td>16.660</td> <th>  Durbin-Watson:     </th> <td>   0.638</td>\n",
       "</tr>\n",
       "<tr>\n",
       "  <th>Prob(Omnibus):</th> <td> 0.000</td> <th>  Jarque-Bera (JB):  </th> <td>  21.296</td>\n",
       "</tr>\n",
       "<tr>\n",
       "  <th>Skew:</th>          <td> 0.281</td> <th>  Prob(JB):          </th> <td>2.37e-05</td>\n",
       "</tr>\n",
       "<tr>\n",
       "  <th>Kurtosis:</th>      <td> 3.703</td> <th>  Cond. No.          </th> <td>3.75e+04</td>\n",
       "</tr>\n",
       "</table><br/><br/>Notes:<br/>[1] Standard Errors assume that the covariance matrix of the errors is correctly specified.<br/>[2] The condition number is large, 3.75e+04. This might indicate that there are<br/>strong multicollinearity or other numerical problems."
      ],
      "text/plain": [
       "<class 'statsmodels.iolib.summary.Summary'>\n",
       "\"\"\"\n",
       "                            OLS Regression Results                            \n",
       "==============================================================================\n",
       "Dep. Variable:                  close   R-squared:                       0.688\n",
       "Model:                            OLS   Adj. R-squared:                  0.687\n",
       "Method:                 Least Squares   F-statistic:                     692.0\n",
       "Date:                Sun, 03 Jul 2022   Prob (F-statistic):          2.11e-159\n",
       "Time:                        19:45:36   Log-Likelihood:                 5656.7\n",
       "No. Observations:                 630   AIC:                        -1.131e+04\n",
       "Df Residuals:                     627   BIC:                        -1.129e+04\n",
       "Df Model:                           2                                         \n",
       "Covariance Type:            nonrobust                                         \n",
       "===============================================================================\n",
       "                  coef    std err          t      P>|t|      [0.025      0.975]\n",
       "-------------------------------------------------------------------------------\n",
       "const           0.5904   8.49e-05   6956.208      0.000       0.590       0.591\n",
       "volume      -1.241e-06   4.25e-08    -29.196      0.000   -1.32e-06   -1.16e-06\n",
       "trade_count     0.0002   8.88e-06     17.924      0.000       0.000       0.000\n",
       "==============================================================================\n",
       "Omnibus:                       16.660   Durbin-Watson:                   0.638\n",
       "Prob(Omnibus):                  0.000   Jarque-Bera (JB):               21.296\n",
       "Skew:                           0.281   Prob(JB):                     2.37e-05\n",
       "Kurtosis:                       3.703   Cond. No.                     3.75e+04\n",
       "==============================================================================\n",
       "\n",
       "Notes:\n",
       "[1] Standard Errors assume that the covariance matrix of the errors is correctly specified.\n",
       "[2] The condition number is large, 3.75e+04. This might indicate that there are\n",
       "strong multicollinearity or other numerical problems.\n",
       "\"\"\""
      ]
     },
     "execution_count": 457,
     "metadata": {},
     "output_type": "execute_result"
    }
   ],
   "source": [
    "# building linear model\n",
    "predictors = df_bars[['volume', 'trade_count']]\n",
    "predictors = sm.add_constant(predictors)\n",
    "\n",
    "fitted_linear = sm.OLS(df_bars['close'], predictors).fit()\n",
    "\n",
    "fitted_linear.summary()"
   ]
  },
  {
   "cell_type": "markdown",
   "id": "e1126a33",
   "metadata": {},
   "source": [
    "adds constant to the test set and then gets the predicted variables from the fitted linear model"
   ]
  },
  {
   "cell_type": "code",
   "execution_count": 458,
   "id": "1c3445c3",
   "metadata": {},
   "outputs": [
    {
     "data": {
      "text/plain": [
       "16.02297052900565"
      ]
     },
     "execution_count": 458,
     "metadata": {},
     "output_type": "execute_result"
    }
   ],
   "source": [
    "new_data_lm = sm.add_constant(df_bars_test[['volume', 'trade_count']])\n",
    "\n",
    "test_pred_lm = fitted_linear.predict(new_data_lm)\n",
    "\n",
    "# getting mae for linear model will be used to set trigger for buy and cell\n",
    "np.mean(np.abs(special.inv_boxcox(test_pred_lm, lambda_fitted[0]) - special.inv_boxcox(df_bars_test['close'], lambda_fitted[0])))"
   ]
  },
  {
   "cell_type": "markdown",
   "id": "29b1fe48",
   "metadata": {},
   "source": [
    "forecasting the predictor variables"
   ]
  },
  {
   "cell_type": "code",
   "execution_count": 459,
   "id": "03b5c3f6",
   "metadata": {},
   "outputs": [],
   "source": [
    "arima_volume_model = pm.auto_arima(df_bars_train['volume'], seasonal = False)\n",
    "arima_trade_model = pm.auto_arima(df_bars_train['trade_count'], seasonal = False)"
   ]
  },
  {
   "cell_type": "markdown",
   "id": "b97a0f05",
   "metadata": {},
   "source": [
    "goes through a loop to get a one step ahead forecast adding another observation of data to the original forecasted models <br>\n",
    "and then saves the forecast to test lists"
   ]
  },
  {
   "cell_type": "code",
   "execution_count": 460,
   "id": "9039866e",
   "metadata": {},
   "outputs": [],
   "source": [
    "test_volume_error = []\n",
    "test_trade_error = []\n",
    "\n",
    "for i in range((test_set_length), 0, -1):\n",
    "    \n",
    "    tmp_volume_model = arima_volume_model\n",
    "    tmp_trade_model = arima_trade_model\n",
    "\n",
    "    if (i == 30):\n",
    "        \n",
    "        test_volume_error.append(tmp_volume_model.predict(n_periods = 1)[0])\n",
    "        \n",
    "        test_trade_error.append(arima_trade_model.predict(n_periods = 1)[0])\n",
    "    else:\n",
    "        tmp_volume_model.update(df_bars_test[i:].volume)\n",
    "        \n",
    "        test_volume_error.append(tmp_volume_model.predict(n_periods = 1)[0])\n",
    "        \n",
    "        tmp_trade_model.update(df_bars_test[i:].trade_count)\n",
    "        \n",
    "        test_trade_error.append(tmp_trade_model.predict(n_periods = 1)[0])"
   ]
  },
  {
   "cell_type": "markdown",
   "id": "d2f0dd29",
   "metadata": {},
   "source": [
    "Getting the accuracy measures from the forecasts"
   ]
  },
  {
   "cell_type": "code",
   "execution_count": 461,
   "id": "76f09715",
   "metadata": {},
   "outputs": [
    {
     "data": {
      "text/plain": [
       "17625933.76565292"
      ]
     },
     "execution_count": 461,
     "metadata": {},
     "output_type": "execute_result"
    }
   ],
   "source": [
    "# getting mae for volume one step ahead forecasts\n",
    "np.mean(np.abs(special.inv_boxcox(test_volume_error, lambda_fitted[1]) - special.inv_boxcox(df_bars_test['volume'], lambda_fitted[1])))"
   ]
  },
  {
   "cell_type": "code",
   "execution_count": 462,
   "id": "0a7af4c8",
   "metadata": {},
   "outputs": [
    {
     "data": {
      "text/plain": [
       "0.17612089795769484"
      ]
     },
     "execution_count": 462,
     "metadata": {},
     "output_type": "execute_result"
    }
   ],
   "source": [
    "# getting mape for volume\n",
    "np.mean(np.abs(special.inv_boxcox(test_volume_error, lambda_fitted[1]) - special.inv_boxcox(df_bars_test['volume'], lambda_fitted[1]))/special.inv_boxcox(df_bars_test['volume'], lambda_fitted[1]))"
   ]
  },
  {
   "cell_type": "code",
   "execution_count": 463,
   "id": "93febf25",
   "metadata": {},
   "outputs": [
    {
     "data": {
      "text/plain": [
       "128697.25486131552"
      ]
     },
     "execution_count": 463,
     "metadata": {},
     "output_type": "execute_result"
    }
   ],
   "source": [
    "# getting mae for volume one step ahead for trade_count\n",
    "np.mean(np.abs(special.inv_boxcox(test_trade_error, lambda_fitted[2]) - special.inv_boxcox(df_bars_test['trade_count'], lambda_fitted[2])))"
   ]
  },
  {
   "cell_type": "code",
   "execution_count": 464,
   "id": "282ad76b",
   "metadata": {},
   "outputs": [
    {
     "data": {
      "text/plain": [
       "0.16415699554494698"
      ]
     },
     "execution_count": 464,
     "metadata": {},
     "output_type": "execute_result"
    }
   ],
   "source": [
    "# mape for trade_count\n",
    "np.mean(np.abs(special.inv_boxcox(test_trade_error, lambda_fitted[2]) - special.inv_boxcox(df_bars_test['trade_count'], lambda_fitted[2]))/ special.inv_boxcox(df_bars_test['trade_count'], lambda_fitted[2]))"
   ]
  },
  {
   "cell_type": "markdown",
   "id": "5bc42ae4",
   "metadata": {},
   "source": [
    "Using the forecasted predictor values to get estimated target variables and viewing the accuracy"
   ]
  },
  {
   "cell_type": "code",
   "execution_count": 465,
   "id": "cb630584",
   "metadata": {},
   "outputs": [],
   "source": [
    "# instead of using the actual testset to test linear model use the forecasted\n",
    "df_new_forecast = pd.DataFrame({'volume': test_volume_error, 'trade_count': test_trade_error})\n",
    "# if mape is smaller than .5, we are acurate more than 50% of the time...\n",
    "\n",
    "df_new_forecast = sm.add_constant(df_new_forecast)\n",
    "\n",
    "pred_lm_forecast = fitted_linear.predict(df_new_forecast)"
   ]
  },
  {
   "cell_type": "code",
   "execution_count": 466,
   "id": "a3e90cfc",
   "metadata": {},
   "outputs": [
    {
     "data": {
      "text/plain": [
       "17.569763405395936"
      ]
     },
     "execution_count": 466,
     "metadata": {},
     "output_type": "execute_result"
    }
   ],
   "source": [
    "np.mean(np.abs(special.inv_boxcox(pred_lm_forecast, lambda_fitted[0]) - special.inv_boxcox(df_bars_test['close'], lambda_fitted[0]).reset_index(drop = True)))"
   ]
  },
  {
   "cell_type": "code",
   "execution_count": 467,
   "id": "033ed37a",
   "metadata": {},
   "outputs": [
    {
     "data": {
      "text/plain": [
       "11.304526606521588"
      ]
     },
     "execution_count": 467,
     "metadata": {},
     "output_type": "execute_result"
    }
   ],
   "source": [
    "# getting standard deviation to see the spread of the data\n",
    "1.96*np.std(special.inv_boxcox(df_bars_test['close'], lambda_fitted[0]))"
   ]
  },
  {
   "cell_type": "code",
   "execution_count": 468,
   "id": "e2a4e66d",
   "metadata": {},
   "outputs": [
    {
     "data": {
      "text/plain": [
       "0.1267557095326016"
      ]
     },
     "execution_count": 468,
     "metadata": {},
     "output_type": "execute_result"
    }
   ],
   "source": [
    "# mape for the forecasted new dataset using one step ahead forecasts\n",
    "# getting 10% is pretty great from forecast to a linear model.. \n",
    "np.mean(np.abs(special.inv_boxcox(pred_lm_forecast, lambda_fitted[0]) - special.inv_boxcox(df_bars_test['close'], lambda_fitted[0]).reset_index(drop = True))/special.inv_boxcox(df_bars_test['close'], lambda_fitted[0]).reset_index(drop = True))"
   ]
  },
  {
   "cell_type": "markdown",
   "id": "f71a3cb7",
   "metadata": {},
   "source": [
    "# Using PCA and applied previous method to predict closing price"
   ]
  },
  {
   "cell_type": "code",
   "execution_count": 469,
   "id": "f026b957",
   "metadata": {},
   "outputs": [],
   "source": [
    "# Calls libraries used for pca\n",
    "from sklearn.decomposition import PCA\n",
    "from sklearn.preprocessing import StandardScaler"
   ]
  },
  {
   "cell_type": "code",
   "execution_count": 470,
   "id": "d4af6b03",
   "metadata": {},
   "outputs": [],
   "source": [
    "# 50 top stocks\n",
    "stock_list = ['DIDI', 'AMD', 'AAPL', 'AMZN', 'CCL', 'NIO', 'F', 'BBD', 'ITUB', \\\n",
    "             'ABEV', 'BABA', 'NVDA', 'NOK', 'AAL', 'DOCU', 'SNAP', 'PCG', 'SOFI', \\\n",
    "             'SWN', 'INTC', 'AUY', 'CERN', 'PBR', 'T', 'TSLA', 'GRAB', 'NCLH', \\\n",
    "             'NU', 'MSFT', 'NLY', 'PLTR', 'UBER', 'WFC', 'META', 'XOM', 'MU', \\\n",
    "             'OXY', 'AMC', 'WBD', 'RIG', 'CS', 'OPEN', 'RBLX', 'PFE', 'PDD', \\\n",
    "             'FCX', 'GFI', 'DKNG']"
   ]
  },
  {
   "cell_type": "code",
   "execution_count": 471,
   "id": "ad4bf58a",
   "metadata": {},
   "outputs": [],
   "source": [
    "df_group_bars = pd.DataFrame()\n",
    "\n",
    "# runs through list of stocks and pulls a given stock and concatinates that onto a main df. it also creates a stock column,\n",
    "# which is just the stock name\n",
    "for stocks in stock_list:\n",
    "    \n",
    "    if (len(df_group_bars) == 0):\n",
    "        \n",
    "        df_group_bars = api.get_bars(stocks, TimeFrame.Day, \"2020-01-01\", \"2022-01-08\", adjustment='raw').df\n",
    "        \n",
    "        df_group_bars['stock'] = stocks\n",
    "    else:\n",
    "    \n",
    "        df_temp_stock = api.get_bars(stocks, TimeFrame.Day, \"2020-01-01\", \"2022-01-08\", adjustment='raw').df\n",
    "        \n",
    "        df_temp_stock['stock'] = stocks\n",
    "        \n",
    "        df_group_bars = pd.concat([df_group_bars, df_temp_stock])"
   ]
  },
  {
   "cell_type": "code",
   "execution_count": 472,
   "id": "b5791b1b",
   "metadata": {},
   "outputs": [],
   "source": [
    "# Sets up for data pivot to wider\n",
    "df_group_bars['datetime'] = df_group_bars.index\n",
    "df_group_bars['datetime'] = pd.to_datetime(df_group_bars['datetime'])\n",
    "# df_group_bars.pivot(index='patient', columns='obs', values='score')"
   ]
  },
  {
   "cell_type": "code",
   "execution_count": 473,
   "id": "ca53eeaf",
   "metadata": {},
   "outputs": [],
   "source": [
    "# pivots data\n",
    "df_pivot_bars = df_group_bars.pivot(index='datetime', columns='stock', values=['close', 'volume', 'trade_count'])"
   ]
  },
  {
   "cell_type": "code",
   "execution_count": 474,
   "id": "d52e912e",
   "metadata": {},
   "outputs": [],
   "source": [
    "# drops multi index from pivot\n",
    "df_pivot_bars.columns = df_pivot_bars.columns.get_level_values(0) + '_' +  df_pivot_bars.columns.get_level_values(1)"
   ]
  },
  {
   "cell_type": "code",
   "execution_count": 475,
   "id": "c0b4146b",
   "metadata": {},
   "outputs": [],
   "source": [
    "# picking the target variable, of course I'm choosing Apple\n",
    "target = df_pivot_bars.pop('close_AAL')"
   ]
  },
  {
   "cell_type": "code",
   "execution_count": 476,
   "id": "ad07d54e",
   "metadata": {},
   "outputs": [],
   "source": [
    "# scalling the data for pca\n",
    "df_scaled_bars = StandardScaler().fit_transform(df_pivot_bars.dropna(axis = 'columns'))"
   ]
  },
  {
   "cell_type": "code",
   "execution_count": 477,
   "id": "1f57a599",
   "metadata": {},
   "outputs": [],
   "source": [
    "# Afters short analysis, I have chosen to get only 5 pca\n",
    "pca = PCA(n_components = 5)\n",
    "\n",
    "principalComponents = pca.fit_transform(df_scaled_bars)\n",
    "\n",
    "principalDf = pd.DataFrame(data = principalComponents)\n",
    "\n",
    "principalDf['Target'] = target.reset_index(drop = True)\n",
    "\n",
    "transformed_principal, fitted_lambda = stats.boxcox(principalDf['Target'])\n",
    "\n",
    "principalDf['Target'] = transformed_principal"
   ]
  },
  {
   "cell_type": "code",
   "execution_count": 478,
   "id": "eeadc018",
   "metadata": {},
   "outputs": [
    {
     "data": {
      "text/plain": [
       "<AxesSubplot:>"
      ]
     },
     "execution_count": 478,
     "metadata": {},
     "output_type": "execute_result"
    },
    {
     "data": {
      "image/png": "[encoded data removed]",
      "text/plain": [
       "<Figure size 504x252 with 1 Axes>"
      ]
     },
     "metadata": {
      "needs_background": "light"
     },
     "output_type": "display_data"
    }
   ],
   "source": [
    "principalDf.plot()"
   ]
  },
  {
   "cell_type": "code",
   "execution_count": 479,
   "id": "81e77689",
   "metadata": {},
   "outputs": [
    {
     "data": {
      "image/png": "[encoded data removed]",
      "text/plain": [
       "<Figure size 504x252 with 2 Axes>"
      ]
     },
     "metadata": {
      "needs_background": "light"
     },
     "output_type": "display_data"
    }
   ],
   "source": [
    "# correlation plot with target and pca\n",
    "corrMatrix = principalDf.corr()\n",
    "sn.heatmap(corrMatrix, annot=True)\n",
    "plt.show()"
   ]
  },
  {
   "cell_type": "code",
   "execution_count": 480,
   "id": "8d9ff118",
   "metadata": {},
   "outputs": [],
   "source": [
    "df_pca_train = principalDf[30:]\n",
    "df_pca_test =  principalDf[:30]"
   ]
  },
  {
   "cell_type": "code",
   "execution_count": 481,
   "id": "baa16ac8",
   "metadata": {},
   "outputs": [
    {
     "data": {
      "text/html": [
       "<table class=\"simpletable\">\n",
       "<caption>OLS Regression Results</caption>\n",
       "<tr>\n",
       "  <th>Dep. Variable:</th>         <td>Target</td>      <th>  R-squared:         </th> <td>   0.834</td> \n",
       "</tr>\n",
       "<tr>\n",
       "  <th>Model:</th>                   <td>OLS</td>       <th>  Adj. R-squared:    </th> <td>   0.832</td> \n",
       "</tr>\n",
       "<tr>\n",
       "  <th>Method:</th>             <td>Least Squares</td>  <th>  F-statistic:       </th> <td>   476.1</td> \n",
       "</tr>\n",
       "<tr>\n",
       "  <th>Date:</th>             <td>Sun, 03 Jul 2022</td> <th>  Prob (F-statistic):</th> <td>3.40e-182</td>\n",
       "</tr>\n",
       "<tr>\n",
       "  <th>Time:</th>                 <td>19:46:06</td>     <th>  Log-Likelihood:    </th> <td> -174.21</td> \n",
       "</tr>\n",
       "<tr>\n",
       "  <th>No. Observations:</th>      <td>   480</td>      <th>  AIC:               </th> <td>   360.4</td> \n",
       "</tr>\n",
       "<tr>\n",
       "  <th>Df Residuals:</th>          <td>   474</td>      <th>  BIC:               </th> <td>   385.5</td> \n",
       "</tr>\n",
       "<tr>\n",
       "  <th>Df Model:</th>              <td>     5</td>      <th>                     </th>     <td> </td>    \n",
       "</tr>\n",
       "<tr>\n",
       "  <th>Covariance Type:</th>      <td>nonrobust</td>    <th>                     </th>     <td> </td>    \n",
       "</tr>\n",
       "</table>\n",
       "<table class=\"simpletable\">\n",
       "<tr>\n",
       "    <td></td>       <th>coef</th>     <th>std err</th>      <th>t</th>      <th>P>|t|</th>  <th>[0.025</th>    <th>0.975]</th>  \n",
       "</tr>\n",
       "<tr>\n",
       "  <th>const</th> <td>    5.4281</td> <td>    0.017</td> <td>  320.512</td> <td> 0.000</td> <td>    5.395</td> <td>    5.461</td>\n",
       "</tr>\n",
       "<tr>\n",
       "  <th>0</th>     <td>   -0.1165</td> <td>    0.003</td> <td>  -36.842</td> <td> 0.000</td> <td>   -0.123</td> <td>   -0.110</td>\n",
       "</tr>\n",
       "<tr>\n",
       "  <th>1</th>     <td>   -0.0340</td> <td>    0.006</td> <td>   -5.515</td> <td> 0.000</td> <td>   -0.046</td> <td>   -0.022</td>\n",
       "</tr>\n",
       "<tr>\n",
       "  <th>2</th>     <td>    0.1459</td> <td>    0.006</td> <td>   26.416</td> <td> 0.000</td> <td>    0.135</td> <td>    0.157</td>\n",
       "</tr>\n",
       "<tr>\n",
       "  <th>3</th>     <td>    0.1045</td> <td>    0.005</td> <td>   19.026</td> <td> 0.000</td> <td>    0.094</td> <td>    0.115</td>\n",
       "</tr>\n",
       "<tr>\n",
       "  <th>4</th>     <td>    0.0081</td> <td>    0.008</td> <td>    1.067</td> <td> 0.286</td> <td>   -0.007</td> <td>    0.023</td>\n",
       "</tr>\n",
       "</table>\n",
       "<table class=\"simpletable\">\n",
       "<tr>\n",
       "  <th>Omnibus:</th>       <td> 2.878</td> <th>  Durbin-Watson:     </th> <td>   0.273</td>\n",
       "</tr>\n",
       "<tr>\n",
       "  <th>Prob(Omnibus):</th> <td> 0.237</td> <th>  Jarque-Bera (JB):  </th> <td>   2.676</td>\n",
       "</tr>\n",
       "<tr>\n",
       "  <th>Skew:</th>          <td> 0.141</td> <th>  Prob(JB):          </th> <td>   0.262</td>\n",
       "</tr>\n",
       "<tr>\n",
       "  <th>Kurtosis:</th>      <td> 3.234</td> <th>  Cond. No.          </th> <td>    5.46</td>\n",
       "</tr>\n",
       "</table><br/><br/>Notes:<br/>[1] Standard Errors assume that the covariance matrix of the errors is correctly specified."
      ],
      "text/plain": [
       "<class 'statsmodels.iolib.summary.Summary'>\n",
       "\"\"\"\n",
       "                            OLS Regression Results                            \n",
       "==============================================================================\n",
       "Dep. Variable:                 Target   R-squared:                       0.834\n",
       "Model:                            OLS   Adj. R-squared:                  0.832\n",
       "Method:                 Least Squares   F-statistic:                     476.1\n",
       "Date:                Sun, 03 Jul 2022   Prob (F-statistic):          3.40e-182\n",
       "Time:                        19:46:06   Log-Likelihood:                -174.21\n",
       "No. Observations:                 480   AIC:                             360.4\n",
       "Df Residuals:                     474   BIC:                             385.5\n",
       "Df Model:                           5                                         \n",
       "Covariance Type:            nonrobust                                         \n",
       "==============================================================================\n",
       "                 coef    std err          t      P>|t|      [0.025      0.975]\n",
       "------------------------------------------------------------------------------\n",
       "const          5.4281      0.017    320.512      0.000       5.395       5.461\n",
       "0             -0.1165      0.003    -36.842      0.000      -0.123      -0.110\n",
       "1             -0.0340      0.006     -5.515      0.000      -0.046      -0.022\n",
       "2              0.1459      0.006     26.416      0.000       0.135       0.157\n",
       "3              0.1045      0.005     19.026      0.000       0.094       0.115\n",
       "4              0.0081      0.008      1.067      0.286      -0.007       0.023\n",
       "==============================================================================\n",
       "Omnibus:                        2.878   Durbin-Watson:                   0.273\n",
       "Prob(Omnibus):                  0.237   Jarque-Bera (JB):                2.676\n",
       "Skew:                           0.141   Prob(JB):                        0.262\n",
       "Kurtosis:                       3.234   Cond. No.                         5.46\n",
       "==============================================================================\n",
       "\n",
       "Notes:\n",
       "[1] Standard Errors assume that the covariance matrix of the errors is correctly specified.\n",
       "\"\"\""
      ]
     },
     "execution_count": 481,
     "metadata": {},
     "output_type": "execute_result"
    }
   ],
   "source": [
    "# building linear model\n",
    "predictors = df_pca_train[[0,1,2,3,4]]\n",
    "predictors_cons = sm.add_constant(predictors)\n",
    "\n",
    "fitted_linear = sm.OLS(df_pca_train['Target'], predictors_cons).fit()\n",
    "\n",
    "fitted_linear.summary()"
   ]
  },
  {
   "cell_type": "markdown",
   "id": "95893d75",
   "metadata": {},
   "source": [
    "Generates a fitted forecast of each pca and then saves each one into a list"
   ]
  },
  {
   "cell_type": "code",
   "execution_count": 482,
   "id": "fafb748c",
   "metadata": {},
   "outputs": [],
   "source": [
    "forecast_list = []\n",
    "for col in df_pca_train.columns:\n",
    "    forecast_list.append(pm.auto_arima(df_pca_train[col], seasonal = False))"
   ]
  },
  {
   "cell_type": "code",
   "execution_count": 483,
   "id": "2d9cddc4",
   "metadata": {},
   "outputs": [],
   "source": [
    "df_step_ahead_forecast = pd.DataFrame()\n",
    "\n",
    "# for loops goes through each predictor column and then gets a one step ahead forecast by slowing updating the fitted models\n",
    "# with one more observation using a for loop. The forecasted values are then saved to a dataframe\n",
    "for col in df_pca_test.columns[:-1]:\n",
    "    \n",
    "    test_forecast = []\n",
    "    \n",
    "    forecast_model_col = forecast_list[col]\n",
    "    \n",
    "    for i in range(len(df_pca_test), 0, -1):\n",
    "        \n",
    "        tmp_forecast_model = forecast_model_col\n",
    "        \n",
    "        if (i == 30):\n",
    "        \n",
    "            test_forecast.append(tmp_forecast_model.predict(n_periods = 1)[0])\n",
    "        else:\n",
    "            \n",
    "            tmp_forecast_model.update(df_pca_test[col][i:])\n",
    "\n",
    "            test_forecast.append(tmp_forecast_model.predict(n_periods = 1)[0])\n",
    "    \n",
    "    df_step_ahead_forecast[col] = test_forecast"
   ]
  },
  {
   "cell_type": "markdown",
   "id": "8d1f7e21",
   "metadata": {},
   "source": [
    "Gets predicted values from the linear model using the forecasted predictor values"
   ]
  },
  {
   "cell_type": "code",
   "execution_count": 484,
   "id": "01cdfd43",
   "metadata": {},
   "outputs": [],
   "source": [
    "df_new_forecast = sm.add_constant(df_step_ahead_forecast)\n",
    "\n",
    "pred_lm_forecast = fitted_linear.predict(df_new_forecast)"
   ]
  },
  {
   "cell_type": "code",
   "execution_count": 485,
   "id": "a40981f3",
   "metadata": {},
   "outputs": [
    {
     "data": {
      "text/plain": [
       "3.0388430196503444"
      ]
     },
     "execution_count": 485,
     "metadata": {},
     "output_type": "execute_result"
    }
   ],
   "source": [
    "# mae for forecasted variables as predictors of the closed amount.\n",
    "# 2 dollars is a pretty decent mae \n",
    "np.mean(np.abs(special.inv_boxcox(pred_lm_forecast, fitted_lambda) - special.inv_boxcox(df_pca_test['Target'], fitted_lambda)))"
   ]
  },
  {
   "cell_type": "code",
   "execution_count": 486,
   "id": "e9fb049e",
   "metadata": {},
   "outputs": [
    {
     "data": {
      "text/plain": [
       "1.0029007373059866"
      ]
     },
     "execution_count": 486,
     "metadata": {},
     "output_type": "execute_result"
    }
   ],
   "source": [
    "np.std(special.inv_boxcox(df_pca_test['Target'], fitted_lambda))"
   ]
  },
  {
   "cell_type": "code",
   "execution_count": 487,
   "id": "18a782c9",
   "metadata": {},
   "outputs": [
    {
     "data": {
      "text/plain": [
       "0.10731154462517067"
      ]
     },
     "execution_count": 487,
     "metadata": {},
     "output_type": "execute_result"
    }
   ],
   "source": [
    "# mape for the forecasted new dataset using one step ahead forecasts\n",
    "np.mean(np.abs(special.inv_boxcox(pred_lm_forecast, fitted_lambda) - special.inv_boxcox(df_pca_test['Target'], fitted_lambda)) / special.inv_boxcox(df_pca_test['Target'], fitted_lambda))"
   ]
  },
  {
   "cell_type": "code",
   "execution_count": 488,
   "id": "60a8d4b9",
   "metadata": {},
   "outputs": [
    {
     "data": {
      "text/plain": [
       "0    -9.654599\n",
       "1    -4.645402\n",
       "2    -3.493941\n",
       "3    -2.634725\n",
       "4    -2.814138\n",
       "5    -2.739596\n",
       "6    -2.016237\n",
       "7    -2.051011\n",
       "8    -2.200853\n",
       "9    -2.272072\n",
       "10   -2.941940\n",
       "11   -3.116747\n",
       "12   -1.926327\n",
       "13   -2.042245\n",
       "14   -3.522782\n",
       "15   -2.363289\n",
       "16   -0.829360\n",
       "17   -1.617287\n",
       "18   -1.512658\n",
       "19   -2.428525\n",
       "20   -1.546726\n",
       "21   -1.862559\n",
       "22   -3.130817\n",
       "23   -3.798857\n",
       "24   -2.998361\n",
       "25   -3.073656\n",
       "26   -3.479530\n",
       "27   -4.526168\n",
       "28   -5.154064\n",
       "29   -4.770817\n",
       "dtype: float64"
      ]
     },
     "execution_count": 488,
     "metadata": {},
     "output_type": "execute_result"
    }
   ],
   "source": [
    "# possible bias in these models... It is always lower than the actual\n",
    "special.inv_boxcox(pred_lm_forecast, fitted_lambda) - special.inv_boxcox(df_pca_test['Target'], fitted_lambda)"
   ]
  },
  {
   "cell_type": "markdown",
   "id": "1ab3cee0",
   "metadata": {},
   "source": [
    "## Technical analysis"
   ]
  },
  {
   "cell_type": "code",
   "execution_count": 489,
   "id": "576e8002",
   "metadata": {},
   "outputs": [],
   "source": [
    "# inport necessary libraries\n",
    "import talib as tb\n",
    "import random\n",
    "\n",
    "from sklearn.model_selection import cross_val_score\n",
    "from sklearn.model_selection import RepeatedStratifiedKFold\n",
    "from sklearn.ensemble import RandomForestClassifier"
   ]
  },
  {
   "cell_type": "code",
   "execution_count": 490,
   "id": "4c0b32b6",
   "metadata": {},
   "outputs": [],
   "source": [
    "macd, macdsignal, macdhist = tb.MACD(df_apple['close'], fastperiod=12, slowperiod=26, signalperiod=9)"
   ]
  },
  {
   "cell_type": "code",
   "execution_count": 491,
   "id": "722f5b8a",
   "metadata": {},
   "outputs": [],
   "source": [
    "# creates a macD dataframe using talib and then merges original dataset onto it\n",
    "df_mac = pd.DataFrame({'macd': macd, 'macdsignal': macdsignal, 'macdhist':macdhist})\n",
    "\n",
    "df_mac = df_mac.merge(df_apple, left_index=True, right_index=True)\n",
    "df_mac['MOM'] = tb.MOM(df_apple['close'], timeperiod=5)\n",
    "\n",
    "for i in range(2, 13):\n",
    "    df_mac['MA_' + str(i)] = tb.SMA(df_apple['close'], timeperiod=i)"
   ]
  },
  {
   "cell_type": "code",
   "execution_count": 492,
   "id": "096d8ff3",
   "metadata": {},
   "outputs": [
    {
     "data": {
      "text/html": [
       "<div>\n",
       "<style scoped>\n",
       "    .dataframe tbody tr th:only-of-type {\n",
       "        vertical-align: middle;\n",
       "    }\n",
       "\n",
       "    .dataframe tbody tr th {\n",
       "        vertical-align: top;\n",
       "    }\n",
       "\n",
       "    .dataframe thead th {\n",
       "        text-align: right;\n",
       "    }\n",
       "</style>\n",
       "<table border=\"1\" class=\"dataframe\">\n",
       "  <thead>\n",
       "    <tr style=\"text-align: right;\">\n",
       "      <th></th>\n",
       "      <th>macd</th>\n",
       "      <th>macdsignal</th>\n",
       "      <th>macdhist</th>\n",
       "      <th>open</th>\n",
       "      <th>high</th>\n",
       "      <th>low</th>\n",
       "      <th>close</th>\n",
       "      <th>volume</th>\n",
       "      <th>trade_count</th>\n",
       "      <th>vwap</th>\n",
       "      <th>...</th>\n",
       "      <th>MA_3</th>\n",
       "      <th>MA_4</th>\n",
       "      <th>MA_5</th>\n",
       "      <th>MA_6</th>\n",
       "      <th>MA_7</th>\n",
       "      <th>MA_8</th>\n",
       "      <th>MA_9</th>\n",
       "      <th>MA_10</th>\n",
       "      <th>MA_11</th>\n",
       "      <th>MA_12</th>\n",
       "    </tr>\n",
       "    <tr>\n",
       "      <th>timestamp</th>\n",
       "      <th></th>\n",
       "      <th></th>\n",
       "      <th></th>\n",
       "      <th></th>\n",
       "      <th></th>\n",
       "      <th></th>\n",
       "      <th></th>\n",
       "      <th></th>\n",
       "      <th></th>\n",
       "      <th></th>\n",
       "      <th></th>\n",
       "      <th></th>\n",
       "      <th></th>\n",
       "      <th></th>\n",
       "      <th></th>\n",
       "      <th></th>\n",
       "      <th></th>\n",
       "      <th></th>\n",
       "      <th></th>\n",
       "      <th></th>\n",
       "      <th></th>\n",
       "    </tr>\n",
       "  </thead>\n",
       "  <tbody>\n",
       "    <tr>\n",
       "      <th>2020-01-02 05:00:00+00:00</th>\n",
       "      <td>NaN</td>\n",
       "      <td>NaN</td>\n",
       "      <td>NaN</td>\n",
       "      <td>296.27</td>\n",
       "      <td>300.6000</td>\n",
       "      <td>295.190</td>\n",
       "      <td>300.350</td>\n",
       "      <td>33920004</td>\n",
       "      <td>283490</td>\n",
       "      <td>298.439935</td>\n",
       "      <td>...</td>\n",
       "      <td>NaN</td>\n",
       "      <td>NaN</td>\n",
       "      <td>NaN</td>\n",
       "      <td>NaN</td>\n",
       "      <td>NaN</td>\n",
       "      <td>NaN</td>\n",
       "      <td>NaN</td>\n",
       "      <td>NaN</td>\n",
       "      <td>NaN</td>\n",
       "      <td>NaN</td>\n",
       "    </tr>\n",
       "    <tr>\n",
       "      <th>2020-01-03 05:00:00+00:00</th>\n",
       "      <td>NaN</td>\n",
       "      <td>NaN</td>\n",
       "      <td>NaN</td>\n",
       "      <td>296.95</td>\n",
       "      <td>300.5800</td>\n",
       "      <td>296.500</td>\n",
       "      <td>297.430</td>\n",
       "      <td>36633995</td>\n",
       "      <td>280942</td>\n",
       "      <td>298.810386</td>\n",
       "      <td>...</td>\n",
       "      <td>NaN</td>\n",
       "      <td>NaN</td>\n",
       "      <td>NaN</td>\n",
       "      <td>NaN</td>\n",
       "      <td>NaN</td>\n",
       "      <td>NaN</td>\n",
       "      <td>NaN</td>\n",
       "      <td>NaN</td>\n",
       "      <td>NaN</td>\n",
       "      <td>NaN</td>\n",
       "    </tr>\n",
       "    <tr>\n",
       "      <th>2020-01-06 05:00:00+00:00</th>\n",
       "      <td>NaN</td>\n",
       "      <td>NaN</td>\n",
       "      <td>NaN</td>\n",
       "      <td>293.70</td>\n",
       "      <td>299.9600</td>\n",
       "      <td>292.750</td>\n",
       "      <td>299.800</td>\n",
       "      <td>29644779</td>\n",
       "      <td>242867</td>\n",
       "      <td>297.799601</td>\n",
       "      <td>...</td>\n",
       "      <td>299.193333</td>\n",
       "      <td>NaN</td>\n",
       "      <td>NaN</td>\n",
       "      <td>NaN</td>\n",
       "      <td>NaN</td>\n",
       "      <td>NaN</td>\n",
       "      <td>NaN</td>\n",
       "      <td>NaN</td>\n",
       "      <td>NaN</td>\n",
       "      <td>NaN</td>\n",
       "    </tr>\n",
       "    <tr>\n",
       "      <th>2020-01-07 05:00:00+00:00</th>\n",
       "      <td>NaN</td>\n",
       "      <td>NaN</td>\n",
       "      <td>NaN</td>\n",
       "      <td>299.98</td>\n",
       "      <td>300.9000</td>\n",
       "      <td>297.480</td>\n",
       "      <td>298.390</td>\n",
       "      <td>27885664</td>\n",
       "      <td>227873</td>\n",
       "      <td>298.924596</td>\n",
       "      <td>...</td>\n",
       "      <td>298.540000</td>\n",
       "      <td>298.99250</td>\n",
       "      <td>NaN</td>\n",
       "      <td>NaN</td>\n",
       "      <td>NaN</td>\n",
       "      <td>NaN</td>\n",
       "      <td>NaN</td>\n",
       "      <td>NaN</td>\n",
       "      <td>NaN</td>\n",
       "      <td>NaN</td>\n",
       "    </tr>\n",
       "    <tr>\n",
       "      <th>2020-01-08 05:00:00+00:00</th>\n",
       "      <td>NaN</td>\n",
       "      <td>NaN</td>\n",
       "      <td>NaN</td>\n",
       "      <td>297.17</td>\n",
       "      <td>304.4399</td>\n",
       "      <td>297.156</td>\n",
       "      <td>303.190</td>\n",
       "      <td>33091741</td>\n",
       "      <td>261777</td>\n",
       "      <td>301.165533</td>\n",
       "      <td>...</td>\n",
       "      <td>300.460000</td>\n",
       "      <td>299.70250</td>\n",
       "      <td>299.832</td>\n",
       "      <td>NaN</td>\n",
       "      <td>NaN</td>\n",
       "      <td>NaN</td>\n",
       "      <td>NaN</td>\n",
       "      <td>NaN</td>\n",
       "      <td>NaN</td>\n",
       "      <td>NaN</td>\n",
       "    </tr>\n",
       "    <tr>\n",
       "      <th>...</th>\n",
       "      <td>...</td>\n",
       "      <td>...</td>\n",
       "      <td>...</td>\n",
       "      <td>...</td>\n",
       "      <td>...</td>\n",
       "      <td>...</td>\n",
       "      <td>...</td>\n",
       "      <td>...</td>\n",
       "      <td>...</td>\n",
       "      <td>...</td>\n",
       "      <td>...</td>\n",
       "      <td>...</td>\n",
       "      <td>...</td>\n",
       "      <td>...</td>\n",
       "      <td>...</td>\n",
       "      <td>...</td>\n",
       "      <td>...</td>\n",
       "      <td>...</td>\n",
       "      <td>...</td>\n",
       "      <td>...</td>\n",
       "      <td>...</td>\n",
       "    </tr>\n",
       "    <tr>\n",
       "      <th>2022-01-03 05:00:00+00:00</th>\n",
       "      <td>4.818780</td>\n",
       "      <td>4.982143</td>\n",
       "      <td>-0.163363</td>\n",
       "      <td>177.81</td>\n",
       "      <td>182.8800</td>\n",
       "      <td>177.710</td>\n",
       "      <td>182.010</td>\n",
       "      <td>104690466</td>\n",
       "      <td>772367</td>\n",
       "      <td>181.415512</td>\n",
       "      <td>...</td>\n",
       "      <td>179.260000</td>\n",
       "      <td>179.29000</td>\n",
       "      <td>179.290</td>\n",
       "      <td>179.463333</td>\n",
       "      <td>179.008571</td>\n",
       "      <td>178.587500</td>\n",
       "      <td>177.965556</td>\n",
       "      <td>177.1440</td>\n",
       "      <td>176.598182</td>\n",
       "      <td>176.236667</td>\n",
       "    </tr>\n",
       "    <tr>\n",
       "      <th>2022-01-04 05:00:00+00:00</th>\n",
       "      <td>4.672654</td>\n",
       "      <td>4.920245</td>\n",
       "      <td>-0.247591</td>\n",
       "      <td>182.61</td>\n",
       "      <td>182.9400</td>\n",
       "      <td>179.120</td>\n",
       "      <td>179.700</td>\n",
       "      <td>99284337</td>\n",
       "      <td>831619</td>\n",
       "      <td>180.555450</td>\n",
       "      <td>...</td>\n",
       "      <td>179.760000</td>\n",
       "      <td>179.37000</td>\n",
       "      <td>179.372</td>\n",
       "      <td>179.358333</td>\n",
       "      <td>179.497143</td>\n",
       "      <td>179.095000</td>\n",
       "      <td>178.711111</td>\n",
       "      <td>178.1390</td>\n",
       "      <td>177.376364</td>\n",
       "      <td>176.856667</td>\n",
       "    </tr>\n",
       "    <tr>\n",
       "      <th>2022-01-05 05:00:00+00:00</th>\n",
       "      <td>4.116827</td>\n",
       "      <td>4.759562</td>\n",
       "      <td>-0.642734</td>\n",
       "      <td>179.61</td>\n",
       "      <td>180.1700</td>\n",
       "      <td>174.650</td>\n",
       "      <td>174.835</td>\n",
       "      <td>86753815</td>\n",
       "      <td>844519</td>\n",
       "      <td>177.497784</td>\n",
       "      <td>...</td>\n",
       "      <td>178.848333</td>\n",
       "      <td>178.52875</td>\n",
       "      <td>178.463</td>\n",
       "      <td>178.615833</td>\n",
       "      <td>178.712143</td>\n",
       "      <td>178.914375</td>\n",
       "      <td>178.621667</td>\n",
       "      <td>178.3235</td>\n",
       "      <td>177.838636</td>\n",
       "      <td>177.164583</td>\n",
       "    </tr>\n",
       "    <tr>\n",
       "      <th>2022-01-06 05:00:00+00:00</th>\n",
       "      <td>3.408281</td>\n",
       "      <td>4.489305</td>\n",
       "      <td>-1.081024</td>\n",
       "      <td>172.40</td>\n",
       "      <td>175.3000</td>\n",
       "      <td>171.640</td>\n",
       "      <td>172.000</td>\n",
       "      <td>96792639</td>\n",
       "      <td>958689</td>\n",
       "      <td>173.079885</td>\n",
       "      <td>...</td>\n",
       "      <td>175.511667</td>\n",
       "      <td>177.13625</td>\n",
       "      <td>177.223</td>\n",
       "      <td>177.385833</td>\n",
       "      <td>177.670714</td>\n",
       "      <td>177.873125</td>\n",
       "      <td>178.146111</td>\n",
       "      <td>177.9595</td>\n",
       "      <td>177.748636</td>\n",
       "      <td>177.352083</td>\n",
       "    </tr>\n",
       "    <tr>\n",
       "      <th>2022-01-07 05:00:00+00:00</th>\n",
       "      <td>2.827873</td>\n",
       "      <td>4.157019</td>\n",
       "      <td>-1.329146</td>\n",
       "      <td>172.73</td>\n",
       "      <td>174.1400</td>\n",
       "      <td>171.030</td>\n",
       "      <td>172.170</td>\n",
       "      <td>87682425</td>\n",
       "      <td>716119</td>\n",
       "      <td>172.439116</td>\n",
       "      <td>...</td>\n",
       "      <td>173.001667</td>\n",
       "      <td>174.67625</td>\n",
       "      <td>176.143</td>\n",
       "      <td>176.380833</td>\n",
       "      <td>176.640714</td>\n",
       "      <td>176.983125</td>\n",
       "      <td>177.239444</td>\n",
       "      <td>177.5485</td>\n",
       "      <td>177.433182</td>\n",
       "      <td>177.283750</td>\n",
       "    </tr>\n",
       "  </tbody>\n",
       "</table>\n",
       "<p>510 rows × 22 columns</p>\n",
       "</div>"
      ],
      "text/plain": [
       "                               macd  macdsignal  macdhist    open      high  \\\n",
       "timestamp                                                                     \n",
       "2020-01-02 05:00:00+00:00       NaN         NaN       NaN  296.27  300.6000   \n",
       "2020-01-03 05:00:00+00:00       NaN         NaN       NaN  296.95  300.5800   \n",
       "2020-01-06 05:00:00+00:00       NaN         NaN       NaN  293.70  299.9600   \n",
       "2020-01-07 05:00:00+00:00       NaN         NaN       NaN  299.98  300.9000   \n",
       "2020-01-08 05:00:00+00:00       NaN         NaN       NaN  297.17  304.4399   \n",
       "...                             ...         ...       ...     ...       ...   \n",
       "2022-01-03 05:00:00+00:00  4.818780    4.982143 -0.163363  177.81  182.8800   \n",
       "2022-01-04 05:00:00+00:00  4.672654    4.920245 -0.247591  182.61  182.9400   \n",
       "2022-01-05 05:00:00+00:00  4.116827    4.759562 -0.642734  179.61  180.1700   \n",
       "2022-01-06 05:00:00+00:00  3.408281    4.489305 -1.081024  172.40  175.3000   \n",
       "2022-01-07 05:00:00+00:00  2.827873    4.157019 -1.329146  172.73  174.1400   \n",
       "\n",
       "                               low    close     volume  trade_count  \\\n",
       "timestamp                                                             \n",
       "2020-01-02 05:00:00+00:00  295.190  300.350   33920004       283490   \n",
       "2020-01-03 05:00:00+00:00  296.500  297.430   36633995       280942   \n",
       "2020-01-06 05:00:00+00:00  292.750  299.800   29644779       242867   \n",
       "2020-01-07 05:00:00+00:00  297.480  298.390   27885664       227873   \n",
       "2020-01-08 05:00:00+00:00  297.156  303.190   33091741       261777   \n",
       "...                            ...      ...        ...          ...   \n",
       "2022-01-03 05:00:00+00:00  177.710  182.010  104690466       772367   \n",
       "2022-01-04 05:00:00+00:00  179.120  179.700   99284337       831619   \n",
       "2022-01-05 05:00:00+00:00  174.650  174.835   86753815       844519   \n",
       "2022-01-06 05:00:00+00:00  171.640  172.000   96792639       958689   \n",
       "2022-01-07 05:00:00+00:00  171.030  172.170   87682425       716119   \n",
       "\n",
       "                                 vwap  ...        MA_3       MA_4     MA_5  \\\n",
       "timestamp                              ...                                   \n",
       "2020-01-02 05:00:00+00:00  298.439935  ...         NaN        NaN      NaN   \n",
       "2020-01-03 05:00:00+00:00  298.810386  ...         NaN        NaN      NaN   \n",
       "2020-01-06 05:00:00+00:00  297.799601  ...  299.193333        NaN      NaN   \n",
       "2020-01-07 05:00:00+00:00  298.924596  ...  298.540000  298.99250      NaN   \n",
       "2020-01-08 05:00:00+00:00  301.165533  ...  300.460000  299.70250  299.832   \n",
       "...                               ...  ...         ...        ...      ...   \n",
       "2022-01-03 05:00:00+00:00  181.415512  ...  179.260000  179.29000  179.290   \n",
       "2022-01-04 05:00:00+00:00  180.555450  ...  179.760000  179.37000  179.372   \n",
       "2022-01-05 05:00:00+00:00  177.497784  ...  178.848333  178.52875  178.463   \n",
       "2022-01-06 05:00:00+00:00  173.079885  ...  175.511667  177.13625  177.223   \n",
       "2022-01-07 05:00:00+00:00  172.439116  ...  173.001667  174.67625  176.143   \n",
       "\n",
       "                                 MA_6        MA_7        MA_8        MA_9  \\\n",
       "timestamp                                                                   \n",
       "2020-01-02 05:00:00+00:00         NaN         NaN         NaN         NaN   \n",
       "2020-01-03 05:00:00+00:00         NaN         NaN         NaN         NaN   \n",
       "2020-01-06 05:00:00+00:00         NaN         NaN         NaN         NaN   \n",
       "2020-01-07 05:00:00+00:00         NaN         NaN         NaN         NaN   \n",
       "2020-01-08 05:00:00+00:00         NaN         NaN         NaN         NaN   \n",
       "...                               ...         ...         ...         ...   \n",
       "2022-01-03 05:00:00+00:00  179.463333  179.008571  178.587500  177.965556   \n",
       "2022-01-04 05:00:00+00:00  179.358333  179.497143  179.095000  178.711111   \n",
       "2022-01-05 05:00:00+00:00  178.615833  178.712143  178.914375  178.621667   \n",
       "2022-01-06 05:00:00+00:00  177.385833  177.670714  177.873125  178.146111   \n",
       "2022-01-07 05:00:00+00:00  176.380833  176.640714  176.983125  177.239444   \n",
       "\n",
       "                              MA_10       MA_11       MA_12  \n",
       "timestamp                                                    \n",
       "2020-01-02 05:00:00+00:00       NaN         NaN         NaN  \n",
       "2020-01-03 05:00:00+00:00       NaN         NaN         NaN  \n",
       "2020-01-06 05:00:00+00:00       NaN         NaN         NaN  \n",
       "2020-01-07 05:00:00+00:00       NaN         NaN         NaN  \n",
       "2020-01-08 05:00:00+00:00       NaN         NaN         NaN  \n",
       "...                             ...         ...         ...  \n",
       "2022-01-03 05:00:00+00:00  177.1440  176.598182  176.236667  \n",
       "2022-01-04 05:00:00+00:00  178.1390  177.376364  176.856667  \n",
       "2022-01-05 05:00:00+00:00  178.3235  177.838636  177.164583  \n",
       "2022-01-06 05:00:00+00:00  177.9595  177.748636  177.352083  \n",
       "2022-01-07 05:00:00+00:00  177.5485  177.433182  177.283750  \n",
       "\n",
       "[510 rows x 22 columns]"
      ]
     },
     "execution_count": 492,
     "metadata": {},
     "output_type": "execute_result"
    }
   ],
   "source": [
    "df_mac"
   ]
  },
  {
   "cell_type": "code",
   "execution_count": 493,
   "id": "8b6d7dd7",
   "metadata": {},
   "outputs": [],
   "source": [
    "# shisfts close back one to get tomorrow's close price\n",
    "df_mac['next_day_close'] = df_mac['close'].shift(periods=-1, axis=\"index\")"
   ]
  },
  {
   "cell_type": "code",
   "execution_count": 494,
   "id": "8c53ebe0",
   "metadata": {},
   "outputs": [],
   "source": [
    "# creates a boolean columns on if the next day is higher than the previous\n",
    "df_mac['higher_than_yesterday'] = np.where(df_mac['next_day_close'] > df_mac['close'], 1, 0)"
   ]
  },
  {
   "cell_type": "code",
   "execution_count": 495,
   "id": "95636848",
   "metadata": {},
   "outputs": [],
   "source": [
    "df_mac_nona = df_mac.loc[(~df_mac['macdhist'].isna()) & ~(df_mac['next_day_close'].isna()),]"
   ]
  },
  {
   "cell_type": "code",
   "execution_count": 496,
   "id": "33c064e0",
   "metadata": {},
   "outputs": [
    {
     "data": {
      "text/html": [
       "<style>#sk-container-id-8 {color: black;background-color: white;}#sk-container-id-8 pre{padding: 0;}#sk-container-id-8 div.sk-toggleable {background-color: white;}#sk-container-id-8 label.sk-toggleable__label {cursor: pointer;display: block;width: 100%;margin-bottom: 0;padding: 0.3em;box-sizing: border-box;text-align: center;}#sk-container-id-8 label.sk-toggleable__label-arrow:before {content: \"▸\";float: left;margin-right: 0.25em;color: #696969;}#sk-container-id-8 label.sk-toggleable__label-arrow:hover:before {color: black;}#sk-container-id-8 div.sk-estimator:hover label.sk-toggleable__label-arrow:before {color: black;}#sk-container-id-8 div.sk-toggleable__content {max-height: 0;max-width: 0;overflow: hidden;text-align: left;background-color: #f0f8ff;}#sk-container-id-8 div.sk-toggleable__content pre {margin: 0.2em;color: black;border-radius: 0.25em;background-color: #f0f8ff;}#sk-container-id-8 input.sk-toggleable__control:checked~div.sk-toggleable__content {max-height: 200px;max-width: 100%;overflow: auto;}#sk-container-id-8 input.sk-toggleable__control:checked~label.sk-toggleable__label-arrow:before {content: \"▾\";}#sk-container-id-8 div.sk-estimator input.sk-toggleable__control:checked~label.sk-toggleable__label {background-color: #d4ebff;}#sk-container-id-8 div.sk-label input.sk-toggleable__control:checked~label.sk-toggleable__label {background-color: #d4ebff;}#sk-container-id-8 input.sk-hidden--visually {border: 0;clip: rect(1px 1px 1px 1px);clip: rect(1px, 1px, 1px, 1px);height: 1px;margin: -1px;overflow: hidden;padding: 0;position: absolute;width: 1px;}#sk-container-id-8 div.sk-estimator {font-family: monospace;background-color: #f0f8ff;border: 1px dotted black;border-radius: 0.25em;box-sizing: border-box;margin-bottom: 0.5em;}#sk-container-id-8 div.sk-estimator:hover {background-color: #d4ebff;}#sk-container-id-8 div.sk-parallel-item::after {content: \"\";width: 100%;border-bottom: 1px solid gray;flex-grow: 1;}#sk-container-id-8 div.sk-label:hover label.sk-toggleable__label {background-color: #d4ebff;}#sk-container-id-8 div.sk-serial::before {content: \"\";position: absolute;border-left: 1px solid gray;box-sizing: border-box;top: 0;bottom: 0;left: 50%;z-index: 0;}#sk-container-id-8 div.sk-serial {display: flex;flex-direction: column;align-items: center;background-color: white;padding-right: 0.2em;padding-left: 0.2em;position: relative;}#sk-container-id-8 div.sk-item {position: relative;z-index: 1;}#sk-container-id-8 div.sk-parallel {display: flex;align-items: stretch;justify-content: center;background-color: white;position: relative;}#sk-container-id-8 div.sk-item::before, #sk-container-id-8 div.sk-parallel-item::before {content: \"\";position: absolute;border-left: 1px solid gray;box-sizing: border-box;top: 0;bottom: 0;left: 50%;z-index: -1;}#sk-container-id-8 div.sk-parallel-item {display: flex;flex-direction: column;z-index: 1;position: relative;background-color: white;}#sk-container-id-8 div.sk-parallel-item:first-child::after {align-self: flex-end;width: 50%;}#sk-container-id-8 div.sk-parallel-item:last-child::after {align-self: flex-start;width: 50%;}#sk-container-id-8 div.sk-parallel-item:only-child::after {width: 0;}#sk-container-id-8 div.sk-dashed-wrapped {border: 1px dashed gray;margin: 0 0.4em 0.5em 0.4em;box-sizing: border-box;padding-bottom: 0.4em;background-color: white;}#sk-container-id-8 div.sk-label label {font-family: monospace;font-weight: bold;display: inline-block;line-height: 1.2em;}#sk-container-id-8 div.sk-label-container {text-align: center;}#sk-container-id-8 div.sk-container {/* jupyter's `normalize.less` sets `[hidden] { display: none; }` but bootstrap.min.css set `[hidden] { display: none !important; }` so we also need the `!important` here to be able to override the default hidden behavior on the sphinx rendered scikit-learn.org. See: https://github.com/scikit-learn/scikit-learn/issues/21755 */display: inline-block !important;position: relative;}#sk-container-id-8 div.sk-text-repr-fallback {display: none;}</style><div id=\"sk-container-id-8\" class=\"sk-top-container\"><div class=\"sk-text-repr-fallback\"><pre>RandomForestClassifier()</pre><b>In a Jupyter environment, please rerun this cell to show the HTML representation or trust the notebook. <br />On GitHub, the HTML representation is unable to render, please try loading this page with nbviewer.org.</b></div><div class=\"sk-container\" hidden><div class=\"sk-item\"><div class=\"sk-estimator sk-toggleable\"><input class=\"sk-toggleable__control sk-hidden--visually\" id=\"sk-estimator-id-8\" type=\"checkbox\" checked><label for=\"sk-estimator-id-8\" class=\"sk-toggleable__label sk-toggleable__label-arrow\">RandomForestClassifier</label><div class=\"sk-toggleable__content\"><pre>RandomForestClassifier()</pre></div></div></div></div></div>"
      ],
      "text/plain": [
       "RandomForestClassifier()"
      ]
     },
     "execution_count": 496,
     "metadata": {},
     "output_type": "execute_result"
    }
   ],
   "source": [
    "random.seed(10)\n",
    "\n",
    "# define the model\n",
    "random_forest_macd = RandomForestClassifier()\n",
    "# evaluate the model\n",
    "random_forest_macd.fit(df_mac_nona[['MA_10', 'macdhist']], df_mac_nona['higher_than_yesterday'])"
   ]
  },
  {
   "cell_type": "markdown",
   "id": "ce843da5",
   "metadata": {},
   "source": [
    "completely random"
   ]
  },
  {
   "cell_type": "code",
   "execution_count": 497,
   "id": "0ea1cf1e",
   "metadata": {},
   "outputs": [
    {
     "name": "stdout",
     "output_type": "stream",
     "text": [
      "Accuracy: 0.506 (0.056)\n"
     ]
    }
   ],
   "source": [
    "cv = RepeatedStratifiedKFold(n_splits=10, n_repeats=3, random_state=1)\n",
    "n_scores = cross_val_score(random_forest_macd, df_mac_nona[['close','macdhist']], df_mac_nona['higher_than_yesterday'], scoring='accuracy', cv=cv, n_jobs=-1, error_score='raise')\n",
    "# report performance\n",
    "print('Accuracy: %.3f (%.3f)' % (np.mean(n_scores), np.std(n_scores)))"
   ]
  },
  {
   "cell_type": "code",
   "execution_count": 498,
   "id": "d2f18bd8",
   "metadata": {},
   "outputs": [],
   "source": [
    "# let's build no model and just get the percentage of being above the certain shift forwards. Use difference between the\n",
    "# macd to use a velocity... maybe the faster the machhist the more likely the closing price will be maintain a trend."
   ]
  },
  {
   "cell_type": "code",
   "execution_count": 499,
   "id": "3f9548d4",
   "metadata": {},
   "outputs": [],
   "source": [
    "from statsmodels.tsa.stattools import adfuller"
   ]
  },
  {
   "cell_type": "code",
   "execution_count": 500,
   "id": "c7fb52ba",
   "metadata": {},
   "outputs": [],
   "source": [
    "# creates a boolean columns on if the next day is higher than the previous\n",
    "df_mac['macd_positive'] = np.where(df_mac['MA_5'] > 0, 1, 0)"
   ]
  },
  {
   "cell_type": "code",
   "execution_count": 501,
   "id": "e05b67be",
   "metadata": {},
   "outputs": [
    {
     "data": {
      "text/html": [
       "<div>\n",
       "<style scoped>\n",
       "    .dataframe tbody tr th:only-of-type {\n",
       "        vertical-align: middle;\n",
       "    }\n",
       "\n",
       "    .dataframe tbody tr th {\n",
       "        vertical-align: top;\n",
       "    }\n",
       "\n",
       "    .dataframe thead tr th {\n",
       "        text-align: left;\n",
       "    }\n",
       "\n",
       "    .dataframe thead tr:last-of-type th {\n",
       "        text-align: right;\n",
       "    }\n",
       "</style>\n",
       "<table border=\"1\" class=\"dataframe\">\n",
       "  <thead>\n",
       "    <tr>\n",
       "      <th></th>\n",
       "      <th colspan=\"2\" halign=\"left\">close</th>\n",
       "    </tr>\n",
       "    <tr>\n",
       "      <th></th>\n",
       "      <th>mean</th>\n",
       "      <th>std</th>\n",
       "    </tr>\n",
       "    <tr>\n",
       "      <th>macd_positive</th>\n",
       "      <th></th>\n",
       "      <th></th>\n",
       "    </tr>\n",
       "  </thead>\n",
       "  <tbody>\n",
       "    <tr>\n",
       "      <th>0</th>\n",
       "      <td>298.992500</td>\n",
       "      <td>1.329069</td>\n",
       "    </tr>\n",
       "    <tr>\n",
       "      <th>1</th>\n",
       "      <td>199.547515</td>\n",
       "      <td>100.138242</td>\n",
       "    </tr>\n",
       "  </tbody>\n",
       "</table>\n",
       "</div>"
      ],
      "text/plain": [
       "                    close            \n",
       "                     mean         std\n",
       "macd_positive                        \n",
       "0              298.992500    1.329069\n",
       "1              199.547515  100.138242"
      ]
     },
     "execution_count": 501,
     "metadata": {},
     "output_type": "execute_result"
    }
   ],
   "source": [
    "df_mac.groupby(by = [\"macd_positive\"]).agg({'close':['mean','std']})"
   ]
  },
  {
   "cell_type": "markdown",
   "id": "8a2f3516",
   "metadata": {},
   "source": [
    "# augmented dickey fuller test function\n",
    "if we do not reject null hypothesis implies that the data is not stationary"
   ]
  },
  {
   "cell_type": "code",
   "execution_count": 502,
   "id": "706a0627",
   "metadata": {},
   "outputs": [],
   "source": [
    "# takes in time series data vector\n",
    "# prints out test statistics and returns the p-value\n",
    "def adf_test(ts_array, print_test_stats):\n",
    "    dickeyfuller = adfuller(ts_array)\n",
    "    if (print_test_stats):\n",
    "        print('ADF Statistic: %f' % dickeyfuller[0])\n",
    "        print('p-value: %f' % dickeyfuller[1])\n",
    "        print('Critical Values:')\n",
    "        for key, value in dickeyfuller[4].items():\n",
    "            print('\\t%s: %.3f' % (key, value))\n",
    "    else:\n",
    "        return(dickeyfuller[1])"
   ]
  },
  {
   "cell_type": "code",
   "execution_count": 503,
   "id": "d0ec16ef",
   "metadata": {},
   "outputs": [
    {
     "data": {
      "text/plain": [
       "0.25197972726386353"
      ]
     },
     "execution_count": 503,
     "metadata": {},
     "output_type": "execute_result"
    }
   ],
   "source": [
    "adf_test(df_mac['close'], False)"
   ]
  },
  {
   "cell_type": "markdown",
   "id": "66071be4",
   "metadata": {},
   "source": [
    "making stationary value"
   ]
  },
  {
   "cell_type": "code",
   "execution_count": 504,
   "id": "58532232",
   "metadata": {},
   "outputs": [],
   "source": [
    "df_mac['close_stationary'] = df_mac['close'] - df_mac['close'].shift(periods=1, axis=\"index\")"
   ]
  },
  {
   "cell_type": "code",
   "execution_count": 505,
   "id": "28938e35",
   "metadata": {},
   "outputs": [
    {
     "name": "stdout",
     "output_type": "stream",
     "text": [
      "ADF Statistic: -23.232615\n",
      "p-value: 0.000000\n",
      "Critical Values:\n",
      "\t1%: -3.443\n",
      "\t5%: -2.867\n",
      "\t10%: -2.570\n"
     ]
    }
   ],
   "source": [
    "# retesting\n",
    "adf_test(df_mac['close_stationary'].dropna(), True)"
   ]
  },
  {
   "cell_type": "code",
   "execution_count": 506,
   "id": "1935d341",
   "metadata": {},
   "outputs": [
    {
     "data": {
      "text/html": [
       "<div>\n",
       "<style scoped>\n",
       "    .dataframe tbody tr th:only-of-type {\n",
       "        vertical-align: middle;\n",
       "    }\n",
       "\n",
       "    .dataframe tbody tr th {\n",
       "        vertical-align: top;\n",
       "    }\n",
       "\n",
       "    .dataframe thead tr th {\n",
       "        text-align: left;\n",
       "    }\n",
       "\n",
       "    .dataframe thead tr:last-of-type th {\n",
       "        text-align: right;\n",
       "    }\n",
       "</style>\n",
       "<table border=\"1\" class=\"dataframe\">\n",
       "  <thead>\n",
       "    <tr>\n",
       "      <th></th>\n",
       "      <th colspan=\"2\" halign=\"left\">close_stationary</th>\n",
       "    </tr>\n",
       "    <tr>\n",
       "      <th></th>\n",
       "      <th>mean</th>\n",
       "      <th>std</th>\n",
       "    </tr>\n",
       "    <tr>\n",
       "      <th>macd_positive</th>\n",
       "      <th></th>\n",
       "      <th></th>\n",
       "    </tr>\n",
       "  </thead>\n",
       "  <tbody>\n",
       "    <tr>\n",
       "      <th>0</th>\n",
       "      <td>-0.653333</td>\n",
       "      <td>2.724965</td>\n",
       "    </tr>\n",
       "    <tr>\n",
       "      <th>1</th>\n",
       "      <td>-0.249447</td>\n",
       "      <td>17.458504</td>\n",
       "    </tr>\n",
       "  </tbody>\n",
       "</table>\n",
       "</div>"
      ],
      "text/plain": [
       "              close_stationary           \n",
       "                          mean        std\n",
       "macd_positive                            \n",
       "0                    -0.653333   2.724965\n",
       "1                    -0.249447  17.458504"
      ]
     },
     "execution_count": 506,
     "metadata": {},
     "output_type": "execute_result"
    }
   ],
   "source": [
    "df_mac.groupby(by = [\"macd_positive\"]).agg({'close_stationary':['mean','std']})"
   ]
  },
  {
   "cell_type": "markdown",
   "id": "4e9c71e8",
   "metadata": {},
   "source": [
    "# Decision Trees\n",
    "And giving specific instructions of what to use, so visualization is \"easy\"\n",
    "First create df with common indicators"
   ]
  },
  {
   "cell_type": "code",
   "execution_count": 507,
   "id": "b22af9ce",
   "metadata": {},
   "outputs": [],
   "source": [
    "from sklearn import tree\n",
    "import graphviz\n",
    "import itertools"
   ]
  },
  {
   "cell_type": "code",
   "execution_count": 508,
   "id": "8e249123",
   "metadata": {},
   "outputs": [],
   "source": [
    "# ripped off my earlier code\n",
    "macd, macdsignal, macdhist = tb.MACD(df_apple['close'], fastperiod=12, slowperiod=26, signalperiod=9)\n",
    "# creates a macD dataframe using talib and then merges original dataset onto it\n",
    "df_mac = pd.DataFrame({'macd': macd, 'macdsignal': macdsignal, 'macdhist':macdhist})\n",
    "\n",
    "df_mac = df_mac.merge(df_apple, left_index=True, right_index=True)\n",
    "df_mac['MOM'] = tb.MOM(df_apple['close'], timeperiod=5)\n",
    "df_mac['SAR'] = tb.SAR(df_apple['high'], df_apple['low'])\n",
    "\n",
    "# create stationary time series\n",
    "if (adf_test(df_mac['close'], False) > 0.05):\n",
    "    df_mac['close'] = df_mac['close'] - df_mac['close'].shift(periods=1, axis=\"index\")\n",
    "    \n",
    "for i in [21]:\n",
    "    df_mac['MA_' + str(i)] = tb.SMA(df_mac['close'], timeperiod=i)\n",
    "\n",
    "for i in [21]:\n",
    "    df_mac['EMA_' + str(i)] = tb.EMA(df_mac['close'], timeperiod=i)\n",
    "\n",
    "df_mac['std'] = df_mac['close'].rolling(30).std()"
   ]
  },
  {
   "cell_type": "code",
   "execution_count": 509,
   "id": "f6c4c1da",
   "metadata": {},
   "outputs": [],
   "source": [
    "df_mac = df_mac.dropna(axis = 0, how = 'any')"
   ]
  },
  {
   "cell_type": "markdown",
   "id": "ba820cc5",
   "metadata": {},
   "source": [
    "## Fitting that tree with small number of features and nodes"
   ]
  },
  {
   "cell_type": "markdown",
   "id": "c2443235",
   "metadata": {},
   "source": [
    "fits a regression tree using very restictive options to create thresholds, easy to implement"
   ]
  },
  {
   "cell_type": "code",
   "execution_count": 510,
   "id": "02190e07",
   "metadata": {},
   "outputs": [],
   "source": [
    "mac_tree = tree.DecisionTreeRegressor(criterion = \"absolute_error\", max_features = 3, max_leaf_nodes = 3)\n",
    "mac_tree = mac_tree.fit(X = df_mac.drop(['open', 'high', 'low', 'close', 'volume', 'trade_count', 'vwap'], axis = 1),\\\n",
    "                        y = df_mac['close'])"
   ]
  },
  {
   "cell_type": "markdown",
   "id": "8e76cdf5",
   "metadata": {},
   "source": [
    "### plots the fitted calssification tree"
   ]
  },
  {
   "cell_type": "code",
   "execution_count": 511,
   "id": "f321144c",
   "metadata": {},
   "outputs": [
    {
     "data": {
      "image/svg+xml": [
       "<?xml version=\"1.0\" encoding=\"UTF-8\" standalone=\"no\"?>\n",
       "<!DOCTYPE svg PUBLIC \"-//W3C//DTD SVG 1.1//EN\"\n",
       " \"http://www.w3.org/Graphics/SVG/1.1/DTD/svg11.dtd\">\n",
       "<!-- Generated by graphviz version 2.50.0 (0)\n",
       " -->\n",
       "<!-- Title: Tree Pages: 1 -->\n",
       "<svg width=\"418pt\" height=\"269pt\"\n",
       " viewBox=\"0.00 0.00 418.00 269.00\" xmlns=\"http://www.w3.org/2000/svg\" xmlns:xlink=\"http://www.w3.org/1999/xlink\">\n",
       "<g id=\"graph0\" class=\"graph\" transform=\"scale(1 1) rotate(0) translate(4 265)\">\n",
       "<title>Tree</title>\n",
       "<polygon fill=\"white\" stroke=\"transparent\" points=\"-4,4 -4,-265 414,-265 414,4 -4,4\"/>\n",
       "<!-- 0 -->\n",
       "<g id=\"node1\" class=\"node\">\n",
       "<title>0</title>\n",
       "<path fill=\"#e58139\" stroke=\"black\" d=\"M306.5,-261C306.5,-261 184.5,-261 184.5,-261 178.5,-261 172.5,-255 172.5,-249 172.5,-249 172.5,-205 172.5,-205 172.5,-199 178.5,-193 184.5,-193 184.5,-193 306.5,-193 306.5,-193 312.5,-193 318.5,-199 318.5,-205 318.5,-205 318.5,-249 318.5,-249 318.5,-255 312.5,-261 306.5,-261\"/>\n",
       "<text text-anchor=\"start\" x=\"191\" y=\"-245.8\" font-family=\"Helvetica,sans-Serif\" font-size=\"14.00\">macdhist ≤ &#45;0.914</text>\n",
       "<text text-anchor=\"start\" x=\"180.5\" y=\"-230.8\" font-family=\"Helvetica,sans-Serif\" font-size=\"14.00\">absolute_error = 4.14</text>\n",
       "<text text-anchor=\"start\" x=\"200.5\" y=\"-215.8\" font-family=\"Helvetica,sans-Serif\" font-size=\"14.00\">samples = 477</text>\n",
       "<text text-anchor=\"start\" x=\"208\" y=\"-200.8\" font-family=\"Helvetica,sans-Serif\" font-size=\"14.00\">value = 0.18</text>\n",
       "</g>\n",
       "<!-- 1 -->\n",
       "<g id=\"node2\" class=\"node\">\n",
       "<title>1</title>\n",
       "<path fill=\"#e5823a\" stroke=\"black\" d=\"M227,-157C227,-157 90,-157 90,-157 84,-157 78,-151 78,-145 78,-145 78,-101 78,-101 78,-95 84,-89 90,-89 90,-89 227,-89 227,-89 233,-89 239,-95 239,-101 239,-101 239,-145 239,-145 239,-151 233,-157 227,-157\"/>\n",
       "<text text-anchor=\"start\" x=\"113\" y=\"-141.8\" font-family=\"Helvetica,sans-Serif\" font-size=\"14.00\">SAR ≤ 511.249</text>\n",
       "<text text-anchor=\"start\" x=\"86\" y=\"-126.8\" font-family=\"Helvetica,sans-Serif\" font-size=\"14.00\">absolute_error = 12.149</text>\n",
       "<text text-anchor=\"start\" x=\"117.5\" y=\"-111.8\" font-family=\"Helvetica,sans-Serif\" font-size=\"14.00\">samples = 68</text>\n",
       "<text text-anchor=\"start\" x=\"119\" y=\"-96.8\" font-family=\"Helvetica,sans-Serif\" font-size=\"14.00\">value = &#45;1.91</text>\n",
       "</g>\n",
       "<!-- 0&#45;&gt;1 -->\n",
       "<g id=\"edge1\" class=\"edge\">\n",
       "<title>0&#45;&gt;1</title>\n",
       "<path fill=\"none\" stroke=\"black\" d=\"M217.25,-192.88C209.66,-183.98 201.35,-174.24 193.43,-164.96\"/>\n",
       "<polygon fill=\"black\" stroke=\"black\" points=\"196.05,-162.64 186.9,-157.3 190.73,-167.18 196.05,-162.64\"/>\n",
       "<text text-anchor=\"middle\" x=\"184.92\" y=\"-178.52\" font-family=\"Helvetica,sans-Serif\" font-size=\"14.00\">True</text>\n",
       "</g>\n",
       "<!-- 2 -->\n",
       "<g id=\"node5\" class=\"node\">\n",
       "<title>2</title>\n",
       "<path fill=\"#e58139\" stroke=\"black\" d=\"M398,-149.5C398,-149.5 269,-149.5 269,-149.5 263,-149.5 257,-143.5 257,-137.5 257,-137.5 257,-108.5 257,-108.5 257,-102.5 263,-96.5 269,-96.5 269,-96.5 398,-96.5 398,-96.5 404,-96.5 410,-102.5 410,-108.5 410,-108.5 410,-137.5 410,-137.5 410,-143.5 404,-149.5 398,-149.5\"/>\n",
       "<text text-anchor=\"start\" x=\"265\" y=\"-134.3\" font-family=\"Helvetica,sans-Serif\" font-size=\"14.00\">absolute_error = 2.743</text>\n",
       "<text text-anchor=\"start\" x=\"288.5\" y=\"-119.3\" font-family=\"Helvetica,sans-Serif\" font-size=\"14.00\">samples = 409</text>\n",
       "<text text-anchor=\"start\" x=\"296\" y=\"-104.3\" font-family=\"Helvetica,sans-Serif\" font-size=\"14.00\">value = 0.36</text>\n",
       "</g>\n",
       "<!-- 0&#45;&gt;2 -->\n",
       "<g id=\"edge4\" class=\"edge\">\n",
       "<title>0&#45;&gt;2</title>\n",
       "<path fill=\"none\" stroke=\"black\" d=\"M274.07,-192.88C283.94,-181.45 294.99,-168.63 304.87,-157.19\"/>\n",
       "<polygon fill=\"black\" stroke=\"black\" points=\"307.6,-159.38 311.48,-149.52 302.3,-154.81 307.6,-159.38\"/>\n",
       "<text text-anchor=\"middle\" x=\"313.32\" y=\"-170.75\" font-family=\"Helvetica,sans-Serif\" font-size=\"14.00\">False</text>\n",
       "</g>\n",
       "<!-- 3 -->\n",
       "<g id=\"node3\" class=\"node\">\n",
       "<title>3</title>\n",
       "<path fill=\"#e5823a\" stroke=\"black\" d=\"M141,-53C141,-53 12,-53 12,-53 6,-53 0,-47 0,-41 0,-41 0,-12 0,-12 0,-6 6,0 12,0 12,0 141,0 141,0 147,0 153,-6 153,-12 153,-12 153,-41 153,-41 153,-47 147,-53 141,-53\"/>\n",
       "<text text-anchor=\"start\" x=\"8\" y=\"-37.8\" font-family=\"Helvetica,sans-Serif\" font-size=\"14.00\">absolute_error = 6.834</text>\n",
       "<text text-anchor=\"start\" x=\"35.5\" y=\"-22.8\" font-family=\"Helvetica,sans-Serif\" font-size=\"14.00\">samples = 67</text>\n",
       "<text text-anchor=\"start\" x=\"37\" y=\"-7.8\" font-family=\"Helvetica,sans-Serif\" font-size=\"14.00\">value = &#45;1.89</text>\n",
       "</g>\n",
       "<!-- 1&#45;&gt;3 -->\n",
       "<g id=\"edge2\" class=\"edge\">\n",
       "<title>1&#45;&gt;3</title>\n",
       "<path fill=\"none\" stroke=\"black\" d=\"M129.82,-88.95C121.96,-79.89 113.44,-70.07 105.56,-60.99\"/>\n",
       "<polygon fill=\"black\" stroke=\"black\" points=\"108.03,-58.5 98.83,-53.24 102.74,-63.08 108.03,-58.5\"/>\n",
       "</g>\n",
       "<!-- 4 -->\n",
       "<g id=\"node4\" class=\"node\">\n",
       "<title>4</title>\n",
       "<path fill=\"#ffffff\" stroke=\"black\" d=\"M297.5,-53C297.5,-53 183.5,-53 183.5,-53 177.5,-53 171.5,-47 171.5,-41 171.5,-41 171.5,-12 171.5,-12 171.5,-6 177.5,0 183.5,0 183.5,0 297.5,0 297.5,0 303.5,0 309.5,-6 309.5,-12 309.5,-12 309.5,-41 309.5,-41 309.5,-47 303.5,-53 297.5,-53\"/>\n",
       "<text text-anchor=\"start\" x=\"179.5\" y=\"-37.8\" font-family=\"Helvetica,sans-Serif\" font-size=\"14.00\">absolute_error = 0.0</text>\n",
       "<text text-anchor=\"start\" x=\"203\" y=\"-22.8\" font-family=\"Helvetica,sans-Serif\" font-size=\"14.00\">samples = 1</text>\n",
       "<text text-anchor=\"start\" x=\"193.5\" y=\"-7.8\" font-family=\"Helvetica,sans-Serif\" font-size=\"14.00\">value = &#45;370.19</text>\n",
       "</g>\n",
       "<!-- 1&#45;&gt;4 -->\n",
       "<g id=\"edge3\" class=\"edge\">\n",
       "<title>1&#45;&gt;4</title>\n",
       "<path fill=\"none\" stroke=\"black\" d=\"M187.18,-88.95C195.04,-79.89 203.56,-70.07 211.44,-60.99\"/>\n",
       "<polygon fill=\"black\" stroke=\"black\" points=\"214.26,-63.08 218.17,-53.24 208.97,-58.5 214.26,-63.08\"/>\n",
       "</g>\n",
       "</g>\n",
       "</svg>\n"
      ],
      "text/plain": [
       "<graphviz.sources.Source at 0x20168742b90>"
      ]
     },
     "execution_count": 511,
     "metadata": {},
     "output_type": "execute_result"
    }
   ],
   "source": [
    "dot_data = tree.export_graphviz(mac_tree, out_file=None, \\\n",
    "                                feature_names=df_mac.drop(['open', 'high', 'low', 'close', 'volume', 'trade_count', 'vwap'], axis = 1).columns,\\\n",
    "                                filled=True, rounded=True, special_characters=True) \n",
    "graph = graphviz.Source(dot_data) \n",
    "graph"
   ]
  },
  {
   "cell_type": "code",
   "execution_count": 522,
   "id": "41234ddc",
   "metadata": {},
   "outputs": [
    {
     "data": {
      "image/png": "[encoded data removed]",
      "text/plain": [
       "<Figure size 504x252 with 1 Axes>"
      ]
     },
     "metadata": {
      "needs_background": "light"
     },
     "output_type": "display_data"
    }
   ],
   "source": [
    "plt.rcParams[\"figure.figsize\"] = [7.00, 3.50]\n",
    "plt.rcParams[\"figure.autolayout\"] = True\n",
    "x = df_mac.index\n",
    "y = df_mac['close']\n",
    "plt.plot(x, y, c='blue', lw=2)\n",
    "plt.ylim([-12, 12])\n",
    "plt.vlines((df_mac.loc[df_mac['MOM'] > 11.35].index), ymin = -12, ymax = 12, color='green', alpha=0.75, lw=1)\n",
    "plt.show()\n"
   ]
  },
  {
   "cell_type": "code",
   "execution_count": 425,
   "id": "5d2203e5",
   "metadata": {},
   "outputs": [],
   "source": [
    "# produces list of regression tree with thresholds\n",
    "saved_features = zip(df_mac.drop(['open', 'high', 'low', 'close', 'volume', 'trade_count', 'vwap'], axis = 1).columns[mac_tree.tree_.feature],\\\n",
    "                     mac_tree.tree_.impurity,\\\n",
    "                     mac_tree.tree_.threshold,\\\n",
    "                     mac_tree.tree_.children_left,\\\n",
    "                     mac_tree.tree_.children_right,\\\n",
    "                     list(itertools.chain.from_iterable(list(itertools.chain.from_iterable(mac_tree.tree_.value.tolist())))))\n",
    "\n",
    "list(saved_features)"
   ]
  },
  {
   "cell_type": "markdown",
   "id": "0ab4610c",
   "metadata": {},
   "source": [
    "### creating df stock indexes by cap size and sector"
   ]
  },
  {
   "cell_type": "code",
   "execution_count": 427,
   "id": "27297050",
   "metadata": {},
   "outputs": [],
   "source": [
    "# Communication stocks\n",
    "com_stock = ['GOOGL', 'Large',\\\n",
    " 'META', 'Large',\\\n",
    " 'VZ', 'Large',\\\n",
    " 'DIS', 'Large',\\\n",
    " 'CMCSA', 'Large',\\\n",
    " 'TMUS', 'Large',\\\n",
    " 'T', 'Large',\\\n",
    " 'NFLX', 'Large',\\\n",
    " 'CHTR', 'Large',\\\n",
    " 'NTES', 'Large']\n",
    "\n",
    "# Consumer Discretionary\n",
    "consumer_dis_stock = ['AMZN', 'Large',\\\n",
    "                 'TSLA', 'Large',\\\n",
    "                 'LVMHF', 'Large',\\\n",
    "                 'HD', 'Large',\\\n",
    "                 'TM', 'Large',\\\n",
    "                 'NKE', 'Large',\\\n",
    "                 'MCD', 'Large',\\\n",
    "                 'VWAGY', 'Large',\\\n",
    "                 'HESAY', 'Large',\\\n",
    "                 'LOW', 'Large',\\\n",
    "                 'APTV', 'Mid',\\\n",
    "                 'SCI', 'Mid',\\\n",
    "                 'WSM', 'Mid',\\\n",
    "                 'GME', 'Mid',\\\n",
    "                 'FIVE', 'Mid',\\\n",
    "                 'LAD', 'Mid',\\\n",
    "                 'DHI', 'Mid',\\\n",
    "                 'LEN', 'Mid',\\\n",
    "                 'ORLY', 'Mid',\\\n",
    "                 'EBAY', 'Small',\\\n",
    "                 'FL', 'Mid',\\\n",
    "                 'COUR', 'Small']\n",
    "# Consumer Staples\n",
    "consumer_sta_stocks = ['WMT', 'Large',\\\n",
    "                       'PG', 'Large',\\\n",
    "                       'NSRGY', 'Large',\\\n",
    "                       'KO', 'Large',\\\n",
    "                       'COST', 'Large',\\\n",
    "                       'PEP', 'Large',\\\n",
    "                       'LRLCY', 'Large',\\\n",
    "                       'PM', 'Large',\\\n",
    "                       'UL', 'Large',\\\n",
    "                       'TGT', 'Large']\n",
    "# energy \n",
    "energy_stocks = ['XOM', 'Large',\\\n",
    "                 'CVX', 'Large',\\\n",
    "                 'RYDAF', 'Large',\\\n",
    "                 'TTE', 'Large',\\\n",
    "                 'COP', 'Large',\\\n",
    "                 'EQNR', 'Large',\\\n",
    "                 'BP', 'Large',\\\n",
    "                 'PTR', 'Large',\\\n",
    "                 'ENB', 'Large',\\\n",
    "                 'PBR', 'Large',\\\n",
    "                 'XOM', 'Large']\n",
    "# Financial  \n",
    "finance_stocks = ['BRK.A', 'Large',\\\n",
    "                  'V', 'Large',\\\n",
    "                  'JPM', 'Large',\\\n",
    "                  'MA', 'Large',\\\n",
    "                  'BAC', 'Large',\\\n",
    "                  'IDCBY', 'Large',\\\n",
    "                  'CICHY', 'Large',\\\n",
    "                  'WFC', 'Large',\\\n",
    "                  'MS', 'Large',\\\n",
    "                  'C', 'Large',\\\n",
    "                  'WFC', 'Large',\\\n",
    "                  'BFH', 'Mid']\n",
    "# health  \n",
    "health_stocks = ['JNJ', 'Large',\\\n",
    "                 'UNH', 'Large',\\\n",
    "                 'PFE', 'Large',\\\n",
    "                 'LLY', 'Large',\\\n",
    "                 'RHHBY', 'Large',\\\n",
    "                 'NVO', 'Large',\\\n",
    "                 'MRK', 'Large',\\\n",
    "                 'TMO', 'Large',\\\n",
    "                 'DHR', 'Large',\\\n",
    "                 'ABT', 'Large',\\\n",
    "                 'OPRX', 'Small',\\\n",
    "                 'GBT', 'Small']\n",
    "# Industrial   \n",
    "indus_stocks = ['UPS', 'Large',\\\n",
    "                 'RTX', 'Large',\\\n",
    "                 'UNP', 'Large',\\\n",
    "                 'HON', 'Large',\\\n",
    "                 'CAT', 'Large',\\\n",
    "                 'DE', 'Large',\\\n",
    "                 'SIEGY', 'Large',\\\n",
    "                 'GE', 'Large',\\\n",
    "                 'BA', 'Large',\\\n",
    "                 'X', 'Mid']\n",
    "# Materials   \n",
    "mater_stocks = ['BHP', 'Large',\\\n",
    "                 'LIN', 'Large',\\\n",
    "                 'RIO', 'Large',\\\n",
    "                 'AIQUY', 'Large',\\\n",
    "                 'VALE', 'Large',\\\n",
    "                 'GLNCY', 'Large',\\\n",
    "                 'SHW', 'Large',\\\n",
    "                 'SHECY', 'Large',\\\n",
    "                 'ECL', 'Large']\n",
    "# Real Estate   \n",
    "property_stocks = ['AMT', 'Large',\\\n",
    "                     'PLD', 'Large',\\\n",
    "                     'CCI', 'Large',\\\n",
    "                     'DLR', 'Large',\\\n",
    "                     'EQIX', 'Large',\\\n",
    "                     'SPG', 'Large',\\\n",
    "                     'PSA', 'Large',\\\n",
    "                     'O', 'Large',\\\n",
    "                     'WELL', 'Large', \\\n",
    "                     'SBAC', 'Large']\n",
    "# Technology    \n",
    "tech_stocks = ['AAPL', 'Large',\\\n",
    "                 'MSFT', 'Large',\\\n",
    "                 'TSM', 'Large',\\\n",
    "                 'NVDA', 'Large',\\\n",
    "                 'TCEHY', 'Large',\\\n",
    "                 '005930.KS', 'Large',\\\n",
    "                 'BABA', 'Large',\\\n",
    "                 'ASML', 'Large',\\\n",
    "                  'FOUR', 'Small',\\\n",
    "                  'FLYW', 'Small',\\\n",
    "                  'AMBA', 'Mid']\n",
    "# Utilities    \n",
    "util_stocks = ['NEE', 'Large',\\\n",
    "                 'DUK', 'Large',\\\n",
    "                 'SO', 'Large',\\\n",
    "                 'D', 'Large',\\\n",
    "                 'AEP', 'Large',\\\n",
    "                 'SRE', 'Large',\\\n",
    "                 'EXC', 'Large',\\\n",
    "                 'XEL', 'Large',\\\n",
    "                 'PEG', 'Large',\\\n",
    "                  'FLNC', 'Small',\\\n",
    "                  'NOVA', 'Small']\n",
    "# Defense \n",
    "def_stocks = ['GD', 'Large',\\\n",
    "              'LMT', 'Large',\\\n",
    "              'RTX', 'Large']"
   ]
  },
  {
   "cell_type": "code",
   "execution_count": 428,
   "id": "06b3bde8",
   "metadata": {},
   "outputs": [],
   "source": [
    "# multi list with hand created index lists\n",
    "list_sector_index = [com_stock, consumer_dis_stock, consumer_sta_stocks, energy_stocks, finance_stocks, health_stocks, \\\n",
    "              indus_stocks, mater_stocks, property_stocks, tech_stocks, util_stocks, def_stocks]\n",
    "# list of sectors\n",
    "list_of_sectors = ['Communication Services', 'Consumer Discretionary', 'Consumer Staples', 'Energy', 'Financial', 'Healthcare',\\\n",
    "                   'Industrial', 'Materials', 'Real Estate', 'Technology', 'Utilities', 'Defense']\n",
    "#  empty list to append\n",
    "arrayofsec = []\n",
    "# creates repeats the sector name the number of times the value occurs \n",
    "for i, string in enumerate(list_of_sectors):\n",
    "    arrayofsec.append(list(itertools.chain(np.repeat(string, len(list_sector_index[i][1::2])))))"
   ]
  },
  {
   "cell_type": "code",
   "execution_count": 429,
   "id": "7e453327",
   "metadata": {},
   "outputs": [],
   "source": [
    "# creates function to flatten nested lists\n",
    "def flatten(xss):\n",
    "    return [x for xs in xss for x in xs]\n",
    "# flattens arrayofsec\n",
    "flat_sector = flatten(arrayofsec)"
   ]
  },
  {
   "cell_type": "code",
   "execution_count": 431,
   "id": "b27f2df0",
   "metadata": {},
   "outputs": [],
   "source": [
    "df_index = pd.DataFrame({'Index': flatten(list_sector_index)[::2], 'Cap size': flatten(list_sector_index)[1::2], 'Sector': flat_sector})"
   ]
  },
  {
   "cell_type": "code",
   "execution_count": 434,
   "id": "e78980a6",
   "metadata": {},
   "outputs": [
    {
     "data": {
      "text/html": [
       "<div>\n",
       "<style scoped>\n",
       "    .dataframe tbody tr th:only-of-type {\n",
       "        vertical-align: middle;\n",
       "    }\n",
       "\n",
       "    .dataframe tbody tr th {\n",
       "        vertical-align: top;\n",
       "    }\n",
       "\n",
       "    .dataframe thead th {\n",
       "        text-align: right;\n",
       "    }\n",
       "</style>\n",
       "<table border=\"1\" class=\"dataframe\">\n",
       "  <thead>\n",
       "    <tr style=\"text-align: right;\">\n",
       "      <th></th>\n",
       "      <th>Index</th>\n",
       "      <th>Cap size</th>\n",
       "      <th>Sector</th>\n",
       "    </tr>\n",
       "  </thead>\n",
       "  <tbody>\n",
       "    <tr>\n",
       "      <th>121</th>\n",
       "      <td>AEP</td>\n",
       "      <td>Large</td>\n",
       "      <td>Utilities</td>\n",
       "    </tr>\n",
       "    <tr>\n",
       "      <th>122</th>\n",
       "      <td>SRE</td>\n",
       "      <td>Large</td>\n",
       "      <td>Utilities</td>\n",
       "    </tr>\n",
       "    <tr>\n",
       "      <th>123</th>\n",
       "      <td>EXC</td>\n",
       "      <td>Large</td>\n",
       "      <td>Utilities</td>\n",
       "    </tr>\n",
       "    <tr>\n",
       "      <th>124</th>\n",
       "      <td>XEL</td>\n",
       "      <td>Large</td>\n",
       "      <td>Utilities</td>\n",
       "    </tr>\n",
       "    <tr>\n",
       "      <th>125</th>\n",
       "      <td>PEG</td>\n",
       "      <td>Large</td>\n",
       "      <td>Utilities</td>\n",
       "    </tr>\n",
       "    <tr>\n",
       "      <th>126</th>\n",
       "      <td>FLNC</td>\n",
       "      <td>Small</td>\n",
       "      <td>Utilities</td>\n",
       "    </tr>\n",
       "    <tr>\n",
       "      <th>127</th>\n",
       "      <td>NOVA</td>\n",
       "      <td>Small</td>\n",
       "      <td>Utilities</td>\n",
       "    </tr>\n",
       "    <tr>\n",
       "      <th>128</th>\n",
       "      <td>GD</td>\n",
       "      <td>Large</td>\n",
       "      <td>Defense</td>\n",
       "    </tr>\n",
       "    <tr>\n",
       "      <th>129</th>\n",
       "      <td>LMT</td>\n",
       "      <td>Large</td>\n",
       "      <td>Defense</td>\n",
       "    </tr>\n",
       "    <tr>\n",
       "      <th>130</th>\n",
       "      <td>RTX</td>\n",
       "      <td>Large</td>\n",
       "      <td>Defense</td>\n",
       "    </tr>\n",
       "  </tbody>\n",
       "</table>\n",
       "</div>"
      ],
      "text/plain": [
       "    Index Cap size     Sector\n",
       "121   AEP    Large  Utilities\n",
       "122   SRE    Large  Utilities\n",
       "123   EXC    Large  Utilities\n",
       "124   XEL    Large  Utilities\n",
       "125   PEG    Large  Utilities\n",
       "126  FLNC    Small  Utilities\n",
       "127  NOVA    Small  Utilities\n",
       "128    GD    Large    Defense\n",
       "129   LMT    Large    Defense\n",
       "130   RTX    Large    Defense"
      ]
     },
     "execution_count": 434,
     "metadata": {},
     "output_type": "execute_result"
    }
   ],
   "source": [
    "df_index.tail(10)"
   ]
  },
  {
   "cell_type": "code",
   "execution_count": null,
   "id": "b20d78e7",
   "metadata": {},
   "outputs": [],
   "source": []
  }
 ],
 "metadata": {
  "kernelspec": {
   "display_name": "Python 3 (ipykernel)",
   "language": "python",
   "name": "python3"
  },
  "language_info": {
   "codemirror_mode": {
    "name": "ipython",
    "version": 3
   },
   "file_extension": ".py",
   "mimetype": "text/x-python",
   "name": "python",
   "nbconvert_exporter": "python",
   "pygments_lexer": "ipython3",
   "version": "3.10.4"
  }
 },
 "nbformat": 4,
 "nbformat_minor": 5
}
