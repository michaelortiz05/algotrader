{
 "cells": [
  {
   "cell_type": "code",
   "execution_count": 1,
   "id": "d6291122",
   "metadata": {},
   "outputs": [],
   "source": [
    "import json\n",
    "import os\n",
    "\n",
    "%load_ext dotenv\n",
    "%dotenv\n",
    "\n",
    "# f = open(\"authPaper.json\")\n",
    "# auth = json.load(f)"
   ]
  },
  {
   "cell_type": "code",
   "execution_count": 2,
   "id": "e243c59a",
   "metadata": {},
   "outputs": [],
   "source": [
    "import alpaca_trade_api as tradeapi\n",
    "from alpaca_trade_api.rest import REST, TimeFrame\n",
    "# BASE_URL = \"https://paper-api.alpaca.markets\"\n",
    "# API_KEY = auth['ID']\n",
    "# SECRET_KEY = auth['Secret']"
   ]
  },
  {
   "cell_type": "code",
   "execution_count": 3,
   "id": "03d7ad80",
   "metadata": {},
   "outputs": [],
   "source": [
    "api = tradeapi.REST(key_id= os.getenv('API_KEY'), secret_key=os.getenv('SECRET_KEY'), base_url=os.getenv('APCA_API_BASE_URL'), api_version='v2')"
   ]
  },
  {
   "cell_type": "code",
   "execution_count": 4,
   "id": "371bd3ef",
   "metadata": {},
   "outputs": [],
   "source": [
    "df_apple = api.get_bars(\"AAPL\", TimeFrame.Day, \"2020-09-01\", \"2022-07-02\", adjustment='raw').df"
   ]
  },
  {
   "cell_type": "code",
   "execution_count": 5,
   "id": "6b55f495",
   "metadata": {
    "scrolled": true
   },
   "outputs": [
    {
     "data": {
      "text/plain": [
       "<AxesSubplot:xlabel='timestamp'>"
      ]
     },
     "execution_count": 5,
     "metadata": {},
     "output_type": "execute_result"
    },
    {
     "data": {
      "image/png": "[encoded data removed]",
      "text/plain": [
       "<Figure size 432x288 with 1 Axes>"
      ]
     },
     "metadata": {
      "needs_background": "light"
     },
     "output_type": "display_data"
    }
   ],
   "source": [
    "df_apple['close'].plot()"
   ]
  },
  {
   "cell_type": "code",
   "execution_count": 6,
   "id": "bb98d2ef",
   "metadata": {},
   "outputs": [],
   "source": [
    "# importing forecasting libraries\n",
    "import pmdarima as pm\n",
    "import numpy as npf\n",
    "import matplotlib.pyplot as plt\n",
    "import seaborn as sn"
   ]
  },
  {
   "cell_type": "code",
   "execution_count": 7,
   "id": "06d856f4",
   "metadata": {},
   "outputs": [],
   "source": [
    "arima_model = pm.auto_arima(df_apple['close'], seasonal = False)"
   ]
  },
  {
   "cell_type": "markdown",
   "id": "0910cc41",
   "metadata": {},
   "source": [
    "# Random Walk (Useless)\n",
    "A random walk does not help predict the next values only that the variance will increase... lame <br>\n",
    "This is for predictions involving the closing cost"
   ]
  },
  {
   "cell_type": "code",
   "execution_count": 8,
   "id": "2370ee1e",
   "metadata": {},
   "outputs": [
    {
     "data": {
      "text/html": [
       "<style>#sk-container-id-1 {color: black;background-color: white;}#sk-container-id-1 pre{padding: 0;}#sk-container-id-1 div.sk-toggleable {background-color: white;}#sk-container-id-1 label.sk-toggleable__label {cursor: pointer;display: block;width: 100%;margin-bottom: 0;padding: 0.3em;box-sizing: border-box;text-align: center;}#sk-container-id-1 label.sk-toggleable__label-arrow:before {content: \"▸\";float: left;margin-right: 0.25em;color: #696969;}#sk-container-id-1 label.sk-toggleable__label-arrow:hover:before {color: black;}#sk-container-id-1 div.sk-estimator:hover label.sk-toggleable__label-arrow:before {color: black;}#sk-container-id-1 div.sk-toggleable__content {max-height: 0;max-width: 0;overflow: hidden;text-align: left;background-color: #f0f8ff;}#sk-container-id-1 div.sk-toggleable__content pre {margin: 0.2em;color: black;border-radius: 0.25em;background-color: #f0f8ff;}#sk-container-id-1 input.sk-toggleable__control:checked~div.sk-toggleable__content {max-height: 200px;max-width: 100%;overflow: auto;}#sk-container-id-1 input.sk-toggleable__control:checked~label.sk-toggleable__label-arrow:before {content: \"▾\";}#sk-container-id-1 div.sk-estimator input.sk-toggleable__control:checked~label.sk-toggleable__label {background-color: #d4ebff;}#sk-container-id-1 div.sk-label input.sk-toggleable__control:checked~label.sk-toggleable__label {background-color: #d4ebff;}#sk-container-id-1 input.sk-hidden--visually {border: 0;clip: rect(1px 1px 1px 1px);clip: rect(1px, 1px, 1px, 1px);height: 1px;margin: -1px;overflow: hidden;padding: 0;position: absolute;width: 1px;}#sk-container-id-1 div.sk-estimator {font-family: monospace;background-color: #f0f8ff;border: 1px dotted black;border-radius: 0.25em;box-sizing: border-box;margin-bottom: 0.5em;}#sk-container-id-1 div.sk-estimator:hover {background-color: #d4ebff;}#sk-container-id-1 div.sk-parallel-item::after {content: \"\";width: 100%;border-bottom: 1px solid gray;flex-grow: 1;}#sk-container-id-1 div.sk-label:hover label.sk-toggleable__label {background-color: #d4ebff;}#sk-container-id-1 div.sk-serial::before {content: \"\";position: absolute;border-left: 1px solid gray;box-sizing: border-box;top: 0;bottom: 0;left: 50%;z-index: 0;}#sk-container-id-1 div.sk-serial {display: flex;flex-direction: column;align-items: center;background-color: white;padding-right: 0.2em;padding-left: 0.2em;position: relative;}#sk-container-id-1 div.sk-item {position: relative;z-index: 1;}#sk-container-id-1 div.sk-parallel {display: flex;align-items: stretch;justify-content: center;background-color: white;position: relative;}#sk-container-id-1 div.sk-item::before, #sk-container-id-1 div.sk-parallel-item::before {content: \"\";position: absolute;border-left: 1px solid gray;box-sizing: border-box;top: 0;bottom: 0;left: 50%;z-index: -1;}#sk-container-id-1 div.sk-parallel-item {display: flex;flex-direction: column;z-index: 1;position: relative;background-color: white;}#sk-container-id-1 div.sk-parallel-item:first-child::after {align-self: flex-end;width: 50%;}#sk-container-id-1 div.sk-parallel-item:last-child::after {align-self: flex-start;width: 50%;}#sk-container-id-1 div.sk-parallel-item:only-child::after {width: 0;}#sk-container-id-1 div.sk-dashed-wrapped {border: 1px dashed gray;margin: 0 0.4em 0.5em 0.4em;box-sizing: border-box;padding-bottom: 0.4em;background-color: white;}#sk-container-id-1 div.sk-label label {font-family: monospace;font-weight: bold;display: inline-block;line-height: 1.2em;}#sk-container-id-1 div.sk-label-container {text-align: center;}#sk-container-id-1 div.sk-container {/* jupyter's `normalize.less` sets `[hidden] { display: none; }` but bootstrap.min.css set `[hidden] { display: none !important; }` so we also need the `!important` here to be able to override the default hidden behavior on the sphinx rendered scikit-learn.org. See: https://github.com/scikit-learn/scikit-learn/issues/21755 */display: inline-block !important;position: relative;}#sk-container-id-1 div.sk-text-repr-fallback {display: none;}</style><div id=\"sk-container-id-1\" class=\"sk-top-container\"><div class=\"sk-text-repr-fallback\"><pre> ARIMA(0,1,0)(0,0,0)[0]          </pre><b>In a Jupyter environment, please rerun this cell to show the HTML representation or trust the notebook. <br />On GitHub, the HTML representation is unable to render, please try loading this page with nbviewer.org.</b></div><div class=\"sk-container\" hidden><div class=\"sk-item\"><div class=\"sk-estimator sk-toggleable\"><input class=\"sk-toggleable__control sk-hidden--visually\" id=\"sk-estimator-id-1\" type=\"checkbox\" checked><label for=\"sk-estimator-id-1\" class=\"sk-toggleable__label sk-toggleable__label-arrow\">ARIMA</label><div class=\"sk-toggleable__content\"><pre> ARIMA(0,1,0)(0,0,0)[0]          </pre></div></div></div></div></div>"
      ],
      "text/plain": [
       "ARIMA(order=(0, 1, 0), scoring_args={}, suppress_warnings=True,\n",
       "      with_intercept=False)"
      ]
     },
     "execution_count": 8,
     "metadata": {},
     "output_type": "execute_result"
    }
   ],
   "source": [
    "arima_model"
   ]
  },
  {
   "cell_type": "markdown",
   "id": "90f5153f",
   "metadata": {},
   "source": [
    "# Forecasting Volume\n",
    "\n",
    "We can see that volume is dependant on on previous lag with a ar and ma term."
   ]
  },
  {
   "cell_type": "code",
   "execution_count": 9,
   "id": "97d9fddd",
   "metadata": {},
   "outputs": [
    {
     "data": {
      "text/html": [
       "<style>#sk-container-id-2 {color: black;background-color: white;}#sk-container-id-2 pre{padding: 0;}#sk-container-id-2 div.sk-toggleable {background-color: white;}#sk-container-id-2 label.sk-toggleable__label {cursor: pointer;display: block;width: 100%;margin-bottom: 0;padding: 0.3em;box-sizing: border-box;text-align: center;}#sk-container-id-2 label.sk-toggleable__label-arrow:before {content: \"▸\";float: left;margin-right: 0.25em;color: #696969;}#sk-container-id-2 label.sk-toggleable__label-arrow:hover:before {color: black;}#sk-container-id-2 div.sk-estimator:hover label.sk-toggleable__label-arrow:before {color: black;}#sk-container-id-2 div.sk-toggleable__content {max-height: 0;max-width: 0;overflow: hidden;text-align: left;background-color: #f0f8ff;}#sk-container-id-2 div.sk-toggleable__content pre {margin: 0.2em;color: black;border-radius: 0.25em;background-color: #f0f8ff;}#sk-container-id-2 input.sk-toggleable__control:checked~div.sk-toggleable__content {max-height: 200px;max-width: 100%;overflow: auto;}#sk-container-id-2 input.sk-toggleable__control:checked~label.sk-toggleable__label-arrow:before {content: \"▾\";}#sk-container-id-2 div.sk-estimator input.sk-toggleable__control:checked~label.sk-toggleable__label {background-color: #d4ebff;}#sk-container-id-2 div.sk-label input.sk-toggleable__control:checked~label.sk-toggleable__label {background-color: #d4ebff;}#sk-container-id-2 input.sk-hidden--visually {border: 0;clip: rect(1px 1px 1px 1px);clip: rect(1px, 1px, 1px, 1px);height: 1px;margin: -1px;overflow: hidden;padding: 0;position: absolute;width: 1px;}#sk-container-id-2 div.sk-estimator {font-family: monospace;background-color: #f0f8ff;border: 1px dotted black;border-radius: 0.25em;box-sizing: border-box;margin-bottom: 0.5em;}#sk-container-id-2 div.sk-estimator:hover {background-color: #d4ebff;}#sk-container-id-2 div.sk-parallel-item::after {content: \"\";width: 100%;border-bottom: 1px solid gray;flex-grow: 1;}#sk-container-id-2 div.sk-label:hover label.sk-toggleable__label {background-color: #d4ebff;}#sk-container-id-2 div.sk-serial::before {content: \"\";position: absolute;border-left: 1px solid gray;box-sizing: border-box;top: 0;bottom: 0;left: 50%;z-index: 0;}#sk-container-id-2 div.sk-serial {display: flex;flex-direction: column;align-items: center;background-color: white;padding-right: 0.2em;padding-left: 0.2em;position: relative;}#sk-container-id-2 div.sk-item {position: relative;z-index: 1;}#sk-container-id-2 div.sk-parallel {display: flex;align-items: stretch;justify-content: center;background-color: white;position: relative;}#sk-container-id-2 div.sk-item::before, #sk-container-id-2 div.sk-parallel-item::before {content: \"\";position: absolute;border-left: 1px solid gray;box-sizing: border-box;top: 0;bottom: 0;left: 50%;z-index: -1;}#sk-container-id-2 div.sk-parallel-item {display: flex;flex-direction: column;z-index: 1;position: relative;background-color: white;}#sk-container-id-2 div.sk-parallel-item:first-child::after {align-self: flex-end;width: 50%;}#sk-container-id-2 div.sk-parallel-item:last-child::after {align-self: flex-start;width: 50%;}#sk-container-id-2 div.sk-parallel-item:only-child::after {width: 0;}#sk-container-id-2 div.sk-dashed-wrapped {border: 1px dashed gray;margin: 0 0.4em 0.5em 0.4em;box-sizing: border-box;padding-bottom: 0.4em;background-color: white;}#sk-container-id-2 div.sk-label label {font-family: monospace;font-weight: bold;display: inline-block;line-height: 1.2em;}#sk-container-id-2 div.sk-label-container {text-align: center;}#sk-container-id-2 div.sk-container {/* jupyter's `normalize.less` sets `[hidden] { display: none; }` but bootstrap.min.css set `[hidden] { display: none !important; }` so we also need the `!important` here to be able to override the default hidden behavior on the sphinx rendered scikit-learn.org. See: https://github.com/scikit-learn/scikit-learn/issues/21755 */display: inline-block !important;position: relative;}#sk-container-id-2 div.sk-text-repr-fallback {display: none;}</style><div id=\"sk-container-id-2\" class=\"sk-top-container\"><div class=\"sk-text-repr-fallback\"><pre> ARIMA(1,1,1)(0,0,0)[0]          </pre><b>In a Jupyter environment, please rerun this cell to show the HTML representation or trust the notebook. <br />On GitHub, the HTML representation is unable to render, please try loading this page with nbviewer.org.</b></div><div class=\"sk-container\" hidden><div class=\"sk-item\"><div class=\"sk-estimator sk-toggleable\"><input class=\"sk-toggleable__control sk-hidden--visually\" id=\"sk-estimator-id-2\" type=\"checkbox\" checked><label for=\"sk-estimator-id-2\" class=\"sk-toggleable__label sk-toggleable__label-arrow\">ARIMA</label><div class=\"sk-toggleable__content\"><pre> ARIMA(1,1,1)(0,0,0)[0]          </pre></div></div></div></div></div>"
      ],
      "text/plain": [
       "ARIMA(order=(1, 1, 1), scoring_args={}, suppress_warnings=True,\n",
       "      with_intercept=False)"
      ]
     },
     "execution_count": 9,
     "metadata": {},
     "output_type": "execute_result"
    }
   ],
   "source": [
    "arima_model = pm.auto_arima(df_apple['volume'], seasonal = False)\n",
    "\n",
    "arima_model"
   ]
  },
  {
   "cell_type": "markdown",
   "id": "82e17c30",
   "metadata": {},
   "source": [
    "# Correlation plot"
   ]
  },
  {
   "cell_type": "code",
   "execution_count": 10,
   "id": "046081f4",
   "metadata": {},
   "outputs": [
    {
     "data": {
      "image/png": "[encoded data removed]",
      "text/plain": [
       "<Figure size 432x288 with 2 Axes>"
      ]
     },
     "metadata": {
      "needs_background": "light"
     },
     "output_type": "display_data"
    }
   ],
   "source": [
    "corrMatrix = df_apple.corr()\n",
    "sn.heatmap(corrMatrix, annot=True)\n",
    "plt.show()"
   ]
  },
  {
   "cell_type": "code",
   "execution_count": 11,
   "id": "ff8c91ed",
   "metadata": {},
   "outputs": [],
   "source": [
    "# building linear model\n",
    "import statsmodels.api as sm\n",
    "import math\n",
    "from scipy import stats\n",
    "from scipy import special\n",
    "import pandas as pd\n",
    "import numpy as np"
   ]
  },
  {
   "cell_type": "markdown",
   "id": "6c0a89e5",
   "metadata": {},
   "source": [
    "## creating function to automate linear modeling with variables using forecasted predictors"
   ]
  },
  {
   "cell_type": "code",
   "execution_count": 12,
   "id": "7f05cde6",
   "metadata": {},
   "outputs": [],
   "source": [
    "# Setting to be function variables\n",
    "stock = \"AAPL\"\n",
    "test_set_length = 30"
   ]
  },
  {
   "cell_type": "code",
   "execution_count": 13,
   "id": "aaa22124",
   "metadata": {},
   "outputs": [
    {
     "data": {
      "text/html": [
       "<div>\n",
       "<style scoped>\n",
       "    .dataframe tbody tr th:only-of-type {\n",
       "        vertical-align: middle;\n",
       "    }\n",
       "\n",
       "    .dataframe tbody tr th {\n",
       "        vertical-align: top;\n",
       "    }\n",
       "\n",
       "    .dataframe thead th {\n",
       "        text-align: right;\n",
       "    }\n",
       "</style>\n",
       "<table border=\"1\" class=\"dataframe\">\n",
       "  <thead>\n",
       "    <tr style=\"text-align: right;\">\n",
       "      <th></th>\n",
       "      <th>open</th>\n",
       "      <th>high</th>\n",
       "      <th>low</th>\n",
       "      <th>close</th>\n",
       "      <th>volume</th>\n",
       "      <th>trade_count</th>\n",
       "      <th>vwap</th>\n",
       "    </tr>\n",
       "    <tr>\n",
       "      <th>timestamp</th>\n",
       "      <th></th>\n",
       "      <th></th>\n",
       "      <th></th>\n",
       "      <th></th>\n",
       "      <th></th>\n",
       "      <th></th>\n",
       "      <th></th>\n",
       "    </tr>\n",
       "  </thead>\n",
       "  <tbody>\n",
       "    <tr>\n",
       "      <th>2020-09-01 04:00:00+00:00</th>\n",
       "      <td>132.91</td>\n",
       "      <td>134.800</td>\n",
       "      <td>130.5300</td>\n",
       "      <td>134.18</td>\n",
       "      <td>152880540</td>\n",
       "      <td>1494300</td>\n",
       "      <td>132.851768</td>\n",
       "    </tr>\n",
       "    <tr>\n",
       "      <th>2020-09-02 04:00:00+00:00</th>\n",
       "      <td>137.58</td>\n",
       "      <td>137.980</td>\n",
       "      <td>127.0000</td>\n",
       "      <td>131.40</td>\n",
       "      <td>200393336</td>\n",
       "      <td>1843498</td>\n",
       "      <td>131.616730</td>\n",
       "    </tr>\n",
       "    <tr>\n",
       "      <th>2020-09-03 04:00:00+00:00</th>\n",
       "      <td>126.97</td>\n",
       "      <td>128.840</td>\n",
       "      <td>120.5000</td>\n",
       "      <td>120.88</td>\n",
       "      <td>257604126</td>\n",
       "      <td>2360769</td>\n",
       "      <td>123.526182</td>\n",
       "    </tr>\n",
       "    <tr>\n",
       "      <th>2020-09-04 04:00:00+00:00</th>\n",
       "      <td>120.00</td>\n",
       "      <td>123.700</td>\n",
       "      <td>110.8900</td>\n",
       "      <td>120.96</td>\n",
       "      <td>332632509</td>\n",
       "      <td>2967070</td>\n",
       "      <td>117.943903</td>\n",
       "    </tr>\n",
       "    <tr>\n",
       "      <th>2020-09-08 04:00:00+00:00</th>\n",
       "      <td>113.74</td>\n",
       "      <td>118.990</td>\n",
       "      <td>112.6800</td>\n",
       "      <td>112.82</td>\n",
       "      <td>231598461</td>\n",
       "      <td>2003683</td>\n",
       "      <td>115.392545</td>\n",
       "    </tr>\n",
       "    <tr>\n",
       "      <th>...</th>\n",
       "      <td>...</td>\n",
       "      <td>...</td>\n",
       "      <td>...</td>\n",
       "      <td>...</td>\n",
       "      <td>...</td>\n",
       "      <td>...</td>\n",
       "      <td>...</td>\n",
       "    </tr>\n",
       "    <tr>\n",
       "      <th>2022-06-27 04:00:00+00:00</th>\n",
       "      <td>142.70</td>\n",
       "      <td>143.490</td>\n",
       "      <td>140.9650</td>\n",
       "      <td>141.66</td>\n",
       "      <td>73357944</td>\n",
       "      <td>516181</td>\n",
       "      <td>142.026287</td>\n",
       "    </tr>\n",
       "    <tr>\n",
       "      <th>2022-06-28 04:00:00+00:00</th>\n",
       "      <td>142.10</td>\n",
       "      <td>143.422</td>\n",
       "      <td>137.3250</td>\n",
       "      <td>137.44</td>\n",
       "      <td>67315336</td>\n",
       "      <td>546241</td>\n",
       "      <td>139.375156</td>\n",
       "    </tr>\n",
       "    <tr>\n",
       "      <th>2022-06-29 04:00:00+00:00</th>\n",
       "      <td>137.44</td>\n",
       "      <td>140.670</td>\n",
       "      <td>136.6700</td>\n",
       "      <td>139.23</td>\n",
       "      <td>66354959</td>\n",
       "      <td>572556</td>\n",
       "      <td>139.273624</td>\n",
       "    </tr>\n",
       "    <tr>\n",
       "      <th>2022-06-30 04:00:00+00:00</th>\n",
       "      <td>137.30</td>\n",
       "      <td>138.370</td>\n",
       "      <td>133.7737</td>\n",
       "      <td>136.72</td>\n",
       "      <td>99036459</td>\n",
       "      <td>710709</td>\n",
       "      <td>136.476185</td>\n",
       "    </tr>\n",
       "    <tr>\n",
       "      <th>2022-07-01 04:00:00+00:00</th>\n",
       "      <td>136.09</td>\n",
       "      <td>139.040</td>\n",
       "      <td>135.6600</td>\n",
       "      <td>138.93</td>\n",
       "      <td>71174354</td>\n",
       "      <td>558683</td>\n",
       "      <td>137.479845</td>\n",
       "    </tr>\n",
       "  </tbody>\n",
       "</table>\n",
       "<p>462 rows × 7 columns</p>\n",
       "</div>"
      ],
      "text/plain": [
       "                             open     high       low   close     volume  \\\n",
       "timestamp                                                                 \n",
       "2020-09-01 04:00:00+00:00  132.91  134.800  130.5300  134.18  152880540   \n",
       "2020-09-02 04:00:00+00:00  137.58  137.980  127.0000  131.40  200393336   \n",
       "2020-09-03 04:00:00+00:00  126.97  128.840  120.5000  120.88  257604126   \n",
       "2020-09-04 04:00:00+00:00  120.00  123.700  110.8900  120.96  332632509   \n",
       "2020-09-08 04:00:00+00:00  113.74  118.990  112.6800  112.82  231598461   \n",
       "...                           ...      ...       ...     ...        ...   \n",
       "2022-06-27 04:00:00+00:00  142.70  143.490  140.9650  141.66   73357944   \n",
       "2022-06-28 04:00:00+00:00  142.10  143.422  137.3250  137.44   67315336   \n",
       "2022-06-29 04:00:00+00:00  137.44  140.670  136.6700  139.23   66354959   \n",
       "2022-06-30 04:00:00+00:00  137.30  138.370  133.7737  136.72   99036459   \n",
       "2022-07-01 04:00:00+00:00  136.09  139.040  135.6600  138.93   71174354   \n",
       "\n",
       "                           trade_count        vwap  \n",
       "timestamp                                           \n",
       "2020-09-01 04:00:00+00:00      1494300  132.851768  \n",
       "2020-09-02 04:00:00+00:00      1843498  131.616730  \n",
       "2020-09-03 04:00:00+00:00      2360769  123.526182  \n",
       "2020-09-04 04:00:00+00:00      2967070  117.943903  \n",
       "2020-09-08 04:00:00+00:00      2003683  115.392545  \n",
       "...                                ...         ...  \n",
       "2022-06-27 04:00:00+00:00       516181  142.026287  \n",
       "2022-06-28 04:00:00+00:00       546241  139.375156  \n",
       "2022-06-29 04:00:00+00:00       572556  139.273624  \n",
       "2022-06-30 04:00:00+00:00       710709  136.476185  \n",
       "2022-07-01 04:00:00+00:00       558683  137.479845  \n",
       "\n",
       "[462 rows x 7 columns]"
      ]
     },
     "execution_count": 13,
     "metadata": {},
     "output_type": "execute_result"
    }
   ],
   "source": [
    "df_bars = api.get_bars(stock, TimeFrame.Day, \"2020-09-01\", \"2022-07-02\", adjustment='raw').df\n",
    "\n",
    "df_bars"
   ]
  },
  {
   "cell_type": "markdown",
   "id": "cd08976a",
   "metadata": {},
   "source": [
    "Uses BoxCox tranformation to get closer to the norality assumption"
   ]
  },
  {
   "cell_type": "code",
   "execution_count": 14,
   "id": "ea691864",
   "metadata": {},
   "outputs": [],
   "source": [
    "transform_variables = ['close', 'volume', 'trade_count']\n",
    "lambda_fitted = [None] * len(transform_variables)\n",
    "# transform training data & save lambda value\n",
    "for ind, variables in enumerate(transform_variables):\n",
    "    transformed_data, fitted_lambda = stats.boxcox(df_bars[variables])\n",
    "    \n",
    "    df_bars[variables] = transformed_data\n",
    "    \n",
    "    lambda_fitted[ind] = fitted_lambda"
   ]
  },
  {
   "cell_type": "markdown",
   "id": "a7f67416",
   "metadata": {},
   "source": [
    "Training and test setting"
   ]
  },
  {
   "cell_type": "code",
   "execution_count": 15,
   "id": "ec158b59",
   "metadata": {},
   "outputs": [],
   "source": [
    "df_bars_train = df_bars[:-test_set_length]\n",
    "df_bars_test = df_bars[-test_set_length:]"
   ]
  },
  {
   "cell_type": "markdown",
   "id": "21c9173b",
   "metadata": {},
   "source": [
    "Fits a linear model using volume and trade_count as predictors with close price as the target"
   ]
  },
  {
   "cell_type": "code",
   "execution_count": 16,
   "id": "16502b2c",
   "metadata": {},
   "outputs": [
    {
     "data": {
      "text/html": [
       "<table class=\"simpletable\">\n",
       "<caption>OLS Regression Results</caption>\n",
       "<tr>\n",
       "  <th>Dep. Variable:</th>          <td>close</td>      <th>  R-squared:         </th> <td>   0.259</td>\n",
       "</tr>\n",
       "<tr>\n",
       "  <th>Model:</th>                   <td>OLS</td>       <th>  Adj. R-squared:    </th> <td>   0.256</td>\n",
       "</tr>\n",
       "<tr>\n",
       "  <th>Method:</th>             <td>Least Squares</td>  <th>  F-statistic:       </th> <td>   80.17</td>\n",
       "</tr>\n",
       "<tr>\n",
       "  <th>Date:</th>             <td>Sun, 03 Jul 2022</td> <th>  Prob (F-statistic):</th> <td>1.38e-30</td>\n",
       "</tr>\n",
       "<tr>\n",
       "  <th>Time:</th>                 <td>20:02:06</td>     <th>  Log-Likelihood:    </th> <td>  1087.6</td>\n",
       "</tr>\n",
       "<tr>\n",
       "  <th>No. Observations:</th>      <td>   462</td>      <th>  AIC:               </th> <td>  -2169.</td>\n",
       "</tr>\n",
       "<tr>\n",
       "  <th>Df Residuals:</th>          <td>   459</td>      <th>  BIC:               </th> <td>  -2157.</td>\n",
       "</tr>\n",
       "<tr>\n",
       "  <th>Df Model:</th>              <td>     2</td>      <th>                     </th>     <td> </td>   \n",
       "</tr>\n",
       "<tr>\n",
       "  <th>Covariance Type:</th>      <td>nonrobust</td>    <th>                     </th>     <td> </td>   \n",
       "</tr>\n",
       "</table>\n",
       "<table class=\"simpletable\">\n",
       "<tr>\n",
       "       <td></td>          <th>coef</th>     <th>std err</th>      <th>t</th>      <th>P>|t|</th>  <th>[0.025</th>    <th>0.975]</th>  \n",
       "</tr>\n",
       "<tr>\n",
       "  <th>const</th>       <td> 4845.5858</td> <td>  385.501</td> <td>   12.570</td> <td> 0.000</td> <td> 4088.020</td> <td> 5603.152</td>\n",
       "</tr>\n",
       "<tr>\n",
       "  <th>volume</th>      <td>-2955.9388</td> <td>  236.820</td> <td>  -12.482</td> <td> 0.000</td> <td>-3421.326</td> <td>-2490.552</td>\n",
       "</tr>\n",
       "<tr>\n",
       "  <th>trade_count</th> <td>  271.3561</td> <td>   25.577</td> <td>   10.609</td> <td> 0.000</td> <td>  221.093</td> <td>  321.619</td>\n",
       "</tr>\n",
       "</table>\n",
       "<table class=\"simpletable\">\n",
       "<tr>\n",
       "  <th>Omnibus:</th>       <td>11.647</td> <th>  Durbin-Watson:     </th> <td>   0.308</td>\n",
       "</tr>\n",
       "<tr>\n",
       "  <th>Prob(Omnibus):</th> <td> 0.003</td> <th>  Jarque-Bera (JB):  </th> <td>   8.741</td>\n",
       "</tr>\n",
       "<tr>\n",
       "  <th>Skew:</th>          <td> 0.231</td> <th>  Prob(JB):          </th> <td>  0.0126</td>\n",
       "</tr>\n",
       "<tr>\n",
       "  <th>Kurtosis:</th>      <td> 2.510</td> <th>  Cond. No.          </th> <td>1.11e+06</td>\n",
       "</tr>\n",
       "</table><br/><br/>Notes:<br/>[1] Standard Errors assume that the covariance matrix of the errors is correctly specified.<br/>[2] The condition number is large, 1.11e+06. This might indicate that there are<br/>strong multicollinearity or other numerical problems."
      ],
      "text/plain": [
       "<class 'statsmodels.iolib.summary.Summary'>\n",
       "\"\"\"\n",
       "                            OLS Regression Results                            \n",
       "==============================================================================\n",
       "Dep. Variable:                  close   R-squared:                       0.259\n",
       "Model:                            OLS   Adj. R-squared:                  0.256\n",
       "Method:                 Least Squares   F-statistic:                     80.17\n",
       "Date:                Sun, 03 Jul 2022   Prob (F-statistic):           1.38e-30\n",
       "Time:                        20:02:06   Log-Likelihood:                 1087.6\n",
       "No. Observations:                 462   AIC:                            -2169.\n",
       "Df Residuals:                     459   BIC:                            -2157.\n",
       "Df Model:                           2                                         \n",
       "Covariance Type:            nonrobust                                         \n",
       "===============================================================================\n",
       "                  coef    std err          t      P>|t|      [0.025      0.975]\n",
       "-------------------------------------------------------------------------------\n",
       "const        4845.5858    385.501     12.570      0.000    4088.020    5603.152\n",
       "volume      -2955.9388    236.820    -12.482      0.000   -3421.326   -2490.552\n",
       "trade_count   271.3561     25.577     10.609      0.000     221.093     321.619\n",
       "==============================================================================\n",
       "Omnibus:                       11.647   Durbin-Watson:                   0.308\n",
       "Prob(Omnibus):                  0.003   Jarque-Bera (JB):                8.741\n",
       "Skew:                           0.231   Prob(JB):                       0.0126\n",
       "Kurtosis:                       2.510   Cond. No.                     1.11e+06\n",
       "==============================================================================\n",
       "\n",
       "Notes:\n",
       "[1] Standard Errors assume that the covariance matrix of the errors is correctly specified.\n",
       "[2] The condition number is large, 1.11e+06. This might indicate that there are\n",
       "strong multicollinearity or other numerical problems.\n",
       "\"\"\""
      ]
     },
     "execution_count": 16,
     "metadata": {},
     "output_type": "execute_result"
    }
   ],
   "source": [
    "# building linear model\n",
    "predictors = df_bars[['volume', 'trade_count']]\n",
    "predictors = sm.add_constant(predictors)\n",
    "\n",
    "fitted_linear = sm.OLS(df_bars['close'], predictors).fit()\n",
    "\n",
    "fitted_linear.summary()"
   ]
  },
  {
   "cell_type": "markdown",
   "id": "e1126a33",
   "metadata": {},
   "source": [
    "adds constant to the test set and then gets the predicted variables from the fitted linear model"
   ]
  },
  {
   "cell_type": "code",
   "execution_count": 17,
   "id": "1c3445c3",
   "metadata": {},
   "outputs": [
    {
     "data": {
      "text/plain": [
       "7.786466039451662"
      ]
     },
     "execution_count": 17,
     "metadata": {},
     "output_type": "execute_result"
    }
   ],
   "source": [
    "new_data_lm = sm.add_constant(df_bars_test[['volume', 'trade_count']])\n",
    "\n",
    "test_pred_lm = fitted_linear.predict(new_data_lm)\n",
    "\n",
    "# getting mae for linear model will be used to set trigger for buy and cell\n",
    "np.mean(np.abs(special.inv_boxcox(test_pred_lm, lambda_fitted[0]) - special.inv_boxcox(df_bars_test['close'], lambda_fitted[0])))"
   ]
  },
  {
   "cell_type": "markdown",
   "id": "29b1fe48",
   "metadata": {},
   "source": [
    "forecasting the predictor variables"
   ]
  },
  {
   "cell_type": "code",
   "execution_count": 18,
   "id": "03b5c3f6",
   "metadata": {},
   "outputs": [
    {
     "name": "stderr",
     "output_type": "stream",
     "text": [
      "C:\\Users\\jmhea\\anaconda3\\envs\\outback\\lib\\site-packages\\statsmodels\\tsa\\statespace\\sarimax.py:1906: RuntimeWarning: divide by zero encountered in reciprocal\n",
      "  return np.roots(self.polynomial_reduced_ma)**-1\n"
     ]
    }
   ],
   "source": [
    "arima_volume_model = pm.auto_arima(df_bars_train['volume'], seasonal = False)\n",
    "arima_trade_model = pm.auto_arima(df_bars_train['trade_count'], seasonal = False)"
   ]
  },
  {
   "cell_type": "markdown",
   "id": "b97a0f05",
   "metadata": {},
   "source": [
    "goes through a loop to get a one step ahead forecast adding another observation of data to the original forecasted models <br>\n",
    "and then saves the forecast to test lists"
   ]
  },
  {
   "cell_type": "code",
   "execution_count": 19,
   "id": "9039866e",
   "metadata": {},
   "outputs": [],
   "source": [
    "test_volume_error = []\n",
    "test_trade_error = []\n",
    "\n",
    "for i in range((test_set_length), 0, -1):\n",
    "    \n",
    "    tmp_volume_model = arima_volume_model\n",
    "    tmp_trade_model = arima_trade_model\n",
    "\n",
    "    if (i == 30):\n",
    "        \n",
    "        test_volume_error.append(tmp_volume_model.predict(n_periods = 1)[0])\n",
    "        \n",
    "        test_trade_error.append(arima_trade_model.predict(n_periods = 1)[0])\n",
    "    else:\n",
    "        tmp_volume_model.update(df_bars_test[i:].volume)\n",
    "        \n",
    "        test_volume_error.append(tmp_volume_model.predict(n_periods = 1)[0])\n",
    "        \n",
    "        tmp_trade_model.update(df_bars_test[i:].trade_count)\n",
    "        \n",
    "        test_trade_error.append(tmp_trade_model.predict(n_periods = 1)[0])"
   ]
  },
  {
   "cell_type": "markdown",
   "id": "d2f0dd29",
   "metadata": {},
   "source": [
    "Getting the accuracy measures from the forecasts"
   ]
  },
  {
   "cell_type": "code",
   "execution_count": 20,
   "id": "76f09715",
   "metadata": {},
   "outputs": [
    {
     "data": {
      "text/plain": [
       "18217674.054706924"
      ]
     },
     "execution_count": 20,
     "metadata": {},
     "output_type": "execute_result"
    }
   ],
   "source": [
    "# getting mae for volume one step ahead forecasts\n",
    "np.mean(np.abs(special.inv_boxcox(test_volume_error, lambda_fitted[1]) - special.inv_boxcox(df_bars_test['volume'], lambda_fitted[1])))"
   ]
  },
  {
   "cell_type": "code",
   "execution_count": 21,
   "id": "0a7af4c8",
   "metadata": {},
   "outputs": [
    {
     "data": {
      "text/plain": [
       "0.17864370659516568"
      ]
     },
     "execution_count": 21,
     "metadata": {},
     "output_type": "execute_result"
    }
   ],
   "source": [
    "# getting mape for volume\n",
    "np.mean(np.abs(special.inv_boxcox(test_volume_error, lambda_fitted[1]) - special.inv_boxcox(df_bars_test['volume'], lambda_fitted[1]))/special.inv_boxcox(df_bars_test['volume'], lambda_fitted[1]))"
   ]
  },
  {
   "cell_type": "code",
   "execution_count": 22,
   "id": "93febf25",
   "metadata": {},
   "outputs": [
    {
     "data": {
      "text/plain": [
       "128508.27579749092"
      ]
     },
     "execution_count": 22,
     "metadata": {},
     "output_type": "execute_result"
    }
   ],
   "source": [
    "# getting mae for volume one step ahead for trade_count\n",
    "np.mean(np.abs(special.inv_boxcox(test_trade_error, lambda_fitted[2]) - special.inv_boxcox(df_bars_test['trade_count'], lambda_fitted[2])))"
   ]
  },
  {
   "cell_type": "code",
   "execution_count": 23,
   "id": "282ad76b",
   "metadata": {},
   "outputs": [
    {
     "data": {
      "text/plain": [
       "0.16268821950790816"
      ]
     },
     "execution_count": 23,
     "metadata": {},
     "output_type": "execute_result"
    }
   ],
   "source": [
    "# mape for trade_count\n",
    "np.mean(np.abs(special.inv_boxcox(test_trade_error, lambda_fitted[2]) - special.inv_boxcox(df_bars_test['trade_count'], lambda_fitted[2]))/ special.inv_boxcox(df_bars_test['trade_count'], lambda_fitted[2]))"
   ]
  },
  {
   "cell_type": "markdown",
   "id": "5bc42ae4",
   "metadata": {},
   "source": [
    "Using the forecasted predictor values to get estimated target variables and viewing the accuracy"
   ]
  },
  {
   "cell_type": "code",
   "execution_count": 24,
   "id": "cb630584",
   "metadata": {},
   "outputs": [],
   "source": [
    "# instead of using the actual testset to test linear model use the forecasted\n",
    "df_new_forecast = pd.DataFrame({'volume': test_volume_error, 'trade_count': test_trade_error})\n",
    "# if mape is smaller than .5, we are acurate more than 50% of the time...\n",
    "\n",
    "df_new_forecast = sm.add_constant(df_new_forecast)\n",
    "\n",
    "pred_lm_forecast = fitted_linear.predict(df_new_forecast)"
   ]
  },
  {
   "cell_type": "code",
   "execution_count": 25,
   "id": "a3e90cfc",
   "metadata": {},
   "outputs": [
    {
     "data": {
      "text/plain": [
       "8.072726138762716"
      ]
     },
     "execution_count": 25,
     "metadata": {},
     "output_type": "execute_result"
    }
   ],
   "source": [
    "np.mean(np.abs(special.inv_boxcox(pred_lm_forecast, lambda_fitted[0]) - special.inv_boxcox(df_bars_test['close'], lambda_fitted[0]).reset_index(drop = True)))"
   ]
  },
  {
   "cell_type": "code",
   "execution_count": 26,
   "id": "033ed37a",
   "metadata": {},
   "outputs": [
    {
     "data": {
      "text/plain": [
       "11.304526606504057"
      ]
     },
     "execution_count": 26,
     "metadata": {},
     "output_type": "execute_result"
    }
   ],
   "source": [
    "# getting standard deviation to see the spread of the data\n",
    "1.96*np.std(special.inv_boxcox(df_bars_test['close'], lambda_fitted[0]))"
   ]
  },
  {
   "cell_type": "code",
   "execution_count": 27,
   "id": "e2a4e66d",
   "metadata": {},
   "outputs": [
    {
     "data": {
      "text/plain": [
       "0.05891627067337321"
      ]
     },
     "execution_count": 27,
     "metadata": {},
     "output_type": "execute_result"
    }
   ],
   "source": [
    "# mape for the forecasted new dataset using one step ahead forecasts\n",
    "# getting 10% is pretty great from forecast to a linear model.. \n",
    "np.mean(np.abs(special.inv_boxcox(pred_lm_forecast, lambda_fitted[0]) - special.inv_boxcox(df_bars_test['close'], lambda_fitted[0]).reset_index(drop = True))/special.inv_boxcox(df_bars_test['close'], lambda_fitted[0]).reset_index(drop = True))"
   ]
  },
  {
   "cell_type": "markdown",
   "id": "f71a3cb7",
   "metadata": {},
   "source": [
    "# Using PCA and applied previous method to predict closing price"
   ]
  },
  {
   "cell_type": "code",
   "execution_count": 28,
   "id": "f026b957",
   "metadata": {},
   "outputs": [],
   "source": [
    "# Calls libraries used for pca\n",
    "from sklearn.decomposition import PCA\n",
    "from sklearn.preprocessing import StandardScaler"
   ]
  },
  {
   "cell_type": "code",
   "execution_count": 29,
   "id": "d4af6b03",
   "metadata": {},
   "outputs": [],
   "source": [
    "# 50 top stocks\n",
    "stock_list = ['DIDI', 'AMD', 'AAPL', 'AMZN', 'CCL', 'NIO', 'F', 'BBD', 'ITUB', \\\n",
    "             'ABEV', 'BABA', 'NVDA', 'NOK', 'AAL', 'DOCU', 'SNAP', 'PCG', 'SOFI', \\\n",
    "             'SWN', 'INTC', 'AUY', 'CERN', 'PBR', 'T', 'TSLA', 'GRAB', 'NCLH', \\\n",
    "             'NU', 'MSFT', 'NLY', 'PLTR', 'UBER', 'WFC', 'META', 'XOM', 'MU', \\\n",
    "             'OXY', 'AMC', 'WBD', 'RIG', 'CS', 'OPEN', 'RBLX', 'PFE', 'PDD', \\\n",
    "             'FCX', 'GFI', 'DKNG']"
   ]
  },
  {
   "cell_type": "code",
   "execution_count": 30,
   "id": "ad4bf58a",
   "metadata": {},
   "outputs": [],
   "source": [
    "df_group_bars = pd.DataFrame()\n",
    "\n",
    "# runs through list of stocks and pulls a given stock and concatinates that onto a main df. it also creates a stock column,\n",
    "# which is just the stock name\n",
    "for stocks in stock_list:\n",
    "    \n",
    "    if (len(df_group_bars) == 0):\n",
    "        \n",
    "        df_group_bars = api.get_bars(stocks, TimeFrame.Day, \"2020-01-01\", \"2022-01-08\", adjustment='raw').df\n",
    "        \n",
    "        df_group_bars['stock'] = stocks\n",
    "    else:\n",
    "    \n",
    "        df_temp_stock = api.get_bars(stocks, TimeFrame.Day, \"2020-01-01\", \"2022-01-08\", adjustment='raw').df\n",
    "        \n",
    "        df_temp_stock['stock'] = stocks\n",
    "        \n",
    "        df_group_bars = pd.concat([df_group_bars, df_temp_stock])"
   ]
  },
  {
   "cell_type": "code",
   "execution_count": 31,
   "id": "b5791b1b",
   "metadata": {},
   "outputs": [],
   "source": [
    "# Sets up for data pivot to wider\n",
    "df_group_bars['datetime'] = df_group_bars.index\n",
    "df_group_bars['datetime'] = pd.to_datetime(df_group_bars['datetime'])\n",
    "# df_group_bars.pivot(index='patient', columns='obs', values='score')"
   ]
  },
  {
   "cell_type": "code",
   "execution_count": 32,
   "id": "ca53eeaf",
   "metadata": {},
   "outputs": [],
   "source": [
    "# pivots data\n",
    "df_pivot_bars = df_group_bars.pivot(index='datetime', columns='stock', values=['close', 'volume', 'trade_count'])"
   ]
  },
  {
   "cell_type": "code",
   "execution_count": 33,
   "id": "d52e912e",
   "metadata": {},
   "outputs": [],
   "source": [
    "# drops multi index from pivot\n",
    "df_pivot_bars.columns = df_pivot_bars.columns.get_level_values(0) + '_' +  df_pivot_bars.columns.get_level_values(1)"
   ]
  },
  {
   "cell_type": "code",
   "execution_count": 34,
   "id": "c0b4146b",
   "metadata": {},
   "outputs": [],
   "source": [
    "# picking the target variable, of course I'm choosing Apple\n",
    "target = df_pivot_bars.pop('close_AAL')"
   ]
  },
  {
   "cell_type": "code",
   "execution_count": 35,
   "id": "ad07d54e",
   "metadata": {},
   "outputs": [],
   "source": [
    "# scalling the data for pca\n",
    "df_scaled_bars = StandardScaler().fit_transform(df_pivot_bars.dropna(axis = 'columns'))"
   ]
  },
  {
   "cell_type": "code",
   "execution_count": 36,
   "id": "1f57a599",
   "metadata": {},
   "outputs": [],
   "source": [
    "# Afters short analysis, I have chosen to get only 5 pca\n",
    "pca = PCA(n_components = 5)\n",
    "\n",
    "principalComponents = pca.fit_transform(df_scaled_bars)\n",
    "\n",
    "principalDf = pd.DataFrame(data = principalComponents)\n",
    "\n",
    "principalDf['Target'] = target.reset_index(drop = True)\n",
    "\n",
    "transformed_principal, fitted_lambda = stats.boxcox(principalDf['Target'])\n",
    "\n",
    "principalDf['Target'] = transformed_principal"
   ]
  },
  {
   "cell_type": "code",
   "execution_count": 37,
   "id": "eeadc018",
   "metadata": {},
   "outputs": [
    {
     "data": {
      "text/plain": [
       "<AxesSubplot:>"
      ]
     },
     "execution_count": 37,
     "metadata": {},
     "output_type": "execute_result"
    },
    {
     "data": {
      "image/png": "[encoded data removed]",
      "text/plain": [
       "<Figure size 432x288 with 1 Axes>"
      ]
     },
     "metadata": {
      "needs_background": "light"
     },
     "output_type": "display_data"
    }
   ],
   "source": [
    "principalDf.plot()"
   ]
  },
  {
   "cell_type": "code",
   "execution_count": 38,
   "id": "81e77689",
   "metadata": {},
   "outputs": [
    {
     "data": {
      "image/png": "[encoded data removed]",
      "text/plain": [
       "<Figure size 432x288 with 2 Axes>"
      ]
     },
     "metadata": {
      "needs_background": "light"
     },
     "output_type": "display_data"
    }
   ],
   "source": [
    "# correlation plot with target and pca\n",
    "corrMatrix = principalDf.corr()\n",
    "sn.heatmap(corrMatrix, annot=True)\n",
    "plt.show()"
   ]
  },
  {
   "cell_type": "code",
   "execution_count": 39,
   "id": "8d9ff118",
   "metadata": {},
   "outputs": [],
   "source": [
    "df_pca_train = principalDf[30:]\n",
    "df_pca_test =  principalDf[:30]"
   ]
  },
  {
   "cell_type": "code",
   "execution_count": 40,
   "id": "baa16ac8",
   "metadata": {},
   "outputs": [
    {
     "data": {
      "text/html": [
       "<table class=\"simpletable\">\n",
       "<caption>OLS Regression Results</caption>\n",
       "<tr>\n",
       "  <th>Dep. Variable:</th>         <td>Target</td>      <th>  R-squared:         </th> <td>   0.834</td> \n",
       "</tr>\n",
       "<tr>\n",
       "  <th>Model:</th>                   <td>OLS</td>       <th>  Adj. R-squared:    </th> <td>   0.832</td> \n",
       "</tr>\n",
       "<tr>\n",
       "  <th>Method:</th>             <td>Least Squares</td>  <th>  F-statistic:       </th> <td>   476.0</td> \n",
       "</tr>\n",
       "<tr>\n",
       "  <th>Date:</th>             <td>Sun, 03 Jul 2022</td> <th>  Prob (F-statistic):</th> <td>3.40e-182</td>\n",
       "</tr>\n",
       "<tr>\n",
       "  <th>Time:</th>                 <td>20:02:38</td>     <th>  Log-Likelihood:    </th> <td> -174.21</td> \n",
       "</tr>\n",
       "<tr>\n",
       "  <th>No. Observations:</th>      <td>   480</td>      <th>  AIC:               </th> <td>   360.4</td> \n",
       "</tr>\n",
       "<tr>\n",
       "  <th>Df Residuals:</th>          <td>   474</td>      <th>  BIC:               </th> <td>   385.5</td> \n",
       "</tr>\n",
       "<tr>\n",
       "  <th>Df Model:</th>              <td>     5</td>      <th>                     </th>     <td> </td>    \n",
       "</tr>\n",
       "<tr>\n",
       "  <th>Covariance Type:</th>      <td>nonrobust</td>    <th>                     </th>     <td> </td>    \n",
       "</tr>\n",
       "</table>\n",
       "<table class=\"simpletable\">\n",
       "<tr>\n",
       "    <td></td>       <th>coef</th>     <th>std err</th>      <th>t</th>      <th>P>|t|</th>  <th>[0.025</th>    <th>0.975]</th>  \n",
       "</tr>\n",
       "<tr>\n",
       "  <th>const</th> <td>    5.4281</td> <td>    0.017</td> <td>  320.514</td> <td> 0.000</td> <td>    5.395</td> <td>    5.461</td>\n",
       "</tr>\n",
       "<tr>\n",
       "  <th>0</th>     <td>   -0.1165</td> <td>    0.003</td> <td>  -36.842</td> <td> 0.000</td> <td>   -0.123</td> <td>   -0.110</td>\n",
       "</tr>\n",
       "<tr>\n",
       "  <th>1</th>     <td>   -0.0340</td> <td>    0.006</td> <td>   -5.516</td> <td> 0.000</td> <td>   -0.046</td> <td>   -0.022</td>\n",
       "</tr>\n",
       "<tr>\n",
       "  <th>2</th>     <td>    0.1459</td> <td>    0.006</td> <td>   26.416</td> <td> 0.000</td> <td>    0.135</td> <td>    0.157</td>\n",
       "</tr>\n",
       "<tr>\n",
       "  <th>3</th>     <td>    0.1045</td> <td>    0.005</td> <td>   19.027</td> <td> 0.000</td> <td>    0.094</td> <td>    0.115</td>\n",
       "</tr>\n",
       "<tr>\n",
       "  <th>4</th>     <td>    0.0081</td> <td>    0.008</td> <td>    1.065</td> <td> 0.287</td> <td>   -0.007</td> <td>    0.023</td>\n",
       "</tr>\n",
       "</table>\n",
       "<table class=\"simpletable\">\n",
       "<tr>\n",
       "  <th>Omnibus:</th>       <td> 2.881</td> <th>  Durbin-Watson:     </th> <td>   0.273</td>\n",
       "</tr>\n",
       "<tr>\n",
       "  <th>Prob(Omnibus):</th> <td> 0.237</td> <th>  Jarque-Bera (JB):  </th> <td>   2.680</td>\n",
       "</tr>\n",
       "<tr>\n",
       "  <th>Skew:</th>          <td> 0.141</td> <th>  Prob(JB):          </th> <td>   0.262</td>\n",
       "</tr>\n",
       "<tr>\n",
       "  <th>Kurtosis:</th>      <td> 3.234</td> <th>  Cond. No.          </th> <td>    5.46</td>\n",
       "</tr>\n",
       "</table><br/><br/>Notes:<br/>[1] Standard Errors assume that the covariance matrix of the errors is correctly specified."
      ],
      "text/plain": [
       "<class 'statsmodels.iolib.summary.Summary'>\n",
       "\"\"\"\n",
       "                            OLS Regression Results                            \n",
       "==============================================================================\n",
       "Dep. Variable:                 Target   R-squared:                       0.834\n",
       "Model:                            OLS   Adj. R-squared:                  0.832\n",
       "Method:                 Least Squares   F-statistic:                     476.0\n",
       "Date:                Sun, 03 Jul 2022   Prob (F-statistic):          3.40e-182\n",
       "Time:                        20:02:38   Log-Likelihood:                -174.21\n",
       "No. Observations:                 480   AIC:                             360.4\n",
       "Df Residuals:                     474   BIC:                             385.5\n",
       "Df Model:                           5                                         \n",
       "Covariance Type:            nonrobust                                         \n",
       "==============================================================================\n",
       "                 coef    std err          t      P>|t|      [0.025      0.975]\n",
       "------------------------------------------------------------------------------\n",
       "const          5.4281      0.017    320.514      0.000       5.395       5.461\n",
       "0             -0.1165      0.003    -36.842      0.000      -0.123      -0.110\n",
       "1             -0.0340      0.006     -5.516      0.000      -0.046      -0.022\n",
       "2              0.1459      0.006     26.416      0.000       0.135       0.157\n",
       "3              0.1045      0.005     19.027      0.000       0.094       0.115\n",
       "4              0.0081      0.008      1.065      0.287      -0.007       0.023\n",
       "==============================================================================\n",
       "Omnibus:                        2.881   Durbin-Watson:                   0.273\n",
       "Prob(Omnibus):                  0.237   Jarque-Bera (JB):                2.680\n",
       "Skew:                           0.141   Prob(JB):                        0.262\n",
       "Kurtosis:                       3.234   Cond. No.                         5.46\n",
       "==============================================================================\n",
       "\n",
       "Notes:\n",
       "[1] Standard Errors assume that the covariance matrix of the errors is correctly specified.\n",
       "\"\"\""
      ]
     },
     "execution_count": 40,
     "metadata": {},
     "output_type": "execute_result"
    }
   ],
   "source": [
    "# building linear model\n",
    "predictors = df_pca_train[[0,1,2,3,4]]\n",
    "predictors_cons = sm.add_constant(predictors)\n",
    "\n",
    "fitted_linear = sm.OLS(df_pca_train['Target'], predictors_cons).fit()\n",
    "\n",
    "fitted_linear.summary()"
   ]
  },
  {
   "cell_type": "markdown",
   "id": "95893d75",
   "metadata": {},
   "source": [
    "Generates a fitted forecast of each pca and then saves each one into a list"
   ]
  },
  {
   "cell_type": "code",
   "execution_count": 41,
   "id": "fafb748c",
   "metadata": {},
   "outputs": [],
   "source": [
    "forecast_list = []\n",
    "for col in df_pca_train.columns:\n",
    "    forecast_list.append(pm.auto_arima(df_pca_train[col], seasonal = False))"
   ]
  },
  {
   "cell_type": "code",
   "execution_count": 42,
   "id": "2d9cddc4",
   "metadata": {},
   "outputs": [],
   "source": [
    "df_step_ahead_forecast = pd.DataFrame()\n",
    "\n",
    "# for loops goes through each predictor column and then gets a one step ahead forecast by slowing updating the fitted models\n",
    "# with one more observation using a for loop. The forecasted values are then saved to a dataframe\n",
    "for col in df_pca_test.columns[:-1]:\n",
    "    \n",
    "    test_forecast = []\n",
    "    \n",
    "    forecast_model_col = forecast_list[col]\n",
    "    \n",
    "    for i in range(len(df_pca_test), 0, -1):\n",
    "        \n",
    "        tmp_forecast_model = forecast_model_col\n",
    "        \n",
    "        if (i == 30):\n",
    "        \n",
    "            test_forecast.append(tmp_forecast_model.predict(n_periods = 1)[0])\n",
    "        else:\n",
    "            \n",
    "            tmp_forecast_model.update(df_pca_test[col][i:])\n",
    "\n",
    "            test_forecast.append(tmp_forecast_model.predict(n_periods = 1)[0])\n",
    "    \n",
    "    df_step_ahead_forecast[col] = test_forecast"
   ]
  },
  {
   "cell_type": "markdown",
   "id": "8d1f7e21",
   "metadata": {},
   "source": [
    "Gets predicted values from the linear model using the forecasted predictor values"
   ]
  },
  {
   "cell_type": "code",
   "execution_count": 43,
   "id": "01cdfd43",
   "metadata": {},
   "outputs": [],
   "source": [
    "df_new_forecast = sm.add_constant(df_step_ahead_forecast)\n",
    "\n",
    "pred_lm_forecast = fitted_linear.predict(df_new_forecast)"
   ]
  },
  {
   "cell_type": "code",
   "execution_count": 44,
   "id": "a40981f3",
   "metadata": {},
   "outputs": [
    {
     "data": {
      "text/plain": [
       "3.0384205317944795"
      ]
     },
     "execution_count": 44,
     "metadata": {},
     "output_type": "execute_result"
    }
   ],
   "source": [
    "# mae for forecasted variables as predictors of the closed amount.\n",
    "# 2 dollars is a pretty decent mae \n",
    "np.mean(np.abs(special.inv_boxcox(pred_lm_forecast, fitted_lambda) - special.inv_boxcox(df_pca_test['Target'], fitted_lambda)))"
   ]
  },
  {
   "cell_type": "code",
   "execution_count": 45,
   "id": "e9fb049e",
   "metadata": {},
   "outputs": [
    {
     "data": {
      "text/plain": [
       "1.0029007373059866"
      ]
     },
     "execution_count": 45,
     "metadata": {},
     "output_type": "execute_result"
    }
   ],
   "source": [
    "np.std(special.inv_boxcox(df_pca_test['Target'], fitted_lambda))"
   ]
  },
  {
   "cell_type": "code",
   "execution_count": 46,
   "id": "18a782c9",
   "metadata": {},
   "outputs": [
    {
     "data": {
      "text/plain": [
       "0.107296541601673"
      ]
     },
     "execution_count": 46,
     "metadata": {},
     "output_type": "execute_result"
    }
   ],
   "source": [
    "# mape for the forecasted new dataset using one step ahead forecasts\n",
    "np.mean(np.abs(special.inv_boxcox(pred_lm_forecast, fitted_lambda) - special.inv_boxcox(df_pca_test['Target'], fitted_lambda)) / special.inv_boxcox(df_pca_test['Target'], fitted_lambda))"
   ]
  },
  {
   "cell_type": "code",
   "execution_count": 47,
   "id": "60a8d4b9",
   "metadata": {},
   "outputs": [
    {
     "data": {
      "text/plain": [
       "0    -9.654521\n",
       "1    -4.645040\n",
       "2    -3.493494\n",
       "3    -2.634215\n",
       "4    -2.813574\n",
       "5    -2.739031\n",
       "6    -2.015672\n",
       "7    -2.050443\n",
       "8    -2.200284\n",
       "9    -2.271502\n",
       "10   -2.941370\n",
       "11   -3.116177\n",
       "12   -1.925059\n",
       "13   -2.041266\n",
       "14   -3.521774\n",
       "15   -2.363030\n",
       "16   -0.828970\n",
       "17   -1.617540\n",
       "18   -1.512893\n",
       "19   -2.428593\n",
       "20   -1.546771\n",
       "21   -1.862991\n",
       "22   -3.130724\n",
       "23   -3.798636\n",
       "24   -2.997749\n",
       "25   -3.073101\n",
       "26   -3.478886\n",
       "27   -4.525588\n",
       "28   -5.153476\n",
       "29   -4.770245\n",
       "dtype: float64"
      ]
     },
     "execution_count": 47,
     "metadata": {},
     "output_type": "execute_result"
    }
   ],
   "source": [
    "# possible bias in these models... It is always lower than the actual\n",
    "special.inv_boxcox(pred_lm_forecast, fitted_lambda) - special.inv_boxcox(df_pca_test['Target'], fitted_lambda)"
   ]
  },
  {
   "cell_type": "markdown",
   "id": "1ab3cee0",
   "metadata": {},
   "source": [
    "## Technical analysis"
   ]
  },
  {
   "cell_type": "code",
   "execution_count": 48,
   "id": "576e8002",
   "metadata": {},
   "outputs": [],
   "source": [
    "# inport necessary libraries\n",
    "import talib as tb\n",
    "import random\n",
    "\n",
    "from sklearn.model_selection import cross_val_score\n",
    "from sklearn.model_selection import RepeatedStratifiedKFold\n",
    "from sklearn.ensemble import RandomForestClassifier"
   ]
  },
  {
   "cell_type": "code",
   "execution_count": 49,
   "id": "4c0b32b6",
   "metadata": {},
   "outputs": [],
   "source": [
    "macd, macdsignal, macdhist = tb.MACD(df_apple['close'], fastperiod=12, slowperiod=26, signalperiod=9)"
   ]
  },
  {
   "cell_type": "code",
   "execution_count": 50,
   "id": "722f5b8a",
   "metadata": {},
   "outputs": [],
   "source": [
    "# creates a macD dataframe using talib and then merges original dataset onto it\n",
    "df_mac = pd.DataFrame({'macd': macd, 'macdsignal': macdsignal, 'macdhist':macdhist})\n",
    "\n",
    "df_mac = df_mac.merge(df_apple, left_index=True, right_index=True)\n",
    "df_mac['MOM'] = tb.MOM(df_apple['close'], timeperiod=5)\n",
    "\n",
    "for i in range(2, 13):\n",
    "    df_mac['MA_' + str(i)] = tb.SMA(df_apple['close'], timeperiod=i)"
   ]
  },
  {
   "cell_type": "code",
   "execution_count": 51,
   "id": "096d8ff3",
   "metadata": {},
   "outputs": [
    {
     "data": {
      "text/html": [
       "<div>\n",
       "<style scoped>\n",
       "    .dataframe tbody tr th:only-of-type {\n",
       "        vertical-align: middle;\n",
       "    }\n",
       "\n",
       "    .dataframe tbody tr th {\n",
       "        vertical-align: top;\n",
       "    }\n",
       "\n",
       "    .dataframe thead th {\n",
       "        text-align: right;\n",
       "    }\n",
       "</style>\n",
       "<table border=\"1\" class=\"dataframe\">\n",
       "  <thead>\n",
       "    <tr style=\"text-align: right;\">\n",
       "      <th></th>\n",
       "      <th>macd</th>\n",
       "      <th>macdsignal</th>\n",
       "      <th>macdhist</th>\n",
       "      <th>open</th>\n",
       "      <th>high</th>\n",
       "      <th>low</th>\n",
       "      <th>close</th>\n",
       "      <th>volume</th>\n",
       "      <th>trade_count</th>\n",
       "      <th>vwap</th>\n",
       "      <th>...</th>\n",
       "      <th>MA_3</th>\n",
       "      <th>MA_4</th>\n",
       "      <th>MA_5</th>\n",
       "      <th>MA_6</th>\n",
       "      <th>MA_7</th>\n",
       "      <th>MA_8</th>\n",
       "      <th>MA_9</th>\n",
       "      <th>MA_10</th>\n",
       "      <th>MA_11</th>\n",
       "      <th>MA_12</th>\n",
       "    </tr>\n",
       "    <tr>\n",
       "      <th>timestamp</th>\n",
       "      <th></th>\n",
       "      <th></th>\n",
       "      <th></th>\n",
       "      <th></th>\n",
       "      <th></th>\n",
       "      <th></th>\n",
       "      <th></th>\n",
       "      <th></th>\n",
       "      <th></th>\n",
       "      <th></th>\n",
       "      <th></th>\n",
       "      <th></th>\n",
       "      <th></th>\n",
       "      <th></th>\n",
       "      <th></th>\n",
       "      <th></th>\n",
       "      <th></th>\n",
       "      <th></th>\n",
       "      <th></th>\n",
       "      <th></th>\n",
       "      <th></th>\n",
       "    </tr>\n",
       "  </thead>\n",
       "  <tbody>\n",
       "    <tr>\n",
       "      <th>2020-09-01 04:00:00+00:00</th>\n",
       "      <td>NaN</td>\n",
       "      <td>NaN</td>\n",
       "      <td>NaN</td>\n",
       "      <td>132.91</td>\n",
       "      <td>134.800</td>\n",
       "      <td>130.5300</td>\n",
       "      <td>134.18</td>\n",
       "      <td>152880540</td>\n",
       "      <td>1494300</td>\n",
       "      <td>132.851768</td>\n",
       "      <td>...</td>\n",
       "      <td>NaN</td>\n",
       "      <td>NaN</td>\n",
       "      <td>NaN</td>\n",
       "      <td>NaN</td>\n",
       "      <td>NaN</td>\n",
       "      <td>NaN</td>\n",
       "      <td>NaN</td>\n",
       "      <td>NaN</td>\n",
       "      <td>NaN</td>\n",
       "      <td>NaN</td>\n",
       "    </tr>\n",
       "    <tr>\n",
       "      <th>2020-09-02 04:00:00+00:00</th>\n",
       "      <td>NaN</td>\n",
       "      <td>NaN</td>\n",
       "      <td>NaN</td>\n",
       "      <td>137.58</td>\n",
       "      <td>137.980</td>\n",
       "      <td>127.0000</td>\n",
       "      <td>131.40</td>\n",
       "      <td>200393336</td>\n",
       "      <td>1843498</td>\n",
       "      <td>131.616730</td>\n",
       "      <td>...</td>\n",
       "      <td>NaN</td>\n",
       "      <td>NaN</td>\n",
       "      <td>NaN</td>\n",
       "      <td>NaN</td>\n",
       "      <td>NaN</td>\n",
       "      <td>NaN</td>\n",
       "      <td>NaN</td>\n",
       "      <td>NaN</td>\n",
       "      <td>NaN</td>\n",
       "      <td>NaN</td>\n",
       "    </tr>\n",
       "    <tr>\n",
       "      <th>2020-09-03 04:00:00+00:00</th>\n",
       "      <td>NaN</td>\n",
       "      <td>NaN</td>\n",
       "      <td>NaN</td>\n",
       "      <td>126.97</td>\n",
       "      <td>128.840</td>\n",
       "      <td>120.5000</td>\n",
       "      <td>120.88</td>\n",
       "      <td>257604126</td>\n",
       "      <td>2360769</td>\n",
       "      <td>123.526182</td>\n",
       "      <td>...</td>\n",
       "      <td>128.820000</td>\n",
       "      <td>NaN</td>\n",
       "      <td>NaN</td>\n",
       "      <td>NaN</td>\n",
       "      <td>NaN</td>\n",
       "      <td>NaN</td>\n",
       "      <td>NaN</td>\n",
       "      <td>NaN</td>\n",
       "      <td>NaN</td>\n",
       "      <td>NaN</td>\n",
       "    </tr>\n",
       "    <tr>\n",
       "      <th>2020-09-04 04:00:00+00:00</th>\n",
       "      <td>NaN</td>\n",
       "      <td>NaN</td>\n",
       "      <td>NaN</td>\n",
       "      <td>120.00</td>\n",
       "      <td>123.700</td>\n",
       "      <td>110.8900</td>\n",
       "      <td>120.96</td>\n",
       "      <td>332632509</td>\n",
       "      <td>2967070</td>\n",
       "      <td>117.943903</td>\n",
       "      <td>...</td>\n",
       "      <td>124.413333</td>\n",
       "      <td>126.8550</td>\n",
       "      <td>NaN</td>\n",
       "      <td>NaN</td>\n",
       "      <td>NaN</td>\n",
       "      <td>NaN</td>\n",
       "      <td>NaN</td>\n",
       "      <td>NaN</td>\n",
       "      <td>NaN</td>\n",
       "      <td>NaN</td>\n",
       "    </tr>\n",
       "    <tr>\n",
       "      <th>2020-09-08 04:00:00+00:00</th>\n",
       "      <td>NaN</td>\n",
       "      <td>NaN</td>\n",
       "      <td>NaN</td>\n",
       "      <td>113.74</td>\n",
       "      <td>118.990</td>\n",
       "      <td>112.6800</td>\n",
       "      <td>112.82</td>\n",
       "      <td>231598461</td>\n",
       "      <td>2003683</td>\n",
       "      <td>115.392545</td>\n",
       "      <td>...</td>\n",
       "      <td>118.220000</td>\n",
       "      <td>121.5150</td>\n",
       "      <td>124.048</td>\n",
       "      <td>NaN</td>\n",
       "      <td>NaN</td>\n",
       "      <td>NaN</td>\n",
       "      <td>NaN</td>\n",
       "      <td>NaN</td>\n",
       "      <td>NaN</td>\n",
       "      <td>NaN</td>\n",
       "    </tr>\n",
       "    <tr>\n",
       "      <th>...</th>\n",
       "      <td>...</td>\n",
       "      <td>...</td>\n",
       "      <td>...</td>\n",
       "      <td>...</td>\n",
       "      <td>...</td>\n",
       "      <td>...</td>\n",
       "      <td>...</td>\n",
       "      <td>...</td>\n",
       "      <td>...</td>\n",
       "      <td>...</td>\n",
       "      <td>...</td>\n",
       "      <td>...</td>\n",
       "      <td>...</td>\n",
       "      <td>...</td>\n",
       "      <td>...</td>\n",
       "      <td>...</td>\n",
       "      <td>...</td>\n",
       "      <td>...</td>\n",
       "      <td>...</td>\n",
       "      <td>...</td>\n",
       "      <td>...</td>\n",
       "    </tr>\n",
       "    <tr>\n",
       "      <th>2022-06-27 04:00:00+00:00</th>\n",
       "      <td>-3.080837</td>\n",
       "      <td>-4.017295</td>\n",
       "      <td>0.936458</td>\n",
       "      <td>142.70</td>\n",
       "      <td>143.490</td>\n",
       "      <td>140.9650</td>\n",
       "      <td>141.66</td>\n",
       "      <td>73357944</td>\n",
       "      <td>516181</td>\n",
       "      <td>142.026287</td>\n",
       "      <td>...</td>\n",
       "      <td>140.530000</td>\n",
       "      <td>139.2350</td>\n",
       "      <td>138.562</td>\n",
       "      <td>137.395000</td>\n",
       "      <td>136.347143</td>\n",
       "      <td>136.23250</td>\n",
       "      <td>135.846667</td>\n",
       "      <td>135.450</td>\n",
       "      <td>135.602727</td>\n",
       "      <td>136.189167</td>\n",
       "    </tr>\n",
       "    <tr>\n",
       "      <th>2022-06-28 04:00:00+00:00</th>\n",
       "      <td>-2.940865</td>\n",
       "      <td>-3.802009</td>\n",
       "      <td>0.861144</td>\n",
       "      <td>142.10</td>\n",
       "      <td>143.422</td>\n",
       "      <td>137.3250</td>\n",
       "      <td>137.44</td>\n",
       "      <td>67315336</td>\n",
       "      <td>546241</td>\n",
       "      <td>139.375156</td>\n",
       "      <td>...</td>\n",
       "      <td>140.253333</td>\n",
       "      <td>139.7575</td>\n",
       "      <td>138.876</td>\n",
       "      <td>138.375000</td>\n",
       "      <td>137.401429</td>\n",
       "      <td>136.48375</td>\n",
       "      <td>136.366667</td>\n",
       "      <td>136.006</td>\n",
       "      <td>135.630909</td>\n",
       "      <td>135.755833</td>\n",
       "    </tr>\n",
       "    <tr>\n",
       "      <th>2022-06-29 04:00:00+00:00</th>\n",
       "      <td>-2.654894</td>\n",
       "      <td>-3.572586</td>\n",
       "      <td>0.917691</td>\n",
       "      <td>137.44</td>\n",
       "      <td>140.670</td>\n",
       "      <td>136.6700</td>\n",
       "      <td>139.23</td>\n",
       "      <td>66354959</td>\n",
       "      <td>572556</td>\n",
       "      <td>139.273624</td>\n",
       "      <td>...</td>\n",
       "      <td>139.443333</td>\n",
       "      <td>139.9975</td>\n",
       "      <td>139.652</td>\n",
       "      <td>138.935000</td>\n",
       "      <td>138.497143</td>\n",
       "      <td>137.63000</td>\n",
       "      <td>136.788889</td>\n",
       "      <td>136.653</td>\n",
       "      <td>136.299091</td>\n",
       "      <td>135.930833</td>\n",
       "    </tr>\n",
       "    <tr>\n",
       "      <th>2022-06-30 04:00:00+00:00</th>\n",
       "      <td>-2.600816</td>\n",
       "      <td>-3.378232</td>\n",
       "      <td>0.777416</td>\n",
       "      <td>137.30</td>\n",
       "      <td>138.370</td>\n",
       "      <td>133.7737</td>\n",
       "      <td>136.72</td>\n",
       "      <td>99036459</td>\n",
       "      <td>710709</td>\n",
       "      <td>136.476185</td>\n",
       "      <td>...</td>\n",
       "      <td>137.796667</td>\n",
       "      <td>138.7625</td>\n",
       "      <td>139.342</td>\n",
       "      <td>139.163333</td>\n",
       "      <td>138.618571</td>\n",
       "      <td>138.27500</td>\n",
       "      <td>137.528889</td>\n",
       "      <td>136.782</td>\n",
       "      <td>136.659091</td>\n",
       "      <td>136.334167</td>\n",
       "    </tr>\n",
       "    <tr>\n",
       "      <th>2022-07-01 04:00:00+00:00</th>\n",
       "      <td>-2.352512</td>\n",
       "      <td>-3.173088</td>\n",
       "      <td>0.820576</td>\n",
       "      <td>136.09</td>\n",
       "      <td>139.040</td>\n",
       "      <td>135.6600</td>\n",
       "      <td>138.93</td>\n",
       "      <td>71174354</td>\n",
       "      <td>558683</td>\n",
       "      <td>137.479845</td>\n",
       "      <td>...</td>\n",
       "      <td>138.293333</td>\n",
       "      <td>138.0800</td>\n",
       "      <td>138.796</td>\n",
       "      <td>139.273333</td>\n",
       "      <td>139.130000</td>\n",
       "      <td>138.65750</td>\n",
       "      <td>138.347778</td>\n",
       "      <td>137.669</td>\n",
       "      <td>136.977273</td>\n",
       "      <td>136.848333</td>\n",
       "    </tr>\n",
       "  </tbody>\n",
       "</table>\n",
       "<p>462 rows × 22 columns</p>\n",
       "</div>"
      ],
      "text/plain": [
       "                               macd  macdsignal  macdhist    open     high  \\\n",
       "timestamp                                                                    \n",
       "2020-09-01 04:00:00+00:00       NaN         NaN       NaN  132.91  134.800   \n",
       "2020-09-02 04:00:00+00:00       NaN         NaN       NaN  137.58  137.980   \n",
       "2020-09-03 04:00:00+00:00       NaN         NaN       NaN  126.97  128.840   \n",
       "2020-09-04 04:00:00+00:00       NaN         NaN       NaN  120.00  123.700   \n",
       "2020-09-08 04:00:00+00:00       NaN         NaN       NaN  113.74  118.990   \n",
       "...                             ...         ...       ...     ...      ...   \n",
       "2022-06-27 04:00:00+00:00 -3.080837   -4.017295  0.936458  142.70  143.490   \n",
       "2022-06-28 04:00:00+00:00 -2.940865   -3.802009  0.861144  142.10  143.422   \n",
       "2022-06-29 04:00:00+00:00 -2.654894   -3.572586  0.917691  137.44  140.670   \n",
       "2022-06-30 04:00:00+00:00 -2.600816   -3.378232  0.777416  137.30  138.370   \n",
       "2022-07-01 04:00:00+00:00 -2.352512   -3.173088  0.820576  136.09  139.040   \n",
       "\n",
       "                                low   close     volume  trade_count  \\\n",
       "timestamp                                                             \n",
       "2020-09-01 04:00:00+00:00  130.5300  134.18  152880540      1494300   \n",
       "2020-09-02 04:00:00+00:00  127.0000  131.40  200393336      1843498   \n",
       "2020-09-03 04:00:00+00:00  120.5000  120.88  257604126      2360769   \n",
       "2020-09-04 04:00:00+00:00  110.8900  120.96  332632509      2967070   \n",
       "2020-09-08 04:00:00+00:00  112.6800  112.82  231598461      2003683   \n",
       "...                             ...     ...        ...          ...   \n",
       "2022-06-27 04:00:00+00:00  140.9650  141.66   73357944       516181   \n",
       "2022-06-28 04:00:00+00:00  137.3250  137.44   67315336       546241   \n",
       "2022-06-29 04:00:00+00:00  136.6700  139.23   66354959       572556   \n",
       "2022-06-30 04:00:00+00:00  133.7737  136.72   99036459       710709   \n",
       "2022-07-01 04:00:00+00:00  135.6600  138.93   71174354       558683   \n",
       "\n",
       "                                 vwap  ...        MA_3      MA_4     MA_5  \\\n",
       "timestamp                              ...                                  \n",
       "2020-09-01 04:00:00+00:00  132.851768  ...         NaN       NaN      NaN   \n",
       "2020-09-02 04:00:00+00:00  131.616730  ...         NaN       NaN      NaN   \n",
       "2020-09-03 04:00:00+00:00  123.526182  ...  128.820000       NaN      NaN   \n",
       "2020-09-04 04:00:00+00:00  117.943903  ...  124.413333  126.8550      NaN   \n",
       "2020-09-08 04:00:00+00:00  115.392545  ...  118.220000  121.5150  124.048   \n",
       "...                               ...  ...         ...       ...      ...   \n",
       "2022-06-27 04:00:00+00:00  142.026287  ...  140.530000  139.2350  138.562   \n",
       "2022-06-28 04:00:00+00:00  139.375156  ...  140.253333  139.7575  138.876   \n",
       "2022-06-29 04:00:00+00:00  139.273624  ...  139.443333  139.9975  139.652   \n",
       "2022-06-30 04:00:00+00:00  136.476185  ...  137.796667  138.7625  139.342   \n",
       "2022-07-01 04:00:00+00:00  137.479845  ...  138.293333  138.0800  138.796   \n",
       "\n",
       "                                 MA_6        MA_7       MA_8        MA_9  \\\n",
       "timestamp                                                                  \n",
       "2020-09-01 04:00:00+00:00         NaN         NaN        NaN         NaN   \n",
       "2020-09-02 04:00:00+00:00         NaN         NaN        NaN         NaN   \n",
       "2020-09-03 04:00:00+00:00         NaN         NaN        NaN         NaN   \n",
       "2020-09-04 04:00:00+00:00         NaN         NaN        NaN         NaN   \n",
       "2020-09-08 04:00:00+00:00         NaN         NaN        NaN         NaN   \n",
       "...                               ...         ...        ...         ...   \n",
       "2022-06-27 04:00:00+00:00  137.395000  136.347143  136.23250  135.846667   \n",
       "2022-06-28 04:00:00+00:00  138.375000  137.401429  136.48375  136.366667   \n",
       "2022-06-29 04:00:00+00:00  138.935000  138.497143  137.63000  136.788889   \n",
       "2022-06-30 04:00:00+00:00  139.163333  138.618571  138.27500  137.528889   \n",
       "2022-07-01 04:00:00+00:00  139.273333  139.130000  138.65750  138.347778   \n",
       "\n",
       "                             MA_10       MA_11       MA_12  \n",
       "timestamp                                                   \n",
       "2020-09-01 04:00:00+00:00      NaN         NaN         NaN  \n",
       "2020-09-02 04:00:00+00:00      NaN         NaN         NaN  \n",
       "2020-09-03 04:00:00+00:00      NaN         NaN         NaN  \n",
       "2020-09-04 04:00:00+00:00      NaN         NaN         NaN  \n",
       "2020-09-08 04:00:00+00:00      NaN         NaN         NaN  \n",
       "...                            ...         ...         ...  \n",
       "2022-06-27 04:00:00+00:00  135.450  135.602727  136.189167  \n",
       "2022-06-28 04:00:00+00:00  136.006  135.630909  135.755833  \n",
       "2022-06-29 04:00:00+00:00  136.653  136.299091  135.930833  \n",
       "2022-06-30 04:00:00+00:00  136.782  136.659091  136.334167  \n",
       "2022-07-01 04:00:00+00:00  137.669  136.977273  136.848333  \n",
       "\n",
       "[462 rows x 22 columns]"
      ]
     },
     "execution_count": 51,
     "metadata": {},
     "output_type": "execute_result"
    }
   ],
   "source": [
    "df_mac"
   ]
  },
  {
   "cell_type": "code",
   "execution_count": 52,
   "id": "8b6d7dd7",
   "metadata": {},
   "outputs": [],
   "source": [
    "# shisfts close back one to get tomorrow's close price\n",
    "df_mac['next_day_close'] = df_mac['close'].shift(periods=-1, axis=\"index\")"
   ]
  },
  {
   "cell_type": "code",
   "execution_count": 53,
   "id": "8c53ebe0",
   "metadata": {},
   "outputs": [],
   "source": [
    "# creates a boolean columns on if the next day is higher than the previous\n",
    "df_mac['higher_than_yesterday'] = np.where(df_mac['next_day_close'] > df_mac['close'], 1, 0)"
   ]
  },
  {
   "cell_type": "code",
   "execution_count": 54,
   "id": "95636848",
   "metadata": {},
   "outputs": [],
   "source": [
    "df_mac_nona = df_mac.loc[(~df_mac['macdhist'].isna()) & ~(df_mac['next_day_close'].isna()),]"
   ]
  },
  {
   "cell_type": "code",
   "execution_count": 55,
   "id": "33c064e0",
   "metadata": {},
   "outputs": [
    {
     "data": {
      "text/html": [
       "<style>#sk-container-id-3 {color: black;background-color: white;}#sk-container-id-3 pre{padding: 0;}#sk-container-id-3 div.sk-toggleable {background-color: white;}#sk-container-id-3 label.sk-toggleable__label {cursor: pointer;display: block;width: 100%;margin-bottom: 0;padding: 0.3em;box-sizing: border-box;text-align: center;}#sk-container-id-3 label.sk-toggleable__label-arrow:before {content: \"▸\";float: left;margin-right: 0.25em;color: #696969;}#sk-container-id-3 label.sk-toggleable__label-arrow:hover:before {color: black;}#sk-container-id-3 div.sk-estimator:hover label.sk-toggleable__label-arrow:before {color: black;}#sk-container-id-3 div.sk-toggleable__content {max-height: 0;max-width: 0;overflow: hidden;text-align: left;background-color: #f0f8ff;}#sk-container-id-3 div.sk-toggleable__content pre {margin: 0.2em;color: black;border-radius: 0.25em;background-color: #f0f8ff;}#sk-container-id-3 input.sk-toggleable__control:checked~div.sk-toggleable__content {max-height: 200px;max-width: 100%;overflow: auto;}#sk-container-id-3 input.sk-toggleable__control:checked~label.sk-toggleable__label-arrow:before {content: \"▾\";}#sk-container-id-3 div.sk-estimator input.sk-toggleable__control:checked~label.sk-toggleable__label {background-color: #d4ebff;}#sk-container-id-3 div.sk-label input.sk-toggleable__control:checked~label.sk-toggleable__label {background-color: #d4ebff;}#sk-container-id-3 input.sk-hidden--visually {border: 0;clip: rect(1px 1px 1px 1px);clip: rect(1px, 1px, 1px, 1px);height: 1px;margin: -1px;overflow: hidden;padding: 0;position: absolute;width: 1px;}#sk-container-id-3 div.sk-estimator {font-family: monospace;background-color: #f0f8ff;border: 1px dotted black;border-radius: 0.25em;box-sizing: border-box;margin-bottom: 0.5em;}#sk-container-id-3 div.sk-estimator:hover {background-color: #d4ebff;}#sk-container-id-3 div.sk-parallel-item::after {content: \"\";width: 100%;border-bottom: 1px solid gray;flex-grow: 1;}#sk-container-id-3 div.sk-label:hover label.sk-toggleable__label {background-color: #d4ebff;}#sk-container-id-3 div.sk-serial::before {content: \"\";position: absolute;border-left: 1px solid gray;box-sizing: border-box;top: 0;bottom: 0;left: 50%;z-index: 0;}#sk-container-id-3 div.sk-serial {display: flex;flex-direction: column;align-items: center;background-color: white;padding-right: 0.2em;padding-left: 0.2em;position: relative;}#sk-container-id-3 div.sk-item {position: relative;z-index: 1;}#sk-container-id-3 div.sk-parallel {display: flex;align-items: stretch;justify-content: center;background-color: white;position: relative;}#sk-container-id-3 div.sk-item::before, #sk-container-id-3 div.sk-parallel-item::before {content: \"\";position: absolute;border-left: 1px solid gray;box-sizing: border-box;top: 0;bottom: 0;left: 50%;z-index: -1;}#sk-container-id-3 div.sk-parallel-item {display: flex;flex-direction: column;z-index: 1;position: relative;background-color: white;}#sk-container-id-3 div.sk-parallel-item:first-child::after {align-self: flex-end;width: 50%;}#sk-container-id-3 div.sk-parallel-item:last-child::after {align-self: flex-start;width: 50%;}#sk-container-id-3 div.sk-parallel-item:only-child::after {width: 0;}#sk-container-id-3 div.sk-dashed-wrapped {border: 1px dashed gray;margin: 0 0.4em 0.5em 0.4em;box-sizing: border-box;padding-bottom: 0.4em;background-color: white;}#sk-container-id-3 div.sk-label label {font-family: monospace;font-weight: bold;display: inline-block;line-height: 1.2em;}#sk-container-id-3 div.sk-label-container {text-align: center;}#sk-container-id-3 div.sk-container {/* jupyter's `normalize.less` sets `[hidden] { display: none; }` but bootstrap.min.css set `[hidden] { display: none !important; }` so we also need the `!important` here to be able to override the default hidden behavior on the sphinx rendered scikit-learn.org. See: https://github.com/scikit-learn/scikit-learn/issues/21755 */display: inline-block !important;position: relative;}#sk-container-id-3 div.sk-text-repr-fallback {display: none;}</style><div id=\"sk-container-id-3\" class=\"sk-top-container\"><div class=\"sk-text-repr-fallback\"><pre>RandomForestClassifier()</pre><b>In a Jupyter environment, please rerun this cell to show the HTML representation or trust the notebook. <br />On GitHub, the HTML representation is unable to render, please try loading this page with nbviewer.org.</b></div><div class=\"sk-container\" hidden><div class=\"sk-item\"><div class=\"sk-estimator sk-toggleable\"><input class=\"sk-toggleable__control sk-hidden--visually\" id=\"sk-estimator-id-3\" type=\"checkbox\" checked><label for=\"sk-estimator-id-3\" class=\"sk-toggleable__label sk-toggleable__label-arrow\">RandomForestClassifier</label><div class=\"sk-toggleable__content\"><pre>RandomForestClassifier()</pre></div></div></div></div></div>"
      ],
      "text/plain": [
       "RandomForestClassifier()"
      ]
     },
     "execution_count": 55,
     "metadata": {},
     "output_type": "execute_result"
    }
   ],
   "source": [
    "random.seed(10)\n",
    "\n",
    "# define the model\n",
    "random_forest_macd = RandomForestClassifier()\n",
    "# evaluate the model\n",
    "random_forest_macd.fit(df_mac_nona[['MA_10', 'macdhist']], df_mac_nona['higher_than_yesterday'])"
   ]
  },
  {
   "cell_type": "markdown",
   "id": "ce843da5",
   "metadata": {},
   "source": [
    "completely random"
   ]
  },
  {
   "cell_type": "code",
   "execution_count": 56,
   "id": "0ea1cf1e",
   "metadata": {},
   "outputs": [
    {
     "name": "stdout",
     "output_type": "stream",
     "text": [
      "Accuracy: 0.512 (0.079)\n"
     ]
    }
   ],
   "source": [
    "cv = RepeatedStratifiedKFold(n_splits=10, n_repeats=3, random_state=1)\n",
    "n_scores = cross_val_score(random_forest_macd, df_mac_nona[['close','macdhist']], df_mac_nona['higher_than_yesterday'], scoring='accuracy', cv=cv, n_jobs=-1, error_score='raise')\n",
    "# report performance\n",
    "print('Accuracy: %.3f (%.3f)' % (np.mean(n_scores), np.std(n_scores)))"
   ]
  },
  {
   "cell_type": "code",
   "execution_count": 57,
   "id": "d2f18bd8",
   "metadata": {},
   "outputs": [],
   "source": [
    "# let's build no model and just get the percentage of being above the certain shift forwards. Use difference between the\n",
    "# macd to use a velocity... maybe the faster the machhist the more likely the closing price will be maintain a trend."
   ]
  },
  {
   "cell_type": "code",
   "execution_count": 58,
   "id": "3f9548d4",
   "metadata": {},
   "outputs": [],
   "source": [
    "from statsmodels.tsa.stattools import adfuller"
   ]
  },
  {
   "cell_type": "code",
   "execution_count": 59,
   "id": "c7fb52ba",
   "metadata": {},
   "outputs": [],
   "source": [
    "# creates a boolean columns on if the next day is higher than the previous\n",
    "df_mac['macd_positive'] = np.where(df_mac['MA_5'] > 0, 1, 0)"
   ]
  },
  {
   "cell_type": "code",
   "execution_count": 60,
   "id": "e05b67be",
   "metadata": {},
   "outputs": [
    {
     "data": {
      "text/html": [
       "<div>\n",
       "<style scoped>\n",
       "    .dataframe tbody tr th:only-of-type {\n",
       "        vertical-align: middle;\n",
       "    }\n",
       "\n",
       "    .dataframe tbody tr th {\n",
       "        vertical-align: top;\n",
       "    }\n",
       "\n",
       "    .dataframe thead tr th {\n",
       "        text-align: left;\n",
       "    }\n",
       "\n",
       "    .dataframe thead tr:last-of-type th {\n",
       "        text-align: right;\n",
       "    }\n",
       "</style>\n",
       "<table border=\"1\" class=\"dataframe\">\n",
       "  <thead>\n",
       "    <tr>\n",
       "      <th></th>\n",
       "      <th colspan=\"2\" halign=\"left\">close</th>\n",
       "    </tr>\n",
       "    <tr>\n",
       "      <th></th>\n",
       "      <th>mean</th>\n",
       "      <th>std</th>\n",
       "    </tr>\n",
       "    <tr>\n",
       "      <th>macd_positive</th>\n",
       "      <th></th>\n",
       "      <th></th>\n",
       "    </tr>\n",
       "  </thead>\n",
       "  <tbody>\n",
       "    <tr>\n",
       "      <th>0</th>\n",
       "      <td>126.85500</td>\n",
       "      <td>6.946565</td>\n",
       "    </tr>\n",
       "    <tr>\n",
       "      <th>1</th>\n",
       "      <td>142.12125</td>\n",
       "      <td>18.910146</td>\n",
       "    </tr>\n",
       "  </tbody>\n",
       "</table>\n",
       "</div>"
      ],
      "text/plain": [
       "                   close           \n",
       "                    mean        std\n",
       "macd_positive                      \n",
       "0              126.85500   6.946565\n",
       "1              142.12125  18.910146"
      ]
     },
     "execution_count": 60,
     "metadata": {},
     "output_type": "execute_result"
    }
   ],
   "source": [
    "df_mac.groupby(by = [\"macd_positive\"]).agg({'close':['mean','std']})"
   ]
  },
  {
   "cell_type": "markdown",
   "id": "8a2f3516",
   "metadata": {},
   "source": [
    "# augmented dickey fuller test function\n",
    "if we do not reject null hypothesis implies that the data is not stationary"
   ]
  },
  {
   "cell_type": "code",
   "execution_count": 61,
   "id": "706a0627",
   "metadata": {},
   "outputs": [],
   "source": [
    "# takes in time series data vector\n",
    "# prints out test statistics and returns the p-value\n",
    "def adf_test(ts_array, print_test_stats):\n",
    "    dickeyfuller = adfuller(ts_array)\n",
    "    if (print_test_stats):\n",
    "        print('ADF Statistic: %f' % dickeyfuller[0])\n",
    "        print('p-value: %f' % dickeyfuller[1])\n",
    "        print('Critical Values:')\n",
    "        for key, value in dickeyfuller[4].items():\n",
    "            print('\\t%s: %.3f' % (key, value))\n",
    "    else:\n",
    "        return(dickeyfuller[1])"
   ]
  },
  {
   "cell_type": "code",
   "execution_count": 62,
   "id": "d0ec16ef",
   "metadata": {},
   "outputs": [
    {
     "data": {
      "text/plain": [
       "0.4841947243817831"
      ]
     },
     "execution_count": 62,
     "metadata": {},
     "output_type": "execute_result"
    }
   ],
   "source": [
    "adf_test(df_mac['close'], False)"
   ]
  },
  {
   "cell_type": "markdown",
   "id": "66071be4",
   "metadata": {},
   "source": [
    "making stationary value"
   ]
  },
  {
   "cell_type": "code",
   "execution_count": 63,
   "id": "58532232",
   "metadata": {},
   "outputs": [],
   "source": [
    "df_mac['close_stationary'] = df_mac['close'] - df_mac['close'].shift(periods=1, axis=\"index\")"
   ]
  },
  {
   "cell_type": "code",
   "execution_count": 64,
   "id": "28938e35",
   "metadata": {},
   "outputs": [
    {
     "name": "stdout",
     "output_type": "stream",
     "text": [
      "ADF Statistic: -22.097675\n",
      "p-value: 0.000000\n",
      "Critical Values:\n",
      "\t1%: -3.445\n",
      "\t5%: -2.868\n",
      "\t10%: -2.570\n"
     ]
    }
   ],
   "source": [
    "# retesting\n",
    "adf_test(df_mac['close_stationary'].dropna(), True)"
   ]
  },
  {
   "cell_type": "code",
   "execution_count": 65,
   "id": "1935d341",
   "metadata": {},
   "outputs": [
    {
     "data": {
      "text/html": [
       "<div>\n",
       "<style scoped>\n",
       "    .dataframe tbody tr th:only-of-type {\n",
       "        vertical-align: middle;\n",
       "    }\n",
       "\n",
       "    .dataframe tbody tr th {\n",
       "        vertical-align: top;\n",
       "    }\n",
       "\n",
       "    .dataframe thead tr th {\n",
       "        text-align: left;\n",
       "    }\n",
       "\n",
       "    .dataframe thead tr:last-of-type th {\n",
       "        text-align: right;\n",
       "    }\n",
       "</style>\n",
       "<table border=\"1\" class=\"dataframe\">\n",
       "  <thead>\n",
       "    <tr>\n",
       "      <th></th>\n",
       "      <th colspan=\"2\" halign=\"left\">close_stationary</th>\n",
       "    </tr>\n",
       "    <tr>\n",
       "      <th></th>\n",
       "      <th>mean</th>\n",
       "      <th>std</th>\n",
       "    </tr>\n",
       "    <tr>\n",
       "      <th>macd_positive</th>\n",
       "      <th></th>\n",
       "      <th></th>\n",
       "    </tr>\n",
       "  </thead>\n",
       "  <tbody>\n",
       "    <tr>\n",
       "      <th>0</th>\n",
       "      <td>-4.406667</td>\n",
       "      <td>5.484025</td>\n",
       "    </tr>\n",
       "    <tr>\n",
       "      <th>1</th>\n",
       "      <td>0.039236</td>\n",
       "      <td>2.735764</td>\n",
       "    </tr>\n",
       "  </tbody>\n",
       "</table>\n",
       "</div>"
      ],
      "text/plain": [
       "              close_stationary          \n",
       "                          mean       std\n",
       "macd_positive                           \n",
       "0                    -4.406667  5.484025\n",
       "1                     0.039236  2.735764"
      ]
     },
     "execution_count": 65,
     "metadata": {},
     "output_type": "execute_result"
    }
   ],
   "source": [
    "df_mac.groupby(by = [\"macd_positive\"]).agg({'close_stationary':['mean','std']})"
   ]
  },
  {
   "cell_type": "markdown",
   "id": "da9392d3",
   "metadata": {},
   "source": [
    "# Decision Trees\n",
    "And giving specific instructions of what to use, so visualization is \"easy\"\n",
    "First create df with common indicators"
   ]
  },
  {
   "cell_type": "code",
   "execution_count": 66,
   "id": "5eff954b",
   "metadata": {},
   "outputs": [],
   "source": [
    "from sklearn import tree\n",
    "import graphviz\n",
    "import itertools"
   ]
  },
  {
   "cell_type": "code",
   "execution_count": 67,
   "id": "e4b45fae",
   "metadata": {},
   "outputs": [],
   "source": [
    "# ripped off my earlier code\n",
    "macd, macdsignal, macdhist = tb.MACD(df_apple['close'], fastperiod=12, slowperiod=26, signalperiod=9)\n",
    "# creates a macD dataframe using talib and then merges original dataset onto it\n",
    "df_mac = pd.DataFrame({'macd': macd, 'macdsignal': macdsignal, 'macdhist':macdhist})\n",
    "\n",
    "df_mac = df_mac.merge(df_apple, left_index=True, right_index=True)\n",
    "df_mac['MOM'] = tb.MOM(df_apple['close'], timeperiod=5)\n",
    "df_mac['SAR'] = tb.SAR(df_apple['high'], df_apple['low'])\n",
    "\n",
    "# create stationary time series\n",
    "if (adf_test(df_mac['close'], False) > 0.05):\n",
    "    df_mac['close'] = df_mac['close'] - df_mac['close'].shift(periods=1, axis=\"index\")\n",
    "    \n",
    "for i in [21]:\n",
    "    df_mac['MA_' + str(i)] = tb.SMA(df_mac['close'], timeperiod=i)\n",
    "\n",
    "for i in [21]:\n",
    "    df_mac['EMA_' + str(i)] = tb.EMA(df_mac['close'], timeperiod=i)\n",
    "\n",
    "df_mac['std'] = df_mac['close'].rolling(30).std()"
   ]
  },
  {
   "cell_type": "code",
   "execution_count": 68,
   "id": "8075fceb",
   "metadata": {},
   "outputs": [],
   "source": [
    "df_mac = df_mac.dropna(axis = 0, how = 'any')"
   ]
  },
  {
   "cell_type": "markdown",
   "id": "153d4af1",
   "metadata": {},
   "source": [
    "## Fitting that tree with small number of features and nodes"
   ]
  },
  {
   "cell_type": "markdown",
   "id": "ab43d3cb",
   "metadata": {},
   "source": [
    "fits a regression tree using very restictive options to create thresholds, easy to implement"
   ]
  },
  {
   "cell_type": "code",
   "execution_count": 69,
   "id": "bd57ddf7",
   "metadata": {},
   "outputs": [
    {
     "data": {
      "text/html": [
       "<div>\n",
       "<style scoped>\n",
       "    .dataframe tbody tr th:only-of-type {\n",
       "        vertical-align: middle;\n",
       "    }\n",
       "\n",
       "    .dataframe tbody tr th {\n",
       "        vertical-align: top;\n",
       "    }\n",
       "\n",
       "    .dataframe thead th {\n",
       "        text-align: right;\n",
       "    }\n",
       "</style>\n",
       "<table border=\"1\" class=\"dataframe\">\n",
       "  <thead>\n",
       "    <tr style=\"text-align: right;\">\n",
       "      <th></th>\n",
       "      <th>macd</th>\n",
       "      <th>macdsignal</th>\n",
       "      <th>macdhist</th>\n",
       "      <th>open</th>\n",
       "      <th>high</th>\n",
       "      <th>low</th>\n",
       "      <th>close</th>\n",
       "      <th>volume</th>\n",
       "      <th>trade_count</th>\n",
       "      <th>vwap</th>\n",
       "      <th>MOM</th>\n",
       "      <th>SAR</th>\n",
       "      <th>MA_21</th>\n",
       "      <th>EMA_21</th>\n",
       "      <th>std</th>\n",
       "    </tr>\n",
       "    <tr>\n",
       "      <th>timestamp</th>\n",
       "      <th></th>\n",
       "      <th></th>\n",
       "      <th></th>\n",
       "      <th></th>\n",
       "      <th></th>\n",
       "      <th></th>\n",
       "      <th></th>\n",
       "      <th></th>\n",
       "      <th></th>\n",
       "      <th></th>\n",
       "      <th></th>\n",
       "      <th></th>\n",
       "      <th></th>\n",
       "      <th></th>\n",
       "      <th></th>\n",
       "    </tr>\n",
       "  </thead>\n",
       "  <tbody>\n",
       "  </tbody>\n",
       "</table>\n",
       "</div>"
      ],
      "text/plain": [
       "Empty DataFrame\n",
       "Columns: [macd, macdsignal, macdhist, open, high, low, close, volume, trade_count, vwap, MOM, SAR, MA_21, EMA_21, std]\n",
       "Index: []"
      ]
     },
     "execution_count": 69,
     "metadata": {},
     "output_type": "execute_result"
    }
   ],
   "source": [
    "df_mac.loc[df_mac['close'] < -150]"
   ]
  },
  {
   "cell_type": "code",
   "execution_count": 70,
   "id": "c98065e8",
   "metadata": {},
   "outputs": [],
   "source": [
    "mac_tree = tree.DecisionTreeRegressor(criterion = \"absolute_error\", max_features = 3, max_leaf_nodes = 3)\n",
    "mac_tree = mac_tree.fit(X = df_mac.drop(['open', 'high', 'low', 'close', 'volume', 'trade_count', 'vwap'], axis = 1),\\\n",
    "                        y = df_mac['close'])"
   ]
  },
  {
   "cell_type": "markdown",
   "id": "c9c61194",
   "metadata": {},
   "source": [
    "### plots the fitted calssification tree"
   ]
  },
  {
   "cell_type": "code",
   "execution_count": 71,
   "id": "ba0cfc83",
   "metadata": {},
   "outputs": [
    {
     "data": {
      "image/svg+xml": [
       "<?xml version=\"1.0\" encoding=\"UTF-8\" standalone=\"no\"?>\n",
       "<!DOCTYPE svg PUBLIC \"-//W3C//DTD SVG 1.1//EN\"\n",
       " \"http://www.w3.org/Graphics/SVG/1.1/DTD/svg11.dtd\">\n",
       "<!-- Generated by graphviz version 2.50.0 (0)\n",
       " -->\n",
       "<!-- Title: Tree Pages: 1 -->\n",
       "<svg width=\"411pt\" height=\"269pt\"\n",
       " viewBox=\"0.00 0.00 410.50 269.00\" xmlns=\"http://www.w3.org/2000/svg\" xmlns:xlink=\"http://www.w3.org/1999/xlink\">\n",
       "<g id=\"graph0\" class=\"graph\" transform=\"scale(1 1) rotate(0) translate(4 265)\">\n",
       "<title>Tree</title>\n",
       "<polygon fill=\"white\" stroke=\"transparent\" points=\"-4,4 -4,-265 406.5,-265 406.5,4 -4,4\"/>\n",
       "<!-- 0 -->\n",
       "<g id=\"node1\" class=\"node\">\n",
       "<title>0</title>\n",
       "<path fill=\"#f2c19d\" stroke=\"black\" d=\"M221.5,-261C221.5,-261 92.5,-261 92.5,-261 86.5,-261 80.5,-255 80.5,-249 80.5,-249 80.5,-205 80.5,-205 80.5,-199 86.5,-193 92.5,-193 92.5,-193 221.5,-193 221.5,-193 227.5,-193 233.5,-199 233.5,-205 233.5,-205 233.5,-249 233.5,-249 233.5,-255 227.5,-261 221.5,-261\"/>\n",
       "<text text-anchor=\"start\" x=\"107.5\" y=\"-245.8\" font-family=\"Helvetica,sans-Serif\" font-size=\"14.00\">EMA_21 ≤ &#45;0.21</text>\n",
       "<text text-anchor=\"start\" x=\"88.5\" y=\"-230.8\" font-family=\"Helvetica,sans-Serif\" font-size=\"14.00\">absolute_error = 2.038</text>\n",
       "<text text-anchor=\"start\" x=\"112\" y=\"-215.8\" font-family=\"Helvetica,sans-Serif\" font-size=\"14.00\">samples = 429</text>\n",
       "<text text-anchor=\"start\" x=\"119.5\" y=\"-200.8\" font-family=\"Helvetica,sans-Serif\" font-size=\"14.00\">value = 0.05</text>\n",
       "</g>\n",
       "<!-- 1 -->\n",
       "<g id=\"node2\" class=\"node\">\n",
       "<title>1</title>\n",
       "<path fill=\"#ffffff\" stroke=\"black\" d=\"M134,-149.5C134,-149.5 12,-149.5 12,-149.5 6,-149.5 0,-143.5 0,-137.5 0,-137.5 0,-108.5 0,-108.5 0,-102.5 6,-96.5 12,-96.5 12,-96.5 134,-96.5 134,-96.5 140,-96.5 146,-102.5 146,-108.5 146,-108.5 146,-137.5 146,-137.5 146,-143.5 140,-149.5 134,-149.5\"/>\n",
       "<text text-anchor=\"start\" x=\"8\" y=\"-134.3\" font-family=\"Helvetica,sans-Serif\" font-size=\"14.00\">absolute_error = 2.33</text>\n",
       "<text text-anchor=\"start\" x=\"28\" y=\"-119.3\" font-family=\"Helvetica,sans-Serif\" font-size=\"14.00\">samples = 128</text>\n",
       "<text text-anchor=\"start\" x=\"29.5\" y=\"-104.3\" font-family=\"Helvetica,sans-Serif\" font-size=\"14.00\">value = &#45;1.375</text>\n",
       "</g>\n",
       "<!-- 0&#45;&gt;1 -->\n",
       "<g id=\"edge1\" class=\"edge\">\n",
       "<title>0&#45;&gt;1</title>\n",
       "<path fill=\"none\" stroke=\"black\" d=\"M129.73,-192.88C120.4,-181.56 109.96,-168.88 100.61,-157.52\"/>\n",
       "<polygon fill=\"black\" stroke=\"black\" points=\"103.08,-155.01 94.02,-149.52 97.67,-159.46 103.08,-155.01\"/>\n",
       "<text text-anchor=\"middle\" x=\"91.61\" y=\"-170.7\" font-family=\"Helvetica,sans-Serif\" font-size=\"14.00\">True</text>\n",
       "</g>\n",
       "<!-- 2 -->\n",
       "<g id=\"node3\" class=\"node\">\n",
       "<title>2</title>\n",
       "<path fill=\"#eeae80\" stroke=\"black\" d=\"M305.5,-157C305.5,-157 176.5,-157 176.5,-157 170.5,-157 164.5,-151 164.5,-145 164.5,-145 164.5,-101 164.5,-101 164.5,-95 170.5,-89 176.5,-89 176.5,-89 305.5,-89 305.5,-89 311.5,-89 317.5,-95 317.5,-101 317.5,-101 317.5,-145 317.5,-145 317.5,-151 311.5,-157 305.5,-157\"/>\n",
       "<text text-anchor=\"start\" x=\"198.5\" y=\"-141.8\" font-family=\"Helvetica,sans-Serif\" font-size=\"14.00\">MOM ≤ 3.495</text>\n",
       "<text text-anchor=\"start\" x=\"172.5\" y=\"-126.8\" font-family=\"Helvetica,sans-Serif\" font-size=\"14.00\">absolute_error = 1.757</text>\n",
       "<text text-anchor=\"start\" x=\"196\" y=\"-111.8\" font-family=\"Helvetica,sans-Serif\" font-size=\"14.00\">samples = 301</text>\n",
       "<text text-anchor=\"start\" x=\"203.5\" y=\"-96.8\" font-family=\"Helvetica,sans-Serif\" font-size=\"14.00\">value = 0.47</text>\n",
       "</g>\n",
       "<!-- 0&#45;&gt;2 -->\n",
       "<g id=\"edge2\" class=\"edge\">\n",
       "<title>0&#45;&gt;2</title>\n",
       "<path fill=\"none\" stroke=\"black\" d=\"M184.27,-192.88C191.53,-184.07 199.47,-174.43 207.04,-165.24\"/>\n",
       "<polygon fill=\"black\" stroke=\"black\" points=\"209.92,-167.24 213.58,-157.3 204.52,-162.79 209.92,-167.24\"/>\n",
       "<text text-anchor=\"middle\" x=\"215.99\" y=\"-178.48\" font-family=\"Helvetica,sans-Serif\" font-size=\"14.00\">False</text>\n",
       "</g>\n",
       "<!-- 3 -->\n",
       "<g id=\"node4\" class=\"node\">\n",
       "<title>3</title>\n",
       "<path fill=\"#f2be99\" stroke=\"black\" d=\"M219.5,-53C219.5,-53 90.5,-53 90.5,-53 84.5,-53 78.5,-47 78.5,-41 78.5,-41 78.5,-12 78.5,-12 78.5,-6 84.5,0 90.5,0 90.5,0 219.5,0 219.5,0 225.5,0 231.5,-6 231.5,-12 231.5,-12 231.5,-41 231.5,-41 231.5,-47 225.5,-53 219.5,-53\"/>\n",
       "<text text-anchor=\"start\" x=\"86.5\" y=\"-37.8\" font-family=\"Helvetica,sans-Serif\" font-size=\"14.00\">absolute_error = 1.597</text>\n",
       "<text text-anchor=\"start\" x=\"110\" y=\"-22.8\" font-family=\"Helvetica,sans-Serif\" font-size=\"14.00\">samples = 192</text>\n",
       "<text text-anchor=\"start\" x=\"121.5\" y=\"-7.8\" font-family=\"Helvetica,sans-Serif\" font-size=\"14.00\">value = 0.1</text>\n",
       "</g>\n",
       "<!-- 2&#45;&gt;3 -->\n",
       "<g id=\"edge3\" class=\"edge\">\n",
       "<title>2&#45;&gt;3</title>\n",
       "<path fill=\"none\" stroke=\"black\" d=\"M210.92,-88.95C202.6,-79.8 193.56,-69.87 185.23,-60.71\"/>\n",
       "<polygon fill=\"black\" stroke=\"black\" points=\"187.74,-58.28 178.42,-53.24 182.56,-62.99 187.74,-58.28\"/>\n",
       "</g>\n",
       "<!-- 4 -->\n",
       "<g id=\"node5\" class=\"node\">\n",
       "<title>4</title>\n",
       "<path fill=\"#e58139\" stroke=\"black\" d=\"M390.5,-53C390.5,-53 261.5,-53 261.5,-53 255.5,-53 249.5,-47 249.5,-41 249.5,-41 249.5,-12 249.5,-12 249.5,-6 255.5,0 261.5,0 261.5,0 390.5,0 390.5,0 396.5,0 402.5,-6 402.5,-12 402.5,-12 402.5,-41 402.5,-41 402.5,-47 396.5,-53 390.5,-53\"/>\n",
       "<text text-anchor=\"start\" x=\"257.5\" y=\"-37.8\" font-family=\"Helvetica,sans-Serif\" font-size=\"14.00\">absolute_error = 1.852</text>\n",
       "<text text-anchor=\"start\" x=\"281\" y=\"-22.8\" font-family=\"Helvetica,sans-Serif\" font-size=\"14.00\">samples = 109</text>\n",
       "<text text-anchor=\"start\" x=\"292.5\" y=\"-7.8\" font-family=\"Helvetica,sans-Serif\" font-size=\"14.00\">value = 1.5</text>\n",
       "</g>\n",
       "<!-- 2&#45;&gt;4 -->\n",
       "<g id=\"edge4\" class=\"edge\">\n",
       "<title>2&#45;&gt;4</title>\n",
       "<path fill=\"none\" stroke=\"black\" d=\"M270.73,-88.95C278.96,-79.8 287.89,-69.87 296.13,-60.71\"/>\n",
       "<polygon fill=\"black\" stroke=\"black\" points=\"298.77,-63.01 302.85,-53.24 293.56,-58.33 298.77,-63.01\"/>\n",
       "</g>\n",
       "</g>\n",
       "</svg>\n"
      ],
      "text/plain": [
       "<graphviz.sources.Source at 0x20b6522a260>"
      ]
     },
     "execution_count": 71,
     "metadata": {},
     "output_type": "execute_result"
    }
   ],
   "source": [
    "dot_data = tree.export_graphviz(mac_tree, out_file=None, \\\n",
    "                                feature_names=df_mac.drop(['open', 'high', 'low', 'close', 'volume', 'trade_count', 'vwap'], axis = 1).columns,\\\n",
    "                                filled=True, rounded=True, special_characters=True) \n",
    "graph = graphviz.Source(dot_data) \n",
    "graph"
   ]
  },
  {
   "cell_type": "code",
   "execution_count": 79,
   "id": "4715e378",
   "metadata": {},
   "outputs": [
    {
     "data": {
      "image/png": "[encoded data removed]",
      "text/plain": [
       "<Figure size 504x252 with 1 Axes>"
      ]
     },
     "metadata": {
      "needs_background": "light"
     },
     "output_type": "display_data"
    }
   ],
   "source": [
    "plt.rcParams[\"figure.figsize\"] = [7.00, 3.50]\n",
    "plt.rcParams[\"figure.autolayout\"] = True\n",
    "x = df_mac.index\n",
    "y = df_mac['close']\n",
    "plt.plot(x, y, c='blue', lw=2)\n",
    "plt.ylim([-12, 12])\n",
    "plt.vlines((df_mac.loc[df_mac['MOM'] > 3.495].index), ymin = -12, ymax = 12, color='green', alpha=0.75, lw=1)\n",
    "plt.show()\n"
   ]
  },
  {
   "cell_type": "code",
   "execution_count": 73,
   "id": "11da8fd4",
   "metadata": {},
   "outputs": [
    {
     "data": {
      "text/plain": [
       "[('EMA_21',\n",
       "  2.0382871794871784,\n",
       "  -0.21006594598293304,\n",
       "  1,\n",
       "  2,\n",
       "  0.05000000000001137),\n",
       " ('EMA_21', 2.330195312500001, -2.0, -1, -1, -1.375000000000007),\n",
       " ('MOM', 1.7569109634551479, 3.4950000047683716, 3, 4, 0.46999999999999886),\n",
       " ('EMA_21', 1.597343750000001, -2.0, -1, -1, 0.09999999999999432),\n",
       " ('EMA_21', 1.8519284403669716, -2.0, -1, -1, 1.5)]"
      ]
     },
     "execution_count": 73,
     "metadata": {},
     "output_type": "execute_result"
    }
   ],
   "source": [
    "# produces list of regression tree with thresholds\n",
    "saved_features = zip(df_mac.drop(['open', 'high', 'low', 'close', 'volume', 'trade_count', 'vwap'], axis = 1).columns[mac_tree.tree_.feature],\\\n",
    "                     mac_tree.tree_.impurity,\\\n",
    "                     mac_tree.tree_.threshold,\\\n",
    "                     mac_tree.tree_.children_left,\\\n",
    "                     mac_tree.tree_.children_right,\\\n",
    "                     list(itertools.chain.from_iterable(list(itertools.chain.from_iterable(mac_tree.tree_.value.tolist())))))\n",
    "\n",
    "list(saved_features)"
   ]
  },
  {
   "cell_type": "markdown",
   "id": "c063df63",
   "metadata": {},
   "source": [
    "### creating df stock indexes by cap size and sector"
   ]
  },
  {
   "cell_type": "code",
   "execution_count": 74,
   "id": "a93a5d29",
   "metadata": {},
   "outputs": [],
   "source": [
    "# Communication stocks\n",
    "com_stock = ['GOOGL', 'Large',\\\n",
    " 'META', 'Large',\\\n",
    " 'VZ', 'Large',\\\n",
    " 'DIS', 'Large',\\\n",
    " 'CMCSA', 'Large',\\\n",
    " 'TMUS', 'Large',\\\n",
    " 'T', 'Large',\\\n",
    " 'NFLX', 'Large',\\\n",
    " 'CHTR', 'Large',\\\n",
    " 'NTES', 'Large']\n",
    "\n",
    "# Consumer Discretionary\n",
    "consumer_dis_stock = ['AMZN', 'Large',\\\n",
    "                 'TSLA', 'Large',\\\n",
    "                 'LVMHF', 'Large',\\\n",
    "                 'HD', 'Large',\\\n",
    "                 'TM', 'Large',\\\n",
    "                 'NKE', 'Large',\\\n",
    "                 'MCD', 'Large',\\\n",
    "                 'VWAGY', 'Large',\\\n",
    "                 'HESAY', 'Large',\\\n",
    "                 'LOW', 'Large',\\\n",
    "                 'APTV', 'Mid',\\\n",
    "                 'SCI', 'Mid',\\\n",
    "                 'WSM', 'Mid',\\\n",
    "                 'GME', 'Mid',\\\n",
    "                 'FIVE', 'Mid',\\\n",
    "                 'LAD', 'Mid',\\\n",
    "                 'DHI', 'Mid',\\\n",
    "                 'LEN', 'Mid',\\\n",
    "                 'ORLY', 'Mid',\\\n",
    "                 'EBAY', 'Small',\\\n",
    "                 'FL', 'Mid',\\\n",
    "                 'COUR', 'Small']\n",
    "# Consumer Staples\n",
    "consumer_sta_stocks = ['WMT', 'Large',\\\n",
    "                       'PG', 'Large',\\\n",
    "                       'NSRGY', 'Large',\\\n",
    "                       'KO', 'Large',\\\n",
    "                       'COST', 'Large',\\\n",
    "                       'PEP', 'Large',\\\n",
    "                       'LRLCY', 'Large',\\\n",
    "                       'PM', 'Large',\\\n",
    "                       'UL', 'Large',\\\n",
    "                       'TGT', 'Large']\n",
    "# energy \n",
    "energy_stocks = ['XOM', 'Large',\\\n",
    "                 'CVX', 'Large',\\\n",
    "                 'RYDAF', 'Large',\\\n",
    "                 'TTE', 'Large',\\\n",
    "                 'COP', 'Large',\\\n",
    "                 'EQNR', 'Large',\\\n",
    "                 'BP', 'Large',\\\n",
    "                 'PTR', 'Large',\\\n",
    "                 'ENB', 'Large',\\\n",
    "                 'PBR', 'Large',\\\n",
    "                 'XOM', 'Large']\n",
    "# Financial  \n",
    "finance_stocks = ['BRK.A', 'Large',\\\n",
    "                  'V', 'Large',\\\n",
    "                  'JPM', 'Large',\\\n",
    "                  'MA', 'Large',\\\n",
    "                  'BAC', 'Large',\\\n",
    "                  'IDCBY', 'Large',\\\n",
    "                  'CICHY', 'Large',\\\n",
    "                  'WFC', 'Large',\\\n",
    "                  'MS', 'Large',\\\n",
    "                  'C', 'Large',\\\n",
    "                  'WFC', 'Large',\\\n",
    "                  'BFH', 'Mid']\n",
    "# health  \n",
    "health_stocks = ['JNJ', 'Large',\\\n",
    "                 'UNH', 'Large',\\\n",
    "                 'PFE', 'Large',\\\n",
    "                 'LLY', 'Large',\\\n",
    "                 'RHHBY', 'Large',\\\n",
    "                 'NVO', 'Large',\\\n",
    "                 'MRK', 'Large',\\\n",
    "                 'TMO', 'Large',\\\n",
    "                 'DHR', 'Large',\\\n",
    "                 'ABT', 'Large',\\\n",
    "                 'OPRX', 'Small',\\\n",
    "                 'GBT', 'Small']\n",
    "# Industrial   \n",
    "indus_stocks = ['UPS', 'Large',\\\n",
    "                 'RTX', 'Large',\\\n",
    "                 'UNP', 'Large',\\\n",
    "                 'HON', 'Large',\\\n",
    "                 'CAT', 'Large',\\\n",
    "                 'DE', 'Large',\\\n",
    "                 'SIEGY', 'Large',\\\n",
    "                 'GE', 'Large',\\\n",
    "                 'BA', 'Large',\\\n",
    "                 'X', 'Mid']\n",
    "# Materials   \n",
    "mater_stocks = ['BHP', 'Large',\\\n",
    "                 'LIN', 'Large',\\\n",
    "                 'RIO', 'Large',\\\n",
    "                 'AIQUY', 'Large',\\\n",
    "                 'VALE', 'Large',\\\n",
    "                 'GLNCY', 'Large',\\\n",
    "                 'SHW', 'Large',\\\n",
    "                 'SHECY', 'Large',\\\n",
    "                 'ECL', 'Large']\n",
    "# Real Estate   \n",
    "property_stocks = ['AMT', 'Large',\\\n",
    "                     'PLD', 'Large',\\\n",
    "                     'CCI', 'Large',\\\n",
    "                     'DLR', 'Large',\\\n",
    "                     'EQIX', 'Large',\\\n",
    "                     'SPG', 'Large',\\\n",
    "                     'PSA', 'Large',\\\n",
    "                     'O', 'Large',\\\n",
    "                     'WELL', 'Large', \\\n",
    "                     'SBAC', 'Large']\n",
    "# Technology    \n",
    "tech_stocks = ['AAPL', 'Large',\\\n",
    "                 'MSFT', 'Large',\\\n",
    "                 'TSM', 'Large',\\\n",
    "                 'NVDA', 'Large',\\\n",
    "                 'TCEHY', 'Large',\\\n",
    "                 '005930.KS', 'Large',\\\n",
    "                 'BABA', 'Large',\\\n",
    "                 'ASML', 'Large',\\\n",
    "                  'FOUR', 'Small',\\\n",
    "                  'FLYW', 'Small',\\\n",
    "                  'AMBA', 'Mid']\n",
    "# Utilities    \n",
    "util_stocks = ['NEE', 'Large',\\\n",
    "                 'DUK', 'Large',\\\n",
    "                 'SO', 'Large',\\\n",
    "                 'D', 'Large',\\\n",
    "                 'AEP', 'Large',\\\n",
    "                 'SRE', 'Large',\\\n",
    "                 'EXC', 'Large',\\\n",
    "                 'XEL', 'Large',\\\n",
    "                 'PEG', 'Large',\\\n",
    "                  'FLNC', 'Small',\\\n",
    "                  'NOVA', 'Small']\n",
    "# Defense \n",
    "def_stocks = ['GD', 'Large',\\\n",
    "              'LMT', 'Large',\\\n",
    "              'RTX', 'Large']"
   ]
  },
  {
   "cell_type": "code",
   "execution_count": 75,
   "id": "a4233ecd",
   "metadata": {},
   "outputs": [],
   "source": [
    "# multi list with hand created index lists\n",
    "list_sector_index = [com_stock, consumer_dis_stock, consumer_sta_stocks, energy_stocks, finance_stocks, health_stocks, \\\n",
    "              indus_stocks, mater_stocks, property_stocks, tech_stocks, util_stocks, def_stocks]\n",
    "# list of sectors\n",
    "list_of_sectors = ['Communication Services', 'Consumer Discretionary', 'Consumer Staples', 'Energy', 'Financial', 'Healthcare',\\\n",
    "                   'Industrial', 'Materials', 'Real Estate', 'Technology', 'Utilities', 'Defense']\n",
    "#  empty list to append\n",
    "arrayofsec = []\n",
    "# creates repeats the sector name the number of times the value occurs \n",
    "for i, string in enumerate(list_of_sectors):\n",
    "    arrayofsec.append(list(itertools.chain(np.repeat(string, len(list_sector_index[i][1::2])))))"
   ]
  },
  {
   "cell_type": "code",
   "execution_count": 76,
   "id": "6c558d5a",
   "metadata": {},
   "outputs": [],
   "source": [
    "# creates function to flatten nested lists\n",
    "def flatten(xss):\n",
    "    return [x for xs in xss for x in xs]\n",
    "# flattens arrayofsec\n",
    "flat_sector = flatten(arrayofsec)"
   ]
  },
  {
   "cell_type": "code",
   "execution_count": 77,
   "id": "0c4d3f07",
   "metadata": {},
   "outputs": [],
   "source": [
    "df_index = pd.DataFrame({'Index': flatten(list_sector_index)[::2], 'Cap size': flatten(list_sector_index)[1::2], 'Sector': flat_sector})"
   ]
  },
  {
   "cell_type": "code",
   "execution_count": 78,
   "id": "1a855cb1",
   "metadata": {},
   "outputs": [
    {
     "data": {
      "text/html": [
       "<div>\n",
       "<style scoped>\n",
       "    .dataframe tbody tr th:only-of-type {\n",
       "        vertical-align: middle;\n",
       "    }\n",
       "\n",
       "    .dataframe tbody tr th {\n",
       "        vertical-align: top;\n",
       "    }\n",
       "\n",
       "    .dataframe thead th {\n",
       "        text-align: right;\n",
       "    }\n",
       "</style>\n",
       "<table border=\"1\" class=\"dataframe\">\n",
       "  <thead>\n",
       "    <tr style=\"text-align: right;\">\n",
       "      <th></th>\n",
       "      <th>Index</th>\n",
       "      <th>Cap size</th>\n",
       "      <th>Sector</th>\n",
       "    </tr>\n",
       "  </thead>\n",
       "  <tbody>\n",
       "    <tr>\n",
       "      <th>121</th>\n",
       "      <td>AEP</td>\n",
       "      <td>Large</td>\n",
       "      <td>Utilities</td>\n",
       "    </tr>\n",
       "    <tr>\n",
       "      <th>122</th>\n",
       "      <td>SRE</td>\n",
       "      <td>Large</td>\n",
       "      <td>Utilities</td>\n",
       "    </tr>\n",
       "    <tr>\n",
       "      <th>123</th>\n",
       "      <td>EXC</td>\n",
       "      <td>Large</td>\n",
       "      <td>Utilities</td>\n",
       "    </tr>\n",
       "    <tr>\n",
       "      <th>124</th>\n",
       "      <td>XEL</td>\n",
       "      <td>Large</td>\n",
       "      <td>Utilities</td>\n",
       "    </tr>\n",
       "    <tr>\n",
       "      <th>125</th>\n",
       "      <td>PEG</td>\n",
       "      <td>Large</td>\n",
       "      <td>Utilities</td>\n",
       "    </tr>\n",
       "    <tr>\n",
       "      <th>126</th>\n",
       "      <td>FLNC</td>\n",
       "      <td>Small</td>\n",
       "      <td>Utilities</td>\n",
       "    </tr>\n",
       "    <tr>\n",
       "      <th>127</th>\n",
       "      <td>NOVA</td>\n",
       "      <td>Small</td>\n",
       "      <td>Utilities</td>\n",
       "    </tr>\n",
       "    <tr>\n",
       "      <th>128</th>\n",
       "      <td>GD</td>\n",
       "      <td>Large</td>\n",
       "      <td>Defense</td>\n",
       "    </tr>\n",
       "    <tr>\n",
       "      <th>129</th>\n",
       "      <td>LMT</td>\n",
       "      <td>Large</td>\n",
       "      <td>Defense</td>\n",
       "    </tr>\n",
       "    <tr>\n",
       "      <th>130</th>\n",
       "      <td>RTX</td>\n",
       "      <td>Large</td>\n",
       "      <td>Defense</td>\n",
       "    </tr>\n",
       "  </tbody>\n",
       "</table>\n",
       "</div>"
      ],
      "text/plain": [
       "    Index Cap size     Sector\n",
       "121   AEP    Large  Utilities\n",
       "122   SRE    Large  Utilities\n",
       "123   EXC    Large  Utilities\n",
       "124   XEL    Large  Utilities\n",
       "125   PEG    Large  Utilities\n",
       "126  FLNC    Small  Utilities\n",
       "127  NOVA    Small  Utilities\n",
       "128    GD    Large    Defense\n",
       "129   LMT    Large    Defense\n",
       "130   RTX    Large    Defense"
      ]
     },
     "execution_count": 78,
     "metadata": {},
     "output_type": "execute_result"
    }
   ],
   "source": [
    "df_index.tail(10)"
   ]
  },
  {
   "cell_type": "code",
   "execution_count": null,
   "id": "e198ffac",
   "metadata": {},
   "outputs": [],
   "source": []
  }
 ],
 "metadata": {
  "kernelspec": {
   "display_name": "Python 3 (ipykernel)",
   "language": "python",
   "name": "python3"
  },
  "language_info": {
   "codemirror_mode": {
    "name": "ipython",
    "version": 3
   },
   "file_extension": ".py",
   "mimetype": "text/x-python",
   "name": "python",
   "nbconvert_exporter": "python",
   "pygments_lexer": "ipython3",
   "version": "3.10.4"
  }
 },
 "nbformat": 4,
 "nbformat_minor": 5
}
