{
 "cells": [
  {
   "cell_type": "code",
   "execution_count": 1,
   "id": "db7d1b01",
   "metadata": {},
   "outputs": [],
   "source": [
    "import json\n",
    "import os\n",
    "\n",
    "%load_ext dotenv\n",
    "%dotenv\n",
    "\n",
    "# f = open(\"authPaper.json\")\n",
    "# auth = json.load(f)"
   ]
  },
  {
   "cell_type": "code",
   "execution_count": 6,
   "id": "ad1a5f91",
   "metadata": {},
   "outputs": [],
   "source": [
    "import alpaca_trade_api as tradeapi\n",
    "from alpaca_trade_api.rest import REST, TimeFrame\n",
    "# BASE_URL = \"https://paper-api.alpaca.markets\"\n",
    "# API_KEY = auth['ID']\n",
    "# SECRET_KEY = auth['Secret']"
   ]
  },
  {
   "cell_type": "code",
   "execution_count": 3,
   "id": "f843b7fc",
   "metadata": {},
   "outputs": [],
   "source": [
    "api = tradeapi.REST(key_id= os.getenv('API_KEY'), secret_key=os.getenv('SECRET_KEY'), base_url=os.getenv('APCA_API_BASE_URL'), api_version='v2')"
   ]
  },
  {
   "cell_type": "code",
   "execution_count": 11,
   "id": "0986d9ca",
   "metadata": {},
   "outputs": [],
   "source": [
    "import talib as tb"
   ]
  },
  {
   "cell_type": "code",
   "execution_count": 48,
   "id": "917307da",
   "metadata": {},
   "outputs": [],
   "source": [
    "df_apple = api.get_bars(\"AAPL\", TimeFrame.Day, \"2020-01-01\", \"2022-01-08\", adjustment='raw').df"
   ]
  },
  {
   "cell_type": "code",
   "execution_count": 49,
   "id": "140af8fc",
   "metadata": {},
   "outputs": [],
   "source": [
    "macd, macdsignal, macdhist = tb.MACD(df_apple['close'], fastperiod=12, slowperiod=26, signalperiod=9)"
   ]
  },
  {
   "cell_type": "code",
   "execution_count": 175,
   "id": "90d78d42",
   "metadata": {},
   "outputs": [
    {
     "data": {
      "text/plain": [
       "<AxesSubplot:xlabel='timestamp'>"
      ]
     },
     "execution_count": 175,
     "metadata": {},
     "output_type": "execute_result"
    },
    {
     "data": {
      "image/png": "[encoded data removed]",
      "text/plain": [
       "<Figure size 432x288 with 1 Axes>"
      ]
     },
     "metadata": {
      "needs_background": "light"
     },
     "output_type": "display_data"
    }
   ],
   "source": [
    "df_apple['close'].plot()"
   ]
  },
  {
   "cell_type": "code",
   "execution_count": 85,
   "id": "45216c9f",
   "metadata": {},
   "outputs": [],
   "source": [
    "# importing forecasting libraries\n",
    "import pmdarima as pm\n",
    "import numpy as npf\n",
    "import matplotlib.pyplot as plt\n",
    "import seaborn as sn"
   ]
  },
  {
   "cell_type": "code",
   "execution_count": 72,
   "id": "061dfa33",
   "metadata": {},
   "outputs": [],
   "source": [
    "arima_model = pm.auto_arima(df_apple['close'], seasonal = False)"
   ]
  },
  {
   "cell_type": "markdown",
   "id": "37f67ca9",
   "metadata": {},
   "source": [
    "# Random Walk (Useless)\n",
    "A random walk does not help predict the next values only that the variance will increase... lame <br>\n",
    "This is for predictions involving the closing cost"
   ]
  },
  {
   "cell_type": "code",
   "execution_count": 73,
   "id": "bff7580a",
   "metadata": {},
   "outputs": [
    {
     "data": {
      "text/html": [
       "<style>#sk-container-id-7 {color: black;background-color: white;}#sk-container-id-7 pre{padding: 0;}#sk-container-id-7 div.sk-toggleable {background-color: white;}#sk-container-id-7 label.sk-toggleable__label {cursor: pointer;display: block;width: 100%;margin-bottom: 0;padding: 0.3em;box-sizing: border-box;text-align: center;}#sk-container-id-7 label.sk-toggleable__label-arrow:before {content: \"▸\";float: left;margin-right: 0.25em;color: #696969;}#sk-container-id-7 label.sk-toggleable__label-arrow:hover:before {color: black;}#sk-container-id-7 div.sk-estimator:hover label.sk-toggleable__label-arrow:before {color: black;}#sk-container-id-7 div.sk-toggleable__content {max-height: 0;max-width: 0;overflow: hidden;text-align: left;background-color: #f0f8ff;}#sk-container-id-7 div.sk-toggleable__content pre {margin: 0.2em;color: black;border-radius: 0.25em;background-color: #f0f8ff;}#sk-container-id-7 input.sk-toggleable__control:checked~div.sk-toggleable__content {max-height: 200px;max-width: 100%;overflow: auto;}#sk-container-id-7 input.sk-toggleable__control:checked~label.sk-toggleable__label-arrow:before {content: \"▾\";}#sk-container-id-7 div.sk-estimator input.sk-toggleable__control:checked~label.sk-toggleable__label {background-color: #d4ebff;}#sk-container-id-7 div.sk-label input.sk-toggleable__control:checked~label.sk-toggleable__label {background-color: #d4ebff;}#sk-container-id-7 input.sk-hidden--visually {border: 0;clip: rect(1px 1px 1px 1px);clip: rect(1px, 1px, 1px, 1px);height: 1px;margin: -1px;overflow: hidden;padding: 0;position: absolute;width: 1px;}#sk-container-id-7 div.sk-estimator {font-family: monospace;background-color: #f0f8ff;border: 1px dotted black;border-radius: 0.25em;box-sizing: border-box;margin-bottom: 0.5em;}#sk-container-id-7 div.sk-estimator:hover {background-color: #d4ebff;}#sk-container-id-7 div.sk-parallel-item::after {content: \"\";width: 100%;border-bottom: 1px solid gray;flex-grow: 1;}#sk-container-id-7 div.sk-label:hover label.sk-toggleable__label {background-color: #d4ebff;}#sk-container-id-7 div.sk-serial::before {content: \"\";position: absolute;border-left: 1px solid gray;box-sizing: border-box;top: 0;bottom: 0;left: 50%;z-index: 0;}#sk-container-id-7 div.sk-serial {display: flex;flex-direction: column;align-items: center;background-color: white;padding-right: 0.2em;padding-left: 0.2em;position: relative;}#sk-container-id-7 div.sk-item {position: relative;z-index: 1;}#sk-container-id-7 div.sk-parallel {display: flex;align-items: stretch;justify-content: center;background-color: white;position: relative;}#sk-container-id-7 div.sk-item::before, #sk-container-id-7 div.sk-parallel-item::before {content: \"\";position: absolute;border-left: 1px solid gray;box-sizing: border-box;top: 0;bottom: 0;left: 50%;z-index: -1;}#sk-container-id-7 div.sk-parallel-item {display: flex;flex-direction: column;z-index: 1;position: relative;background-color: white;}#sk-container-id-7 div.sk-parallel-item:first-child::after {align-self: flex-end;width: 50%;}#sk-container-id-7 div.sk-parallel-item:last-child::after {align-self: flex-start;width: 50%;}#sk-container-id-7 div.sk-parallel-item:only-child::after {width: 0;}#sk-container-id-7 div.sk-dashed-wrapped {border: 1px dashed gray;margin: 0 0.4em 0.5em 0.4em;box-sizing: border-box;padding-bottom: 0.4em;background-color: white;}#sk-container-id-7 div.sk-label label {font-family: monospace;font-weight: bold;display: inline-block;line-height: 1.2em;}#sk-container-id-7 div.sk-label-container {text-align: center;}#sk-container-id-7 div.sk-container {/* jupyter's `normalize.less` sets `[hidden] { display: none; }` but bootstrap.min.css set `[hidden] { display: none !important; }` so we also need the `!important` here to be able to override the default hidden behavior on the sphinx rendered scikit-learn.org. See: https://github.com/scikit-learn/scikit-learn/issues/21755 */display: inline-block !important;position: relative;}#sk-container-id-7 div.sk-text-repr-fallback {display: none;}</style><div id=\"sk-container-id-7\" class=\"sk-top-container\"><div class=\"sk-text-repr-fallback\"><pre> ARIMA(0,1,0)(0,0,0)[0]          </pre><b>In a Jupyter environment, please rerun this cell to show the HTML representation or trust the notebook. <br />On GitHub, the HTML representation is unable to render, please try loading this page with nbviewer.org.</b></div><div class=\"sk-container\" hidden><div class=\"sk-item\"><div class=\"sk-estimator sk-toggleable\"><input class=\"sk-toggleable__control sk-hidden--visually\" id=\"sk-estimator-id-7\" type=\"checkbox\" checked><label for=\"sk-estimator-id-7\" class=\"sk-toggleable__label sk-toggleable__label-arrow\">ARIMA</label><div class=\"sk-toggleable__content\"><pre> ARIMA(0,1,0)(0,0,0)[0]          </pre></div></div></div></div></div>"
      ],
      "text/plain": [
       "ARIMA(order=(0, 1, 0), scoring_args={}, suppress_warnings=True,\n",
       "      with_intercept=False)"
      ]
     },
     "execution_count": 73,
     "metadata": {},
     "output_type": "execute_result"
    }
   ],
   "source": [
    "arima_model"
   ]
  },
  {
   "cell_type": "markdown",
   "id": "04d0acb6",
   "metadata": {},
   "source": [
    "# Forecasting Volume\n",
    "\n",
    "We can see that volume is dependant on on previous lag with a ar and ma term."
   ]
  },
  {
   "cell_type": "code",
   "execution_count": 74,
   "id": "bfe20392",
   "metadata": {},
   "outputs": [
    {
     "data": {
      "text/html": [
       "<style>#sk-container-id-8 {color: black;background-color: white;}#sk-container-id-8 pre{padding: 0;}#sk-container-id-8 div.sk-toggleable {background-color: white;}#sk-container-id-8 label.sk-toggleable__label {cursor: pointer;display: block;width: 100%;margin-bottom: 0;padding: 0.3em;box-sizing: border-box;text-align: center;}#sk-container-id-8 label.sk-toggleable__label-arrow:before {content: \"▸\";float: left;margin-right: 0.25em;color: #696969;}#sk-container-id-8 label.sk-toggleable__label-arrow:hover:before {color: black;}#sk-container-id-8 div.sk-estimator:hover label.sk-toggleable__label-arrow:before {color: black;}#sk-container-id-8 div.sk-toggleable__content {max-height: 0;max-width: 0;overflow: hidden;text-align: left;background-color: #f0f8ff;}#sk-container-id-8 div.sk-toggleable__content pre {margin: 0.2em;color: black;border-radius: 0.25em;background-color: #f0f8ff;}#sk-container-id-8 input.sk-toggleable__control:checked~div.sk-toggleable__content {max-height: 200px;max-width: 100%;overflow: auto;}#sk-container-id-8 input.sk-toggleable__control:checked~label.sk-toggleable__label-arrow:before {content: \"▾\";}#sk-container-id-8 div.sk-estimator input.sk-toggleable__control:checked~label.sk-toggleable__label {background-color: #d4ebff;}#sk-container-id-8 div.sk-label input.sk-toggleable__control:checked~label.sk-toggleable__label {background-color: #d4ebff;}#sk-container-id-8 input.sk-hidden--visually {border: 0;clip: rect(1px 1px 1px 1px);clip: rect(1px, 1px, 1px, 1px);height: 1px;margin: -1px;overflow: hidden;padding: 0;position: absolute;width: 1px;}#sk-container-id-8 div.sk-estimator {font-family: monospace;background-color: #f0f8ff;border: 1px dotted black;border-radius: 0.25em;box-sizing: border-box;margin-bottom: 0.5em;}#sk-container-id-8 div.sk-estimator:hover {background-color: #d4ebff;}#sk-container-id-8 div.sk-parallel-item::after {content: \"\";width: 100%;border-bottom: 1px solid gray;flex-grow: 1;}#sk-container-id-8 div.sk-label:hover label.sk-toggleable__label {background-color: #d4ebff;}#sk-container-id-8 div.sk-serial::before {content: \"\";position: absolute;border-left: 1px solid gray;box-sizing: border-box;top: 0;bottom: 0;left: 50%;z-index: 0;}#sk-container-id-8 div.sk-serial {display: flex;flex-direction: column;align-items: center;background-color: white;padding-right: 0.2em;padding-left: 0.2em;position: relative;}#sk-container-id-8 div.sk-item {position: relative;z-index: 1;}#sk-container-id-8 div.sk-parallel {display: flex;align-items: stretch;justify-content: center;background-color: white;position: relative;}#sk-container-id-8 div.sk-item::before, #sk-container-id-8 div.sk-parallel-item::before {content: \"\";position: absolute;border-left: 1px solid gray;box-sizing: border-box;top: 0;bottom: 0;left: 50%;z-index: -1;}#sk-container-id-8 div.sk-parallel-item {display: flex;flex-direction: column;z-index: 1;position: relative;background-color: white;}#sk-container-id-8 div.sk-parallel-item:first-child::after {align-self: flex-end;width: 50%;}#sk-container-id-8 div.sk-parallel-item:last-child::after {align-self: flex-start;width: 50%;}#sk-container-id-8 div.sk-parallel-item:only-child::after {width: 0;}#sk-container-id-8 div.sk-dashed-wrapped {border: 1px dashed gray;margin: 0 0.4em 0.5em 0.4em;box-sizing: border-box;padding-bottom: 0.4em;background-color: white;}#sk-container-id-8 div.sk-label label {font-family: monospace;font-weight: bold;display: inline-block;line-height: 1.2em;}#sk-container-id-8 div.sk-label-container {text-align: center;}#sk-container-id-8 div.sk-container {/* jupyter's `normalize.less` sets `[hidden] { display: none; }` but bootstrap.min.css set `[hidden] { display: none !important; }` so we also need the `!important` here to be able to override the default hidden behavior on the sphinx rendered scikit-learn.org. See: https://github.com/scikit-learn/scikit-learn/issues/21755 */display: inline-block !important;position: relative;}#sk-container-id-8 div.sk-text-repr-fallback {display: none;}</style><div id=\"sk-container-id-8\" class=\"sk-top-container\"><div class=\"sk-text-repr-fallback\"><pre> ARIMA(1,1,1)(0,0,0)[0]          </pre><b>In a Jupyter environment, please rerun this cell to show the HTML representation or trust the notebook. <br />On GitHub, the HTML representation is unable to render, please try loading this page with nbviewer.org.</b></div><div class=\"sk-container\" hidden><div class=\"sk-item\"><div class=\"sk-estimator sk-toggleable\"><input class=\"sk-toggleable__control sk-hidden--visually\" id=\"sk-estimator-id-8\" type=\"checkbox\" checked><label for=\"sk-estimator-id-8\" class=\"sk-toggleable__label sk-toggleable__label-arrow\">ARIMA</label><div class=\"sk-toggleable__content\"><pre> ARIMA(1,1,1)(0,0,0)[0]          </pre></div></div></div></div></div>"
      ],
      "text/plain": [
       "ARIMA(order=(1, 1, 1), scoring_args={}, suppress_warnings=True,\n",
       "      with_intercept=False)"
      ]
     },
     "execution_count": 74,
     "metadata": {},
     "output_type": "execute_result"
    }
   ],
   "source": [
    "arima_model = pm.auto_arima(df_apple['volume'], seasonal = False)\n",
    "\n",
    "arima_model"
   ]
  },
  {
   "cell_type": "markdown",
   "id": "1c9ad60f",
   "metadata": {},
   "source": [
    "# Correlation plot"
   ]
  },
  {
   "cell_type": "code",
   "execution_count": 75,
   "id": "4f09960e",
   "metadata": {},
   "outputs": [
    {
     "data": {
      "image/png": "[encoded data removed]",
      "text/plain": [
       "<Figure size 432x288 with 2 Axes>"
      ]
     },
     "metadata": {
      "needs_background": "light"
     },
     "output_type": "display_data"
    }
   ],
   "source": [
    "corrMatrix = df_apple.corr()\n",
    "sn.heatmap(corrMatrix, annot=True)\n",
    "plt.show()"
   ]
  },
  {
   "cell_type": "code",
   "execution_count": 171,
   "id": "07e1cbc7",
   "metadata": {},
   "outputs": [],
   "source": [
    "# building  linear model\n",
    "import statsmodels.api as sm\n",
    "import math\n",
    "from scipy import stats\n",
    "from scipy import special"
   ]
  },
  {
   "cell_type": "code",
   "execution_count": null,
   "id": "63d3ba5a",
   "metadata": {},
   "outputs": [],
   "source": [
    "# build a function that can take in a stock, apply a transformation on it, forecast it and test it as well."
   ]
  },
  {
   "cell_type": "code",
   "execution_count": 177,
   "id": "193da5c2",
   "metadata": {},
   "outputs": [],
   "source": [
    "stock = \"AAPL\"\n",
    "test_set_length = 30"
   ]
  },
  {
   "cell_type": "code",
   "execution_count": 263,
   "id": "ca8ae704",
   "metadata": {},
   "outputs": [],
   "source": [
    "df_bars = api.get_bars(stock, TimeFrame.Day, \"2020-01-01\", \"2022-01-08\", adjustment='raw').df"
   ]
  },
  {
   "cell_type": "code",
   "execution_count": 264,
   "id": "a59beea5",
   "metadata": {},
   "outputs": [
    {
     "data": {
      "text/html": [
       "<div>\n",
       "<style scoped>\n",
       "    .dataframe tbody tr th:only-of-type {\n",
       "        vertical-align: middle;\n",
       "    }\n",
       "\n",
       "    .dataframe tbody tr th {\n",
       "        vertical-align: top;\n",
       "    }\n",
       "\n",
       "    .dataframe thead th {\n",
       "        text-align: right;\n",
       "    }\n",
       "</style>\n",
       "<table border=\"1\" class=\"dataframe\">\n",
       "  <thead>\n",
       "    <tr style=\"text-align: right;\">\n",
       "      <th></th>\n",
       "      <th>open</th>\n",
       "      <th>high</th>\n",
       "      <th>low</th>\n",
       "      <th>close</th>\n",
       "      <th>volume</th>\n",
       "      <th>trade_count</th>\n",
       "      <th>vwap</th>\n",
       "    </tr>\n",
       "    <tr>\n",
       "      <th>timestamp</th>\n",
       "      <th></th>\n",
       "      <th></th>\n",
       "      <th></th>\n",
       "      <th></th>\n",
       "      <th></th>\n",
       "      <th></th>\n",
       "      <th></th>\n",
       "    </tr>\n",
       "  </thead>\n",
       "  <tbody>\n",
       "    <tr>\n",
       "      <th>2020-01-02 05:00:00+00:00</th>\n",
       "      <td>296.27</td>\n",
       "      <td>300.6000</td>\n",
       "      <td>295.190</td>\n",
       "      <td>300.350</td>\n",
       "      <td>33920004</td>\n",
       "      <td>283490</td>\n",
       "      <td>298.439935</td>\n",
       "    </tr>\n",
       "    <tr>\n",
       "      <th>2020-01-03 05:00:00+00:00</th>\n",
       "      <td>296.95</td>\n",
       "      <td>300.5800</td>\n",
       "      <td>296.500</td>\n",
       "      <td>297.430</td>\n",
       "      <td>36633995</td>\n",
       "      <td>280942</td>\n",
       "      <td>298.810386</td>\n",
       "    </tr>\n",
       "    <tr>\n",
       "      <th>2020-01-06 05:00:00+00:00</th>\n",
       "      <td>293.70</td>\n",
       "      <td>299.9600</td>\n",
       "      <td>292.750</td>\n",
       "      <td>299.800</td>\n",
       "      <td>29644779</td>\n",
       "      <td>242867</td>\n",
       "      <td>297.799601</td>\n",
       "    </tr>\n",
       "    <tr>\n",
       "      <th>2020-01-07 05:00:00+00:00</th>\n",
       "      <td>299.98</td>\n",
       "      <td>300.9000</td>\n",
       "      <td>297.480</td>\n",
       "      <td>298.390</td>\n",
       "      <td>27885664</td>\n",
       "      <td>227873</td>\n",
       "      <td>298.924596</td>\n",
       "    </tr>\n",
       "    <tr>\n",
       "      <th>2020-01-08 05:00:00+00:00</th>\n",
       "      <td>297.17</td>\n",
       "      <td>304.4399</td>\n",
       "      <td>297.156</td>\n",
       "      <td>303.190</td>\n",
       "      <td>33091741</td>\n",
       "      <td>261777</td>\n",
       "      <td>301.165533</td>\n",
       "    </tr>\n",
       "    <tr>\n",
       "      <th>...</th>\n",
       "      <td>...</td>\n",
       "      <td>...</td>\n",
       "      <td>...</td>\n",
       "      <td>...</td>\n",
       "      <td>...</td>\n",
       "      <td>...</td>\n",
       "      <td>...</td>\n",
       "    </tr>\n",
       "    <tr>\n",
       "      <th>2022-01-03 05:00:00+00:00</th>\n",
       "      <td>177.81</td>\n",
       "      <td>182.8800</td>\n",
       "      <td>177.710</td>\n",
       "      <td>182.010</td>\n",
       "      <td>104690466</td>\n",
       "      <td>772367</td>\n",
       "      <td>181.415512</td>\n",
       "    </tr>\n",
       "    <tr>\n",
       "      <th>2022-01-04 05:00:00+00:00</th>\n",
       "      <td>182.61</td>\n",
       "      <td>182.9400</td>\n",
       "      <td>179.120</td>\n",
       "      <td>179.700</td>\n",
       "      <td>99284337</td>\n",
       "      <td>831619</td>\n",
       "      <td>180.555450</td>\n",
       "    </tr>\n",
       "    <tr>\n",
       "      <th>2022-01-05 05:00:00+00:00</th>\n",
       "      <td>179.61</td>\n",
       "      <td>180.1700</td>\n",
       "      <td>174.650</td>\n",
       "      <td>174.835</td>\n",
       "      <td>86753815</td>\n",
       "      <td>844519</td>\n",
       "      <td>177.497784</td>\n",
       "    </tr>\n",
       "    <tr>\n",
       "      <th>2022-01-06 05:00:00+00:00</th>\n",
       "      <td>172.40</td>\n",
       "      <td>175.3000</td>\n",
       "      <td>171.640</td>\n",
       "      <td>172.000</td>\n",
       "      <td>96792639</td>\n",
       "      <td>958689</td>\n",
       "      <td>173.079885</td>\n",
       "    </tr>\n",
       "    <tr>\n",
       "      <th>2022-01-07 05:00:00+00:00</th>\n",
       "      <td>172.73</td>\n",
       "      <td>174.1400</td>\n",
       "      <td>171.030</td>\n",
       "      <td>172.170</td>\n",
       "      <td>87682425</td>\n",
       "      <td>716119</td>\n",
       "      <td>172.439116</td>\n",
       "    </tr>\n",
       "  </tbody>\n",
       "</table>\n",
       "<p>510 rows × 7 columns</p>\n",
       "</div>"
      ],
      "text/plain": [
       "                             open      high      low    close     volume  \\\n",
       "timestamp                                                                  \n",
       "2020-01-02 05:00:00+00:00  296.27  300.6000  295.190  300.350   33920004   \n",
       "2020-01-03 05:00:00+00:00  296.95  300.5800  296.500  297.430   36633995   \n",
       "2020-01-06 05:00:00+00:00  293.70  299.9600  292.750  299.800   29644779   \n",
       "2020-01-07 05:00:00+00:00  299.98  300.9000  297.480  298.390   27885664   \n",
       "2020-01-08 05:00:00+00:00  297.17  304.4399  297.156  303.190   33091741   \n",
       "...                           ...       ...      ...      ...        ...   \n",
       "2022-01-03 05:00:00+00:00  177.81  182.8800  177.710  182.010  104690466   \n",
       "2022-01-04 05:00:00+00:00  182.61  182.9400  179.120  179.700   99284337   \n",
       "2022-01-05 05:00:00+00:00  179.61  180.1700  174.650  174.835   86753815   \n",
       "2022-01-06 05:00:00+00:00  172.40  175.3000  171.640  172.000   96792639   \n",
       "2022-01-07 05:00:00+00:00  172.73  174.1400  171.030  172.170   87682425   \n",
       "\n",
       "                           trade_count        vwap  \n",
       "timestamp                                           \n",
       "2020-01-02 05:00:00+00:00       283490  298.439935  \n",
       "2020-01-03 05:00:00+00:00       280942  298.810386  \n",
       "2020-01-06 05:00:00+00:00       242867  297.799601  \n",
       "2020-01-07 05:00:00+00:00       227873  298.924596  \n",
       "2020-01-08 05:00:00+00:00       261777  301.165533  \n",
       "...                                ...         ...  \n",
       "2022-01-03 05:00:00+00:00       772367  181.415512  \n",
       "2022-01-04 05:00:00+00:00       831619  180.555450  \n",
       "2022-01-05 05:00:00+00:00       844519  177.497784  \n",
       "2022-01-06 05:00:00+00:00       958689  173.079885  \n",
       "2022-01-07 05:00:00+00:00       716119  172.439116  \n",
       "\n",
       "[510 rows x 7 columns]"
      ]
     },
     "execution_count": 264,
     "metadata": {},
     "output_type": "execute_result"
    }
   ],
   "source": [
    "df_bars"
   ]
  },
  {
   "cell_type": "code",
   "execution_count": 193,
   "id": "a6700f9e",
   "metadata": {},
   "outputs": [],
   "source": [
    "transform_variables = ['close', 'volume', 'trade_count']\n",
    "lambda_fitted = [None] * len(transform_variables)\n",
    "# transform training data & save lambda value\n",
    "for ind, variables in enumerate(transform_variables):\n",
    "    transformed_data, fitted_lambda = stats.boxcox(df_bars[variables])\n",
    "    \n",
    "    df_bars[variables] = transformed_data\n",
    "    \n",
    "    lambda_fitted[ind] = fitted_lambda"
   ]
  },
  {
   "cell_type": "code",
   "execution_count": 194,
   "id": "e8277248",
   "metadata": {},
   "outputs": [],
   "source": [
    "df_bars_train = df_bars[:-test_set_length]\n",
    "df_bars_test = df_bars[-test_set_length:]"
   ]
  },
  {
   "cell_type": "code",
   "execution_count": 195,
   "id": "47faab76",
   "metadata": {},
   "outputs": [
    {
     "data": {
      "text/html": [
       "<table class=\"simpletable\">\n",
       "<caption>OLS Regression Results</caption>\n",
       "<tr>\n",
       "  <th>Dep. Variable:</th>          <td>close</td>      <th>  R-squared:         </th> <td>   0.734</td> \n",
       "</tr>\n",
       "<tr>\n",
       "  <th>Model:</th>                   <td>OLS</td>       <th>  Adj. R-squared:    </th> <td>   0.733</td> \n",
       "</tr>\n",
       "<tr>\n",
       "  <th>Method:</th>             <td>Least Squares</td>  <th>  F-statistic:       </th> <td>   698.6</td> \n",
       "</tr>\n",
       "<tr>\n",
       "  <th>Date:</th>             <td>Fri, 10 Jun 2022</td> <th>  Prob (F-statistic):</th> <td>2.06e-146</td>\n",
       "</tr>\n",
       "<tr>\n",
       "  <th>Time:</th>                 <td>22:39:27</td>     <th>  Log-Likelihood:    </th> <td>  3970.0</td> \n",
       "</tr>\n",
       "<tr>\n",
       "  <th>No. Observations:</th>      <td>   510</td>      <th>  AIC:               </th> <td>  -7934.</td> \n",
       "</tr>\n",
       "<tr>\n",
       "  <th>Df Residuals:</th>          <td>   507</td>      <th>  BIC:               </th> <td>  -7921.</td> \n",
       "</tr>\n",
       "<tr>\n",
       "  <th>Df Model:</th>              <td>     2</td>      <th>                     </th>     <td> </td>    \n",
       "</tr>\n",
       "<tr>\n",
       "  <th>Covariance Type:</th>      <td>nonrobust</td>    <th>                     </th>     <td> </td>    \n",
       "</tr>\n",
       "</table>\n",
       "<table class=\"simpletable\">\n",
       "<tr>\n",
       "       <td></td>          <th>coef</th>     <th>std err</th>      <th>t</th>      <th>P>|t|</th>  <th>[0.025</th>    <th>0.975]</th>  \n",
       "</tr>\n",
       "<tr>\n",
       "  <th>const</th>       <td>    0.6702</td> <td>    0.001</td> <td>  767.869</td> <td> 0.000</td> <td>    0.669</td> <td>    0.672</td>\n",
       "</tr>\n",
       "<tr>\n",
       "  <th>volume</th>      <td>-3.927e-05</td> <td> 1.38e-06</td> <td>  -28.486</td> <td> 0.000</td> <td> -4.2e-05</td> <td>-3.66e-05</td>\n",
       "</tr>\n",
       "<tr>\n",
       "  <th>trade_count</th> <td>    0.0028</td> <td>    0.000</td> <td>   16.820</td> <td> 0.000</td> <td>    0.002</td> <td>    0.003</td>\n",
       "</tr>\n",
       "</table>\n",
       "<table class=\"simpletable\">\n",
       "<tr>\n",
       "  <th>Omnibus:</th>       <td>16.005</td> <th>  Durbin-Watson:     </th> <td>   0.651</td>\n",
       "</tr>\n",
       "<tr>\n",
       "  <th>Prob(Omnibus):</th> <td> 0.000</td> <th>  Jarque-Bera (JB):  </th> <td>  17.636</td>\n",
       "</tr>\n",
       "<tr>\n",
       "  <th>Skew:</th>          <td> 0.373</td> <th>  Prob(JB):          </th> <td>0.000148</td>\n",
       "</tr>\n",
       "<tr>\n",
       "  <th>Kurtosis:</th>      <td> 3.522</td> <th>  Cond. No.          </th> <td>1.89e+04</td>\n",
       "</tr>\n",
       "</table><br/><br/>Notes:<br/>[1] Standard Errors assume that the covariance matrix of the errors is correctly specified.<br/>[2] The condition number is large, 1.89e+04. This might indicate that there are<br/>strong multicollinearity or other numerical problems."
      ],
      "text/plain": [
       "<class 'statsmodels.iolib.summary.Summary'>\n",
       "\"\"\"\n",
       "                            OLS Regression Results                            \n",
       "==============================================================================\n",
       "Dep. Variable:                  close   R-squared:                       0.734\n",
       "Model:                            OLS   Adj. R-squared:                  0.733\n",
       "Method:                 Least Squares   F-statistic:                     698.6\n",
       "Date:                Fri, 10 Jun 2022   Prob (F-statistic):          2.06e-146\n",
       "Time:                        22:39:27   Log-Likelihood:                 3970.0\n",
       "No. Observations:                 510   AIC:                            -7934.\n",
       "Df Residuals:                     507   BIC:                            -7921.\n",
       "Df Model:                           2                                         \n",
       "Covariance Type:            nonrobust                                         \n",
       "===============================================================================\n",
       "                  coef    std err          t      P>|t|      [0.025      0.975]\n",
       "-------------------------------------------------------------------------------\n",
       "const           0.6702      0.001    767.869      0.000       0.669       0.672\n",
       "volume      -3.927e-05   1.38e-06    -28.486      0.000    -4.2e-05   -3.66e-05\n",
       "trade_count     0.0028      0.000     16.820      0.000       0.002       0.003\n",
       "==============================================================================\n",
       "Omnibus:                       16.005   Durbin-Watson:                   0.651\n",
       "Prob(Omnibus):                  0.000   Jarque-Bera (JB):               17.636\n",
       "Skew:                           0.373   Prob(JB):                     0.000148\n",
       "Kurtosis:                       3.522   Cond. No.                     1.89e+04\n",
       "==============================================================================\n",
       "\n",
       "Notes:\n",
       "[1] Standard Errors assume that the covariance matrix of the errors is correctly specified.\n",
       "[2] The condition number is large, 1.89e+04. This might indicate that there are\n",
       "strong multicollinearity or other numerical problems.\n",
       "\"\"\""
      ]
     },
     "execution_count": 195,
     "metadata": {},
     "output_type": "execute_result"
    }
   ],
   "source": [
    "# building linear model\n",
    "predictors = df_bars[['volume', 'trade_count']]\n",
    "predictors = sm.add_constant(predictors)\n",
    "\n",
    "fitted_linear = sm.OLS(df_bars['close'], predictors).fit()\n",
    "\n",
    "fitted_linear.summary()"
   ]
  },
  {
   "cell_type": "code",
   "execution_count": 196,
   "id": "39955956",
   "metadata": {},
   "outputs": [],
   "source": [
    "new_data_lm = sm.add_constant(df_bars_test[['volume', 'trade_count']])"
   ]
  },
  {
   "cell_type": "code",
   "execution_count": 197,
   "id": "4bb00703",
   "metadata": {},
   "outputs": [],
   "source": [
    "test_pred_lm = fitted_linear.predict(new_data_lm)"
   ]
  },
  {
   "cell_type": "code",
   "execution_count": 308,
   "id": "de849b4d",
   "metadata": {},
   "outputs": [
    {
     "data": {
      "text/plain": [
       "29.597793272764925"
      ]
     },
     "execution_count": 308,
     "metadata": {},
     "output_type": "execute_result"
    }
   ],
   "source": [
    "# getting mae for linear model will be used to set trigger for buy and cell\n",
    "np.mean(np.abs(special.inv_boxcox(test_pred_lm, lambda_fitted[0]) - special.inv_boxcox(df_bars_test['close'], lambda_fitted[0])))"
   ]
  },
  {
   "cell_type": "code",
   "execution_count": 205,
   "id": "4fee2ce0",
   "metadata": {},
   "outputs": [],
   "source": [
    "# forecasting the predictor variables"
   ]
  },
  {
   "cell_type": "code",
   "execution_count": 206,
   "id": "77222c26",
   "metadata": {},
   "outputs": [],
   "source": [
    "arima_volume_model = pm.auto_arima(df_bars_train['volume'], seasonal = False)\n",
    "arima_trade_model = pm.auto_arima(df_bars_train['trade_count'], seasonal = False)"
   ]
  },
  {
   "cell_type": "code",
   "execution_count": 251,
   "id": "137f48da",
   "metadata": {},
   "outputs": [],
   "source": [
    "test_volume_error = []\n",
    "test_trade_error = []\n",
    "\n",
    "for i in range((test_set_length), 0, -1):\n",
    "    \n",
    "    tmp_volume_model = arima_volume_model\n",
    "    tmp_trade_model = arima_trade_model\n",
    "\n",
    "    if (i == 30):\n",
    "        \n",
    "        test_volume_error.append(tmp_volume_model.predict(n_periods = 1)[0])\n",
    "        \n",
    "        test_trade_error.append(arima_trade_model.predict(n_periods = 1)[0])\n",
    "    else:\n",
    "        tmp_volume_model.update(df_bars_test[i:].volume)\n",
    "        \n",
    "        test_volume_error.append(tmp_volume_model.predict(n_periods = 1)[0])\n",
    "        \n",
    "        tmp_trade_model.update(df_bars_test[i:].trade_count)\n",
    "        \n",
    "        test_trade_error.append(tmp_trade_model.predict(n_periods = 1)[0])"
   ]
  },
  {
   "cell_type": "code",
   "execution_count": 266,
   "id": "1fa649c4",
   "metadata": {},
   "outputs": [
    {
     "data": {
      "text/plain": [
       "29624002.290013783"
      ]
     },
     "execution_count": 266,
     "metadata": {},
     "output_type": "execute_result"
    }
   ],
   "source": [
    "# getting mae for volume one step ahead forecasts\n",
    "np.mean(np.abs(special.inv_boxcox(test_volume_error, lambda_fitted[1]) - special.inv_boxcox(df_bars_test['volume'], lambda_fitted[1])))"
   ]
  },
  {
   "cell_type": "code",
   "execution_count": 277,
   "id": "d3239aa3",
   "metadata": {},
   "outputs": [
    {
     "data": {
      "text/plain": [
       "0.25038800352407603"
      ]
     },
     "execution_count": 277,
     "metadata": {},
     "output_type": "execute_result"
    }
   ],
   "source": [
    "# getting mape for volume\n",
    "np.mean(np.abs(special.inv_boxcox(test_volume_error, lambda_fitted[1]) - special.inv_boxcox(df_bars_test['volume'], lambda_fitted[1]))/special.inv_boxcox(df_bars_test['volume'], lambda_fitted[1]))"
   ]
  },
  {
   "cell_type": "code",
   "execution_count": 267,
   "id": "891fb4e1",
   "metadata": {},
   "outputs": [
    {
     "data": {
      "text/plain": [
       "189399.52548357088"
      ]
     },
     "execution_count": 267,
     "metadata": {},
     "output_type": "execute_result"
    }
   ],
   "source": [
    "# getting mae for volume one step ahead for trade_count\n",
    "np.mean(np.abs(special.inv_boxcox(test_trade_error, lambda_fitted[2]) - special.inv_boxcox(df_bars_test['trade_count'], lambda_fitted[2])))"
   ]
  },
  {
   "cell_type": "code",
   "execution_count": 276,
   "id": "c4d63c95",
   "metadata": {},
   "outputs": [
    {
     "data": {
      "text/plain": [
       "0.22697219626969523"
      ]
     },
     "execution_count": 276,
     "metadata": {},
     "output_type": "execute_result"
    }
   ],
   "source": [
    "# mape for trade_count\n",
    "np.mean(np.abs(special.inv_boxcox(test_trade_error, lambda_fitted[2]) - special.inv_boxcox(df_bars_test['trade_count'], lambda_fitted[2]))/ special.inv_boxcox(df_bars_test['trade_count'], lambda_fitted[2]))"
   ]
  },
  {
   "cell_type": "code",
   "execution_count": 279,
   "id": "01745a3d",
   "metadata": {},
   "outputs": [],
   "source": [
    "import pandas as pd"
   ]
  },
  {
   "cell_type": "code",
   "execution_count": 284,
   "id": "a6be19f3",
   "metadata": {},
   "outputs": [],
   "source": [
    "# instead of using the actual testset to test linear model use the forecasted\n",
    "df_new_forecast = pd.DataFrame({'volume': test_volume_error, 'trade_count': test_trade_error})\n",
    "# if mape is smaller than .5, we are acurate more than 50% of the time...\n",
    "\n",
    "df_new_forecast = sm.add_constant(df_new_forecast)\n",
    "\n",
    "pred_lm_forecast = fitted_linear.predict(df_new_forecast)"
   ]
  },
  {
   "cell_type": "code",
   "execution_count": 302,
   "id": "426d15e7",
   "metadata": {},
   "outputs": [
    {
     "data": {
      "text/plain": [
       "17.705809987970497"
      ]
     },
     "execution_count": 302,
     "metadata": {},
     "output_type": "execute_result"
    }
   ],
   "source": [
    "np.mean(np.abs(special.inv_boxcox(pred_lm_forecast, lambda_fitted[0]) - special.inv_boxcox(df_bars_test['close'], lambda_fitted[0]).reset_index(drop = True)))"
   ]
  },
  {
   "cell_type": "code",
   "execution_count": 306,
   "id": "313c674e",
   "metadata": {},
   "outputs": [
    {
     "data": {
      "text/plain": [
       "12.72382343635026"
      ]
     },
     "execution_count": 306,
     "metadata": {},
     "output_type": "execute_result"
    }
   ],
   "source": [
    "# getting standard deviation to see the spread of the data\n",
    "1.96*np.std(special.inv_boxcox(df_bars_test['close'], lambda_fitted[0]))"
   ]
  },
  {
   "cell_type": "code",
   "execution_count": 301,
   "id": "3d3f8faa",
   "metadata": {},
   "outputs": [
    {
     "data": {
      "text/plain": [
       "0.10123101917620109"
      ]
     },
     "execution_count": 301,
     "metadata": {},
     "output_type": "execute_result"
    }
   ],
   "source": [
    "# mape for the forecasted new dataset using one step ahead forecasts\n",
    "# getting 10% is pretty great from forecast to a linear model.. \n",
    "np.mean(np.abs(special.inv_boxcox(pred_lm_forecast, lambda_fitted[0]) - special.inv_boxcox(df_bars_test['close'], lambda_fitted[0]).reset_index(drop = True))/special.inv_boxcox(df_bars_test['close'], lambda_fitted[0]).reset_index(drop = True))"
   ]
  },
  {
   "cell_type": "code",
   "execution_count": 309,
   "id": "f6f46c70",
   "metadata": {},
   "outputs": [],
   "source": [
    "# this method is decent, but what if we pulled a random 50 stocks and do the same for apple?"
   ]
  },
  {
   "cell_type": "code",
   "execution_count": 578,
   "id": "ae11e444",
   "metadata": {},
   "outputs": [],
   "source": [
    "stock_list = ['DIDI', 'AMD', 'APPL', 'AMZN', 'CCL', 'NIO', 'F', 'BBD', 'ITUB', \\\n",
    "             'ABEV', 'BABA', 'NVDA', 'NOK', 'AAL', 'DOCU', 'SNAP', 'PCG', 'SOFI', \\\n",
    "             'SWN', 'INTC', 'AUY', 'CERN', 'PBR', 'T', 'TSLA', 'GRAB', 'NCLH', \\\n",
    "             'NU', 'MSFT', 'NLY', 'PLTR', 'UBER', 'WFC', 'META', 'XOM', 'MU', \\\n",
    "             'OXY', 'AMC', 'WBD', 'RIG', 'CS', 'OPEN', 'RBLX', 'PFE', 'PDD', \\\n",
    "             'FCX', 'GFI', 'DKNG']"
   ]
  },
  {
   "cell_type": "code",
   "execution_count": 579,
   "id": "35a5f4a7",
   "metadata": {},
   "outputs": [],
   "source": [
    "df_group_bars = pd.DataFrame()\n",
    "\n",
    "# runs through list of stocks and pulls a given stock and concatinates that onto a main df. it also creates a stock column,\n",
    "# which is just the stock name\n",
    "for stocks in stock_list:\n",
    "    \n",
    "    if (len(df_group_bars) == 0):\n",
    "        \n",
    "        df_group_bars = api.get_bars(stocks, TimeFrame.Day, \"2020-01-01\", \"2022-01-08\", adjustment='raw').df\n",
    "        \n",
    "        df_group_bars['stock'] = stocks\n",
    "    else:\n",
    "    \n",
    "        df_temp_stock = api.get_bars(stocks, TimeFrame.Day, \"2020-01-01\", \"2022-01-08\", adjustment='raw').df\n",
    "        \n",
    "        df_temp_stock['stock'] = stocks\n",
    "        \n",
    "        df_group_bars = pd.concat([df_group_bars, df_temp_stock])"
   ]
  },
  {
   "cell_type": "code",
   "execution_count": 611,
   "id": "5fe57557",
   "metadata": {},
   "outputs": [
    {
     "data": {
      "text/html": [
       "<div>\n",
       "<style scoped>\n",
       "    .dataframe tbody tr th:only-of-type {\n",
       "        vertical-align: middle;\n",
       "    }\n",
       "\n",
       "    .dataframe tbody tr th {\n",
       "        vertical-align: top;\n",
       "    }\n",
       "\n",
       "    .dataframe thead th {\n",
       "        text-align: right;\n",
       "    }\n",
       "</style>\n",
       "<table border=\"1\" class=\"dataframe\">\n",
       "  <thead>\n",
       "    <tr style=\"text-align: right;\">\n",
       "      <th></th>\n",
       "      <th>open</th>\n",
       "      <th>high</th>\n",
       "      <th>low</th>\n",
       "      <th>close</th>\n",
       "      <th>volume</th>\n",
       "      <th>trade_count</th>\n",
       "      <th>vwap</th>\n",
       "      <th>stock</th>\n",
       "      <th>datetime</th>\n",
       "    </tr>\n",
       "  </thead>\n",
       "  <tbody>\n",
       "  </tbody>\n",
       "</table>\n",
       "</div>"
      ],
      "text/plain": [
       "Empty DataFrame\n",
       "Columns: [open, high, low, close, volume, trade_count, vwap, stock, datetime]\n",
       "Index: []"
      ]
     },
     "execution_count": 611,
     "metadata": {},
     "output_type": "execute_result"
    }
   ],
   "source": [
    "df_group_bars.loc[df_group_bars['stock'] == 'APPL']"
   ]
  },
  {
   "cell_type": "code",
   "execution_count": 580,
   "id": "7b77d0c6",
   "metadata": {},
   "outputs": [],
   "source": [
    "df_group_bars['datetime'] = df_group_bars.index\n",
    "df_group_bars['datetime'] = pd.to_datetime(df_group_bars['datetime'])\n",
    "# df_group_bars.pivot(index='patient', columns='obs', values='score')"
   ]
  },
  {
   "cell_type": "code",
   "execution_count": 581,
   "id": "645d016a",
   "metadata": {},
   "outputs": [],
   "source": [
    "df_pivot_bars = df_group_bars.pivot(index='datetime', columns='stock', values=['close', 'volume', 'trade_count'])"
   ]
  },
  {
   "cell_type": "code",
   "execution_count": 582,
   "id": "2a64ad1e",
   "metadata": {},
   "outputs": [],
   "source": [
    "# pivot to create columns for each variable\n",
    "df_pivot_bars.columns = df_pivot_bars.columns.get_level_values(0) + '_' +  df_pivot_bars.columns.get_level_values(1)"
   ]
  },
  {
   "cell_type": "code",
   "execution_count": 583,
   "id": "7c7dba8e",
   "metadata": {},
   "outputs": [],
   "source": [
    "# picking the target variable, of course I'm choosing Apple\n",
    "target = df_pivot_bars.pop('close_AAL')"
   ]
  },
  {
   "cell_type": "code",
   "execution_count": 585,
   "id": "a564f838",
   "metadata": {},
   "outputs": [],
   "source": [
    "from sklearn.preprocessing import StandardScaler\n",
    "# scalling the data for pca\n",
    "df_scaled_bars = StandardScaler().fit_transform(df_pivot_bars.dropna(axis = 'columns'))"
   ]
  },
  {
   "cell_type": "code",
   "execution_count": 586,
   "id": "adfdc0a1",
   "metadata": {},
   "outputs": [],
   "source": [
    "from sklearn.decomposition import PCA\n",
    "\n",
    "pca = PCA(n_components = 5)\n",
    "\n",
    "principalComponents = pca.fit_transform(df_scaled_bars)\n",
    "\n",
    "principalDf = pd.DataFrame(data = principalComponents)"
   ]
  },
  {
   "cell_type": "code",
   "execution_count": 587,
   "id": "88021b15",
   "metadata": {},
   "outputs": [],
   "source": [
    "principalDf['Target'] = target.reset_index(drop = True)"
   ]
  },
  {
   "cell_type": "code",
   "execution_count": 588,
   "id": "a6b9de5e",
   "metadata": {},
   "outputs": [],
   "source": [
    "transformed_principal, fitted_lambda = stats.boxcox(principalDf['Target'])"
   ]
  },
  {
   "cell_type": "code",
   "execution_count": 589,
   "id": "cbf9aa71",
   "metadata": {},
   "outputs": [],
   "source": [
    "principalDf['Target'] = transformed_principal"
   ]
  },
  {
   "cell_type": "code",
   "execution_count": 590,
   "id": "2ab1f53c",
   "metadata": {},
   "outputs": [
    {
     "data": {
      "text/plain": [
       "<AxesSubplot:>"
      ]
     },
     "execution_count": 590,
     "metadata": {},
     "output_type": "execute_result"
    },
    {
     "data": {
      "image/png": "[encoded data removed]",
      "text/plain": [
       "<Figure size 432x288 with 1 Axes>"
      ]
     },
     "metadata": {
      "needs_background": "light"
     },
     "output_type": "display_data"
    }
   ],
   "source": [
    "principalDf[3].plot()"
   ]
  },
  {
   "cell_type": "code",
   "execution_count": 591,
   "id": "c16ee1cb",
   "metadata": {},
   "outputs": [
    {
     "data": {
      "image/png": "[encoded data removed]",
      "text/plain": [
       "<Figure size 432x288 with 2 Axes>"
      ]
     },
     "metadata": {
      "needs_background": "light"
     },
     "output_type": "display_data"
    }
   ],
   "source": [
    "# correlation plot with target and pca\n",
    "corrMatrix = principalDf.corr()\n",
    "sn.heatmap(corrMatrix, annot=True)\n",
    "plt.show()"
   ]
  },
  {
   "cell_type": "code",
   "execution_count": 592,
   "id": "fc32299c",
   "metadata": {},
   "outputs": [],
   "source": [
    "df_pca_train = principalDf[30:]\n",
    "df_pca_test =  principalDf[:30]"
   ]
  },
  {
   "cell_type": "code",
   "execution_count": 593,
   "id": "04047889",
   "metadata": {},
   "outputs": [
    {
     "data": {
      "text/html": [
       "<table class=\"simpletable\">\n",
       "<caption>OLS Regression Results</caption>\n",
       "<tr>\n",
       "  <th>Dep. Variable:</th>         <td>Target</td>      <th>  R-squared:         </th> <td>   0.842</td> \n",
       "</tr>\n",
       "<tr>\n",
       "  <th>Model:</th>                   <td>OLS</td>       <th>  Adj. R-squared:    </th> <td>   0.841</td> \n",
       "</tr>\n",
       "<tr>\n",
       "  <th>Method:</th>             <td>Least Squares</td>  <th>  F-statistic:       </th> <td>   506.6</td> \n",
       "</tr>\n",
       "<tr>\n",
       "  <th>Date:</th>             <td>Sun, 12 Jun 2022</td> <th>  Prob (F-statistic):</th> <td>1.48e-187</td>\n",
       "</tr>\n",
       "<tr>\n",
       "  <th>Time:</th>                 <td>12:22:44</td>     <th>  Log-Likelihood:    </th> <td> -161.69</td> \n",
       "</tr>\n",
       "<tr>\n",
       "  <th>No. Observations:</th>      <td>   480</td>      <th>  AIC:               </th> <td>   335.4</td> \n",
       "</tr>\n",
       "<tr>\n",
       "  <th>Df Residuals:</th>          <td>   474</td>      <th>  BIC:               </th> <td>   360.4</td> \n",
       "</tr>\n",
       "<tr>\n",
       "  <th>Df Model:</th>              <td>     5</td>      <th>                     </th>     <td> </td>    \n",
       "</tr>\n",
       "<tr>\n",
       "  <th>Covariance Type:</th>      <td>nonrobust</td>    <th>                     </th>     <td> </td>    \n",
       "</tr>\n",
       "</table>\n",
       "<table class=\"simpletable\">\n",
       "<tr>\n",
       "    <td></td>       <th>coef</th>     <th>std err</th>      <th>t</th>      <th>P>|t|</th>  <th>[0.025</th>    <th>0.975]</th>  \n",
       "</tr>\n",
       "<tr>\n",
       "  <th>const</th> <td>    5.4377</td> <td>    0.016</td> <td>  329.883</td> <td> 0.000</td> <td>    5.405</td> <td>    5.470</td>\n",
       "</tr>\n",
       "<tr>\n",
       "  <th>0</th>     <td>   -0.1260</td> <td>    0.003</td> <td>  -38.173</td> <td> 0.000</td> <td>   -0.132</td> <td>   -0.119</td>\n",
       "</tr>\n",
       "<tr>\n",
       "  <th>1</th>     <td>    0.0240</td> <td>    0.005</td> <td>    4.423</td> <td> 0.000</td> <td>    0.013</td> <td>    0.035</td>\n",
       "</tr>\n",
       "<tr>\n",
       "  <th>2</th>     <td>    0.1682</td> <td>    0.007</td> <td>   24.941</td> <td> 0.000</td> <td>    0.155</td> <td>    0.181</td>\n",
       "</tr>\n",
       "<tr>\n",
       "  <th>3</th>     <td>    0.0812</td> <td>    0.006</td> <td>   14.433</td> <td> 0.000</td> <td>    0.070</td> <td>    0.092</td>\n",
       "</tr>\n",
       "<tr>\n",
       "  <th>4</th>     <td>    0.0253</td> <td>    0.007</td> <td>    3.399</td> <td> 0.001</td> <td>    0.011</td> <td>    0.040</td>\n",
       "</tr>\n",
       "</table>\n",
       "<table class=\"simpletable\">\n",
       "<tr>\n",
       "  <th>Omnibus:</th>       <td> 2.109</td> <th>  Durbin-Watson:     </th> <td>   0.291</td>\n",
       "</tr>\n",
       "<tr>\n",
       "  <th>Prob(Omnibus):</th> <td> 0.348</td> <th>  Jarque-Bera (JB):  </th> <td>   2.101</td>\n",
       "</tr>\n",
       "<tr>\n",
       "  <th>Skew:</th>          <td> 0.028</td> <th>  Prob(JB):          </th> <td>   0.350</td>\n",
       "</tr>\n",
       "<tr>\n",
       "  <th>Kurtosis:</th>      <td> 3.319</td> <th>  Cond. No.          </th> <td>    5.21</td>\n",
       "</tr>\n",
       "</table><br/><br/>Notes:<br/>[1] Standard Errors assume that the covariance matrix of the errors is correctly specified."
      ],
      "text/plain": [
       "<class 'statsmodels.iolib.summary.Summary'>\n",
       "\"\"\"\n",
       "                            OLS Regression Results                            \n",
       "==============================================================================\n",
       "Dep. Variable:                 Target   R-squared:                       0.842\n",
       "Model:                            OLS   Adj. R-squared:                  0.841\n",
       "Method:                 Least Squares   F-statistic:                     506.6\n",
       "Date:                Sun, 12 Jun 2022   Prob (F-statistic):          1.48e-187\n",
       "Time:                        12:22:44   Log-Likelihood:                -161.69\n",
       "No. Observations:                 480   AIC:                             335.4\n",
       "Df Residuals:                     474   BIC:                             360.4\n",
       "Df Model:                           5                                         \n",
       "Covariance Type:            nonrobust                                         \n",
       "==============================================================================\n",
       "                 coef    std err          t      P>|t|      [0.025      0.975]\n",
       "------------------------------------------------------------------------------\n",
       "const          5.4377      0.016    329.883      0.000       5.405       5.470\n",
       "0             -0.1260      0.003    -38.173      0.000      -0.132      -0.119\n",
       "1              0.0240      0.005      4.423      0.000       0.013       0.035\n",
       "2              0.1682      0.007     24.941      0.000       0.155       0.181\n",
       "3              0.0812      0.006     14.433      0.000       0.070       0.092\n",
       "4              0.0253      0.007      3.399      0.001       0.011       0.040\n",
       "==============================================================================\n",
       "Omnibus:                        2.109   Durbin-Watson:                   0.291\n",
       "Prob(Omnibus):                  0.348   Jarque-Bera (JB):                2.101\n",
       "Skew:                           0.028   Prob(JB):                        0.350\n",
       "Kurtosis:                       3.319   Cond. No.                         5.21\n",
       "==============================================================================\n",
       "\n",
       "Notes:\n",
       "[1] Standard Errors assume that the covariance matrix of the errors is correctly specified.\n",
       "\"\"\""
      ]
     },
     "execution_count": 593,
     "metadata": {},
     "output_type": "execute_result"
    }
   ],
   "source": [
    "# building linear model\n",
    "predictors = df_pca_train[[0,1,2,3,4]]\n",
    "predictors_cons = sm.add_constant(predictors)\n",
    "\n",
    "fitted_linear = sm.OLS(df_pca_train['Target'], predictors_cons).fit()\n",
    "\n",
    "fitted_linear.summary()"
   ]
  },
  {
   "cell_type": "code",
   "execution_count": 594,
   "id": "54114249",
   "metadata": {},
   "outputs": [],
   "source": [
    "forecast_list = []\n",
    "for col in df_pca_train.columns:\n",
    "    forecast_list.append(pm.auto_arima(df_pca_train[col], seasonal = False))"
   ]
  },
  {
   "cell_type": "code",
   "execution_count": 595,
   "id": "e8f0f1ef",
   "metadata": {},
   "outputs": [],
   "source": [
    "test_volume_error = []\n",
    "test_trade_error = []"
   ]
  },
  {
   "cell_type": "code",
   "execution_count": 596,
   "id": "b17ee1c5",
   "metadata": {},
   "outputs": [],
   "source": [
    "# I'm a little sus of the output here\n",
    "df_step_ahead_forecast = pd.DataFrame()\n",
    "\n",
    "for col in df_pca_test.columns[:-1]:\n",
    "    \n",
    "    test_forecast = []\n",
    "    \n",
    "    forecast_model_col = forecast_list[col]\n",
    "    \n",
    "    for i in range(len(df_pca_test), 0, -1):\n",
    "        \n",
    "        tmp_forecast_model = forecast_model_col\n",
    "        \n",
    "        if (i == 30):\n",
    "        \n",
    "            test_forecast.append(tmp_forecast_model.predict(n_periods = 1)[0])\n",
    "        else:\n",
    "            \n",
    "            tmp_forecast_model.update(df_pca_test[col][i:])\n",
    "\n",
    "            test_forecast.append(tmp_forecast_model.predict(n_periods = 1)[0])\n",
    "    \n",
    "    df_step_ahead_forecast[col] = test_forecast"
   ]
  },
  {
   "cell_type": "code",
   "execution_count": 597,
   "id": "e2da1f53",
   "metadata": {},
   "outputs": [],
   "source": [
    "df_new_forecast = sm.add_constant(df_step_ahead_forecast)\n",
    "\n",
    "pred_lm_forecast = fitted_linear.predict(df_new_forecast)"
   ]
  },
  {
   "cell_type": "code",
   "execution_count": 599,
   "id": "d0f70571",
   "metadata": {},
   "outputs": [
    {
     "data": {
      "text/plain": [
       "2.026101726698035"
      ]
     },
     "execution_count": 599,
     "metadata": {},
     "output_type": "execute_result"
    }
   ],
   "source": [
    "# mae for forecasted variables as predictors of the closed amount.\n",
    "# 2 dollars is a pretty decent mae \n",
    "np.mean(np.abs(special.inv_boxcox(pred_lm_forecast, fitted_lambda) - special.inv_boxcox(df_pca_test['Target'], fitted_lambda)))"
   ]
  },
  {
   "cell_type": "code",
   "execution_count": 614,
   "id": "2bee2834",
   "metadata": {},
   "outputs": [
    {
     "data": {
      "text/plain": [
       "1.0029007373059866"
      ]
     },
     "execution_count": 614,
     "metadata": {},
     "output_type": "execute_result"
    }
   ],
   "source": [
    "np.std(special.inv_boxcox(df_pca_test['Target'], fitted_lambda))"
   ]
  },
  {
   "cell_type": "code",
   "execution_count": 600,
   "id": "55a2063b",
   "metadata": {},
   "outputs": [
    {
     "data": {
      "text/plain": [
       "0.07103508826823485"
      ]
     },
     "execution_count": 600,
     "metadata": {},
     "output_type": "execute_result"
    }
   ],
   "source": [
    "# mape for the forecasted new dataset using one step ahead forecasts\n",
    "# um, why in the is this a mape of 0.07...\n",
    "np.mean(np.abs(special.inv_boxcox(pred_lm_forecast, fitted_lambda) - special.inv_boxcox(df_pca_test['Target'], fitted_lambda)) / special.inv_boxcox(df_pca_test['Target'], fitted_lambda))"
   ]
  },
  {
   "cell_type": "code",
   "execution_count": 612,
   "id": "f37d4a06",
   "metadata": {},
   "outputs": [
    {
     "data": {
      "text/html": [
       "<div>\n",
       "<style scoped>\n",
       "    .dataframe tbody tr th:only-of-type {\n",
       "        vertical-align: middle;\n",
       "    }\n",
       "\n",
       "    .dataframe tbody tr th {\n",
       "        vertical-align: top;\n",
       "    }\n",
       "\n",
       "    .dataframe thead th {\n",
       "        text-align: right;\n",
       "    }\n",
       "</style>\n",
       "<table border=\"1\" class=\"dataframe\">\n",
       "  <thead>\n",
       "    <tr style=\"text-align: right;\">\n",
       "      <th></th>\n",
       "      <th>open</th>\n",
       "      <th>high</th>\n",
       "      <th>low</th>\n",
       "      <th>close</th>\n",
       "      <th>volume</th>\n",
       "      <th>trade_count</th>\n",
       "      <th>vwap</th>\n",
       "    </tr>\n",
       "    <tr>\n",
       "      <th>timestamp</th>\n",
       "      <th></th>\n",
       "      <th></th>\n",
       "      <th></th>\n",
       "      <th></th>\n",
       "      <th></th>\n",
       "      <th></th>\n",
       "      <th></th>\n",
       "    </tr>\n",
       "  </thead>\n",
       "  <tbody>\n",
       "    <tr>\n",
       "      <th>2020-01-02 05:00:00+00:00</th>\n",
       "      <td>28.98</td>\n",
       "      <td>29.2950</td>\n",
       "      <td>28.6500</td>\n",
       "      <td>29.09</td>\n",
       "      <td>6452335</td>\n",
       "      <td>38032</td>\n",
       "      <td>28.968802</td>\n",
       "    </tr>\n",
       "    <tr>\n",
       "      <th>2020-01-03 05:00:00+00:00</th>\n",
       "      <td>28.27</td>\n",
       "      <td>28.2900</td>\n",
       "      <td>27.3400</td>\n",
       "      <td>27.65</td>\n",
       "      <td>14020066</td>\n",
       "      <td>80365</td>\n",
       "      <td>27.774135</td>\n",
       "    </tr>\n",
       "    <tr>\n",
       "      <th>2020-01-06 05:00:00+00:00</th>\n",
       "      <td>27.19</td>\n",
       "      <td>27.4901</td>\n",
       "      <td>27.0800</td>\n",
       "      <td>27.32</td>\n",
       "      <td>6108646</td>\n",
       "      <td>36860</td>\n",
       "      <td>27.310304</td>\n",
       "    </tr>\n",
       "    <tr>\n",
       "      <th>2020-01-07 05:00:00+00:00</th>\n",
       "      <td>27.56</td>\n",
       "      <td>27.6800</td>\n",
       "      <td>27.0600</td>\n",
       "      <td>27.22</td>\n",
       "      <td>6197079</td>\n",
       "      <td>37665</td>\n",
       "      <td>27.285355</td>\n",
       "    </tr>\n",
       "    <tr>\n",
       "      <th>2020-01-08 05:00:00+00:00</th>\n",
       "      <td>27.10</td>\n",
       "      <td>28.0900</td>\n",
       "      <td>27.0700</td>\n",
       "      <td>27.84</td>\n",
       "      <td>10497339</td>\n",
       "      <td>56794</td>\n",
       "      <td>27.712617</td>\n",
       "    </tr>\n",
       "    <tr>\n",
       "      <th>...</th>\n",
       "      <td>...</td>\n",
       "      <td>...</td>\n",
       "      <td>...</td>\n",
       "      <td>...</td>\n",
       "      <td>...</td>\n",
       "      <td>...</td>\n",
       "      <td>...</td>\n",
       "    </tr>\n",
       "    <tr>\n",
       "      <th>2022-01-03 05:00:00+00:00</th>\n",
       "      <td>18.25</td>\n",
       "      <td>19.1800</td>\n",
       "      <td>18.2000</td>\n",
       "      <td>18.75</td>\n",
       "      <td>42880712</td>\n",
       "      <td>162129</td>\n",
       "      <td>18.782317</td>\n",
       "    </tr>\n",
       "    <tr>\n",
       "      <th>2022-01-04 05:00:00+00:00</th>\n",
       "      <td>19.20</td>\n",
       "      <td>19.4600</td>\n",
       "      <td>18.8504</td>\n",
       "      <td>19.02</td>\n",
       "      <td>29265201</td>\n",
       "      <td>119421</td>\n",
       "      <td>19.090006</td>\n",
       "    </tr>\n",
       "    <tr>\n",
       "      <th>2022-01-05 05:00:00+00:00</th>\n",
       "      <td>19.15</td>\n",
       "      <td>19.3850</td>\n",
       "      <td>18.5100</td>\n",
       "      <td>18.68</td>\n",
       "      <td>34344706</td>\n",
       "      <td>132794</td>\n",
       "      <td>18.920915</td>\n",
       "    </tr>\n",
       "    <tr>\n",
       "      <th>2022-01-06 05:00:00+00:00</th>\n",
       "      <td>18.88</td>\n",
       "      <td>19.0599</td>\n",
       "      <td>18.3500</td>\n",
       "      <td>18.57</td>\n",
       "      <td>19069474</td>\n",
       "      <td>91291</td>\n",
       "      <td>18.669755</td>\n",
       "    </tr>\n",
       "    <tr>\n",
       "      <th>2022-01-07 05:00:00+00:00</th>\n",
       "      <td>18.74</td>\n",
       "      <td>19.5900</td>\n",
       "      <td>18.5800</td>\n",
       "      <td>19.28</td>\n",
       "      <td>42393175</td>\n",
       "      <td>158195</td>\n",
       "      <td>19.211027</td>\n",
       "    </tr>\n",
       "  </tbody>\n",
       "</table>\n",
       "<p>510 rows × 7 columns</p>\n",
       "</div>"
      ],
      "text/plain": [
       "                            open     high      low  close    volume  \\\n",
       "timestamp                                                             \n",
       "2020-01-02 05:00:00+00:00  28.98  29.2950  28.6500  29.09   6452335   \n",
       "2020-01-03 05:00:00+00:00  28.27  28.2900  27.3400  27.65  14020066   \n",
       "2020-01-06 05:00:00+00:00  27.19  27.4901  27.0800  27.32   6108646   \n",
       "2020-01-07 05:00:00+00:00  27.56  27.6800  27.0600  27.22   6197079   \n",
       "2020-01-08 05:00:00+00:00  27.10  28.0900  27.0700  27.84  10497339   \n",
       "...                          ...      ...      ...    ...       ...   \n",
       "2022-01-03 05:00:00+00:00  18.25  19.1800  18.2000  18.75  42880712   \n",
       "2022-01-04 05:00:00+00:00  19.20  19.4600  18.8504  19.02  29265201   \n",
       "2022-01-05 05:00:00+00:00  19.15  19.3850  18.5100  18.68  34344706   \n",
       "2022-01-06 05:00:00+00:00  18.88  19.0599  18.3500  18.57  19069474   \n",
       "2022-01-07 05:00:00+00:00  18.74  19.5900  18.5800  19.28  42393175   \n",
       "\n",
       "                           trade_count       vwap  \n",
       "timestamp                                          \n",
       "2020-01-02 05:00:00+00:00        38032  28.968802  \n",
       "2020-01-03 05:00:00+00:00        80365  27.774135  \n",
       "2020-01-06 05:00:00+00:00        36860  27.310304  \n",
       "2020-01-07 05:00:00+00:00        37665  27.285355  \n",
       "2020-01-08 05:00:00+00:00        56794  27.712617  \n",
       "...                                ...        ...  \n",
       "2022-01-03 05:00:00+00:00       162129  18.782317  \n",
       "2022-01-04 05:00:00+00:00       119421  19.090006  \n",
       "2022-01-05 05:00:00+00:00       132794  18.920915  \n",
       "2022-01-06 05:00:00+00:00        91291  18.669755  \n",
       "2022-01-07 05:00:00+00:00       158195  19.211027  \n",
       "\n",
       "[510 rows x 7 columns]"
      ]
     },
     "execution_count": 612,
     "metadata": {},
     "output_type": "execute_result"
    }
   ],
   "source": [
    "# checking to see the actual apple stock price\n",
    "df_american = api.get_bars(\"AAL\", TimeFrame.Day, \"2020-01-01\", \"2022-01-08\", adjustment='raw').df; df_american"
   ]
  },
  {
   "cell_type": "code",
   "execution_count": null,
   "id": "06d3461b",
   "metadata": {},
   "outputs": [],
   "source": [
    "# Now I'm going to focus on Mr.MacD "
   ]
  }
 ],
 "metadata": {
  "kernelspec": {
   "display_name": "Python 3 (ipykernel)",
   "language": "python",
   "name": "python3"
  },
  "language_info": {
   "codemirror_mode": {
    "name": "ipython",
    "version": 3
   },
   "file_extension": ".py",
   "mimetype": "text/x-python",
   "name": "python",
   "nbconvert_exporter": "python",
   "pygments_lexer": "ipython3",
   "version": "3.10.4"
  }
 },
 "nbformat": 4,
 "nbformat_minor": 5
}
