{
 "cells": [
  {
   "cell_type": "code",
   "execution_count": 1,
   "id": "d6291122",
   "metadata": {},
   "outputs": [],
   "source": [
    "import json\n",
    "import os\n",
    "\n",
    "%load_ext dotenv\n",
    "%dotenv\n",
    "\n",
    "# f = open(\"authPaper.json\")\n",
    "# auth = json.load(f)"
   ]
  },
  {
   "cell_type": "code",
   "execution_count": 2,
   "id": "e243c59a",
   "metadata": {},
   "outputs": [],
   "source": [
    "import alpaca_trade_api as tradeapi\n",
    "from alpaca_trade_api.rest import REST, TimeFrame\n",
    "# BASE_URL = \"https://paper-api.alpaca.markets\"\n",
    "# API_KEY = auth['ID']\n",
    "# SECRET_KEY = auth['Secret']"
   ]
  },
  {
   "cell_type": "code",
   "execution_count": 3,
   "id": "03d7ad80",
   "metadata": {},
   "outputs": [],
   "source": [
    "api = tradeapi.REST(key_id= os.getenv('API_KEY'), secret_key=os.getenv('SECRET_KEY'), base_url=os.getenv('APCA_API_BASE_URL'), api_version='v2')"
   ]
  },
  {
   "cell_type": "code",
   "execution_count": 4,
   "id": "371bd3ef",
   "metadata": {},
   "outputs": [],
   "source": [
    "df_apple = api.get_bars(\"AAPL\", TimeFrame.Day, \"2020-09-01\", \"2022-07-02\", adjustment='raw').df"
   ]
  },
  {
   "cell_type": "code",
   "execution_count": 5,
   "id": "6b55f495",
   "metadata": {
    "scrolled": true
   },
   "outputs": [
    {
     "data": {
      "text/plain": [
       "<AxesSubplot:xlabel='timestamp'>"
      ]
     },
     "execution_count": 5,
     "metadata": {},
     "output_type": "execute_result"
    },
    {
     "data": {
      "image/png": "[encoded data removed]",
      "text/plain": [
       "<Figure size 432x288 with 1 Axes>"
      ]
     },
     "metadata": {
      "needs_background": "light"
     },
     "output_type": "display_data"
    }
   ],
   "source": [
    "df_apple['close'].plot()"
   ]
  },
  {
   "cell_type": "code",
   "execution_count": 6,
   "id": "bb98d2ef",
   "metadata": {},
   "outputs": [],
   "source": [
    "# importing forecasting libraries\n",
    "import pmdarima as pm\n",
    "import numpy as npf\n",
    "import matplotlib.pyplot as plt\n",
    "import seaborn as sn"
   ]
  },
  {
   "cell_type": "code",
   "execution_count": 7,
   "id": "06d856f4",
   "metadata": {},
   "outputs": [],
   "source": [
    "arima_model = pm.auto_arima(df_apple['close'], seasonal = False)"
   ]
  },
  {
   "cell_type": "markdown",
   "id": "0910cc41",
   "metadata": {},
   "source": [
    "# Random Walk (Useless)\n",
    "A random walk does not help predict the next values only that the variance will increase... lame <br>\n",
    "This is for predictions involving the closing cost"
   ]
  },
  {
   "cell_type": "code",
   "execution_count": 8,
   "id": "2370ee1e",
   "metadata": {},
   "outputs": [
    {
     "data": {
      "text/html": [
       "<style>#sk-container-id-1 {color: black;background-color: white;}#sk-container-id-1 pre{padding: 0;}#sk-container-id-1 div.sk-toggleable {background-color: white;}#sk-container-id-1 label.sk-toggleable__label {cursor: pointer;display: block;width: 100%;margin-bottom: 0;padding: 0.3em;box-sizing: border-box;text-align: center;}#sk-container-id-1 label.sk-toggleable__label-arrow:before {content: \"▸\";float: left;margin-right: 0.25em;color: #696969;}#sk-container-id-1 label.sk-toggleable__label-arrow:hover:before {color: black;}#sk-container-id-1 div.sk-estimator:hover label.sk-toggleable__label-arrow:before {color: black;}#sk-container-id-1 div.sk-toggleable__content {max-height: 0;max-width: 0;overflow: hidden;text-align: left;background-color: #f0f8ff;}#sk-container-id-1 div.sk-toggleable__content pre {margin: 0.2em;color: black;border-radius: 0.25em;background-color: #f0f8ff;}#sk-container-id-1 input.sk-toggleable__control:checked~div.sk-toggleable__content {max-height: 200px;max-width: 100%;overflow: auto;}#sk-container-id-1 input.sk-toggleable__control:checked~label.sk-toggleable__label-arrow:before {content: \"▾\";}#sk-container-id-1 div.sk-estimator input.sk-toggleable__control:checked~label.sk-toggleable__label {background-color: #d4ebff;}#sk-container-id-1 div.sk-label input.sk-toggleable__control:checked~label.sk-toggleable__label {background-color: #d4ebff;}#sk-container-id-1 input.sk-hidden--visually {border: 0;clip: rect(1px 1px 1px 1px);clip: rect(1px, 1px, 1px, 1px);height: 1px;margin: -1px;overflow: hidden;padding: 0;position: absolute;width: 1px;}#sk-container-id-1 div.sk-estimator {font-family: monospace;background-color: #f0f8ff;border: 1px dotted black;border-radius: 0.25em;box-sizing: border-box;margin-bottom: 0.5em;}#sk-container-id-1 div.sk-estimator:hover {background-color: #d4ebff;}#sk-container-id-1 div.sk-parallel-item::after {content: \"\";width: 100%;border-bottom: 1px solid gray;flex-grow: 1;}#sk-container-id-1 div.sk-label:hover label.sk-toggleable__label {background-color: #d4ebff;}#sk-container-id-1 div.sk-serial::before {content: \"\";position: absolute;border-left: 1px solid gray;box-sizing: border-box;top: 0;bottom: 0;left: 50%;z-index: 0;}#sk-container-id-1 div.sk-serial {display: flex;flex-direction: column;align-items: center;background-color: white;padding-right: 0.2em;padding-left: 0.2em;position: relative;}#sk-container-id-1 div.sk-item {position: relative;z-index: 1;}#sk-container-id-1 div.sk-parallel {display: flex;align-items: stretch;justify-content: center;background-color: white;position: relative;}#sk-container-id-1 div.sk-item::before, #sk-container-id-1 div.sk-parallel-item::before {content: \"\";position: absolute;border-left: 1px solid gray;box-sizing: border-box;top: 0;bottom: 0;left: 50%;z-index: -1;}#sk-container-id-1 div.sk-parallel-item {display: flex;flex-direction: column;z-index: 1;position: relative;background-color: white;}#sk-container-id-1 div.sk-parallel-item:first-child::after {align-self: flex-end;width: 50%;}#sk-container-id-1 div.sk-parallel-item:last-child::after {align-self: flex-start;width: 50%;}#sk-container-id-1 div.sk-parallel-item:only-child::after {width: 0;}#sk-container-id-1 div.sk-dashed-wrapped {border: 1px dashed gray;margin: 0 0.4em 0.5em 0.4em;box-sizing: border-box;padding-bottom: 0.4em;background-color: white;}#sk-container-id-1 div.sk-label label {font-family: monospace;font-weight: bold;display: inline-block;line-height: 1.2em;}#sk-container-id-1 div.sk-label-container {text-align: center;}#sk-container-id-1 div.sk-container {/* jupyter's `normalize.less` sets `[hidden] { display: none; }` but bootstrap.min.css set `[hidden] { display: none !important; }` so we also need the `!important` here to be able to override the default hidden behavior on the sphinx rendered scikit-learn.org. See: https://github.com/scikit-learn/scikit-learn/issues/21755 */display: inline-block !important;position: relative;}#sk-container-id-1 div.sk-text-repr-fallback {display: none;}</style><div id=\"sk-container-id-1\" class=\"sk-top-container\"><div class=\"sk-text-repr-fallback\"><pre> ARIMA(0,1,0)(0,0,0)[0]          </pre><b>In a Jupyter environment, please rerun this cell to show the HTML representation or trust the notebook. <br />On GitHub, the HTML representation is unable to render, please try loading this page with nbviewer.org.</b></div><div class=\"sk-container\" hidden><div class=\"sk-item\"><div class=\"sk-estimator sk-toggleable\"><input class=\"sk-toggleable__control sk-hidden--visually\" id=\"sk-estimator-id-1\" type=\"checkbox\" checked><label for=\"sk-estimator-id-1\" class=\"sk-toggleable__label sk-toggleable__label-arrow\">ARIMA</label><div class=\"sk-toggleable__content\"><pre> ARIMA(0,1,0)(0,0,0)[0]          </pre></div></div></div></div></div>"
      ],
      "text/plain": [
       "ARIMA(order=(0, 1, 0), scoring_args={}, suppress_warnings=True,\n",
       "      with_intercept=False)"
      ]
     },
     "execution_count": 8,
     "metadata": {},
     "output_type": "execute_result"
    }
   ],
   "source": [
    "arima_model"
   ]
  },
  {
   "cell_type": "markdown",
   "id": "90f5153f",
   "metadata": {},
   "source": [
    "# Forecasting Volume\n",
    "\n",
    "We can see that volume is dependant on on previous lag with a ar and ma term."
   ]
  },
  {
   "cell_type": "code",
   "execution_count": 9,
   "id": "97d9fddd",
   "metadata": {},
   "outputs": [
    {
     "data": {
      "text/html": [
       "<style>#sk-container-id-2 {color: black;background-color: white;}#sk-container-id-2 pre{padding: 0;}#sk-container-id-2 div.sk-toggleable {background-color: white;}#sk-container-id-2 label.sk-toggleable__label {cursor: pointer;display: block;width: 100%;margin-bottom: 0;padding: 0.3em;box-sizing: border-box;text-align: center;}#sk-container-id-2 label.sk-toggleable__label-arrow:before {content: \"▸\";float: left;margin-right: 0.25em;color: #696969;}#sk-container-id-2 label.sk-toggleable__label-arrow:hover:before {color: black;}#sk-container-id-2 div.sk-estimator:hover label.sk-toggleable__label-arrow:before {color: black;}#sk-container-id-2 div.sk-toggleable__content {max-height: 0;max-width: 0;overflow: hidden;text-align: left;background-color: #f0f8ff;}#sk-container-id-2 div.sk-toggleable__content pre {margin: 0.2em;color: black;border-radius: 0.25em;background-color: #f0f8ff;}#sk-container-id-2 input.sk-toggleable__control:checked~div.sk-toggleable__content {max-height: 200px;max-width: 100%;overflow: auto;}#sk-container-id-2 input.sk-toggleable__control:checked~label.sk-toggleable__label-arrow:before {content: \"▾\";}#sk-container-id-2 div.sk-estimator input.sk-toggleable__control:checked~label.sk-toggleable__label {background-color: #d4ebff;}#sk-container-id-2 div.sk-label input.sk-toggleable__control:checked~label.sk-toggleable__label {background-color: #d4ebff;}#sk-container-id-2 input.sk-hidden--visually {border: 0;clip: rect(1px 1px 1px 1px);clip: rect(1px, 1px, 1px, 1px);height: 1px;margin: -1px;overflow: hidden;padding: 0;position: absolute;width: 1px;}#sk-container-id-2 div.sk-estimator {font-family: monospace;background-color: #f0f8ff;border: 1px dotted black;border-radius: 0.25em;box-sizing: border-box;margin-bottom: 0.5em;}#sk-container-id-2 div.sk-estimator:hover {background-color: #d4ebff;}#sk-container-id-2 div.sk-parallel-item::after {content: \"\";width: 100%;border-bottom: 1px solid gray;flex-grow: 1;}#sk-container-id-2 div.sk-label:hover label.sk-toggleable__label {background-color: #d4ebff;}#sk-container-id-2 div.sk-serial::before {content: \"\";position: absolute;border-left: 1px solid gray;box-sizing: border-box;top: 0;bottom: 0;left: 50%;z-index: 0;}#sk-container-id-2 div.sk-serial {display: flex;flex-direction: column;align-items: center;background-color: white;padding-right: 0.2em;padding-left: 0.2em;position: relative;}#sk-container-id-2 div.sk-item {position: relative;z-index: 1;}#sk-container-id-2 div.sk-parallel {display: flex;align-items: stretch;justify-content: center;background-color: white;position: relative;}#sk-container-id-2 div.sk-item::before, #sk-container-id-2 div.sk-parallel-item::before {content: \"\";position: absolute;border-left: 1px solid gray;box-sizing: border-box;top: 0;bottom: 0;left: 50%;z-index: -1;}#sk-container-id-2 div.sk-parallel-item {display: flex;flex-direction: column;z-index: 1;position: relative;background-color: white;}#sk-container-id-2 div.sk-parallel-item:first-child::after {align-self: flex-end;width: 50%;}#sk-container-id-2 div.sk-parallel-item:last-child::after {align-self: flex-start;width: 50%;}#sk-container-id-2 div.sk-parallel-item:only-child::after {width: 0;}#sk-container-id-2 div.sk-dashed-wrapped {border: 1px dashed gray;margin: 0 0.4em 0.5em 0.4em;box-sizing: border-box;padding-bottom: 0.4em;background-color: white;}#sk-container-id-2 div.sk-label label {font-family: monospace;font-weight: bold;display: inline-block;line-height: 1.2em;}#sk-container-id-2 div.sk-label-container {text-align: center;}#sk-container-id-2 div.sk-container {/* jupyter's `normalize.less` sets `[hidden] { display: none; }` but bootstrap.min.css set `[hidden] { display: none !important; }` so we also need the `!important` here to be able to override the default hidden behavior on the sphinx rendered scikit-learn.org. See: https://github.com/scikit-learn/scikit-learn/issues/21755 */display: inline-block !important;position: relative;}#sk-container-id-2 div.sk-text-repr-fallback {display: none;}</style><div id=\"sk-container-id-2\" class=\"sk-top-container\"><div class=\"sk-text-repr-fallback\"><pre> ARIMA(1,1,1)(0,0,0)[0]          </pre><b>In a Jupyter environment, please rerun this cell to show the HTML representation or trust the notebook. <br />On GitHub, the HTML representation is unable to render, please try loading this page with nbviewer.org.</b></div><div class=\"sk-container\" hidden><div class=\"sk-item\"><div class=\"sk-estimator sk-toggleable\"><input class=\"sk-toggleable__control sk-hidden--visually\" id=\"sk-estimator-id-2\" type=\"checkbox\" checked><label for=\"sk-estimator-id-2\" class=\"sk-toggleable__label sk-toggleable__label-arrow\">ARIMA</label><div class=\"sk-toggleable__content\"><pre> ARIMA(1,1,1)(0,0,0)[0]          </pre></div></div></div></div></div>"
      ],
      "text/plain": [
       "ARIMA(order=(1, 1, 1), scoring_args={}, suppress_warnings=True,\n",
       "      with_intercept=False)"
      ]
     },
     "execution_count": 9,
     "metadata": {},
     "output_type": "execute_result"
    }
   ],
   "source": [
    "arima_model = pm.auto_arima(df_apple['volume'], seasonal = False)\n",
    "\n",
    "arima_model"
   ]
  },
  {
   "cell_type": "markdown",
   "id": "82e17c30",
   "metadata": {},
   "source": [
    "# Correlation plot"
   ]
  },
  {
   "cell_type": "code",
   "execution_count": 10,
   "id": "046081f4",
   "metadata": {},
   "outputs": [
    {
     "data": {
      "image/png": "[encoded data removed]",
      "text/plain": [
       "<Figure size 432x288 with 2 Axes>"
      ]
     },
     "metadata": {
      "needs_background": "light"
     },
     "output_type": "display_data"
    }
   ],
   "source": [
    "corrMatrix = df_apple.corr()\n",
    "sn.heatmap(corrMatrix, annot=True)\n",
    "plt.show()"
   ]
  },
  {
   "cell_type": "code",
   "execution_count": 11,
   "id": "ff8c91ed",
   "metadata": {},
   "outputs": [],
   "source": [
    "# building linear model\n",
    "import statsmodels.api as sm\n",
    "import math\n",
    "from scipy import stats\n",
    "from scipy import special\n",
    "import pandas as pd\n",
    "import numpy as np"
   ]
  },
  {
   "cell_type": "markdown",
   "id": "6c0a89e5",
   "metadata": {},
   "source": [
    "### creating function to automate linear modeling with variables using forecasted predictors (later)"
   ]
  },
  {
   "cell_type": "code",
   "execution_count": 12,
   "id": "7f05cde6",
   "metadata": {},
   "outputs": [],
   "source": [
    "# Setting to be function variables\n",
    "stock = \"AAPL\"\n",
    "test_set_length = 30"
   ]
  },
  {
   "cell_type": "code",
   "execution_count": 13,
   "id": "aaa22124",
   "metadata": {},
   "outputs": [
    {
     "data": {
      "text/html": [
       "<div>\n",
       "<style scoped>\n",
       "    .dataframe tbody tr th:only-of-type {\n",
       "        vertical-align: middle;\n",
       "    }\n",
       "\n",
       "    .dataframe tbody tr th {\n",
       "        vertical-align: top;\n",
       "    }\n",
       "\n",
       "    .dataframe thead th {\n",
       "        text-align: right;\n",
       "    }\n",
       "</style>\n",
       "<table border=\"1\" class=\"dataframe\">\n",
       "  <thead>\n",
       "    <tr style=\"text-align: right;\">\n",
       "      <th></th>\n",
       "      <th>open</th>\n",
       "      <th>high</th>\n",
       "      <th>low</th>\n",
       "      <th>close</th>\n",
       "      <th>volume</th>\n",
       "      <th>trade_count</th>\n",
       "      <th>vwap</th>\n",
       "    </tr>\n",
       "    <tr>\n",
       "      <th>timestamp</th>\n",
       "      <th></th>\n",
       "      <th></th>\n",
       "      <th></th>\n",
       "      <th></th>\n",
       "      <th></th>\n",
       "      <th></th>\n",
       "      <th></th>\n",
       "    </tr>\n",
       "  </thead>\n",
       "  <tbody>\n",
       "    <tr>\n",
       "      <th>2020-09-01 04:00:00+00:00</th>\n",
       "      <td>132.91</td>\n",
       "      <td>134.800</td>\n",
       "      <td>130.5300</td>\n",
       "      <td>134.18</td>\n",
       "      <td>152880540</td>\n",
       "      <td>1494300</td>\n",
       "      <td>132.851768</td>\n",
       "    </tr>\n",
       "    <tr>\n",
       "      <th>2020-09-02 04:00:00+00:00</th>\n",
       "      <td>137.58</td>\n",
       "      <td>137.980</td>\n",
       "      <td>127.0000</td>\n",
       "      <td>131.40</td>\n",
       "      <td>200393336</td>\n",
       "      <td>1843498</td>\n",
       "      <td>131.616730</td>\n",
       "    </tr>\n",
       "    <tr>\n",
       "      <th>2020-09-03 04:00:00+00:00</th>\n",
       "      <td>126.97</td>\n",
       "      <td>128.840</td>\n",
       "      <td>120.5000</td>\n",
       "      <td>120.88</td>\n",
       "      <td>257604126</td>\n",
       "      <td>2360769</td>\n",
       "      <td>123.526182</td>\n",
       "    </tr>\n",
       "    <tr>\n",
       "      <th>2020-09-04 04:00:00+00:00</th>\n",
       "      <td>120.00</td>\n",
       "      <td>123.700</td>\n",
       "      <td>110.8900</td>\n",
       "      <td>120.96</td>\n",
       "      <td>332632509</td>\n",
       "      <td>2967070</td>\n",
       "      <td>117.943903</td>\n",
       "    </tr>\n",
       "    <tr>\n",
       "      <th>2020-09-08 04:00:00+00:00</th>\n",
       "      <td>113.74</td>\n",
       "      <td>118.990</td>\n",
       "      <td>112.6800</td>\n",
       "      <td>112.82</td>\n",
       "      <td>231598461</td>\n",
       "      <td>2003683</td>\n",
       "      <td>115.392545</td>\n",
       "    </tr>\n",
       "    <tr>\n",
       "      <th>...</th>\n",
       "      <td>...</td>\n",
       "      <td>...</td>\n",
       "      <td>...</td>\n",
       "      <td>...</td>\n",
       "      <td>...</td>\n",
       "      <td>...</td>\n",
       "      <td>...</td>\n",
       "    </tr>\n",
       "    <tr>\n",
       "      <th>2022-06-27 04:00:00+00:00</th>\n",
       "      <td>142.70</td>\n",
       "      <td>143.490</td>\n",
       "      <td>140.9650</td>\n",
       "      <td>141.66</td>\n",
       "      <td>73357944</td>\n",
       "      <td>516181</td>\n",
       "      <td>142.026287</td>\n",
       "    </tr>\n",
       "    <tr>\n",
       "      <th>2022-06-28 04:00:00+00:00</th>\n",
       "      <td>142.10</td>\n",
       "      <td>143.422</td>\n",
       "      <td>137.3250</td>\n",
       "      <td>137.44</td>\n",
       "      <td>67315336</td>\n",
       "      <td>546241</td>\n",
       "      <td>139.375156</td>\n",
       "    </tr>\n",
       "    <tr>\n",
       "      <th>2022-06-29 04:00:00+00:00</th>\n",
       "      <td>137.44</td>\n",
       "      <td>140.670</td>\n",
       "      <td>136.6700</td>\n",
       "      <td>139.23</td>\n",
       "      <td>66354959</td>\n",
       "      <td>572556</td>\n",
       "      <td>139.273624</td>\n",
       "    </tr>\n",
       "    <tr>\n",
       "      <th>2022-06-30 04:00:00+00:00</th>\n",
       "      <td>137.30</td>\n",
       "      <td>138.370</td>\n",
       "      <td>133.7737</td>\n",
       "      <td>136.72</td>\n",
       "      <td>99036459</td>\n",
       "      <td>710709</td>\n",
       "      <td>136.476185</td>\n",
       "    </tr>\n",
       "    <tr>\n",
       "      <th>2022-07-01 04:00:00+00:00</th>\n",
       "      <td>136.09</td>\n",
       "      <td>139.040</td>\n",
       "      <td>135.6600</td>\n",
       "      <td>138.93</td>\n",
       "      <td>71174354</td>\n",
       "      <td>558683</td>\n",
       "      <td>137.479845</td>\n",
       "    </tr>\n",
       "  </tbody>\n",
       "</table>\n",
       "<p>462 rows × 7 columns</p>\n",
       "</div>"
      ],
      "text/plain": [
       "                             open     high       low   close     volume  \\\n",
       "timestamp                                                                 \n",
       "2020-09-01 04:00:00+00:00  132.91  134.800  130.5300  134.18  152880540   \n",
       "2020-09-02 04:00:00+00:00  137.58  137.980  127.0000  131.40  200393336   \n",
       "2020-09-03 04:00:00+00:00  126.97  128.840  120.5000  120.88  257604126   \n",
       "2020-09-04 04:00:00+00:00  120.00  123.700  110.8900  120.96  332632509   \n",
       "2020-09-08 04:00:00+00:00  113.74  118.990  112.6800  112.82  231598461   \n",
       "...                           ...      ...       ...     ...        ...   \n",
       "2022-06-27 04:00:00+00:00  142.70  143.490  140.9650  141.66   73357944   \n",
       "2022-06-28 04:00:00+00:00  142.10  143.422  137.3250  137.44   67315336   \n",
       "2022-06-29 04:00:00+00:00  137.44  140.670  136.6700  139.23   66354959   \n",
       "2022-06-30 04:00:00+00:00  137.30  138.370  133.7737  136.72   99036459   \n",
       "2022-07-01 04:00:00+00:00  136.09  139.040  135.6600  138.93   71174354   \n",
       "\n",
       "                           trade_count        vwap  \n",
       "timestamp                                           \n",
       "2020-09-01 04:00:00+00:00      1494300  132.851768  \n",
       "2020-09-02 04:00:00+00:00      1843498  131.616730  \n",
       "2020-09-03 04:00:00+00:00      2360769  123.526182  \n",
       "2020-09-04 04:00:00+00:00      2967070  117.943903  \n",
       "2020-09-08 04:00:00+00:00      2003683  115.392545  \n",
       "...                                ...         ...  \n",
       "2022-06-27 04:00:00+00:00       516181  142.026287  \n",
       "2022-06-28 04:00:00+00:00       546241  139.375156  \n",
       "2022-06-29 04:00:00+00:00       572556  139.273624  \n",
       "2022-06-30 04:00:00+00:00       710709  136.476185  \n",
       "2022-07-01 04:00:00+00:00       558683  137.479845  \n",
       "\n",
       "[462 rows x 7 columns]"
      ]
     },
     "execution_count": 13,
     "metadata": {},
     "output_type": "execute_result"
    }
   ],
   "source": [
    "df_bars = api.get_bars(stock, TimeFrame.Day, \"2020-09-01\", \"2022-07-02\", adjustment='raw').df\n",
    "\n",
    "df_bars"
   ]
  },
  {
   "cell_type": "markdown",
   "id": "cd08976a",
   "metadata": {},
   "source": [
    "Uses BoxCox tranformation to get closer to the norality assumption"
   ]
  },
  {
   "cell_type": "code",
   "execution_count": 14,
   "id": "ea691864",
   "metadata": {},
   "outputs": [],
   "source": [
    "transform_variables = ['close', 'volume', 'trade_count']\n",
    "lambda_fitted = [None] * len(transform_variables)\n",
    "# transform training data & save lambda value\n",
    "for ind, variables in enumerate(transform_variables):\n",
    "    transformed_data, fitted_lambda = stats.boxcox(df_bars[variables])\n",
    "    \n",
    "    df_bars[variables] = transformed_data\n",
    "    \n",
    "    lambda_fitted[ind] = fitted_lambda"
   ]
  },
  {
   "cell_type": "markdown",
   "id": "a7f67416",
   "metadata": {},
   "source": [
    "Training and test setting"
   ]
  },
  {
   "cell_type": "code",
   "execution_count": 15,
   "id": "ec158b59",
   "metadata": {},
   "outputs": [],
   "source": [
    "df_bars_train = df_bars[:-test_set_length]\n",
    "df_bars_test = df_bars[-test_set_length:]"
   ]
  },
  {
   "cell_type": "markdown",
   "id": "21c9173b",
   "metadata": {},
   "source": [
    "Fits a linear model using volume and trade_count as predictors with close price as the target"
   ]
  },
  {
   "cell_type": "code",
   "execution_count": 16,
   "id": "16502b2c",
   "metadata": {},
   "outputs": [
    {
     "data": {
      "text/html": [
       "<table class=\"simpletable\">\n",
       "<caption>OLS Regression Results</caption>\n",
       "<tr>\n",
       "  <th>Dep. Variable:</th>          <td>close</td>      <th>  R-squared:         </th> <td>   0.259</td>\n",
       "</tr>\n",
       "<tr>\n",
       "  <th>Model:</th>                   <td>OLS</td>       <th>  Adj. R-squared:    </th> <td>   0.256</td>\n",
       "</tr>\n",
       "<tr>\n",
       "  <th>Method:</th>             <td>Least Squares</td>  <th>  F-statistic:       </th> <td>   80.17</td>\n",
       "</tr>\n",
       "<tr>\n",
       "  <th>Date:</th>             <td>Mon, 04 Jul 2022</td> <th>  Prob (F-statistic):</th> <td>1.38e-30</td>\n",
       "</tr>\n",
       "<tr>\n",
       "  <th>Time:</th>                 <td>23:18:54</td>     <th>  Log-Likelihood:    </th> <td>  1087.6</td>\n",
       "</tr>\n",
       "<tr>\n",
       "  <th>No. Observations:</th>      <td>   462</td>      <th>  AIC:               </th> <td>  -2169.</td>\n",
       "</tr>\n",
       "<tr>\n",
       "  <th>Df Residuals:</th>          <td>   459</td>      <th>  BIC:               </th> <td>  -2157.</td>\n",
       "</tr>\n",
       "<tr>\n",
       "  <th>Df Model:</th>              <td>     2</td>      <th>                     </th>     <td> </td>   \n",
       "</tr>\n",
       "<tr>\n",
       "  <th>Covariance Type:</th>      <td>nonrobust</td>    <th>                     </th>     <td> </td>   \n",
       "</tr>\n",
       "</table>\n",
       "<table class=\"simpletable\">\n",
       "<tr>\n",
       "       <td></td>          <th>coef</th>     <th>std err</th>      <th>t</th>      <th>P>|t|</th>  <th>[0.025</th>    <th>0.975]</th>  \n",
       "</tr>\n",
       "<tr>\n",
       "  <th>const</th>       <td> 4845.5858</td> <td>  385.501</td> <td>   12.570</td> <td> 0.000</td> <td> 4088.020</td> <td> 5603.152</td>\n",
       "</tr>\n",
       "<tr>\n",
       "  <th>volume</th>      <td>-2955.9388</td> <td>  236.820</td> <td>  -12.482</td> <td> 0.000</td> <td>-3421.326</td> <td>-2490.552</td>\n",
       "</tr>\n",
       "<tr>\n",
       "  <th>trade_count</th> <td>  271.3561</td> <td>   25.577</td> <td>   10.609</td> <td> 0.000</td> <td>  221.093</td> <td>  321.619</td>\n",
       "</tr>\n",
       "</table>\n",
       "<table class=\"simpletable\">\n",
       "<tr>\n",
       "  <th>Omnibus:</th>       <td>11.647</td> <th>  Durbin-Watson:     </th> <td>   0.308</td>\n",
       "</tr>\n",
       "<tr>\n",
       "  <th>Prob(Omnibus):</th> <td> 0.003</td> <th>  Jarque-Bera (JB):  </th> <td>   8.741</td>\n",
       "</tr>\n",
       "<tr>\n",
       "  <th>Skew:</th>          <td> 0.231</td> <th>  Prob(JB):          </th> <td>  0.0126</td>\n",
       "</tr>\n",
       "<tr>\n",
       "  <th>Kurtosis:</th>      <td> 2.510</td> <th>  Cond. No.          </th> <td>1.11e+06</td>\n",
       "</tr>\n",
       "</table><br/><br/>Notes:<br/>[1] Standard Errors assume that the covariance matrix of the errors is correctly specified.<br/>[2] The condition number is large, 1.11e+06. This might indicate that there are<br/>strong multicollinearity or other numerical problems."
      ],
      "text/plain": [
       "<class 'statsmodels.iolib.summary.Summary'>\n",
       "\"\"\"\n",
       "                            OLS Regression Results                            \n",
       "==============================================================================\n",
       "Dep. Variable:                  close   R-squared:                       0.259\n",
       "Model:                            OLS   Adj. R-squared:                  0.256\n",
       "Method:                 Least Squares   F-statistic:                     80.17\n",
       "Date:                Mon, 04 Jul 2022   Prob (F-statistic):           1.38e-30\n",
       "Time:                        23:18:54   Log-Likelihood:                 1087.6\n",
       "No. Observations:                 462   AIC:                            -2169.\n",
       "Df Residuals:                     459   BIC:                            -2157.\n",
       "Df Model:                           2                                         \n",
       "Covariance Type:            nonrobust                                         \n",
       "===============================================================================\n",
       "                  coef    std err          t      P>|t|      [0.025      0.975]\n",
       "-------------------------------------------------------------------------------\n",
       "const        4845.5858    385.501     12.570      0.000    4088.020    5603.152\n",
       "volume      -2955.9388    236.820    -12.482      0.000   -3421.326   -2490.552\n",
       "trade_count   271.3561     25.577     10.609      0.000     221.093     321.619\n",
       "==============================================================================\n",
       "Omnibus:                       11.647   Durbin-Watson:                   0.308\n",
       "Prob(Omnibus):                  0.003   Jarque-Bera (JB):                8.741\n",
       "Skew:                           0.231   Prob(JB):                       0.0126\n",
       "Kurtosis:                       2.510   Cond. No.                     1.11e+06\n",
       "==============================================================================\n",
       "\n",
       "Notes:\n",
       "[1] Standard Errors assume that the covariance matrix of the errors is correctly specified.\n",
       "[2] The condition number is large, 1.11e+06. This might indicate that there are\n",
       "strong multicollinearity or other numerical problems.\n",
       "\"\"\""
      ]
     },
     "execution_count": 16,
     "metadata": {},
     "output_type": "execute_result"
    }
   ],
   "source": [
    "# building linear model\n",
    "predictors = df_bars[['volume', 'trade_count']]\n",
    "predictors = sm.add_constant(predictors)\n",
    "\n",
    "fitted_linear = sm.OLS(df_bars['close'], predictors).fit()\n",
    "\n",
    "fitted_linear.summary()"
   ]
  },
  {
   "cell_type": "markdown",
   "id": "e1126a33",
   "metadata": {},
   "source": [
    "adds constant to the test set and then gets the predicted variables from the fitted linear model"
   ]
  },
  {
   "cell_type": "code",
   "execution_count": 17,
   "id": "1c3445c3",
   "metadata": {},
   "outputs": [
    {
     "data": {
      "text/plain": [
       "7.786466039451662"
      ]
     },
     "execution_count": 17,
     "metadata": {},
     "output_type": "execute_result"
    }
   ],
   "source": [
    "new_data_lm = sm.add_constant(df_bars_test[['volume', 'trade_count']])\n",
    "\n",
    "test_pred_lm = fitted_linear.predict(new_data_lm)\n",
    "\n",
    "# getting mae for linear model will be used to set trigger for buy and cell\n",
    "np.mean(np.abs(special.inv_boxcox(test_pred_lm, lambda_fitted[0]) - special.inv_boxcox(df_bars_test['close'], lambda_fitted[0])))"
   ]
  },
  {
   "cell_type": "markdown",
   "id": "29b1fe48",
   "metadata": {},
   "source": [
    "forecasting the predictor variables"
   ]
  },
  {
   "cell_type": "code",
   "execution_count": 18,
   "id": "03b5c3f6",
   "metadata": {},
   "outputs": [
    {
     "name": "stderr",
     "output_type": "stream",
     "text": [
      "C:\\Users\\jmhea\\anaconda3\\envs\\outback\\lib\\site-packages\\statsmodels\\tsa\\statespace\\sarimax.py:1906: RuntimeWarning: divide by zero encountered in reciprocal\n",
      "  return np.roots(self.polynomial_reduced_ma)**-1\n"
     ]
    }
   ],
   "source": [
    "arima_volume_model = pm.auto_arima(df_bars_train['volume'], seasonal = False)\n",
    "arima_trade_model = pm.auto_arima(df_bars_train['trade_count'], seasonal = False)"
   ]
  },
  {
   "cell_type": "markdown",
   "id": "b97a0f05",
   "metadata": {},
   "source": [
    "goes through a loop to get a one step ahead forecast adding another observation of data to the original forecasted models <br>\n",
    "and then saves the forecast to test lists"
   ]
  },
  {
   "cell_type": "code",
   "execution_count": 19,
   "id": "9039866e",
   "metadata": {},
   "outputs": [],
   "source": [
    "test_volume_error = []\n",
    "test_trade_error = []\n",
    "\n",
    "for i in range((test_set_length), 0, -1):\n",
    "    \n",
    "    tmp_volume_model = arima_volume_model\n",
    "    tmp_trade_model = arima_trade_model\n",
    "\n",
    "    if (i == 30):\n",
    "        \n",
    "        test_volume_error.append(tmp_volume_model.predict(n_periods = 1)[0])\n",
    "        \n",
    "        test_trade_error.append(arima_trade_model.predict(n_periods = 1)[0])\n",
    "    else:\n",
    "        tmp_volume_model.update(df_bars_test[i:].volume)\n",
    "        \n",
    "        test_volume_error.append(tmp_volume_model.predict(n_periods = 1)[0])\n",
    "        \n",
    "        tmp_trade_model.update(df_bars_test[i:].trade_count)\n",
    "        \n",
    "        test_trade_error.append(tmp_trade_model.predict(n_periods = 1)[0])"
   ]
  },
  {
   "cell_type": "markdown",
   "id": "d2f0dd29",
   "metadata": {},
   "source": [
    "Getting the accuracy measures from the forecasts"
   ]
  },
  {
   "cell_type": "code",
   "execution_count": 20,
   "id": "76f09715",
   "metadata": {},
   "outputs": [
    {
     "data": {
      "text/plain": [
       "18217674.054706924"
      ]
     },
     "execution_count": 20,
     "metadata": {},
     "output_type": "execute_result"
    }
   ],
   "source": [
    "# getting mae for volume one step ahead forecasts\n",
    "np.mean(np.abs(special.inv_boxcox(test_volume_error, lambda_fitted[1]) - special.inv_boxcox(df_bars_test['volume'], lambda_fitted[1])))"
   ]
  },
  {
   "cell_type": "code",
   "execution_count": 21,
   "id": "0a7af4c8",
   "metadata": {},
   "outputs": [
    {
     "data": {
      "text/plain": [
       "0.17864370659516568"
      ]
     },
     "execution_count": 21,
     "metadata": {},
     "output_type": "execute_result"
    }
   ],
   "source": [
    "# getting mape for volume\n",
    "np.mean(np.abs(special.inv_boxcox(test_volume_error, lambda_fitted[1]) - special.inv_boxcox(df_bars_test['volume'], lambda_fitted[1]))/special.inv_boxcox(df_bars_test['volume'], lambda_fitted[1]))"
   ]
  },
  {
   "cell_type": "code",
   "execution_count": 22,
   "id": "93febf25",
   "metadata": {},
   "outputs": [
    {
     "data": {
      "text/plain": [
       "128508.27579749092"
      ]
     },
     "execution_count": 22,
     "metadata": {},
     "output_type": "execute_result"
    }
   ],
   "source": [
    "# getting mae for volume one step ahead for trade_count\n",
    "np.mean(np.abs(special.inv_boxcox(test_trade_error, lambda_fitted[2]) - special.inv_boxcox(df_bars_test['trade_count'], lambda_fitted[2])))"
   ]
  },
  {
   "cell_type": "code",
   "execution_count": 23,
   "id": "282ad76b",
   "metadata": {},
   "outputs": [
    {
     "data": {
      "text/plain": [
       "0.16268821950790816"
      ]
     },
     "execution_count": 23,
     "metadata": {},
     "output_type": "execute_result"
    }
   ],
   "source": [
    "# mape for trade_count\n",
    "np.mean(np.abs(special.inv_boxcox(test_trade_error, lambda_fitted[2]) - special.inv_boxcox(df_bars_test['trade_count'], lambda_fitted[2]))/ special.inv_boxcox(df_bars_test['trade_count'], lambda_fitted[2]))"
   ]
  },
  {
   "cell_type": "markdown",
   "id": "5bc42ae4",
   "metadata": {},
   "source": [
    "Using the forecasted predictor values to get estimated target variables and viewing the accuracy"
   ]
  },
  {
   "cell_type": "code",
   "execution_count": 24,
   "id": "cb630584",
   "metadata": {},
   "outputs": [],
   "source": [
    "# instead of using the actual testset to test linear model use the forecasted\n",
    "df_new_forecast = pd.DataFrame({'volume': test_volume_error, 'trade_count': test_trade_error})\n",
    "# if mape is smaller than .5, we are acurate more than 50% of the time...\n",
    "\n",
    "df_new_forecast = sm.add_constant(df_new_forecast)\n",
    "\n",
    "pred_lm_forecast = fitted_linear.predict(df_new_forecast)"
   ]
  },
  {
   "cell_type": "code",
   "execution_count": 25,
   "id": "a3e90cfc",
   "metadata": {},
   "outputs": [
    {
     "data": {
      "text/plain": [
       "8.072726138762716"
      ]
     },
     "execution_count": 25,
     "metadata": {},
     "output_type": "execute_result"
    }
   ],
   "source": [
    "np.mean(np.abs(special.inv_boxcox(pred_lm_forecast, lambda_fitted[0]) - special.inv_boxcox(df_bars_test['close'], lambda_fitted[0]).reset_index(drop = True)))"
   ]
  },
  {
   "cell_type": "code",
   "execution_count": 26,
   "id": "033ed37a",
   "metadata": {},
   "outputs": [
    {
     "data": {
      "text/plain": [
       "11.304526606504057"
      ]
     },
     "execution_count": 26,
     "metadata": {},
     "output_type": "execute_result"
    }
   ],
   "source": [
    "# getting standard deviation to see the spread of the data\n",
    "1.96*np.std(special.inv_boxcox(df_bars_test['close'], lambda_fitted[0]))"
   ]
  },
  {
   "cell_type": "code",
   "execution_count": 27,
   "id": "e2a4e66d",
   "metadata": {},
   "outputs": [
    {
     "data": {
      "text/plain": [
       "0.05891627067337321"
      ]
     },
     "execution_count": 27,
     "metadata": {},
     "output_type": "execute_result"
    }
   ],
   "source": [
    "# mape for the forecasted new dataset using one step ahead forecasts\n",
    "# getting 10% is pretty great from forecast to a linear model.. \n",
    "np.mean(np.abs(special.inv_boxcox(pred_lm_forecast, lambda_fitted[0]) - special.inv_boxcox(df_bars_test['close'], lambda_fitted[0]).reset_index(drop = True))/special.inv_boxcox(df_bars_test['close'], lambda_fitted[0]).reset_index(drop = True))"
   ]
  },
  {
   "cell_type": "markdown",
   "id": "f71a3cb7",
   "metadata": {},
   "source": [
    "# Using PCA and applied previous method to predict closing price"
   ]
  },
  {
   "cell_type": "code",
   "execution_count": 28,
   "id": "f026b957",
   "metadata": {},
   "outputs": [],
   "source": [
    "# Calls libraries used for pca\n",
    "from sklearn.decomposition import PCA\n",
    "from sklearn.preprocessing import StandardScaler"
   ]
  },
  {
   "cell_type": "code",
   "execution_count": 29,
   "id": "d4af6b03",
   "metadata": {},
   "outputs": [],
   "source": [
    "# 50 top stocks\n",
    "stock_list = ['DIDI', 'AMD', 'AAPL', 'AMZN', 'CCL', 'NIO', 'F', 'BBD', 'ITUB', \\\n",
    "             'ABEV', 'BABA', 'NVDA', 'NOK', 'AAL', 'DOCU', 'SNAP', 'PCG', 'SOFI', \\\n",
    "             'SWN', 'INTC', 'AUY', 'CERN', 'PBR', 'T', 'TSLA', 'GRAB', 'NCLH', \\\n",
    "             'NU', 'MSFT', 'NLY', 'PLTR', 'UBER', 'WFC', 'META', 'XOM', 'MU', \\\n",
    "             'OXY', 'AMC', 'WBD', 'RIG', 'CS', 'OPEN', 'RBLX', 'PFE', 'PDD', \\\n",
    "             'FCX', 'GFI', 'DKNG']"
   ]
  },
  {
   "cell_type": "code",
   "execution_count": 30,
   "id": "ad4bf58a",
   "metadata": {},
   "outputs": [],
   "source": [
    "df_group_bars = pd.DataFrame()\n",
    "\n",
    "# runs through list of stocks and pulls a given stock and concatinates that onto a main df. it also creates a stock column,\n",
    "# which is just the stock name\n",
    "for stocks in stock_list:\n",
    "    \n",
    "    if (len(df_group_bars) == 0):\n",
    "        \n",
    "        df_group_bars = api.get_bars(stocks, TimeFrame.Day, \"2020-01-01\", \"2022-01-08\", adjustment='raw').df\n",
    "        \n",
    "        df_group_bars['stock'] = stocks\n",
    "    else:\n",
    "    \n",
    "        df_temp_stock = api.get_bars(stocks, TimeFrame.Day, \"2020-01-01\", \"2022-01-08\", adjustment='raw').df\n",
    "        \n",
    "        df_temp_stock['stock'] = stocks\n",
    "        \n",
    "        df_group_bars = pd.concat([df_group_bars, df_temp_stock])"
   ]
  },
  {
   "cell_type": "code",
   "execution_count": 31,
   "id": "b5791b1b",
   "metadata": {},
   "outputs": [],
   "source": [
    "# Sets up for data pivot to wider\n",
    "df_group_bars['datetime'] = df_group_bars.index\n",
    "df_group_bars['datetime'] = pd.to_datetime(df_group_bars['datetime'])\n",
    "# df_group_bars.pivot(index='patient', columns='obs', values='score')"
   ]
  },
  {
   "cell_type": "code",
   "execution_count": 32,
   "id": "ca53eeaf",
   "metadata": {},
   "outputs": [],
   "source": [
    "# pivots data\n",
    "df_pivot_bars = df_group_bars.pivot(index='datetime', columns='stock', values=['close', 'volume', 'trade_count'])"
   ]
  },
  {
   "cell_type": "code",
   "execution_count": 33,
   "id": "d52e912e",
   "metadata": {},
   "outputs": [],
   "source": [
    "# drops multi index from pivot\n",
    "df_pivot_bars.columns = df_pivot_bars.columns.get_level_values(0) + '_' +  df_pivot_bars.columns.get_level_values(1)"
   ]
  },
  {
   "cell_type": "code",
   "execution_count": 34,
   "id": "c0b4146b",
   "metadata": {},
   "outputs": [],
   "source": [
    "# picking the target variable, of course I'm choosing Apple\n",
    "target = df_pivot_bars.pop('close_AAL')"
   ]
  },
  {
   "cell_type": "code",
   "execution_count": 35,
   "id": "ad07d54e",
   "metadata": {},
   "outputs": [],
   "source": [
    "# scalling the data for pca\n",
    "df_scaled_bars = StandardScaler().fit_transform(df_pivot_bars.dropna(axis = 'columns'))"
   ]
  },
  {
   "cell_type": "code",
   "execution_count": 36,
   "id": "1f57a599",
   "metadata": {},
   "outputs": [],
   "source": [
    "# Afters short analysis, I have chosen to get only 5 pca\n",
    "pca = PCA(n_components = 5)\n",
    "\n",
    "principalComponents = pca.fit_transform(df_scaled_bars)\n",
    "\n",
    "principalDf = pd.DataFrame(data = principalComponents)\n",
    "\n",
    "principalDf['Target'] = target.reset_index(drop = True)\n",
    "\n",
    "transformed_principal, fitted_lambda = stats.boxcox(principalDf['Target'])\n",
    "\n",
    "principalDf['Target'] = transformed_principal"
   ]
  },
  {
   "cell_type": "code",
   "execution_count": 37,
   "id": "eeadc018",
   "metadata": {},
   "outputs": [
    {
     "data": {
      "text/plain": [
       "<AxesSubplot:>"
      ]
     },
     "execution_count": 37,
     "metadata": {},
     "output_type": "execute_result"
    },
    {
     "data": {
      "image/png": "[encoded data removed]",
      "text/plain": [
       "<Figure size 432x288 with 1 Axes>"
      ]
     },
     "metadata": {
      "needs_background": "light"
     },
     "output_type": "display_data"
    }
   ],
   "source": [
    "principalDf.plot()"
   ]
  },
  {
   "cell_type": "code",
   "execution_count": 38,
   "id": "81e77689",
   "metadata": {},
   "outputs": [
    {
     "data": {
      "image/png": "[encoded data removed]",
      "text/plain": [
       "<Figure size 432x288 with 2 Axes>"
      ]
     },
     "metadata": {
      "needs_background": "light"
     },
     "output_type": "display_data"
    }
   ],
   "source": [
    "# correlation plot with target and pca\n",
    "corrMatrix = principalDf.corr()\n",
    "sn.heatmap(corrMatrix, annot=True)\n",
    "plt.show()"
   ]
  },
  {
   "cell_type": "code",
   "execution_count": 39,
   "id": "8d9ff118",
   "metadata": {},
   "outputs": [],
   "source": [
    "df_pca_train = principalDf[30:]\n",
    "df_pca_test =  principalDf[:30]"
   ]
  },
  {
   "cell_type": "code",
   "execution_count": 40,
   "id": "baa16ac8",
   "metadata": {},
   "outputs": [
    {
     "data": {
      "text/html": [
       "<table class=\"simpletable\">\n",
       "<caption>OLS Regression Results</caption>\n",
       "<tr>\n",
       "  <th>Dep. Variable:</th>         <td>Target</td>      <th>  R-squared:         </th> <td>   0.834</td> \n",
       "</tr>\n",
       "<tr>\n",
       "  <th>Model:</th>                   <td>OLS</td>       <th>  Adj. R-squared:    </th> <td>   0.832</td> \n",
       "</tr>\n",
       "<tr>\n",
       "  <th>Method:</th>             <td>Least Squares</td>  <th>  F-statistic:       </th> <td>   476.0</td> \n",
       "</tr>\n",
       "<tr>\n",
       "  <th>Date:</th>             <td>Mon, 04 Jul 2022</td> <th>  Prob (F-statistic):</th> <td>3.41e-182</td>\n",
       "</tr>\n",
       "<tr>\n",
       "  <th>Time:</th>                 <td>23:19:26</td>     <th>  Log-Likelihood:    </th> <td> -174.21</td> \n",
       "</tr>\n",
       "<tr>\n",
       "  <th>No. Observations:</th>      <td>   480</td>      <th>  AIC:               </th> <td>   360.4</td> \n",
       "</tr>\n",
       "<tr>\n",
       "  <th>Df Residuals:</th>          <td>   474</td>      <th>  BIC:               </th> <td>   385.5</td> \n",
       "</tr>\n",
       "<tr>\n",
       "  <th>Df Model:</th>              <td>     5</td>      <th>                     </th>     <td> </td>    \n",
       "</tr>\n",
       "<tr>\n",
       "  <th>Covariance Type:</th>      <td>nonrobust</td>    <th>                     </th>     <td> </td>    \n",
       "</tr>\n",
       "</table>\n",
       "<table class=\"simpletable\">\n",
       "<tr>\n",
       "    <td></td>       <th>coef</th>     <th>std err</th>      <th>t</th>      <th>P>|t|</th>  <th>[0.025</th>    <th>0.975]</th>  \n",
       "</tr>\n",
       "<tr>\n",
       "  <th>const</th> <td>    5.4281</td> <td>    0.017</td> <td>  320.514</td> <td> 0.000</td> <td>    5.395</td> <td>    5.461</td>\n",
       "</tr>\n",
       "<tr>\n",
       "  <th>0</th>     <td>   -0.1165</td> <td>    0.003</td> <td>  -36.842</td> <td> 0.000</td> <td>   -0.123</td> <td>   -0.110</td>\n",
       "</tr>\n",
       "<tr>\n",
       "  <th>1</th>     <td>   -0.0340</td> <td>    0.006</td> <td>   -5.516</td> <td> 0.000</td> <td>   -0.046</td> <td>   -0.022</td>\n",
       "</tr>\n",
       "<tr>\n",
       "  <th>2</th>     <td>    0.1459</td> <td>    0.006</td> <td>   26.417</td> <td> 0.000</td> <td>    0.135</td> <td>    0.157</td>\n",
       "</tr>\n",
       "<tr>\n",
       "  <th>3</th>     <td>    0.1045</td> <td>    0.005</td> <td>   19.027</td> <td> 0.000</td> <td>    0.094</td> <td>    0.115</td>\n",
       "</tr>\n",
       "<tr>\n",
       "  <th>4</th>     <td>    0.0081</td> <td>    0.008</td> <td>    1.065</td> <td> 0.287</td> <td>   -0.007</td> <td>    0.023</td>\n",
       "</tr>\n",
       "</table>\n",
       "<table class=\"simpletable\">\n",
       "<tr>\n",
       "  <th>Omnibus:</th>       <td> 2.882</td> <th>  Durbin-Watson:     </th> <td>   0.273</td>\n",
       "</tr>\n",
       "<tr>\n",
       "  <th>Prob(Omnibus):</th> <td> 0.237</td> <th>  Jarque-Bera (JB):  </th> <td>   2.681</td>\n",
       "</tr>\n",
       "<tr>\n",
       "  <th>Skew:</th>          <td> 0.141</td> <th>  Prob(JB):          </th> <td>   0.262</td>\n",
       "</tr>\n",
       "<tr>\n",
       "  <th>Kurtosis:</th>      <td> 3.234</td> <th>  Cond. No.          </th> <td>    5.46</td>\n",
       "</tr>\n",
       "</table><br/><br/>Notes:<br/>[1] Standard Errors assume that the covariance matrix of the errors is correctly specified."
      ],
      "text/plain": [
       "<class 'statsmodels.iolib.summary.Summary'>\n",
       "\"\"\"\n",
       "                            OLS Regression Results                            \n",
       "==============================================================================\n",
       "Dep. Variable:                 Target   R-squared:                       0.834\n",
       "Model:                            OLS   Adj. R-squared:                  0.832\n",
       "Method:                 Least Squares   F-statistic:                     476.0\n",
       "Date:                Mon, 04 Jul 2022   Prob (F-statistic):          3.41e-182\n",
       "Time:                        23:19:26   Log-Likelihood:                -174.21\n",
       "No. Observations:                 480   AIC:                             360.4\n",
       "Df Residuals:                     474   BIC:                             385.5\n",
       "Df Model:                           5                                         \n",
       "Covariance Type:            nonrobust                                         \n",
       "==============================================================================\n",
       "                 coef    std err          t      P>|t|      [0.025      0.975]\n",
       "------------------------------------------------------------------------------\n",
       "const          5.4281      0.017    320.514      0.000       5.395       5.461\n",
       "0             -0.1165      0.003    -36.842      0.000      -0.123      -0.110\n",
       "1             -0.0340      0.006     -5.516      0.000      -0.046      -0.022\n",
       "2              0.1459      0.006     26.417      0.000       0.135       0.157\n",
       "3              0.1045      0.005     19.027      0.000       0.094       0.115\n",
       "4              0.0081      0.008      1.065      0.287      -0.007       0.023\n",
       "==============================================================================\n",
       "Omnibus:                        2.882   Durbin-Watson:                   0.273\n",
       "Prob(Omnibus):                  0.237   Jarque-Bera (JB):                2.681\n",
       "Skew:                           0.141   Prob(JB):                        0.262\n",
       "Kurtosis:                       3.234   Cond. No.                         5.46\n",
       "==============================================================================\n",
       "\n",
       "Notes:\n",
       "[1] Standard Errors assume that the covariance matrix of the errors is correctly specified.\n",
       "\"\"\""
      ]
     },
     "execution_count": 40,
     "metadata": {},
     "output_type": "execute_result"
    }
   ],
   "source": [
    "# building linear model\n",
    "predictors = df_pca_train[[0,1,2,3,4]]\n",
    "predictors_cons = sm.add_constant(predictors)\n",
    "\n",
    "fitted_linear = sm.OLS(df_pca_train['Target'], predictors_cons).fit()\n",
    "\n",
    "fitted_linear.summary()"
   ]
  },
  {
   "cell_type": "markdown",
   "id": "95893d75",
   "metadata": {},
   "source": [
    "Generates a fitted forecast of each pca and then saves each one into a list"
   ]
  },
  {
   "cell_type": "code",
   "execution_count": 41,
   "id": "fafb748c",
   "metadata": {},
   "outputs": [],
   "source": [
    "forecast_list = []\n",
    "for col in df_pca_train.columns:\n",
    "    forecast_list.append(pm.auto_arima(df_pca_train[col], seasonal = False))"
   ]
  },
  {
   "cell_type": "code",
   "execution_count": 42,
   "id": "2d9cddc4",
   "metadata": {},
   "outputs": [],
   "source": [
    "df_step_ahead_forecast = pd.DataFrame()\n",
    "\n",
    "# for loops goes through each predictor column and then gets a one step ahead forecast by slowing updating the fitted models\n",
    "# with one more observation using a for loop. The forecasted values are then saved to a dataframe\n",
    "for col in df_pca_test.columns[:-1]:\n",
    "    \n",
    "    test_forecast = []\n",
    "    \n",
    "    forecast_model_col = forecast_list[col]\n",
    "    \n",
    "    for i in range(len(df_pca_test), 0, -1):\n",
    "        \n",
    "        tmp_forecast_model = forecast_model_col\n",
    "        \n",
    "        if (i == 30):\n",
    "        \n",
    "            test_forecast.append(tmp_forecast_model.predict(n_periods = 1)[0])\n",
    "        else:\n",
    "            \n",
    "            tmp_forecast_model.update(df_pca_test[col][i:])\n",
    "\n",
    "            test_forecast.append(tmp_forecast_model.predict(n_periods = 1)[0])\n",
    "    \n",
    "    df_step_ahead_forecast[col] = test_forecast"
   ]
  },
  {
   "cell_type": "markdown",
   "id": "8d1f7e21",
   "metadata": {},
   "source": [
    "Gets predicted values from the linear model using the forecasted predictor values"
   ]
  },
  {
   "cell_type": "code",
   "execution_count": 43,
   "id": "01cdfd43",
   "metadata": {},
   "outputs": [],
   "source": [
    "df_new_forecast = sm.add_constant(df_step_ahead_forecast)\n",
    "\n",
    "pred_lm_forecast = fitted_linear.predict(df_new_forecast)"
   ]
  },
  {
   "cell_type": "code",
   "execution_count": 44,
   "id": "a40981f3",
   "metadata": {},
   "outputs": [
    {
     "data": {
      "text/plain": [
       "3.0382776437908783"
      ]
     },
     "execution_count": 44,
     "metadata": {},
     "output_type": "execute_result"
    }
   ],
   "source": [
    "# mae for forecasted variables as predictors of the closed amount.\n",
    "# 2 dollars is a pretty decent mae \n",
    "np.mean(np.abs(special.inv_boxcox(pred_lm_forecast, fitted_lambda) - special.inv_boxcox(df_pca_test['Target'], fitted_lambda)))"
   ]
  },
  {
   "cell_type": "code",
   "execution_count": 45,
   "id": "e9fb049e",
   "metadata": {},
   "outputs": [
    {
     "data": {
      "text/plain": [
       "1.0029007373059866"
      ]
     },
     "execution_count": 45,
     "metadata": {},
     "output_type": "execute_result"
    }
   ],
   "source": [
    "np.std(special.inv_boxcox(df_pca_test['Target'], fitted_lambda))"
   ]
  },
  {
   "cell_type": "code",
   "execution_count": 46,
   "id": "18a782c9",
   "metadata": {},
   "outputs": [
    {
     "data": {
      "text/plain": [
       "0.10729131210513815"
      ]
     },
     "execution_count": 46,
     "metadata": {},
     "output_type": "execute_result"
    }
   ],
   "source": [
    "# mape for the forecasted new dataset using one step ahead forecasts\n",
    "np.mean(np.abs(special.inv_boxcox(pred_lm_forecast, fitted_lambda) - special.inv_boxcox(df_pca_test['Target'], fitted_lambda)) / special.inv_boxcox(df_pca_test['Target'], fitted_lambda))"
   ]
  },
  {
   "cell_type": "code",
   "execution_count": 47,
   "id": "60a8d4b9",
   "metadata": {},
   "outputs": [
    {
     "data": {
      "text/plain": [
       "0    -9.654461\n",
       "1    -4.644926\n",
       "2    -3.493349\n",
       "3    -2.634061\n",
       "4    -2.813371\n",
       "5    -2.738854\n",
       "6    -2.015504\n",
       "7    -2.050273\n",
       "8    -2.200115\n",
       "9    -2.271334\n",
       "10   -2.941207\n",
       "11   -3.116013\n",
       "12   -1.925227\n",
       "13   -2.041910\n",
       "14   -3.522135\n",
       "15   -2.361808\n",
       "16   -0.828145\n",
       "17   -1.617012\n",
       "18   -1.512547\n",
       "19   -2.428277\n",
       "20   -1.546476\n",
       "21   -1.863201\n",
       "22   -3.130823\n",
       "23   -3.798556\n",
       "24   -2.997753\n",
       "25   -3.073078\n",
       "26   -3.478924\n",
       "27   -4.525511\n",
       "28   -5.153371\n",
       "29   -4.770107\n",
       "dtype: float64"
      ]
     },
     "execution_count": 47,
     "metadata": {},
     "output_type": "execute_result"
    }
   ],
   "source": [
    "# possible bias in these models... It is always lower than the actual\n",
    "special.inv_boxcox(pred_lm_forecast, fitted_lambda) - special.inv_boxcox(df_pca_test['Target'], fitted_lambda)"
   ]
  },
  {
   "cell_type": "markdown",
   "id": "1ab3cee0",
   "metadata": {},
   "source": [
    "## Technical analysis"
   ]
  },
  {
   "cell_type": "code",
   "execution_count": 48,
   "id": "576e8002",
   "metadata": {},
   "outputs": [],
   "source": [
    "# inport necessary libraries\n",
    "import talib as tb\n",
    "import random\n",
    "\n",
    "from sklearn.model_selection import cross_val_score\n",
    "from sklearn.model_selection import RepeatedStratifiedKFold\n",
    "from sklearn.ensemble import RandomForestClassifier"
   ]
  },
  {
   "cell_type": "code",
   "execution_count": 49,
   "id": "4c0b32b6",
   "metadata": {},
   "outputs": [],
   "source": [
    "macd, macdsignal, macdhist = tb.MACD(df_apple['close'], fastperiod=12, slowperiod=26, signalperiod=9)"
   ]
  },
  {
   "cell_type": "code",
   "execution_count": 50,
   "id": "722f5b8a",
   "metadata": {},
   "outputs": [],
   "source": [
    "# creates a macD dataframe using talib and then merges original dataset onto it\n",
    "df_mac = pd.DataFrame({'macd': macd, 'macdsignal': macdsignal, 'macdhist':macdhist})\n",
    "\n",
    "df_mac = df_mac.merge(df_apple, left_index=True, right_index=True)\n",
    "df_mac['MOM'] = tb.MOM(df_apple['close'], timeperiod=5)\n",
    "\n",
    "for i in range(2, 13):\n",
    "    df_mac['MA_' + str(i)] = tb.SMA(df_apple['close'], timeperiod=i)"
   ]
  },
  {
   "cell_type": "code",
   "execution_count": 51,
   "id": "096d8ff3",
   "metadata": {},
   "outputs": [
    {
     "data": {
      "text/html": [
       "<div>\n",
       "<style scoped>\n",
       "    .dataframe tbody tr th:only-of-type {\n",
       "        vertical-align: middle;\n",
       "    }\n",
       "\n",
       "    .dataframe tbody tr th {\n",
       "        vertical-align: top;\n",
       "    }\n",
       "\n",
       "    .dataframe thead th {\n",
       "        text-align: right;\n",
       "    }\n",
       "</style>\n",
       "<table border=\"1\" class=\"dataframe\">\n",
       "  <thead>\n",
       "    <tr style=\"text-align: right;\">\n",
       "      <th></th>\n",
       "      <th>macd</th>\n",
       "      <th>macdsignal</th>\n",
       "      <th>macdhist</th>\n",
       "      <th>open</th>\n",
       "      <th>high</th>\n",
       "      <th>low</th>\n",
       "      <th>close</th>\n",
       "      <th>volume</th>\n",
       "      <th>trade_count</th>\n",
       "      <th>vwap</th>\n",
       "      <th>...</th>\n",
       "      <th>MA_3</th>\n",
       "      <th>MA_4</th>\n",
       "      <th>MA_5</th>\n",
       "      <th>MA_6</th>\n",
       "      <th>MA_7</th>\n",
       "      <th>MA_8</th>\n",
       "      <th>MA_9</th>\n",
       "      <th>MA_10</th>\n",
       "      <th>MA_11</th>\n",
       "      <th>MA_12</th>\n",
       "    </tr>\n",
       "    <tr>\n",
       "      <th>timestamp</th>\n",
       "      <th></th>\n",
       "      <th></th>\n",
       "      <th></th>\n",
       "      <th></th>\n",
       "      <th></th>\n",
       "      <th></th>\n",
       "      <th></th>\n",
       "      <th></th>\n",
       "      <th></th>\n",
       "      <th></th>\n",
       "      <th></th>\n",
       "      <th></th>\n",
       "      <th></th>\n",
       "      <th></th>\n",
       "      <th></th>\n",
       "      <th></th>\n",
       "      <th></th>\n",
       "      <th></th>\n",
       "      <th></th>\n",
       "      <th></th>\n",
       "      <th></th>\n",
       "    </tr>\n",
       "  </thead>\n",
       "  <tbody>\n",
       "    <tr>\n",
       "      <th>2020-09-01 04:00:00+00:00</th>\n",
       "      <td>NaN</td>\n",
       "      <td>NaN</td>\n",
       "      <td>NaN</td>\n",
       "      <td>132.91</td>\n",
       "      <td>134.800</td>\n",
       "      <td>130.5300</td>\n",
       "      <td>134.18</td>\n",
       "      <td>152880540</td>\n",
       "      <td>1494300</td>\n",
       "      <td>132.851768</td>\n",
       "      <td>...</td>\n",
       "      <td>NaN</td>\n",
       "      <td>NaN</td>\n",
       "      <td>NaN</td>\n",
       "      <td>NaN</td>\n",
       "      <td>NaN</td>\n",
       "      <td>NaN</td>\n",
       "      <td>NaN</td>\n",
       "      <td>NaN</td>\n",
       "      <td>NaN</td>\n",
       "      <td>NaN</td>\n",
       "    </tr>\n",
       "    <tr>\n",
       "      <th>2020-09-02 04:00:00+00:00</th>\n",
       "      <td>NaN</td>\n",
       "      <td>NaN</td>\n",
       "      <td>NaN</td>\n",
       "      <td>137.58</td>\n",
       "      <td>137.980</td>\n",
       "      <td>127.0000</td>\n",
       "      <td>131.40</td>\n",
       "      <td>200393336</td>\n",
       "      <td>1843498</td>\n",
       "      <td>131.616730</td>\n",
       "      <td>...</td>\n",
       "      <td>NaN</td>\n",
       "      <td>NaN</td>\n",
       "      <td>NaN</td>\n",
       "      <td>NaN</td>\n",
       "      <td>NaN</td>\n",
       "      <td>NaN</td>\n",
       "      <td>NaN</td>\n",
       "      <td>NaN</td>\n",
       "      <td>NaN</td>\n",
       "      <td>NaN</td>\n",
       "    </tr>\n",
       "    <tr>\n",
       "      <th>2020-09-03 04:00:00+00:00</th>\n",
       "      <td>NaN</td>\n",
       "      <td>NaN</td>\n",
       "      <td>NaN</td>\n",
       "      <td>126.97</td>\n",
       "      <td>128.840</td>\n",
       "      <td>120.5000</td>\n",
       "      <td>120.88</td>\n",
       "      <td>257604126</td>\n",
       "      <td>2360769</td>\n",
       "      <td>123.526182</td>\n",
       "      <td>...</td>\n",
       "      <td>128.820000</td>\n",
       "      <td>NaN</td>\n",
       "      <td>NaN</td>\n",
       "      <td>NaN</td>\n",
       "      <td>NaN</td>\n",
       "      <td>NaN</td>\n",
       "      <td>NaN</td>\n",
       "      <td>NaN</td>\n",
       "      <td>NaN</td>\n",
       "      <td>NaN</td>\n",
       "    </tr>\n",
       "    <tr>\n",
       "      <th>2020-09-04 04:00:00+00:00</th>\n",
       "      <td>NaN</td>\n",
       "      <td>NaN</td>\n",
       "      <td>NaN</td>\n",
       "      <td>120.00</td>\n",
       "      <td>123.700</td>\n",
       "      <td>110.8900</td>\n",
       "      <td>120.96</td>\n",
       "      <td>332632509</td>\n",
       "      <td>2967070</td>\n",
       "      <td>117.943903</td>\n",
       "      <td>...</td>\n",
       "      <td>124.413333</td>\n",
       "      <td>126.8550</td>\n",
       "      <td>NaN</td>\n",
       "      <td>NaN</td>\n",
       "      <td>NaN</td>\n",
       "      <td>NaN</td>\n",
       "      <td>NaN</td>\n",
       "      <td>NaN</td>\n",
       "      <td>NaN</td>\n",
       "      <td>NaN</td>\n",
       "    </tr>\n",
       "    <tr>\n",
       "      <th>2020-09-08 04:00:00+00:00</th>\n",
       "      <td>NaN</td>\n",
       "      <td>NaN</td>\n",
       "      <td>NaN</td>\n",
       "      <td>113.74</td>\n",
       "      <td>118.990</td>\n",
       "      <td>112.6800</td>\n",
       "      <td>112.82</td>\n",
       "      <td>231598461</td>\n",
       "      <td>2003683</td>\n",
       "      <td>115.392545</td>\n",
       "      <td>...</td>\n",
       "      <td>118.220000</td>\n",
       "      <td>121.5150</td>\n",
       "      <td>124.048</td>\n",
       "      <td>NaN</td>\n",
       "      <td>NaN</td>\n",
       "      <td>NaN</td>\n",
       "      <td>NaN</td>\n",
       "      <td>NaN</td>\n",
       "      <td>NaN</td>\n",
       "      <td>NaN</td>\n",
       "    </tr>\n",
       "    <tr>\n",
       "      <th>...</th>\n",
       "      <td>...</td>\n",
       "      <td>...</td>\n",
       "      <td>...</td>\n",
       "      <td>...</td>\n",
       "      <td>...</td>\n",
       "      <td>...</td>\n",
       "      <td>...</td>\n",
       "      <td>...</td>\n",
       "      <td>...</td>\n",
       "      <td>...</td>\n",
       "      <td>...</td>\n",
       "      <td>...</td>\n",
       "      <td>...</td>\n",
       "      <td>...</td>\n",
       "      <td>...</td>\n",
       "      <td>...</td>\n",
       "      <td>...</td>\n",
       "      <td>...</td>\n",
       "      <td>...</td>\n",
       "      <td>...</td>\n",
       "      <td>...</td>\n",
       "    </tr>\n",
       "    <tr>\n",
       "      <th>2022-06-27 04:00:00+00:00</th>\n",
       "      <td>-3.080837</td>\n",
       "      <td>-4.017295</td>\n",
       "      <td>0.936458</td>\n",
       "      <td>142.70</td>\n",
       "      <td>143.490</td>\n",
       "      <td>140.9650</td>\n",
       "      <td>141.66</td>\n",
       "      <td>73357944</td>\n",
       "      <td>516181</td>\n",
       "      <td>142.026287</td>\n",
       "      <td>...</td>\n",
       "      <td>140.530000</td>\n",
       "      <td>139.2350</td>\n",
       "      <td>138.562</td>\n",
       "      <td>137.395000</td>\n",
       "      <td>136.347143</td>\n",
       "      <td>136.23250</td>\n",
       "      <td>135.846667</td>\n",
       "      <td>135.450</td>\n",
       "      <td>135.602727</td>\n",
       "      <td>136.189167</td>\n",
       "    </tr>\n",
       "    <tr>\n",
       "      <th>2022-06-28 04:00:00+00:00</th>\n",
       "      <td>-2.940865</td>\n",
       "      <td>-3.802009</td>\n",
       "      <td>0.861144</td>\n",
       "      <td>142.10</td>\n",
       "      <td>143.422</td>\n",
       "      <td>137.3250</td>\n",
       "      <td>137.44</td>\n",
       "      <td>67315336</td>\n",
       "      <td>546241</td>\n",
       "      <td>139.375156</td>\n",
       "      <td>...</td>\n",
       "      <td>140.253333</td>\n",
       "      <td>139.7575</td>\n",
       "      <td>138.876</td>\n",
       "      <td>138.375000</td>\n",
       "      <td>137.401429</td>\n",
       "      <td>136.48375</td>\n",
       "      <td>136.366667</td>\n",
       "      <td>136.006</td>\n",
       "      <td>135.630909</td>\n",
       "      <td>135.755833</td>\n",
       "    </tr>\n",
       "    <tr>\n",
       "      <th>2022-06-29 04:00:00+00:00</th>\n",
       "      <td>-2.654894</td>\n",
       "      <td>-3.572586</td>\n",
       "      <td>0.917691</td>\n",
       "      <td>137.44</td>\n",
       "      <td>140.670</td>\n",
       "      <td>136.6700</td>\n",
       "      <td>139.23</td>\n",
       "      <td>66354959</td>\n",
       "      <td>572556</td>\n",
       "      <td>139.273624</td>\n",
       "      <td>...</td>\n",
       "      <td>139.443333</td>\n",
       "      <td>139.9975</td>\n",
       "      <td>139.652</td>\n",
       "      <td>138.935000</td>\n",
       "      <td>138.497143</td>\n",
       "      <td>137.63000</td>\n",
       "      <td>136.788889</td>\n",
       "      <td>136.653</td>\n",
       "      <td>136.299091</td>\n",
       "      <td>135.930833</td>\n",
       "    </tr>\n",
       "    <tr>\n",
       "      <th>2022-06-30 04:00:00+00:00</th>\n",
       "      <td>-2.600816</td>\n",
       "      <td>-3.378232</td>\n",
       "      <td>0.777416</td>\n",
       "      <td>137.30</td>\n",
       "      <td>138.370</td>\n",
       "      <td>133.7737</td>\n",
       "      <td>136.72</td>\n",
       "      <td>99036459</td>\n",
       "      <td>710709</td>\n",
       "      <td>136.476185</td>\n",
       "      <td>...</td>\n",
       "      <td>137.796667</td>\n",
       "      <td>138.7625</td>\n",
       "      <td>139.342</td>\n",
       "      <td>139.163333</td>\n",
       "      <td>138.618571</td>\n",
       "      <td>138.27500</td>\n",
       "      <td>137.528889</td>\n",
       "      <td>136.782</td>\n",
       "      <td>136.659091</td>\n",
       "      <td>136.334167</td>\n",
       "    </tr>\n",
       "    <tr>\n",
       "      <th>2022-07-01 04:00:00+00:00</th>\n",
       "      <td>-2.352512</td>\n",
       "      <td>-3.173088</td>\n",
       "      <td>0.820576</td>\n",
       "      <td>136.09</td>\n",
       "      <td>139.040</td>\n",
       "      <td>135.6600</td>\n",
       "      <td>138.93</td>\n",
       "      <td>71174354</td>\n",
       "      <td>558683</td>\n",
       "      <td>137.479845</td>\n",
       "      <td>...</td>\n",
       "      <td>138.293333</td>\n",
       "      <td>138.0800</td>\n",
       "      <td>138.796</td>\n",
       "      <td>139.273333</td>\n",
       "      <td>139.130000</td>\n",
       "      <td>138.65750</td>\n",
       "      <td>138.347778</td>\n",
       "      <td>137.669</td>\n",
       "      <td>136.977273</td>\n",
       "      <td>136.848333</td>\n",
       "    </tr>\n",
       "  </tbody>\n",
       "</table>\n",
       "<p>462 rows × 22 columns</p>\n",
       "</div>"
      ],
      "text/plain": [
       "                               macd  macdsignal  macdhist    open     high  \\\n",
       "timestamp                                                                    \n",
       "2020-09-01 04:00:00+00:00       NaN         NaN       NaN  132.91  134.800   \n",
       "2020-09-02 04:00:00+00:00       NaN         NaN       NaN  137.58  137.980   \n",
       "2020-09-03 04:00:00+00:00       NaN         NaN       NaN  126.97  128.840   \n",
       "2020-09-04 04:00:00+00:00       NaN         NaN       NaN  120.00  123.700   \n",
       "2020-09-08 04:00:00+00:00       NaN         NaN       NaN  113.74  118.990   \n",
       "...                             ...         ...       ...     ...      ...   \n",
       "2022-06-27 04:00:00+00:00 -3.080837   -4.017295  0.936458  142.70  143.490   \n",
       "2022-06-28 04:00:00+00:00 -2.940865   -3.802009  0.861144  142.10  143.422   \n",
       "2022-06-29 04:00:00+00:00 -2.654894   -3.572586  0.917691  137.44  140.670   \n",
       "2022-06-30 04:00:00+00:00 -2.600816   -3.378232  0.777416  137.30  138.370   \n",
       "2022-07-01 04:00:00+00:00 -2.352512   -3.173088  0.820576  136.09  139.040   \n",
       "\n",
       "                                low   close     volume  trade_count  \\\n",
       "timestamp                                                             \n",
       "2020-09-01 04:00:00+00:00  130.5300  134.18  152880540      1494300   \n",
       "2020-09-02 04:00:00+00:00  127.0000  131.40  200393336      1843498   \n",
       "2020-09-03 04:00:00+00:00  120.5000  120.88  257604126      2360769   \n",
       "2020-09-04 04:00:00+00:00  110.8900  120.96  332632509      2967070   \n",
       "2020-09-08 04:00:00+00:00  112.6800  112.82  231598461      2003683   \n",
       "...                             ...     ...        ...          ...   \n",
       "2022-06-27 04:00:00+00:00  140.9650  141.66   73357944       516181   \n",
       "2022-06-28 04:00:00+00:00  137.3250  137.44   67315336       546241   \n",
       "2022-06-29 04:00:00+00:00  136.6700  139.23   66354959       572556   \n",
       "2022-06-30 04:00:00+00:00  133.7737  136.72   99036459       710709   \n",
       "2022-07-01 04:00:00+00:00  135.6600  138.93   71174354       558683   \n",
       "\n",
       "                                 vwap  ...        MA_3      MA_4     MA_5  \\\n",
       "timestamp                              ...                                  \n",
       "2020-09-01 04:00:00+00:00  132.851768  ...         NaN       NaN      NaN   \n",
       "2020-09-02 04:00:00+00:00  131.616730  ...         NaN       NaN      NaN   \n",
       "2020-09-03 04:00:00+00:00  123.526182  ...  128.820000       NaN      NaN   \n",
       "2020-09-04 04:00:00+00:00  117.943903  ...  124.413333  126.8550      NaN   \n",
       "2020-09-08 04:00:00+00:00  115.392545  ...  118.220000  121.5150  124.048   \n",
       "...                               ...  ...         ...       ...      ...   \n",
       "2022-06-27 04:00:00+00:00  142.026287  ...  140.530000  139.2350  138.562   \n",
       "2022-06-28 04:00:00+00:00  139.375156  ...  140.253333  139.7575  138.876   \n",
       "2022-06-29 04:00:00+00:00  139.273624  ...  139.443333  139.9975  139.652   \n",
       "2022-06-30 04:00:00+00:00  136.476185  ...  137.796667  138.7625  139.342   \n",
       "2022-07-01 04:00:00+00:00  137.479845  ...  138.293333  138.0800  138.796   \n",
       "\n",
       "                                 MA_6        MA_7       MA_8        MA_9  \\\n",
       "timestamp                                                                  \n",
       "2020-09-01 04:00:00+00:00         NaN         NaN        NaN         NaN   \n",
       "2020-09-02 04:00:00+00:00         NaN         NaN        NaN         NaN   \n",
       "2020-09-03 04:00:00+00:00         NaN         NaN        NaN         NaN   \n",
       "2020-09-04 04:00:00+00:00         NaN         NaN        NaN         NaN   \n",
       "2020-09-08 04:00:00+00:00         NaN         NaN        NaN         NaN   \n",
       "...                               ...         ...        ...         ...   \n",
       "2022-06-27 04:00:00+00:00  137.395000  136.347143  136.23250  135.846667   \n",
       "2022-06-28 04:00:00+00:00  138.375000  137.401429  136.48375  136.366667   \n",
       "2022-06-29 04:00:00+00:00  138.935000  138.497143  137.63000  136.788889   \n",
       "2022-06-30 04:00:00+00:00  139.163333  138.618571  138.27500  137.528889   \n",
       "2022-07-01 04:00:00+00:00  139.273333  139.130000  138.65750  138.347778   \n",
       "\n",
       "                             MA_10       MA_11       MA_12  \n",
       "timestamp                                                   \n",
       "2020-09-01 04:00:00+00:00      NaN         NaN         NaN  \n",
       "2020-09-02 04:00:00+00:00      NaN         NaN         NaN  \n",
       "2020-09-03 04:00:00+00:00      NaN         NaN         NaN  \n",
       "2020-09-04 04:00:00+00:00      NaN         NaN         NaN  \n",
       "2020-09-08 04:00:00+00:00      NaN         NaN         NaN  \n",
       "...                            ...         ...         ...  \n",
       "2022-06-27 04:00:00+00:00  135.450  135.602727  136.189167  \n",
       "2022-06-28 04:00:00+00:00  136.006  135.630909  135.755833  \n",
       "2022-06-29 04:00:00+00:00  136.653  136.299091  135.930833  \n",
       "2022-06-30 04:00:00+00:00  136.782  136.659091  136.334167  \n",
       "2022-07-01 04:00:00+00:00  137.669  136.977273  136.848333  \n",
       "\n",
       "[462 rows x 22 columns]"
      ]
     },
     "execution_count": 51,
     "metadata": {},
     "output_type": "execute_result"
    }
   ],
   "source": [
    "df_mac"
   ]
  },
  {
   "cell_type": "code",
   "execution_count": 52,
   "id": "8b6d7dd7",
   "metadata": {},
   "outputs": [],
   "source": [
    "# shisfts close back one to get tomorrow's close price\n",
    "df_mac['next_day_close'] = df_mac['close'].shift(periods=-1, axis=\"index\")"
   ]
  },
  {
   "cell_type": "code",
   "execution_count": 53,
   "id": "8c53ebe0",
   "metadata": {},
   "outputs": [],
   "source": [
    "# creates a boolean columns on if the next day is higher than the previous\n",
    "df_mac['higher_than_yesterday'] = np.where(df_mac['next_day_close'] > df_mac['close'], 1, 0)"
   ]
  },
  {
   "cell_type": "code",
   "execution_count": 54,
   "id": "95636848",
   "metadata": {},
   "outputs": [],
   "source": [
    "df_mac_nona = df_mac.loc[(~df_mac['macdhist'].isna()) & ~(df_mac['next_day_close'].isna()),]"
   ]
  },
  {
   "cell_type": "code",
   "execution_count": 55,
   "id": "33c064e0",
   "metadata": {},
   "outputs": [
    {
     "data": {
      "text/html": [
       "<style>#sk-container-id-3 {color: black;background-color: white;}#sk-container-id-3 pre{padding: 0;}#sk-container-id-3 div.sk-toggleable {background-color: white;}#sk-container-id-3 label.sk-toggleable__label {cursor: pointer;display: block;width: 100%;margin-bottom: 0;padding: 0.3em;box-sizing: border-box;text-align: center;}#sk-container-id-3 label.sk-toggleable__label-arrow:before {content: \"▸\";float: left;margin-right: 0.25em;color: #696969;}#sk-container-id-3 label.sk-toggleable__label-arrow:hover:before {color: black;}#sk-container-id-3 div.sk-estimator:hover label.sk-toggleable__label-arrow:before {color: black;}#sk-container-id-3 div.sk-toggleable__content {max-height: 0;max-width: 0;overflow: hidden;text-align: left;background-color: #f0f8ff;}#sk-container-id-3 div.sk-toggleable__content pre {margin: 0.2em;color: black;border-radius: 0.25em;background-color: #f0f8ff;}#sk-container-id-3 input.sk-toggleable__control:checked~div.sk-toggleable__content {max-height: 200px;max-width: 100%;overflow: auto;}#sk-container-id-3 input.sk-toggleable__control:checked~label.sk-toggleable__label-arrow:before {content: \"▾\";}#sk-container-id-3 div.sk-estimator input.sk-toggleable__control:checked~label.sk-toggleable__label {background-color: #d4ebff;}#sk-container-id-3 div.sk-label input.sk-toggleable__control:checked~label.sk-toggleable__label {background-color: #d4ebff;}#sk-container-id-3 input.sk-hidden--visually {border: 0;clip: rect(1px 1px 1px 1px);clip: rect(1px, 1px, 1px, 1px);height: 1px;margin: -1px;overflow: hidden;padding: 0;position: absolute;width: 1px;}#sk-container-id-3 div.sk-estimator {font-family: monospace;background-color: #f0f8ff;border: 1px dotted black;border-radius: 0.25em;box-sizing: border-box;margin-bottom: 0.5em;}#sk-container-id-3 div.sk-estimator:hover {background-color: #d4ebff;}#sk-container-id-3 div.sk-parallel-item::after {content: \"\";width: 100%;border-bottom: 1px solid gray;flex-grow: 1;}#sk-container-id-3 div.sk-label:hover label.sk-toggleable__label {background-color: #d4ebff;}#sk-container-id-3 div.sk-serial::before {content: \"\";position: absolute;border-left: 1px solid gray;box-sizing: border-box;top: 0;bottom: 0;left: 50%;z-index: 0;}#sk-container-id-3 div.sk-serial {display: flex;flex-direction: column;align-items: center;background-color: white;padding-right: 0.2em;padding-left: 0.2em;position: relative;}#sk-container-id-3 div.sk-item {position: relative;z-index: 1;}#sk-container-id-3 div.sk-parallel {display: flex;align-items: stretch;justify-content: center;background-color: white;position: relative;}#sk-container-id-3 div.sk-item::before, #sk-container-id-3 div.sk-parallel-item::before {content: \"\";position: absolute;border-left: 1px solid gray;box-sizing: border-box;top: 0;bottom: 0;left: 50%;z-index: -1;}#sk-container-id-3 div.sk-parallel-item {display: flex;flex-direction: column;z-index: 1;position: relative;background-color: white;}#sk-container-id-3 div.sk-parallel-item:first-child::after {align-self: flex-end;width: 50%;}#sk-container-id-3 div.sk-parallel-item:last-child::after {align-self: flex-start;width: 50%;}#sk-container-id-3 div.sk-parallel-item:only-child::after {width: 0;}#sk-container-id-3 div.sk-dashed-wrapped {border: 1px dashed gray;margin: 0 0.4em 0.5em 0.4em;box-sizing: border-box;padding-bottom: 0.4em;background-color: white;}#sk-container-id-3 div.sk-label label {font-family: monospace;font-weight: bold;display: inline-block;line-height: 1.2em;}#sk-container-id-3 div.sk-label-container {text-align: center;}#sk-container-id-3 div.sk-container {/* jupyter's `normalize.less` sets `[hidden] { display: none; }` but bootstrap.min.css set `[hidden] { display: none !important; }` so we also need the `!important` here to be able to override the default hidden behavior on the sphinx rendered scikit-learn.org. See: https://github.com/scikit-learn/scikit-learn/issues/21755 */display: inline-block !important;position: relative;}#sk-container-id-3 div.sk-text-repr-fallback {display: none;}</style><div id=\"sk-container-id-3\" class=\"sk-top-container\"><div class=\"sk-text-repr-fallback\"><pre>RandomForestClassifier()</pre><b>In a Jupyter environment, please rerun this cell to show the HTML representation or trust the notebook. <br />On GitHub, the HTML representation is unable to render, please try loading this page with nbviewer.org.</b></div><div class=\"sk-container\" hidden><div class=\"sk-item\"><div class=\"sk-estimator sk-toggleable\"><input class=\"sk-toggleable__control sk-hidden--visually\" id=\"sk-estimator-id-3\" type=\"checkbox\" checked><label for=\"sk-estimator-id-3\" class=\"sk-toggleable__label sk-toggleable__label-arrow\">RandomForestClassifier</label><div class=\"sk-toggleable__content\"><pre>RandomForestClassifier()</pre></div></div></div></div></div>"
      ],
      "text/plain": [
       "RandomForestClassifier()"
      ]
     },
     "execution_count": 55,
     "metadata": {},
     "output_type": "execute_result"
    }
   ],
   "source": [
    "random.seed(10)\n",
    "\n",
    "# define the model\n",
    "random_forest_macd = RandomForestClassifier()\n",
    "# evaluate the model\n",
    "random_forest_macd.fit(df_mac_nona[['MA_10', 'macdhist']], df_mac_nona['higher_than_yesterday'])"
   ]
  },
  {
   "cell_type": "markdown",
   "id": "ce843da5",
   "metadata": {},
   "source": [
    "completely random"
   ]
  },
  {
   "cell_type": "code",
   "execution_count": 56,
   "id": "0ea1cf1e",
   "metadata": {},
   "outputs": [
    {
     "name": "stdout",
     "output_type": "stream",
     "text": [
      "Accuracy: 0.516 (0.077)\n"
     ]
    }
   ],
   "source": [
    "cv = RepeatedStratifiedKFold(n_splits=10, n_repeats=3, random_state=1)\n",
    "n_scores = cross_val_score(random_forest_macd, df_mac_nona[['close','macdhist']], df_mac_nona['higher_than_yesterday'], scoring='accuracy', cv=cv, n_jobs=-1, error_score='raise')\n",
    "# report performance\n",
    "print('Accuracy: %.3f (%.3f)' % (np.mean(n_scores), np.std(n_scores)))"
   ]
  },
  {
   "cell_type": "code",
   "execution_count": 57,
   "id": "d2f18bd8",
   "metadata": {},
   "outputs": [],
   "source": [
    "# let's build no model and just get the percentage of being above the certain shift forwards. Use difference between the\n",
    "# macd to use a velocity... maybe the faster the machhist the more likely the closing price will be maintain a trend."
   ]
  },
  {
   "cell_type": "code",
   "execution_count": 58,
   "id": "3f9548d4",
   "metadata": {},
   "outputs": [],
   "source": [
    "from statsmodels.tsa.stattools import adfuller"
   ]
  },
  {
   "cell_type": "code",
   "execution_count": 59,
   "id": "c7fb52ba",
   "metadata": {},
   "outputs": [],
   "source": [
    "# creates a boolean columns on if the next day is higher than the previous\n",
    "df_mac['macd_positive'] = np.where(df_mac['MA_5'] > 0, 1, 0)"
   ]
  },
  {
   "cell_type": "code",
   "execution_count": 60,
   "id": "e05b67be",
   "metadata": {},
   "outputs": [
    {
     "data": {
      "text/html": [
       "<div>\n",
       "<style scoped>\n",
       "    .dataframe tbody tr th:only-of-type {\n",
       "        vertical-align: middle;\n",
       "    }\n",
       "\n",
       "    .dataframe tbody tr th {\n",
       "        vertical-align: top;\n",
       "    }\n",
       "\n",
       "    .dataframe thead tr th {\n",
       "        text-align: left;\n",
       "    }\n",
       "\n",
       "    .dataframe thead tr:last-of-type th {\n",
       "        text-align: right;\n",
       "    }\n",
       "</style>\n",
       "<table border=\"1\" class=\"dataframe\">\n",
       "  <thead>\n",
       "    <tr>\n",
       "      <th></th>\n",
       "      <th colspan=\"2\" halign=\"left\">close</th>\n",
       "    </tr>\n",
       "    <tr>\n",
       "      <th></th>\n",
       "      <th>mean</th>\n",
       "      <th>std</th>\n",
       "    </tr>\n",
       "    <tr>\n",
       "      <th>macd_positive</th>\n",
       "      <th></th>\n",
       "      <th></th>\n",
       "    </tr>\n",
       "  </thead>\n",
       "  <tbody>\n",
       "    <tr>\n",
       "      <th>0</th>\n",
       "      <td>126.85500</td>\n",
       "      <td>6.946565</td>\n",
       "    </tr>\n",
       "    <tr>\n",
       "      <th>1</th>\n",
       "      <td>142.12125</td>\n",
       "      <td>18.910146</td>\n",
       "    </tr>\n",
       "  </tbody>\n",
       "</table>\n",
       "</div>"
      ],
      "text/plain": [
       "                   close           \n",
       "                    mean        std\n",
       "macd_positive                      \n",
       "0              126.85500   6.946565\n",
       "1              142.12125  18.910146"
      ]
     },
     "execution_count": 60,
     "metadata": {},
     "output_type": "execute_result"
    }
   ],
   "source": [
    "df_mac.groupby(by = [\"macd_positive\"]).agg({'close':['mean','std']})"
   ]
  },
  {
   "cell_type": "markdown",
   "id": "8a2f3516",
   "metadata": {},
   "source": [
    "# augmented dickey fuller test function\n",
    "if we do not reject null hypothesis implies that the data is not stationary"
   ]
  },
  {
   "cell_type": "code",
   "execution_count": 61,
   "id": "706a0627",
   "metadata": {},
   "outputs": [],
   "source": [
    "# takes in time series data vector\n",
    "# prints out test statistics and returns the p-value\n",
    "def adf_test(ts_array, print_test_stats):\n",
    "    dickeyfuller = adfuller(ts_array)\n",
    "    if (print_test_stats):\n",
    "        print('ADF Statistic: %f' % dickeyfuller[0])\n",
    "        print('p-value: %f' % dickeyfuller[1])\n",
    "        print('Critical Values:')\n",
    "        for key, value in dickeyfuller[4].items():\n",
    "            print('\\t%s: %.3f' % (key, value))\n",
    "    else:\n",
    "        return(dickeyfuller[1])"
   ]
  },
  {
   "cell_type": "code",
   "execution_count": 62,
   "id": "d0ec16ef",
   "metadata": {},
   "outputs": [
    {
     "data": {
      "text/plain": [
       "0.4841947243817831"
      ]
     },
     "execution_count": 62,
     "metadata": {},
     "output_type": "execute_result"
    }
   ],
   "source": [
    "adf_test(df_mac['close'], False)"
   ]
  },
  {
   "cell_type": "markdown",
   "id": "66071be4",
   "metadata": {},
   "source": [
    "making stationary value"
   ]
  },
  {
   "cell_type": "code",
   "execution_count": 63,
   "id": "58532232",
   "metadata": {},
   "outputs": [],
   "source": [
    "df_mac['close_stationary'] = df_mac['close'] - df_mac['close'].shift(periods=1, axis=\"index\")"
   ]
  },
  {
   "cell_type": "code",
   "execution_count": 64,
   "id": "28938e35",
   "metadata": {},
   "outputs": [
    {
     "name": "stdout",
     "output_type": "stream",
     "text": [
      "ADF Statistic: -22.097675\n",
      "p-value: 0.000000\n",
      "Critical Values:\n",
      "\t1%: -3.445\n",
      "\t5%: -2.868\n",
      "\t10%: -2.570\n"
     ]
    }
   ],
   "source": [
    "# retesting\n",
    "adf_test(df_mac['close_stationary'].dropna(), True)"
   ]
  },
  {
   "cell_type": "code",
   "execution_count": 65,
   "id": "1935d341",
   "metadata": {},
   "outputs": [
    {
     "data": {
      "text/html": [
       "<div>\n",
       "<style scoped>\n",
       "    .dataframe tbody tr th:only-of-type {\n",
       "        vertical-align: middle;\n",
       "    }\n",
       "\n",
       "    .dataframe tbody tr th {\n",
       "        vertical-align: top;\n",
       "    }\n",
       "\n",
       "    .dataframe thead tr th {\n",
       "        text-align: left;\n",
       "    }\n",
       "\n",
       "    .dataframe thead tr:last-of-type th {\n",
       "        text-align: right;\n",
       "    }\n",
       "</style>\n",
       "<table border=\"1\" class=\"dataframe\">\n",
       "  <thead>\n",
       "    <tr>\n",
       "      <th></th>\n",
       "      <th colspan=\"2\" halign=\"left\">close_stationary</th>\n",
       "    </tr>\n",
       "    <tr>\n",
       "      <th></th>\n",
       "      <th>mean</th>\n",
       "      <th>std</th>\n",
       "    </tr>\n",
       "    <tr>\n",
       "      <th>macd_positive</th>\n",
       "      <th></th>\n",
       "      <th></th>\n",
       "    </tr>\n",
       "  </thead>\n",
       "  <tbody>\n",
       "    <tr>\n",
       "      <th>0</th>\n",
       "      <td>-4.406667</td>\n",
       "      <td>5.484025</td>\n",
       "    </tr>\n",
       "    <tr>\n",
       "      <th>1</th>\n",
       "      <td>0.039236</td>\n",
       "      <td>2.735764</td>\n",
       "    </tr>\n",
       "  </tbody>\n",
       "</table>\n",
       "</div>"
      ],
      "text/plain": [
       "              close_stationary          \n",
       "                          mean       std\n",
       "macd_positive                           \n",
       "0                    -4.406667  5.484025\n",
       "1                     0.039236  2.735764"
      ]
     },
     "execution_count": 65,
     "metadata": {},
     "output_type": "execute_result"
    }
   ],
   "source": [
    "df_mac.groupby(by = [\"macd_positive\"]).agg({'close_stationary':['mean','std']})"
   ]
  },
  {
   "cell_type": "markdown",
   "id": "e260b33b",
   "metadata": {},
   "source": [
    "# Decision Trees\n",
    "And giving specific instructions of what to use, so visualization is \"easy\"\n",
    "First create df with common indicators"
   ]
  },
  {
   "cell_type": "code",
   "execution_count": 66,
   "id": "099e9620",
   "metadata": {},
   "outputs": [],
   "source": [
    "from sklearn import tree\n",
    "import graphviz\n",
    "import itertools"
   ]
  },
  {
   "cell_type": "code",
   "execution_count": 67,
   "id": "8df4de59",
   "metadata": {},
   "outputs": [],
   "source": [
    "# ripped off my earlier code\n",
    "macd, macdsignal, macdhist = tb.MACD(df_apple['close'], fastperiod=12, slowperiod=26, signalperiod=9)\n",
    "# creates a macD dataframe using talib and then merges original dataset onto it\n",
    "df_mac = pd.DataFrame({'macd': macd, 'macdsignal': macdsignal, 'macdhist':macdhist})\n",
    "\n",
    "df_mac = df_mac.merge(df_apple, left_index=True, right_index=True)\n",
    "df_mac['MOM'] = tb.MOM(df_apple['close'], timeperiod=5)\n",
    "df_mac['SAR'] = tb.SAR(df_apple['high'], df_apple['low'])\n",
    "\n",
    "# create stationary time series\n",
    "if (adf_test(df_mac['close'], False) > 0.05):\n",
    "    df_mac['close'] = df_mac['close'] - df_mac['close'].shift(periods=1, axis=\"index\")\n",
    "    \n",
    "for i in [21]:\n",
    "    df_mac['MA_' + str(i)] = tb.SMA(df_mac['close'], timeperiod=i)\n",
    "\n",
    "for i in [21]:\n",
    "    df_mac['EMA_' + str(i)] = tb.EMA(df_mac['close'], timeperiod=i)\n",
    "\n",
    "df_mac['std'] = df_mac['close'].rolling(30).std()"
   ]
  },
  {
   "cell_type": "code",
   "execution_count": 68,
   "id": "bd7fd897",
   "metadata": {},
   "outputs": [],
   "source": [
    "df_mac = df_mac.dropna(axis = 0, how = 'any')"
   ]
  },
  {
   "cell_type": "markdown",
   "id": "4cc3b287",
   "metadata": {},
   "source": [
    "## Fitting that tree with small number of features and nodes"
   ]
  },
  {
   "cell_type": "markdown",
   "id": "e213a220",
   "metadata": {},
   "source": [
    "fits a regression tree using very restictive options to create thresholds, easy to implement"
   ]
  },
  {
   "cell_type": "code",
   "execution_count": 69,
   "id": "3395928d",
   "metadata": {},
   "outputs": [],
   "source": [
    "mac_tree = tree.DecisionTreeRegressor(criterion = \"absolute_error\", max_features = 3, max_leaf_nodes = 3)\n",
    "mac_tree = mac_tree.fit(X = df_mac.drop(['open', 'high', 'low', 'close', 'volume', 'trade_count', 'vwap'], axis = 1),\\\n",
    "                        y = df_mac['close'])"
   ]
  },
  {
   "cell_type": "markdown",
   "id": "c2d6b591",
   "metadata": {},
   "source": [
    "### plots the fitted calssification tree"
   ]
  },
  {
   "cell_type": "code",
   "execution_count": 70,
   "id": "287b0df7",
   "metadata": {},
   "outputs": [
    {
     "data": {
      "image/svg+xml": [
       "<?xml version=\"1.0\" encoding=\"UTF-8\" standalone=\"no\"?>\n",
       "<!DOCTYPE svg PUBLIC \"-//W3C//DTD SVG 1.1//EN\"\n",
       " \"http://www.w3.org/Graphics/SVG/1.1/DTD/svg11.dtd\">\n",
       "<!-- Generated by graphviz version 2.50.0 (0)\n",
       " -->\n",
       "<!-- Title: Tree Pages: 1 -->\n",
       "<svg width=\"417pt\" height=\"269pt\"\n",
       " viewBox=\"0.00 0.00 416.50 269.00\" xmlns=\"http://www.w3.org/2000/svg\" xmlns:xlink=\"http://www.w3.org/1999/xlink\">\n",
       "<g id=\"graph0\" class=\"graph\" transform=\"scale(1 1) rotate(0) translate(4 265)\">\n",
       "<title>Tree</title>\n",
       "<polygon fill=\"white\" stroke=\"transparent\" points=\"-4,4 -4,-265 412.5,-265 412.5,4 -4,4\"/>\n",
       "<!-- 0 -->\n",
       "<g id=\"node1\" class=\"node\">\n",
       "<title>0</title>\n",
       "<path fill=\"#f3c6a6\" stroke=\"black\" d=\"M226,-261C226,-261 97,-261 97,-261 91,-261 85,-255 85,-249 85,-249 85,-205 85,-205 85,-199 91,-193 97,-193 97,-193 226,-193 226,-193 232,-193 238,-199 238,-205 238,-205 238,-249 238,-249 238,-255 232,-261 226,-261\"/>\n",
       "<text text-anchor=\"start\" x=\"120.5\" y=\"-245.8\" font-family=\"Helvetica,sans-Serif\" font-size=\"14.00\">MOM ≤ &#45;5.62</text>\n",
       "<text text-anchor=\"start\" x=\"93\" y=\"-230.8\" font-family=\"Helvetica,sans-Serif\" font-size=\"14.00\">absolute_error = 2.038</text>\n",
       "<text text-anchor=\"start\" x=\"116.5\" y=\"-215.8\" font-family=\"Helvetica,sans-Serif\" font-size=\"14.00\">samples = 429</text>\n",
       "<text text-anchor=\"start\" x=\"124\" y=\"-200.8\" font-family=\"Helvetica,sans-Serif\" font-size=\"14.00\">value = 0.05</text>\n",
       "</g>\n",
       "<!-- 1 -->\n",
       "<g id=\"node2\" class=\"node\">\n",
       "<title>1</title>\n",
       "<path fill=\"#ffffff\" stroke=\"black\" d=\"M141,-149.5C141,-149.5 12,-149.5 12,-149.5 6,-149.5 0,-143.5 0,-137.5 0,-137.5 0,-108.5 0,-108.5 0,-102.5 6,-96.5 12,-96.5 12,-96.5 141,-96.5 141,-96.5 147,-96.5 153,-102.5 153,-108.5 153,-108.5 153,-137.5 153,-137.5 153,-143.5 147,-149.5 141,-149.5\"/>\n",
       "<text text-anchor=\"start\" x=\"8\" y=\"-134.3\" font-family=\"Helvetica,sans-Serif\" font-size=\"14.00\">absolute_error = 2.378</text>\n",
       "<text text-anchor=\"start\" x=\"35.5\" y=\"-119.3\" font-family=\"Helvetica,sans-Serif\" font-size=\"14.00\">samples = 62</text>\n",
       "<text text-anchor=\"start\" x=\"37\" y=\"-104.3\" font-family=\"Helvetica,sans-Serif\" font-size=\"14.00\">value = &#45;3.08</text>\n",
       "</g>\n",
       "<!-- 0&#45;&gt;1 -->\n",
       "<g id=\"edge1\" class=\"edge\">\n",
       "<title>0&#45;&gt;1</title>\n",
       "<path fill=\"none\" stroke=\"black\" d=\"M133.9,-192.88C124.46,-181.56 113.9,-168.88 104.43,-157.52\"/>\n",
       "<polygon fill=\"black\" stroke=\"black\" points=\"106.86,-154.96 97.77,-149.52 101.48,-159.44 106.86,-154.96\"/>\n",
       "<text text-anchor=\"middle\" x=\"95.5\" y=\"-170.72\" font-family=\"Helvetica,sans-Serif\" font-size=\"14.00\">True</text>\n",
       "</g>\n",
       "<!-- 2 -->\n",
       "<g id=\"node3\" class=\"node\">\n",
       "<title>2</title>\n",
       "<path fill=\"#f2c19e\" stroke=\"black\" d=\"M312,-157C312,-157 183,-157 183,-157 177,-157 171,-151 171,-145 171,-145 171,-101 171,-101 171,-95 177,-89 183,-89 183,-89 312,-89 312,-89 318,-89 324,-95 324,-101 324,-101 324,-145 324,-145 324,-151 318,-157 312,-157\"/>\n",
       "<text text-anchor=\"start\" x=\"196.5\" y=\"-141.8\" font-family=\"Helvetica,sans-Serif\" font-size=\"14.00\">EMA_21 ≤ 0.956</text>\n",
       "<text text-anchor=\"start\" x=\"179\" y=\"-126.8\" font-family=\"Helvetica,sans-Serif\" font-size=\"14.00\">absolute_error = 1.823</text>\n",
       "<text text-anchor=\"start\" x=\"202.5\" y=\"-111.8\" font-family=\"Helvetica,sans-Serif\" font-size=\"14.00\">samples = 367</text>\n",
       "<text text-anchor=\"start\" x=\"210\" y=\"-96.8\" font-family=\"Helvetica,sans-Serif\" font-size=\"14.00\">value = 0.31</text>\n",
       "</g>\n",
       "<!-- 0&#45;&gt;2 -->\n",
       "<g id=\"edge2\" class=\"edge\">\n",
       "<title>0&#45;&gt;2</title>\n",
       "<path fill=\"none\" stroke=\"black\" d=\"M189.42,-192.88C196.93,-183.98 205.14,-174.24 212.97,-164.96\"/>\n",
       "<polygon fill=\"black\" stroke=\"black\" points=\"215.65,-167.2 219.42,-157.3 210.3,-162.69 215.65,-167.2\"/>\n",
       "<text text-anchor=\"middle\" x=\"221.54\" y=\"-178.51\" font-family=\"Helvetica,sans-Serif\" font-size=\"14.00\">False</text>\n",
       "</g>\n",
       "<!-- 3 -->\n",
       "<g id=\"node4\" class=\"node\">\n",
       "<title>3</title>\n",
       "<path fill=\"#f3c3a0\" stroke=\"black\" d=\"M226,-53C226,-53 97,-53 97,-53 91,-53 85,-47 85,-41 85,-41 85,-12 85,-12 85,-6 91,0 97,0 97,0 226,0 226,0 232,0 238,-6 238,-12 238,-12 238,-41 238,-41 238,-47 232,-53 226,-53\"/>\n",
       "<text text-anchor=\"start\" x=\"93\" y=\"-37.8\" font-family=\"Helvetica,sans-Serif\" font-size=\"14.00\">absolute_error = 1.753</text>\n",
       "<text text-anchor=\"start\" x=\"116.5\" y=\"-22.8\" font-family=\"Helvetica,sans-Serif\" font-size=\"14.00\">samples = 352</text>\n",
       "<text text-anchor=\"start\" x=\"120.5\" y=\"-7.8\" font-family=\"Helvetica,sans-Serif\" font-size=\"14.00\">value = 0.245</text>\n",
       "</g>\n",
       "<!-- 2&#45;&gt;3 -->\n",
       "<g id=\"edge3\" class=\"edge\">\n",
       "<title>2&#45;&gt;3</title>\n",
       "<path fill=\"none\" stroke=\"black\" d=\"M217.42,-88.95C209.1,-79.8 200.06,-69.87 191.73,-60.71\"/>\n",
       "<polygon fill=\"black\" stroke=\"black\" points=\"194.24,-58.28 184.92,-53.24 189.06,-62.99 194.24,-58.28\"/>\n",
       "</g>\n",
       "<!-- 4 -->\n",
       "<g id=\"node5\" class=\"node\">\n",
       "<title>4</title>\n",
       "<path fill=\"#e58139\" stroke=\"black\" d=\"M396.5,-53C396.5,-53 268.5,-53 268.5,-53 262.5,-53 256.5,-47 256.5,-41 256.5,-41 256.5,-12 256.5,-12 256.5,-6 262.5,0 268.5,0 268.5,0 396.5,0 396.5,0 402.5,0 408.5,-6 408.5,-12 408.5,-12 408.5,-41 408.5,-41 408.5,-47 402.5,-53 396.5,-53\"/>\n",
       "<text text-anchor=\"start\" x=\"264.5\" y=\"-37.8\" font-family=\"Helvetica,sans-Serif\" font-size=\"14.00\">absolute_error = 1.611</text>\n",
       "<text text-anchor=\"start\" x=\"291.5\" y=\"-22.8\" font-family=\"Helvetica,sans-Serif\" font-size=\"14.00\">samples = 15</text>\n",
       "<text text-anchor=\"start\" x=\"295\" y=\"-7.8\" font-family=\"Helvetica,sans-Serif\" font-size=\"14.00\">value = 3.86</text>\n",
       "</g>\n",
       "<!-- 2&#45;&gt;4 -->\n",
       "<g id=\"edge4\" class=\"edge\">\n",
       "<title>2&#45;&gt;4</title>\n",
       "<path fill=\"none\" stroke=\"black\" d=\"M277.23,-88.95C285.46,-79.8 294.39,-69.87 302.63,-60.71\"/>\n",
       "<polygon fill=\"black\" stroke=\"black\" points=\"305.27,-63.01 309.35,-53.24 300.06,-58.33 305.27,-63.01\"/>\n",
       "</g>\n",
       "</g>\n",
       "</svg>\n"
      ],
      "text/plain": [
       "<graphviz.sources.Source at 0x131f5ca2f50>"
      ]
     },
     "execution_count": 70,
     "metadata": {},
     "output_type": "execute_result"
    }
   ],
   "source": [
    "dot_data = tree.export_graphviz(mac_tree, out_file=None, \\\n",
    "                                feature_names=df_mac.drop(['open', 'high', 'low', 'close', 'volume', 'trade_count', 'vwap'], axis = 1).columns,\\\n",
    "                                filled=True, rounded=True, special_characters=True) \n",
    "graph = graphviz.Source(dot_data) \n",
    "graph"
   ]
  },
  {
   "cell_type": "code",
   "execution_count": 71,
   "id": "bd22dea6",
   "metadata": {},
   "outputs": [
    {
     "data": {
      "image/png": "[encoded data removed]",
      "text/plain": [
       "<Figure size 504x252 with 1 Axes>"
      ]
     },
     "metadata": {
      "needs_background": "light"
     },
     "output_type": "display_data"
    }
   ],
   "source": [
    "plt.rcParams[\"figure.figsize\"] = [7.00, 3.50]\n",
    "plt.rcParams[\"figure.autolayout\"] = True\n",
    "x = df_mac.index\n",
    "y = df_mac['close']\n",
    "plt.plot(x, y, c='blue', lw=2)\n",
    "plt.ylim([-12, 12])\n",
    "plt.vlines((df_mac.loc[df_mac['MOM'] > 3.495].index), ymin = -12, ymax = 12, color='green', alpha=0.75, lw=1)\n",
    "plt.show()\n"
   ]
  },
  {
   "cell_type": "code",
   "execution_count": 72,
   "id": "ef3aedd3",
   "metadata": {},
   "outputs": [
    {
     "data": {
      "text/plain": [
       "[('MOM', 2.0382871794871784, -5.620000123977661, 1, 2, 0.05000000000001137),\n",
       " ('EMA_21', 2.377661290322581, -2.0, -1, -1, -3.0799999999999983),\n",
       " ('EMA_21', 1.8234337874659385, 0.9557128250598907, 3, 4, 0.3100000000000023),\n",
       " ('EMA_21', 1.7531823863636347, -2.0, -1, -1, 0.24500000000000455),\n",
       " ('EMA_21', 1.6113333333333324, -2.0, -1, -1, 3.859999999999985)]"
      ]
     },
     "execution_count": 72,
     "metadata": {},
     "output_type": "execute_result"
    }
   ],
   "source": [
    "# produces list of regression tree with thresholds\n",
    "saved_features = zip(df_mac.drop(['open', 'high', 'low', 'close', 'volume', 'trade_count', 'vwap'], axis = 1).columns[mac_tree.tree_.feature],\\\n",
    "                     mac_tree.tree_.impurity,\\\n",
    "                     mac_tree.tree_.threshold,\\\n",
    "                     mac_tree.tree_.children_left,\\\n",
    "                     mac_tree.tree_.children_right,\\\n",
    "                     list(itertools.chain.from_iterable(list(itertools.chain.from_iterable(mac_tree.tree_.value.tolist())))))\n",
    "\n",
    "list(saved_features)"
   ]
  },
  {
   "cell_type": "markdown",
   "id": "3a556f59",
   "metadata": {},
   "source": [
    "### creating df stock indexes by cap size and sector"
   ]
  },
  {
   "cell_type": "code",
   "execution_count": 73,
   "id": "f310cded",
   "metadata": {},
   "outputs": [],
   "source": [
    "# Communication stocks\n",
    "com_stock = ['GOOGL', 'Large',\\\n",
    " 'META', 'Large',\\\n",
    " 'VZ', 'Large',\\\n",
    " 'DIS', 'Large',\\\n",
    " 'CMCSA', 'Large',\\\n",
    " 'TMUS', 'Large',\\\n",
    " 'T', 'Large',\\\n",
    " 'NFLX', 'Large',\\\n",
    " 'CHTR', 'Large',\\\n",
    " 'NTES', 'Large']\n",
    "\n",
    "# Consumer Discretionary\n",
    "consumer_dis_stock = ['AMZN', 'Large',\\\n",
    "                 'TSLA', 'Large',\\\n",
    "                 'LVMHF', 'Large',\\\n",
    "                 'HD', 'Large',\\\n",
    "                 'TM', 'Large',\\\n",
    "                 'NKE', 'Large',\\\n",
    "                 'MCD', 'Large',\\\n",
    "                 'VWAGY', 'Large',\\\n",
    "                 'HESAY', 'Large',\\\n",
    "                 'LOW', 'Large',\\\n",
    "                 'APTV', 'Mid',\\\n",
    "                 'SCI', 'Mid',\\\n",
    "                 'WSM', 'Mid',\\\n",
    "                 'GME', 'Mid',\\\n",
    "                 'FIVE', 'Mid',\\\n",
    "                 'LAD', 'Mid',\\\n",
    "                 'DHI', 'Mid',\\\n",
    "                 'LEN', 'Mid',\\\n",
    "                 'ORLY', 'Mid',\\\n",
    "                 'EBAY', 'Small',\\\n",
    "                 'FL', 'Mid',\\\n",
    "                 'COUR', 'Small']\n",
    "# Consumer Staples\n",
    "consumer_sta_stocks = ['WMT', 'Large',\\\n",
    "                       'PG', 'Large',\\\n",
    "                       'NSRGY', 'Large',\\\n",
    "                       'KO', 'Large',\\\n",
    "                       'COST', 'Large',\\\n",
    "                       'PEP', 'Large',\\\n",
    "                       'LRLCY', 'Large',\\\n",
    "                       'PM', 'Large',\\\n",
    "                       'UL', 'Large',\\\n",
    "                       'TGT', 'Large']\n",
    "# energy \n",
    "energy_stocks = ['XOM', 'Large',\\\n",
    "                 'CVX', 'Large',\\\n",
    "                 'RYDAF', 'Large',\\\n",
    "                 'TTE', 'Large',\\\n",
    "                 'COP', 'Large',\\\n",
    "                 'EQNR', 'Large',\\\n",
    "                 'BP', 'Large',\\\n",
    "                 'PTR', 'Large',\\\n",
    "                 'ENB', 'Large',\\\n",
    "                 'PBR', 'Large',\\\n",
    "                 'XOM', 'Large']\n",
    "# Financial  \n",
    "finance_stocks = ['BRK.A', 'Large',\\\n",
    "                  'V', 'Large',\\\n",
    "                  'JPM', 'Large',\\\n",
    "                  'MA', 'Large',\\\n",
    "                  'BAC', 'Large',\\\n",
    "                  'IDCBY', 'Large',\\\n",
    "                  'CICHY', 'Large',\\\n",
    "                  'WFC', 'Large',\\\n",
    "                  'MS', 'Large',\\\n",
    "                  'C', 'Large',\\\n",
    "                  'WFC', 'Large',\\\n",
    "                  'BFH', 'Mid']\n",
    "# health  \n",
    "health_stocks = ['JNJ', 'Large',\\\n",
    "                 'UNH', 'Large',\\\n",
    "                 'PFE', 'Large',\\\n",
    "                 'LLY', 'Large',\\\n",
    "                 'RHHBY', 'Large',\\\n",
    "                 'NVO', 'Large',\\\n",
    "                 'MRK', 'Large',\\\n",
    "                 'TMO', 'Large',\\\n",
    "                 'DHR', 'Large',\\\n",
    "                 'ABT', 'Large',\\\n",
    "                 'OPRX', 'Small',\\\n",
    "                 'GBT', 'Small']\n",
    "# Industrial   \n",
    "indus_stocks = ['UPS', 'Large',\\\n",
    "                 'RTX', 'Large',\\\n",
    "                 'UNP', 'Large',\\\n",
    "                 'HON', 'Large',\\\n",
    "                 'CAT', 'Large',\\\n",
    "                 'DE', 'Large',\\\n",
    "                 'SIEGY', 'Large',\\\n",
    "                 'GE', 'Large',\\\n",
    "                 'BA', 'Large',\\\n",
    "                 'X', 'Mid']\n",
    "# Materials   \n",
    "mater_stocks = ['BHP', 'Large',\\\n",
    "                 'LIN', 'Large',\\\n",
    "                 'RIO', 'Large',\\\n",
    "                 'AIQUY', 'Large',\\\n",
    "                 'VALE', 'Large',\\\n",
    "                 'GLNCY', 'Large',\\\n",
    "                 'SHW', 'Large',\\\n",
    "                 'SHECY', 'Large',\\\n",
    "                 'ECL', 'Large']\n",
    "# Real Estate   \n",
    "property_stocks = ['AMT', 'Large',\\\n",
    "                     'PLD', 'Large',\\\n",
    "                     'CCI', 'Large',\\\n",
    "                     'DLR', 'Large',\\\n",
    "                     'EQIX', 'Large',\\\n",
    "                     'SPG', 'Large',\\\n",
    "                     'PSA', 'Large',\\\n",
    "                     'O', 'Large',\\\n",
    "                     'WELL', 'Large', \\\n",
    "                     'SBAC', 'Large']\n",
    "# Technology    \n",
    "tech_stocks = ['AAPL', 'Large',\\\n",
    "                 'MSFT', 'Large',\\\n",
    "                 'TSM', 'Large',\\\n",
    "                 'NVDA', 'Large',\\\n",
    "                 'TCEHY', 'Large',\\\n",
    "                 'BABA', 'Large',\\\n",
    "                 'ASML', 'Large',\\\n",
    "                  'FOUR', 'Small',\\\n",
    "                  'FLYW', 'Small',\\\n",
    "                  'AMBA', 'Mid']\n",
    "# Utilities    \n",
    "util_stocks = ['NEE', 'Large',\\\n",
    "                 'DUK', 'Large',\\\n",
    "                 'SO', 'Large',\\\n",
    "                 'D', 'Large',\\\n",
    "                 'AEP', 'Large',\\\n",
    "                 'SRE', 'Large',\\\n",
    "                 'EXC', 'Large',\\\n",
    "                 'XEL', 'Large',\\\n",
    "                 'PEG', 'Large',\\\n",
    "                  'FLNC', 'Small',\\\n",
    "                  'NOVA', 'Small']\n",
    "# Defense \n",
    "def_stocks = ['GD', 'Large',\\\n",
    "              'LMT', 'Large',\\\n",
    "              'RTX', 'Large']"
   ]
  },
  {
   "cell_type": "code",
   "execution_count": 74,
   "id": "5d5f0bdd",
   "metadata": {},
   "outputs": [],
   "source": [
    "# multi list with hand created index lists\n",
    "list_sector_index = [com_stock, consumer_dis_stock, consumer_sta_stocks, energy_stocks, finance_stocks, health_stocks, \\\n",
    "              indus_stocks, mater_stocks, property_stocks, tech_stocks, util_stocks, def_stocks]\n",
    "# list of sectors\n",
    "list_of_sectors = ['Communication Services', 'Consumer Discretionary', 'Consumer Staples', 'Energy', 'Financial', 'Healthcare',\\\n",
    "                   'Industrial', 'Materials', 'Real Estate', 'Technology', 'Utilities', 'Defense']\n",
    "#  empty list to append\n",
    "arrayofsec = []\n",
    "# creates repeats the sector name the number of times the value occurs \n",
    "for i, string in enumerate(list_of_sectors):\n",
    "    arrayofsec.append(list(itertools.chain(np.repeat(string, len(list_sector_index[i][1::2])))))"
   ]
  },
  {
   "cell_type": "code",
   "execution_count": 75,
   "id": "d1bc2029",
   "metadata": {},
   "outputs": [],
   "source": [
    "# creates function to flatten nested lists\n",
    "def flatten(xss):\n",
    "    return [x for xs in xss for x in xs]\n",
    "# flattens arrayofsec\n",
    "flat_sector = flatten(arrayofsec)"
   ]
  },
  {
   "cell_type": "code",
   "execution_count": 76,
   "id": "a0a3c4c1",
   "metadata": {},
   "outputs": [],
   "source": [
    "df_index = pd.DataFrame({'Index': flatten(list_sector_index)[::2], 'Cap size': flatten(list_sector_index)[1::2], 'Sector': flat_sector})"
   ]
  },
  {
   "cell_type": "code",
   "execution_count": 78,
   "id": "5b9c803a",
   "metadata": {},
   "outputs": [],
   "source": [
    "df_bars = pd.DataFrame()\n",
    "\n",
    "# imma about to iterate through a dataframe... I'm sorry\n",
    "# for loop creates a daraframe of multiple stock indexes and also get common indicators\n",
    "for i, row in df_index.iterrows():\n",
    "    \n",
    "    df_temp_stock = api.get_bars(row['Index'], TimeFrame.Day, \"2020-09-01\", \"2022-07-02\", adjustment='raw').df\n",
    "    \n",
    "    if (len(df_temp_stock) > 0):\n",
    "        # ripped off my earlier code\n",
    "        macd, macdsignal, macdhist = tb.MACD(df_temp_stock['close'], fastperiod=12, slowperiod=26, signalperiod=9)\n",
    "        # creates a macD dataframe using talib and then merges original dataset onto it\n",
    "        df_temp = pd.DataFrame({'macd': macd, 'macdsignal': macdsignal, 'macdhist':macdhist})\n",
    "\n",
    "        df_temp = df_temp.merge(df_temp_stock, left_index=True, right_index=True)\n",
    "        df_temp['MOM'] = tb.MOM(df_temp_stock['close'], timeperiod=5)\n",
    "        df_temp['SAR'] = tb.SAR(df_temp_stock['high'], df_temp_stock['low'])\n",
    "\n",
    "        # create stationary time series\n",
    "        if (adf_test(df_temp['close'], False) > 0.05):\n",
    "            df_temp['close'] = df_temp['close'] - df_temp['close'].shift(periods=1, axis=\"index\")\n",
    "\n",
    "        for i in [21]:\n",
    "            df_temp['MA_' + str(i)] = tb.SMA(df_temp['close'], timeperiod=i)\n",
    "\n",
    "        for i in [21]:\n",
    "            df_temp['EMA_' + str(i)] = tb.EMA(df_temp['close'], timeperiod=i)\n",
    "\n",
    "        df_temp['std'] = df_temp['close'].rolling(30).std()\n",
    "\n",
    "        df_temp['Index'] = row['Index']\n",
    "        df_temp['Cap Size'] = row['Cap size']\n",
    "        df_temp['Sector'] = row['Sector']\n",
    "    \n",
    "        if len(df_bars) == 0:\n",
    "            df_bars = df_temp\n",
    "        else:\n",
    "            df_bars = pd.concat([df_bars, df_temp])"
   ]
  },
  {
   "cell_type": "markdown",
   "id": "b915398e",
   "metadata": {},
   "source": [
    "### for loop to build decision trees on each index"
   ]
  },
  {
   "cell_type": "code",
   "execution_count": 98,
   "id": "563eb0b9",
   "metadata": {},
   "outputs": [],
   "source": [
    "tree_dict = []\n",
    "\n",
    "for stock_ind in df_bars['Index'].unique():\n",
    "    # filters main df to index specific\n",
    "    df_temp = df_bars.loc[df_bars['Index'] == stock_ind]\n",
    "    # drops na rows\n",
    "    df_temp = df_temp.dropna(axis = 0, how = 'any')\n",
    "    \n",
    "    tree_temp = tree.DecisionTreeRegressor(criterion = \"absolute_error\", max_features = 3, max_leaf_nodes = 3)\n",
    "    \n",
    "    df_temp_X = df_temp.drop(['open', 'high', 'low', 'close', 'volume', 'trade_count', 'vwap', 'Index', 'Cap Size', 'Sector'],\\\n",
    "                             axis = 1)\n",
    "    \n",
    "    tree_temp = tree_temp.fit(X = df_temp_X, y = df_temp['close'])\n",
    "    \n",
    "    temp_dict = {\"Name\": stock_ind, \"Tree\": tree_temp}\n",
    "    \n",
    "    tree_dict.append(temp_dict)"
   ]
  },
  {
   "cell_type": "code",
   "execution_count": 93,
   "id": "918a7147",
   "metadata": {},
   "outputs": [
    {
     "data": {
      "image/svg+xml": [
       "<?xml version=\"1.0\" encoding=\"UTF-8\" standalone=\"no\"?>\n",
       "<!DOCTYPE svg PUBLIC \"-//W3C//DTD SVG 1.1//EN\"\n",
       " \"http://www.w3.org/Graphics/SVG/1.1/DTD/svg11.dtd\">\n",
       "<!-- Generated by graphviz version 2.50.0 (0)\n",
       " -->\n",
       "<!-- Title: Tree Pages: 1 -->\n",
       "<svg width=\"411pt\" height=\"269pt\"\n",
       " viewBox=\"0.00 0.00 410.50 269.00\" xmlns=\"http://www.w3.org/2000/svg\" xmlns:xlink=\"http://www.w3.org/1999/xlink\">\n",
       "<g id=\"graph0\" class=\"graph\" transform=\"scale(1 1) rotate(0) translate(4 265)\">\n",
       "<title>Tree</title>\n",
       "<polygon fill=\"white\" stroke=\"transparent\" points=\"-4,4 -4,-265 406.5,-265 406.5,4 -4,4\"/>\n",
       "<!-- 0 -->\n",
       "<g id=\"node1\" class=\"node\">\n",
       "<title>0</title>\n",
       "<path fill=\"#ea9a60\" stroke=\"black\" d=\"M310,-261C310,-261 181,-261 181,-261 175,-261 169,-255 169,-249 169,-249 169,-205 169,-205 169,-199 175,-193 181,-193 181,-193 310,-193 310,-193 316,-193 322,-199 322,-205 322,-205 322,-249 322,-249 322,-255 316,-261 310,-261\"/>\n",
       "<text text-anchor=\"start\" x=\"197\" y=\"-245.8\" font-family=\"Helvetica,sans-Serif\" font-size=\"14.00\">MA_21 ≤ &#45;0.288</text>\n",
       "<text text-anchor=\"start\" x=\"177\" y=\"-230.8\" font-family=\"Helvetica,sans-Serif\" font-size=\"14.00\">absolute_error = 3.769</text>\n",
       "<text text-anchor=\"start\" x=\"200.5\" y=\"-215.8\" font-family=\"Helvetica,sans-Serif\" font-size=\"14.00\">samples = 429</text>\n",
       "<text text-anchor=\"start\" x=\"208\" y=\"-200.8\" font-family=\"Helvetica,sans-Serif\" font-size=\"14.00\">value = 0.33</text>\n",
       "</g>\n",
       "<!-- 1 -->\n",
       "<g id=\"node2\" class=\"node\">\n",
       "<title>1</title>\n",
       "<path fill=\"#f3c3a1\" stroke=\"black\" d=\"M226,-157C226,-157 97,-157 97,-157 91,-157 85,-151 85,-145 85,-145 85,-101 85,-101 85,-95 91,-89 97,-89 97,-89 226,-89 226,-89 232,-89 238,-95 238,-101 238,-101 238,-145 238,-145 238,-151 232,-157 226,-157\"/>\n",
       "<text text-anchor=\"start\" x=\"108.5\" y=\"-141.8\" font-family=\"Helvetica,sans-Serif\" font-size=\"14.00\">EMA_21 ≤ &#45;0.683</text>\n",
       "<text text-anchor=\"start\" x=\"93\" y=\"-126.8\" font-family=\"Helvetica,sans-Serif\" font-size=\"14.00\">absolute_error = 3.669</text>\n",
       "<text text-anchor=\"start\" x=\"116.5\" y=\"-111.8\" font-family=\"Helvetica,sans-Serif\" font-size=\"14.00\">samples = 183</text>\n",
       "<text text-anchor=\"start\" x=\"122\" y=\"-96.8\" font-family=\"Helvetica,sans-Serif\" font-size=\"14.00\">value = &#45;0.86</text>\n",
       "</g>\n",
       "<!-- 0&#45;&gt;1 -->\n",
       "<g id=\"edge1\" class=\"edge\">\n",
       "<title>0&#45;&gt;1</title>\n",
       "<path fill=\"none\" stroke=\"black\" d=\"M218.23,-192.88C210.97,-184.07 203.03,-174.43 195.46,-165.24\"/>\n",
       "<polygon fill=\"black\" stroke=\"black\" points=\"197.98,-162.79 188.92,-157.3 192.58,-167.24 197.98,-162.79\"/>\n",
       "<text text-anchor=\"middle\" x=\"186.51\" y=\"-178.48\" font-family=\"Helvetica,sans-Serif\" font-size=\"14.00\">True</text>\n",
       "</g>\n",
       "<!-- 2 -->\n",
       "<g id=\"node5\" class=\"node\">\n",
       "<title>2</title>\n",
       "<path fill=\"#e58139\" stroke=\"black\" d=\"M390.5,-149.5C390.5,-149.5 268.5,-149.5 268.5,-149.5 262.5,-149.5 256.5,-143.5 256.5,-137.5 256.5,-137.5 256.5,-108.5 256.5,-108.5 256.5,-102.5 262.5,-96.5 268.5,-96.5 268.5,-96.5 390.5,-96.5 390.5,-96.5 396.5,-96.5 402.5,-102.5 402.5,-108.5 402.5,-108.5 402.5,-137.5 402.5,-137.5 402.5,-143.5 396.5,-149.5 390.5,-149.5\"/>\n",
       "<text text-anchor=\"start\" x=\"264.5\" y=\"-134.3\" font-family=\"Helvetica,sans-Serif\" font-size=\"14.00\">absolute_error = 3.69</text>\n",
       "<text text-anchor=\"start\" x=\"284.5\" y=\"-119.3\" font-family=\"Helvetica,sans-Serif\" font-size=\"14.00\">samples = 246</text>\n",
       "<text text-anchor=\"start\" x=\"292\" y=\"-104.3\" font-family=\"Helvetica,sans-Serif\" font-size=\"14.00\">value = 1.03</text>\n",
       "</g>\n",
       "<!-- 0&#45;&gt;2 -->\n",
       "<g id=\"edge4\" class=\"edge\">\n",
       "<title>0&#45;&gt;2</title>\n",
       "<path fill=\"none\" stroke=\"black\" d=\"M272.77,-192.88C282.1,-181.56 292.54,-168.88 301.89,-157.52\"/>\n",
       "<polygon fill=\"black\" stroke=\"black\" points=\"304.83,-159.46 308.48,-149.52 299.42,-155.01 304.83,-159.46\"/>\n",
       "<text text-anchor=\"middle\" x=\"310.89\" y=\"-170.7\" font-family=\"Helvetica,sans-Serif\" font-size=\"14.00\">False</text>\n",
       "</g>\n",
       "<!-- 3 -->\n",
       "<g id=\"node3\" class=\"node\">\n",
       "<title>3</title>\n",
       "<path fill=\"#ffffff\" stroke=\"black\" d=\"M141,-53C141,-53 12,-53 12,-53 6,-53 0,-47 0,-41 0,-41 0,-12 0,-12 0,-6 6,0 12,0 12,0 141,0 141,0 147,0 153,-6 153,-12 153,-12 153,-41 153,-41 153,-47 147,-53 141,-53\"/>\n",
       "<text text-anchor=\"start\" x=\"8\" y=\"-37.8\" font-family=\"Helvetica,sans-Serif\" font-size=\"14.00\">absolute_error = 3.974</text>\n",
       "<text text-anchor=\"start\" x=\"35.5\" y=\"-22.8\" font-family=\"Helvetica,sans-Serif\" font-size=\"14.00\">samples = 83</text>\n",
       "<text text-anchor=\"start\" x=\"37\" y=\"-7.8\" font-family=\"Helvetica,sans-Serif\" font-size=\"14.00\">value = &#45;2.57</text>\n",
       "</g>\n",
       "<!-- 1&#45;&gt;3 -->\n",
       "<g id=\"edge2\" class=\"edge\">\n",
       "<title>1&#45;&gt;3</title>\n",
       "<path fill=\"none\" stroke=\"black\" d=\"M131.77,-88.95C123.54,-79.8 114.61,-69.87 106.37,-60.71\"/>\n",
       "<polygon fill=\"black\" stroke=\"black\" points=\"108.94,-58.33 99.65,-53.24 103.73,-63.01 108.94,-58.33\"/>\n",
       "</g>\n",
       "<!-- 4 -->\n",
       "<g id=\"node4\" class=\"node\">\n",
       "<title>4</title>\n",
       "<path fill=\"#ea9b63\" stroke=\"black\" d=\"M312,-53C312,-53 183,-53 183,-53 177,-53 171,-47 171,-41 171,-41 171,-12 171,-12 171,-6 177,0 183,0 183,0 312,0 312,0 318,0 324,-6 324,-12 324,-12 324,-41 324,-41 324,-47 318,-53 312,-53\"/>\n",
       "<text text-anchor=\"start\" x=\"179\" y=\"-37.8\" font-family=\"Helvetica,sans-Serif\" font-size=\"14.00\">absolute_error = 2.801</text>\n",
       "<text text-anchor=\"start\" x=\"202.5\" y=\"-22.8\" font-family=\"Helvetica,sans-Serif\" font-size=\"14.00\">samples = 100</text>\n",
       "<text text-anchor=\"start\" x=\"206.5\" y=\"-7.8\" font-family=\"Helvetica,sans-Serif\" font-size=\"14.00\">value = 0.275</text>\n",
       "</g>\n",
       "<!-- 1&#45;&gt;4 -->\n",
       "<g id=\"edge3\" class=\"edge\">\n",
       "<title>1&#45;&gt;4</title>\n",
       "<path fill=\"none\" stroke=\"black\" d=\"M191.58,-88.95C199.9,-79.8 208.94,-69.87 217.27,-60.71\"/>\n",
       "<polygon fill=\"black\" stroke=\"black\" points=\"219.94,-62.99 224.08,-53.24 214.76,-58.28 219.94,-62.99\"/>\n",
       "</g>\n",
       "</g>\n",
       "</svg>\n"
      ],
      "text/plain": [
       "<graphviz.sources.Source at 0x131ff7e5a80>"
      ]
     },
     "execution_count": 93,
     "metadata": {},
     "output_type": "execute_result"
    }
   ],
   "source": [
    "dot_data = tree.export_graphviz(tree_temp, out_file=None, \\\n",
    "                                feature_names=df_mac.drop(['open', 'high', 'low', 'close', 'volume', 'trade_count', 'vwap'], axis = 1).columns,\\\n",
    "                                filled=True, rounded=True, special_characters=True) \n",
    "graph = graphviz.Source(dot_data) \n",
    "graph"
   ]
  },
  {
   "cell_type": "code",
   "execution_count": 123,
   "id": "f9a3374d",
   "metadata": {},
   "outputs": [
    {
     "name": "stdout",
     "output_type": "stream",
     "text": [
      "[('macd', 32.17477855477858, -29.533233642578125, 1, 2, 3.4200000000000728), ('macdsignal', 45.789999999999964, -2.0, -1, -1, -87.11000000000013), ('macdhist', 31.41753554502369, -31.84000015258789, 3, 4, 3.6549999999999727), ('MOM', 37.190303030303035, -2.0, -1, -1, -16.624999999999773), ('SAR', 26.331758620689662, -2.0, -1, -1, 8.88000000000011)]\n",
      "\n",
      "\n",
      "[('macd', 5.086153846153849, 0.6374672055244446, 1, 2, -0.21000000000003638), ('macdsignal', 4.9861538461538455, -7.169610261917114, 3, 4, -1.1099999999999852), ('macdhist', 4.355213675213677, -2.0, -1, -1, 3.430000000000007), ('MOM', 0.0, -2.0, -1, -1, -85.24000000000001), ('SAR', 4.73167202572347, -2.0, -1, -1, -1.1099999999999568)]\n",
      "\n",
      "\n",
      "[('macd', 0.39018648018648, 0.22875574976205826, 1, 2, -0.020000000000003126), ('macdsignal', 0.3826780626780625, -0.375, 3, 4, 0.0), ('macdhist', 0.4034615384615387, -2.0, -1, -1, -0.13500000000000156), ('MOM', 0.3519379844961238, -2.0, -1, -1, -0.13000000000000256), ('SAR', 0.36752252252252254, -2.0, -1, -1, 0.12000000000000455)]\n",
      "\n",
      "\n",
      "[('macd', 2.0816550116550117, -0.13131208717823029, 1, 2, -0.1599999999999966), ('macdsignal', 1.9287623762376245, -2.0, -1, -1, -1.0599999999999952), ('macdhist', 1.9892511013215877, 20.899999618530273, 3, 4, 0.6800000000000068), ('MOM', 1.8521333333333336, -2.0, -1, -1, 0.6500000000000057), ('SAR', 2.9499999999999957, -2.0, -1, -1, 18.080000000000005)]\n",
      "\n",
      "\n",
      "[('macd', 0.5751748251748254, -1.1699999570846558, 1, 2, 0.030000000000001137), ('macdsignal', 0.7315555555555556, -2.0, -1, -1, -0.4649999999999963), ('macdhist', 0.4953982300884958, 0.07117979228496552, 3, 4, 0.10999999999999943), ('MOM', 0.47893805309734555, -2.0, -1, -1, 0.004999999999999005), ('SAR', 0.466681415929204, -2.0, -1, -1, 0.384999999999998)]\n",
      "\n",
      "\n",
      "[('macd', 1.535454545454546, 0.22484462708234787, 1, 2, -0.03999999999999204), ('macdsignal', 1.439430604982207, -3.284999966621399, 3, 4, -0.46999999999999886), ('macdhist', 1.3831081081081085, -2.0, -1, -1, 1.1099999999999994), ('MOM', 1.4796249999999993, -2.0, -1, -1, -1.115000000000009), ('SAR', 1.3348756218905464, -2.0, -1, -1, -0.15000000000000568)]\n",
      "\n",
      "\n",
      "[('macd', 0.27293706293706277, -0.042619047686457634, 1, 2, 0.00999999999999801), ('macdsignal', 0.27517482517482533, -0.3624114990234375, 3, 4, -0.129999999999999), ('macdhist', 0.25510489510489504, -2.0, -1, -1, 0.045000000000001705), ('MOM', 0.0, -2.0, -1, -1, -4.510000000000002), ('SAR', 0.24626760563380312, -2.0, -1, -1, -0.125)]\n",
      "\n",
      "\n",
      "[('macd', 8.42214452214452, -11.164999961853027, 1, 2, 0.160000000000025), ('macdsignal', 9.89177777777777, -2.8632336854934692, 3, 4, -6.220000000000027), ('macdhist', 6.838537414965987, -2.0, -1, -1, 1.5500000000000682), ('MOM', 11.90800000000001, -2.0, -1, -1, -9.344999999999999), ('SAR', 7.542266666666667, -2.0, -1, -1, -3.8999999999999773)]\n",
      "\n",
      "\n",
      "[('macd', 7.978508158508158, -2.066723108291626, 1, 2, 0.17999999999994998), ('macdsignal', 9.764555555555553, -2.0, -1, -1, -7.180000000000035), ('macdhist', 6.747079646017701, -10.533920764923096, 3, 4, 1.6599999999999682), ('MOM', 5.7107999999999945, -2.0, -1, -1, 5.005000000000024), ('SAR', 6.7391349480968845, -2.0, -1, -1, 0.8899999999999864)]\n",
      "\n",
      "\n",
      "[('macd', 8.997389277389274, 2.5169421434402466, 1, 2, 100.05), ('macdsignal', 8.715789473684207, 101.95631790161133, 3, 4, 101.53), ('macdhist', 4.073061224489797, -2.0, -1, -1, 89.01), ('MOM', 5.641408450704223, -2.0, -1, -1, 95.25), ('SAR', 5.99269461077844, -2.0, -1, -1, 109.85)]\n",
      "\n",
      "\n",
      "[('macd', 50.06428904428901, 9.851190567016602, 1, 2, -0.13000000000010914), ('macdsignal', 51.11008356545958, -2.0, -1, -1, -2.5899999999996908), ('macdhist', 42.49771428571428, 8.499611854553223, 3, 4, 11.849999999999909), ('MOM', 47.327391304347834, -2.0, -1, -1, -19.429999999999836), ('SAR', 35.818936170212744, -2.0, -1, -1, 21.15000000000009)]\n",
      "\n",
      "\n",
      "[('macd', 22.40181818181817, 93.74946212768555, 1, 2, 1.17999999999995), ('macdsignal', 22.125607476635526, -0.27936868369579315, 3, 4, 1.1800000000000068), ('macdhist', 0.0, -2.0, -1, -1, -139.44000000000005), ('MOM', 22.82476923076924, -2.0, -1, -1, -6.720000000000027), ('SAR', 19.3555364806867, -2.0, -1, -1, 6.990000000000009)]\n",
      "\n",
      "\n",
      "[('macd', 3.6768764568764567, 2.7249999046325684, 1, 2, 0.36000000000001364), ('macdsignal', 3.679212598425197, 416.6275177001953, 3, 4, -1.0999999999999943), ('macdhist', 2.882514285714285, -2.0, -1, -1, 2.400000000000034), ('MOM', 3.574615384615384, -2.0, -1, -1, -1.0500000000000114), ('SAR', 4.325714285714265, -2.0, -1, -1, -8.28000000000003)]\n",
      "\n",
      "\n",
      "[('macd', 1.9716783216783218, -1.3700000047683716, 1, 2, 0.20000000000001705), ('macdsignal', 2.052777777777778, -13.809999942779541, 3, 4, -0.9749999999999943), ('macdhist', 1.725842696629213, -2.0, -1, -1, 0.7400000000000091), ('MOM', 3.2425000000000033, -2.0, -1, -1, -5.2549999999999955), ('SAR', 1.8587662337662338, -2.0, -1, -1, -0.8500000000000085)]\n",
      "\n",
      "\n",
      "[('macd', 1.9153613053613068, -2.759999990463257, 1, 2, -0.09000000000000341), ('macdsignal', 1.919357142857141, -2.0, -1, -1, -1.3149999999999906), ('macdhist', 1.6441522491349485, 1.9152277708053589, 3, 4, 0.5100000000000193), ('MOM', 1.579583333333335, -2.0, -1, -1, 0.5050000000000097), ('SAR', 0.0, -2.0, -1, -1, 20.75)]\n",
      "\n",
      "\n",
      "[('macd', 1.966596736596739, 0.19500000029802322, 1, 2, -0.03999999999999204), ('macdsignal', 1.8674146341463445, -2.0, -1, -1, -0.8200000000000216), ('macdhist', 1.7891517857142873, -0.3668752461671829, 3, 4, 0.9150000000000063), ('MOM', 2.5063999999999997, -2.0, -1, -1, 2.1000000000000227), ('SAR', 1.6523618090452292, -2.0, -1, -1, 0.7700000000000102)]\n",
      "\n",
      "\n",
      "[('macd', 2.5806993006993015, -0.34214286506175995, 1, 2, 0.3400000000000034), ('macdsignal', 3.2066412213740443, -4.770400762557983, 3, 4, -0.8000000000000114), ('macdhist', 2.2327852348993313, -2.0, -1, -1, 0.6700000000000159), ('MOM', 2.8473684210526304, -2.0, -1, -1, 0.8049999999999926), ('SAR', 3.1645161290322577, -2.0, -1, -1, -1.490000000000009)]\n",
      "\n",
      "\n",
      "[('macd', 2.5704428904428918, 0.4291073679924011, 1, 2, -0.030000000000001137), ('macdsignal', 2.5155704697986594, -0.29689230024814606, 3, 4, -0.28999999999999915), ('macdhist', 2.601526717557252, -2.0, -1, -1, 0.710000000000008), ('MOM', 2.6895419847328235, -2.0, -1, -1, -1.5699999999999932), ('SAR', 2.130359281437127, -2.0, -1, -1, 0.5700000000000074)]\n",
      "\n",
      "\n",
      "[('macd', 0.6671328671328668, 71.69765090942383, 1, 2, 0.03999999999999915), ('macdsignal', 0.6542216981132073, 0.025918749161064625, 3, 4, 0.0400000000000027), ('macdhist', 0.780000000000004, -2.0, -1, -1, -1.690000000000012), ('MOM', 0.6150574712643686, -2.0, -1, -1, -0.2699999999999996), ('SAR', 0.6083600000000003, -2.0, -1, -1, 0.2749999999999986)]\n",
      "\n",
      "\n",
      "[('macd', 3.2346153846153842, -2.115000009536743, 1, 2, 0.28000000000000114), ('macdsignal', 3.130760869565216, -2.0, -1, -1, -1.6650000000000063), ('macdhist', 2.8887346938775513, 1.4269047379493713, 3, 4, 1.2099999999999937), ('MOM', 2.535161290322581, -2.0, -1, -1, 0.960000000000008), ('SAR', 5.048571428571429, -2.0, -1, -1, 4.079999999999998)]\n",
      "\n",
      "\n",
      "[('macd', 8.617599067599071, 205.27999877929688, 1, 2, -0.19999999999998863), ('macdsignal', 7.881943793911003, 3.425728917121887, 3, 4, -0.22999999999998977), ('macdhist', 34.065, -2.0, -1, -1, 165.465), ('MOM', 6.0677948717948755, -2.0, -1, -1, -0.3649999999999993), ('SAR', 24.032162162162162, -2.0, -1, -1, 11.569999999999993)]\n",
      "\n",
      "\n",
      "[('macd', 3.671328671328673, -1.409999966621399, 1, 2, 0.17000000000001592), ('macdsignal', 3.709888888888887, -34.1899995803833, 3, 4, -1.9299999999999926), ('macdhist', 3.064257028112449, -2.0, -1, -1, 1.5900000000000034), ('MOM', 0.0, -2.0, -1, -1, -28.110000000000014), ('SAR', 3.5842458100558656, -2.0, -1, -1, -1.9099999999999966)]\n",
      "\n",
      "\n",
      "[('macd', 6.370093240093247, 413.6325225830078, 1, 2, 0.20999999999997954), ('macdsignal', 6.3346478873239445, 1.2699999809265137, 3, 4, 0.25499999999999545), ('macdhist', 0.9333333333333181, -2.0, -1, -1, -11.519999999999982), ('MOM', 6.179082568807338, -2.0, -1, -1, -2.269999999999982), ('SAR', 5.755769230769231, -2.0, -1, -1, 3.194999999999993)]\n",
      "\n",
      "\n",
      "[('macd', 1.572027972027972, -0.3947283774614334, 1, 2, 0.060000000000002274), ('macdsignal', 1.6217105263157896, -2.0, -1, -1, -1.2549999999999955), ('macdhist', 1.4294617563739378, 2.430000066757202, 3, 4, 0.3299999999999983), ('MOM', 1.3813924050632913, -2.0, -1, -1, 0.0), ('SAR', 1.319999999999999, -2.0, -1, -1, 1.1700000000000017)]\n",
      "\n",
      "\n",
      "[('macd', 1.7443822843822827, 0.17380952090024948, 1, 2, -0.01999999999999602), ('macdsignal', 1.7474333333333334, -0.5230843126773834, 3, 4, -0.22000000000000597), ('macdhist', 1.6153488372093017, -2.0, -1, -1, 0.5900000000000034), ('MOM', 1.97673469387755, -2.0, -1, -1, -2.509999999999991), ('SAR', 1.6027091633466122, -2.0, -1, -1, -0.01999999999999602)]\n",
      "\n",
      "\n",
      "[('macd', 6.808461538461542, 9.480000019073486, 1, 2, 1.1000000000000227), ('macdsignal', 6.78722627737226, -6.168571472167969, 3, 4, -0.9750000000000227), ('macdhist', 5.811741935483873, -2.0, -1, -1, 4.210000000000036), ('MOM', 16.709999999999997, -2.0, -1, -1, -28.959999999999923), ('SAR', 6.574059040590406, -2.0, -1, -1, -0.9600000000000364)]\n",
      "\n",
      "\n",
      "[('macd', 0.9878554778554779, -0.8400000035762787, 1, 2, 0.020000000000003126), ('macdsignal', 0.9581470588235294, -2.0, -1, -1, -0.5050000000000026), ('macdhist', 0.861138996138996, 0.42789316177368164, 3, 4, 0.3500000000000014), ('MOM', 0.8199798387096771, -2.0, -1, -1, 0.32500000000000284), ('SAR', 1.0218181818181826, -2.0, -1, -1, 1.6100000000000065)]\n",
      "\n",
      "\n",
      "[('macd', 0.9702797202797201, 1.9885283708572388, 1, 2, 0.00999999999999801), ('macdsignal', 0.9495693779904317, 0.2199999988079071, 3, 4, 0.010000000000001563), ('macdhist', 1.355454545454544, -2.0, -1, -1, -1.2899999999999991), ('MOM', 0.9094812680115276, -2.0, -1, -1, -0.07000000000000028), ('SAR', 0.985915492957746, -2.0, -1, -1, 0.7199999999999989)]\n",
      "\n",
      "\n",
      "[('macd', 0.7275704225352112, -0.15462487936019897, 1, 2, -0.02999999999999936), ('macdsignal', 0.6894252873563217, -2.0, -1, -1, -0.4299999999999997), ('macdhist', 0.7185786802030456, -0.051083991304039955, 3, 4, 0.03999999999999915), ('MOM', 0.6668493150684928, -2.0, -1, -1, -0.34999999999999964), ('SAR', 0.6587903225806448, -2.0, -1, -1, 0.30499999999999616)]\n",
      "\n",
      "\n",
      "[('macd', 1.2466433566433557, 2.7549999952316284, 1, 2, -0.009999999999990905), ('macdsignal', 1.1469369369369373, -0.32542937994003296, 3, 4, -0.22999999999998977), ('macdhist', 1.2097916666666677, -2.0, -1, -1, 1.2249999999999943), ('MOM', 1.607866666666669, -2.0, -1, -1, -1.2600000000000193), ('SAR', 0.9178682170542636, -2.0, -1, -1, -0.09499999999999886)]\n",
      "\n",
      "\n",
      "[('macd', 1.2133799533799516, -0.20742692053318024, 1, 2, 0.0800000000000125), ('macdsignal', 1.4420408163265317, -2.0, -1, -1, -0.8599999999999994), ('macdhist', 1.0548338368580061, -0.8275342285633087, 3, 4, 0.28999999999999204), ('MOM', 1.083157894736842, -2.0, -1, -1, 1.0249999999999915), ('SAR', 1.01655290102389, -2.0, -1, -1, 0.20999999999997954)]\n",
      "\n",
      "\n",
      "[('macd', 0.4618881118881115, 0.13285714387893677, 1, 2, 0.0800000000000054), ('macdsignal', 0.46740845070422543, 66.25076293945312, 3, 4, 0.03999999999999915), ('macdhist', 0.3918918918918917, -2.0, -1, -1, 0.29499999999999815), ('MOM', 0.4481142857142856, -2.0, -1, -1, 0.03999999999999915), ('SAR', 0.925999999999999, -2.0, -1, -1, -1.2000000000000028)]\n",
      "\n",
      "\n",
      "[('macd', 4.99610722610723, 0.6431688070297241, 1, 2, 0.4300000000000068), ('macdsignal', 5.106545454545455, -8.449809074401855, 3, 4, -1.4599999999999511), ('macdhist', 4.232344497607659, -2.0, -1, -1, 2.4399999999999977), ('MOM', 0.0, -2.0, -1, -1, -61.07000000000005), ('SAR', 4.8576255707762535, -2.0, -1, -1, -1.4499999999999886)]\n",
      "\n",
      "\n",
      "[('macd', 1.1811655011655007, -0.3338095247745514, 1, 2, 0.0800000000000125), ('macdsignal', 1.6564444444444486, -2.0, -1, -1, -0.7800000000000011), ('macdhist', 1.095208333333333, 3.3049999475479126, 3, 4, 0.14500000000001023), ('MOM', 1.0466013071895428, -2.0, -1, -1, 0.030000000000001137), ('SAR', 0.967179487179485, -2.0, -1, -1, 1.1450000000000102)]\n",
      "\n",
      "\n",
      "[('macd', 0.9409557109557095, 0.26988455653190613, 1, 2, 0.12000000000000455), ('macdsignal', 0.9207017543859654, -7.669999837875366, 3, 4, -0.00999999999999801), ('macdhist', 0.7831034482758611, -2.0, -1, -1, 0.6599999999999966), ('MOM', 1.6385714285714283, -2.0, -1, -1, -3.8299999999999983), ('SAR', 0.863880597014926, -2.0, -1, -1, 0.0)]\n",
      "\n",
      "\n",
      "[('macd', 0.5329836829836827, 42.59957313537598, 1, 2, 0.0), ('macdsignal', 0.0, -2.0, -1, -1, 4.350000000000001), ('macdhist', 0.5240654205607473, -0.08500000089406967, 3, 4, 0.0), ('MOM', 0.5673303167420812, -2.0, -1, -1, -0.23999999999999488), ('SAR', 0.40942028985507317, -2.0, -1, -1, 0.19000000000000483)]\n",
      "\n",
      "\n",
      "[('macd', 2.7237296037296015, -0.16500000655651093, 1, 2, 0.12000000000000455), ('macdsignal', 2.8301395348837244, 10.786086082458496, 3, 4, -0.9399999999999977), ('macdhist', 2.3109345794392513, -2.0, -1, -1, 1.0250000000000057), ('MOM', 2.5751643192488256, -2.0, -1, -1, -0.9399999999999977), ('SAR', 22.74499999999999, -2.0, -1, -1, -30.924999999999997)]\n",
      "\n",
      "\n",
      "[('macd', 1.0713986013986014, 1.75, 1, 2, 0.1599999999999966), ('macdsignal', 0.9914035087719285, -7.754999876022339, 3, 4, -0.22000000000000597), ('macdhist', 0.9590277777777771, -2.0, -1, -1, 0.8149999999999977), ('MOM', 1.0316666666666663, -2.0, -1, -1, -3.5600000000000023), ('SAR', 0.9420788530465941, -2.0, -1, -1, -0.17999999999999972)]\n",
      "\n",
      "\n",
      "[('macd', 1.7134498834498844, 0.478035107254982, 1, 2, 0.25), ('macdsignal', 1.5569687499999982, -2.0, -1, -1, -0.09499999999999886), ('macdhist', 1.7333027522935776, 13.505000114440918, 3, 4, 1.4599999999999937), ('MOM', 1.606599999999999, -2.0, -1, -1, 1.2649999999999935), ('SAR', 1.2866666666666648, -2.0, -1, -1, 4.430000000000007)]\n",
      "\n",
      "\n",
      "[('macd', 0.7086480186480184, -1.3849999904632568, 1, 2, 0.0799999999999983), ('macdsignal', 0.8516666666666672, -2.0, -1, -1, -0.509999999999998), ('macdhist', 0.6327826086956521, 2.1750000715255737, 3, 4, 0.1599999999999966), ('MOM', 0.5805985915492958, -2.0, -1, -1, 0.0849999999999973), ('SAR', 0.6978688524590163, -2.0, -1, -1, 0.7100000000000009)]\n",
      "\n",
      "\n",
      "[('macd', 1.3524009324009314, -0.2275383174419403, 1, 2, 0.14999999999999858), ('macdsignal', 1.4398675496688724, -14.334999561309814, 3, 4, -0.3300000000000054), ('macdhist', 1.250503597122301, -2.0, -1, -1, 0.375), ('MOM', 1.0500000000000007, -2.0, -1, -1, -6.564999999999998), ('SAR', 1.303537414965986, -2.0, -1, -1, -0.27000000000001023)]\n",
      "\n",
      "\n",
      "[('macd', 0.43897435897435916, 38.30038070678711, 1, 2, 0.05999999999999872), ('macdsignal', 0.42249406175771964, 1.1399999856948853, 3, 4, 0.060000000000002274), ('macdhist', 0.6037500000000007, -2.0, -1, -1, -0.9750000000000014), ('MOM', 0.38382089552238824, -2.0, -1, -1, -0.009999999999999787), ('SAR', 0.46093023255813953, -2.0, -1, -1, 0.4250000000000007)]\n",
      "\n",
      "\n",
      "[('macd', 0.4600699300699296, 0.08006054908037186, 1, 2, 0.019999999999999574), ('macdsignal', 0.45814393939393944, -0.051282892003655434, 3, 4, -0.054999999999999716), ('macdhist', 0.43521212121212155, -2.0, -1, -1, 0.16999999999999815), ('MOM', 0.4875471698113207, -2.0, -1, -1, -0.3000000000000007), ('SAR', 0.3905696202531645, -2.0, -1, -1, 0.07000000000000028)]\n",
      "\n",
      "\n",
      "[('macd', 0.7662937062937061, 0.28753212094306946, 1, 2, 0.11000000000000654), ('macdsignal', 0.7212195121951219, 1.8208125829696655, 3, 4, 0.0), ('macdhist', 0.7509999999999996, -2.0, -1, -1, 0.879999999999999), ('MOM', 0.7119230769230772, -2.0, -1, -1, 0.005000000000000782), ('SAR', 0.3539999999999992, -2.0, -1, -1, -1.1400000000000006)]\n",
      "\n",
      "\n",
      "[('macd', 0.38230769230769257, 0.08500000089406967, 1, 2, 0.060000000000002274), ('macdsignal', 0.38655000000000006, 45.49028015136719, 3, 4, -0.14499999999999957), ('macdhist', 0.3182532751091707, -2.0, -1, -1, 0.21999999999999886), ('MOM', 0.3657714285714285, -2.0, -1, -1, -0.10000000000000142), ('SAR', 0.42919999999999986, -2.0, -1, -1, -0.45000000000000284)]\n",
      "\n",
      "\n",
      "[('macd', 0.2433799533799536, 0.010305162519216537, 1, 2, 0.02999999999999936), ('macdsignal', 0.25024271844660195, 0.3544652909040451, 3, 4, -0.05999999999999961), ('macdhist', 0.20713004484304942, -2.0, -1, -1, 0.120000000000001), ('MOM', 0.2375742574257427, -2.0, -1, -1, -0.05000000000000071), ('SAR', 0.25500000000000034, -2.0, -1, -1, -1.0099999999999998)]\n",
      "\n",
      "\n",
      "[('macd', 3659.9479953379964, 8307.5, 1, 2, 310.0100000000093), ('macdsignal', 3277.018039513678, -2.0, -1, -1, -665.0), ('macdhist', 3828.8605499999994, 2397.5787353515625, 3, 4, 2995.0), ('MOM', 3543.684887640449, -2.0, -1, -1, 2729.0), ('SAR', 3352.299999999994, -2.0, -1, -1, 7786.0)]\n",
      "\n",
      "\n",
      "[('macd', 2.764125874125875, 4.689364194869995, 1, 2, 0.06999999999999318), ('macdsignal', 2.473170028818445, -2.0, -1, -1, 0.12000000000000455), ('macdhist', 3.8101219512195144, -0.13214722275733948, 3, 4, -1.3100000000000023), ('MOM', 3.4774000000000003, -2.0, -1, -1, -2.1950000000000074), ('SAR', 3.5775000000000006, -2.0, -1, -1, 1.105000000000004)]\n",
      "\n",
      "\n",
      "[('macd', 1.807459207459208, 0.5844603478908539, 1, 2, -0.09999999999999432), ('macdsignal', 1.789184290030212, -0.22228550165891647, 3, 4, -0.2699999999999818), ('macdhist', 1.7511224489795905, -2.0, -1, -1, 0.5), ('MOM', 1.9445081967213103, -2.0, -1, -1, -1.2049999999999983), ('SAR', 1.5495693779904316, -2.0, -1, -1, 0.12000000000000455)]\n",
      "\n",
      "\n",
      "[('macd', 16.459114219114227, 369.07420349121094, 1, 2, 354.57), ('macdsignal', 16.367500000000003, 345.9400634765625, 3, 4, 346.905), ('macdhist', 9.07820512820513, -2.0, -1, -1, 365.5), ('MOM', 10.790909090909086, -2.0, -1, -1, 335.67499999999995), ('SAR', 13.704430379746832, -2.0, -1, -1, 360.82)]\n",
      "\n",
      "\n",
      "[('macd', 0.5433100233100238, 0.824999988079071, 1, 2, 0.0), ('macdsignal', 0.5137586206896554, -1.6550000309944153, 3, 4, -0.1699999999999946), ('macdhist', 0.4884892086330936, -2.0, -1, -1, 0.3500000000000014), ('MOM', 0.5771929824561401, -2.0, -1, -1, -0.6299999999999955), ('SAR', 0.45639484978540823, -2.0, -1, -1, -0.0799999999999983)]\n",
      "\n",
      "\n",
      "[('macd', 0.7379254079254073, 0.17000000178813934, 1, 2, 0.030000000000001137), ('macdsignal', 0.7467525773195871, -2.0, -1, -1, -0.365000000000002), ('macdhist', 0.644553191489362, 1.5099999904632568, 3, 4, 0.28000000000000114), ('MOM', 0.5252713178294577, -2.0, -1, -1, 0.12000000000000455), ('SAR', 0.7348113207547167, -2.0, -1, -1, 0.6999999999999993)]\n",
      "\n",
      "\n",
      "[('macd', 1.2460372960372963, -0.05530003644526005, 1, 2, 0.06999999999999318), ('macdsignal', 1.3608955223880594, -2.0, -1, -1, -0.7000000000000028), ('macdhist', 1.0826440677966098, 4.25, 3, 4, 0.3999999999999915), ('MOM', 1.0026859504132222, -2.0, -1, -1, 0.2050000000000054), ('SAR', 1.1422641509433968, -2.0, -1, -1, 1.1299999999999955)]\n",
      "\n",
      "\n",
      "[('macd', 0.8848951048951051, -1.340000033378601, 1, 2, -0.03999999999999204), ('macdsignal', 0.7876000000000005, -3.8399999141693115, 3, 4, -0.769999999999996), ('macdhist', 0.8079605263157901, -2.0, -1, -1, 0.22499999999999787), ('MOM', 0.6427586206896564, -2.0, -1, -1, -1.2000000000000028), ('SAR', 0.7650000000000006, -2.0, -1, -1, -0.5849999999999937)]\n",
      "\n",
      "\n",
      "[('macd', 2.0066433566433557, 0.8584692776203156, 1, 2, -0.12000000000000455), ('macdsignal', 1.8459536082474222, -0.2798936367034912, 3, 4, -0.355000000000004), ('macdhist', 2.3168292682926817, -2.0, -1, -1, 2.9099999999999966), ('MOM', 1.6860135135135133, -2.0, -1, -1, -1.019999999999996), ('SAR', 1.803249999999999, -2.0, -1, -1, 0.1700000000000017)]\n",
      "\n",
      "\n",
      "[('macd', 1.3049184149184136, 0.30600959062576294, 1, 2, 0.01999999999998181), ('macdsignal', 1.1989062500000016, -0.23378363251686096, 3, 4, -0.29999999999999716), ('macdhist', 1.1725688073394487, -2.0, -1, -1, 1.1099999999999852), ('MOM', 1.248291139240509, -2.0, -1, -1, -0.9900000000000091), ('SAR', 1.1215560165975111, -2.0, -1, -1, -0.06999999999999318)]\n",
      "\n",
      "\n",
      "[('macd', 4.4544522144522105, 4.7749998569488525, 1, 2, 0.4200000000000159), ('macdsignal', 4.080708661417325, -2.0, -1, -1, -0.9449999999999932), ('macdhist', 4.223428571428569, -8.059203863143921, 3, 4, 2.6399999999999864), ('MOM', 0.0, -2.0, -1, -1, 28.25999999999999), ('SAR', 4.100459770114943, -2.0, -1, -1, 2.609999999999985)]\n",
      "\n",
      "\n",
      "[('macd', 0.5973426573426572, 0.3985714167356491, 1, 2, 0.0), ('macdsignal', 0.5582082324455206, -0.1602015271782875, 3, 4, -0.01999999999999602), ('macdhist', 0.9062500000000009, -2.0, -1, -1, 1.2549999999999955), ('MOM', 0.6391666666666663, -2.0, -1, -1, -0.6950000000000003), ('SAR', 0.5136986301369858, -2.0, -1, -1, 0.020000000000003126)]\n",
      "\n",
      "\n",
      "[('macd', 3.1097202797202796, 0.3328952342271805, 1, 2, 0.3400000000000034), ('macdsignal', 2.552871287128714, 5.3677027225494385, 3, 4, -0.8299999999999983), ('macdhist', 3.250132158590307, -2.0, -1, -1, 1.329999999999984), ('MOM', 2.516492146596859, -2.0, -1, -1, -0.7099999999999795), ('SAR', 1.9172727272727277, -2.0, -1, -1, -4.089999999999975)]\n",
      "\n",
      "\n",
      "[('macd', 1.2075990675990675, 1.5049999952316284, 1, 2, 0.1599999999999966), ('macdsignal', 1.1467469879518077, -2.0, -1, -1, -0.18999999999999773), ('macdhist', 1.1434999999999997, 9.53499984741211, 3, 4, 0.625), ('MOM', 1.0756571428571429, -2.0, -1, -1, 0.6200000000000045), ('SAR', 0.9579999999999984, -2.0, -1, -1, 4.680000000000007)]\n",
      "\n",
      "\n",
      "[('macd', 0.7548951048951053, 0.4471428543329239, 1, 2, 0.0), ('macdsignal', 0.7370990566037727, 0.4950000047683716, 3, 4, 0.0), ('macdhist', 0.9399999999999977, -2.0, -1, -1, 1.8599999999999994), ('MOM', 0.6733891213389119, -2.0, -1, -1, -0.23999999999999488), ('SAR', 0.6961081081081076, -2.0, -1, -1, 0.3299999999999983)]\n",
      "\n",
      "\n",
      "[('macd', 6.974638694638704, -15.0, 1, 2, 0.8000000000000682), ('macdsignal', 7.774999999999991, -2.0, -1, -1, -5.054999999999978), ('macdhist', 6.210347826086961, 0.9707077741622925, 3, 4, 1.8899999999999864), ('MOM', 6.457362637362642, -2.0, -1, -1, -1.0399999999999636), ('SAR', 5.264539877300612, -2.0, -1, -1, 3.5)]\n",
      "\n",
      "\n",
      "[('macd', 3.3756876456876452, 5.141421318054199, 1, 2, 0.11000000000001364), ('macdsignal', 2.922721518987339, 1.1409161686897278, 3, 4, 0.480000000000004), ('macdhist', 4.413982300884957, -2.0, -1, -1, -1.3799999999999955), ('MOM', 2.834710424710424, -2.0, -1, -1, -0.14999999999997726), ('SAR', 2.4245614035087693, -2.0, -1, -1, 3.1999999999999886)]\n",
      "\n",
      "\n",
      "[('macd', 1.2938694638694623, -0.005923953140154481, 1, 2, 0.14000000000000057), ('macdsignal', 1.3711881188118824, -2.0, -1, -1, -0.5), ('macdhist', 1.0888546255506601, 2.0149999856948853, 3, 4, 0.47999999999998977), ('MOM', 1.0300854700854698, -2.0, -1, -1, 0.14000000000000057), ('SAR', 0.9993636363636357, -2.0, -1, -1, 1.0250000000000057)]\n",
      "\n",
      "\n",
      "[('macd', 1.494428904428903, 89.0152473449707, 1, 2, 0.04999999999999716), ('macdsignal', 1.440863309352518, -0.3199559301137924, 3, 4, 0.0799999999999983), ('macdhist', 2.508333333333333, -2.0, -1, -1, -2.019999999999996), ('MOM', 1.56103448275862, -2.0, -1, -1, -0.7299999999999969), ('SAR', 1.3750909090909085, -2.0, -1, -1, 0.17999999999999616)]\n",
      "\n",
      "\n",
      "[('macd', 1.037482517482517, 2.1700000762939453, 1, 2, -0.10000000000000142), ('macdsignal', 0.9251884057971008, -1.649999976158142, 3, 4, -0.3299999999999983), ('macdhist', 1.0915476190476188, -2.0, -1, -1, 1.0100000000000016), ('MOM', 1.0499253731343279, -2.0, -1, -1, -0.620000000000001), ('SAR', 0.7891943127962087, -2.0, -1, -1, 0.0)]\n",
      "\n",
      "\n",
      "[('macd', 2.345221445221444, 188.5126953125, 1, 2, -0.05000000000001137), ('macdsignal', 2.293421052631578, -2.0, -1, -1, 0.37999999999999545), ('macdhist', 2.342677824267781, 0.7050000131130219, 3, 4, -0.3400000000000034), ('MOM', 2.1873202614379066, -2.0, -1, -1, -0.8600000000000136), ('SAR', 2.2479069767441855, -2.0, -1, -1, 0.8700000000000045)]\n",
      "\n",
      "\n",
      "[('macd', 1.0062937062937052, -0.7800000011920929, 1, 2, 0.030000000000001137), ('macdsignal', 0.9770312500000008, -2.0, -1, -1, -0.615000000000002), ('macdhist', 0.9089368770764111, 0.3604614734649658, 3, 4, 0.28000000000000114), ('MOM', 0.8154474708171205, -2.0, -1, -1, 0.20999999999999375), ('SAR', 1.2220454545454542, -2.0, -1, -1, 1.0249999999999915)]\n",
      "\n",
      "\n",
      "[('macd', 2.4486013986013955, -3.1549999713897705, 1, 2, 0.19999999999998863), ('macdsignal', 2.622063492063492, -2.0, -1, -1, -1.6650000000000063), ('macdhist', 2.178745874587459, -0.9485714435577393, 3, 4, 0.6699999999999875), ('MOM', 2.5428571428571445, -2.0, -1, -1, -2.8400000000000034), ('SAR', 2.1253716216216216, -2.0, -1, -1, 0.7449999999999903)]\n",
      "\n",
      "\n",
      "[('macd', 2.1843589743589753, 2.4950000047683716, 1, 2, 0.13999999999998636), ('macdsignal', 2.0320905923344963, -2.0, -1, -1, -0.5600000000000023), ('macdhist', 2.064788732394365, 189.36341094970703, 3, 4, 1.414999999999992), ('MOM', 2.8124242424242416, -2.0, -1, -1, 3.0999999999999943), ('SAR', 1.7084403669724757, -2.0, -1, -1, 1.0500000000000114)]\n",
      "\n",
      "\n",
      "[('macd', 2.752377622377622, -0.5966536700725555, 1, 2, 0.12999999999999545), ('macdsignal', 2.930250000000002, -2.0, -1, -1, -2.1650000000000063), ('macdhist', 2.5398280802292303, 7.450000047683716, 3, 4, 0.539999999999992), ('MOM', 2.348676470588235, -2.0, -1, -1, 0.18000000000000682), ('SAR', 2.6911688311688335, -2.0, -1, -1, 2.1999999999999886)]\n",
      "\n",
      "\n",
      "[('macd', 5.214382284382286, 0.39895467460155487, 1, 2, 0.22000000000002728), ('macdsignal', 5.591312217194573, -2.0, -1, -1, -1.5500000000000114), ('macdhist', 4.256249999999996, 4.0516581535339355, 3, 4, 1.7449999999999761), ('MOM', 4.450769230769232, -2.0, -1, -1, 4.349999999999966), ('SAR', 3.777762237762239, -2.0, -1, -1, 0.8100000000000023)]\n",
      "\n",
      "\n",
      "[('macd', 1.0613752913752916, 7.715890645980835, 1, 2, 0.0), ('macdsignal', 0.8590654205607483, -2.9698331356048584, 3, 4, -0.004999999999999893), ('macdhist', 0.0, -2.0, -1, -1, 87.64999999999999), ('MOM', 0.8642857142857139, -2.0, -1, -1, -1.4599999999999937), ('SAR', 0.8460095011876492, -2.0, -1, -1, 0.0)]\n",
      "\n",
      "\n",
      "[('macd', 3.9259673659673666, 1.134162187576294, 1, 2, -0.5300000000000011), ('macdsignal', 3.7121725239616614, -2.0, -1, -1, -0.22999999999998977), ('macdhist', 4.38318965517241, 11.28000020980835, 3, 4, -1.4050000000000011), ('MOM', 3.406989247311826, -2.0, -1, -1, -1.759999999999991), ('SAR', 6.54173913043478, -2.0, -1, -1, 6.400000000000006)]\n",
      "\n",
      "\n",
      "[('macd', 0.7033333333333336, 1.1549999713897705, 1, 2, 0.0), ('macdsignal', 0.6146254071661233, -0.6599999964237213, 3, 4, -0.17999999999999972), ('macdhist', 0.7539344262295083, -2.0, -1, -1, 0.6050000000000022), ('MOM', 0.5987313432835826, -2.0, -1, -1, -0.3949999999999996), ('SAR', 0.578843930635838, -2.0, -1, -1, 0.019999999999999574)]\n",
      "\n",
      "\n",
      "[('macd', 1.104498834498835, 76.0754508972168, 1, 2, 0.04999999999999716), ('macdsignal', 1.049653333333333, -0.19500000029802322, 3, 4, 0.12999999999999545), ('macdhist', 1.3772222222222217, -2.0, -1, -1, -0.5499999999999972), ('MOM', 1.1060416666666666, -2.0, -1, -1, -0.44999999999999574), ('SAR', 0.934112554112555, -2.0, -1, -1, 0.4200000000000017)]\n",
      "\n",
      "\n",
      "[('macd', 3.326923076923075, -2.850000023841858, 1, 2, 0.3299999999999841), ('macdsignal', 3.4447368421052658, -2.0, -1, -1, -2.319999999999993), ('macdhist', 2.8932094594594573, 3.9450000524520874, 3, 4, 1.0150000000000148), ('MOM', 2.7951655629139074, -2.0, -1, -1, 0.36000000000001364), ('SAR', 2.8277241379310354, -2.0, -1, -1, 1.8799999999999955)]\n",
      "\n",
      "\n",
      "[('macd', 1.2347785547785535, -0.31399235129356384, 1, 2, 0.12000000000000455), ('macdsignal', 1.2268965517241377, -2.0, -1, -1, -1.2000000000000028), ('macdhist', 1.1359064327485358, 3.2200000286102295, 3, 4, 0.3049999999999997), ('MOM', 1.0532432432432421, -2.0, -1, -1, 0.09999999999999432), ('SAR', 1.1169879518072279, -2.0, -1, -1, 1.1999999999999886)]\n",
      "\n",
      "\n",
      "[('macd', 0.343986013986014, 0.02084502950310707, 1, 2, 0.00999999999999801), ('macdsignal', 0.33323809523809494, -1.449999988079071, 3, 4, -0.15000000000000036), ('macdhist', 0.3062100456621006, -2.0, -1, -1, 0.14000000000000057), ('MOM', 0.3742424242424243, -2.0, -1, -1, -0.5600000000000023), ('SAR', 0.29700564971751403, -2.0, -1, -1, -0.10000000000000142)]\n",
      "\n",
      "\n",
      "[('macd', 5.644428904428904, -40.80558204650879, 1, 2, 0.25), ('macdsignal', 0.0, -2.0, -1, -1, -488.26), ('macdhist', 4.5162383177570105, 0.7063593566417694, 3, 4, 0.25), ('MOM', 4.196688102893891, -2.0, -1, -1, -0.6899999999999409), ('SAR', 4.593675213675212, -2.0, -1, -1, 2.6100000000000136)]\n",
      "\n",
      "\n",
      "[('macd', 2.461608391608394, -3.534999966621399, 1, 2, 0.030000000000001137), ('macdsignal', 2.6329411764705872, -2.0, -1, -1, -1.8300000000000125), ('macdhist', 2.1503548387096787, 0.35504893958568573, 3, 4, 0.519999999999996), ('MOM', 2.038619047619049, -2.0, -1, -1, 0.23500000000001364), ('SAR', 2.1544, -2.0, -1, -1, 1.52500000000002)]\n",
      "\n",
      "\n",
      "[('macd', 2.9196969696969712, -0.3121655285358429, 1, 2, -0.009999999999990905), ('macdsignal', 3.1540140845070432, -1.844968855381012, 3, 4, -1.4649999999999892), ('macdhist', 2.5567944250871086, -2.0, -1, -1, 0.7300000000000182), ('MOM', 2.581397849462366, -2.0, -1, -1, -0.9200000000000159), ('SAR', 3.4097959183673447, -2.0, -1, -1, -4.159999999999997)]\n",
      "\n",
      "\n",
      "[('macd', 1.5191608391608389, -0.11964936181902885, 1, 2, 0.1700000000000017), ('macdsignal', 1.7222900763358777, -2.0, -1, -1, -0.75), ('macdhist', 1.3047651006711392, 3.665000081062317, 3, 4, 0.3850000000000051), ('MOM', 1.1545714285714288, -2.0, -1, -1, 0.23000000000000398), ('SAR', 1.4088636363636362, -2.0, -1, -1, 1.4849999999999994)]\n",
      "\n",
      "\n",
      "[('macd', 2.070466200466201, 0.3291880041360855, 1, 2, 0.15000000000000568), ('macdsignal', 2.0407241379310372, -0.5630075931549072, 3, 4, -0.5900000000000034), ('macdhist', 1.7292086330935261, -2.0, -1, -1, 1.2099999999999795), ('MOM', 2.3569230769230782, -2.0, -1, -1, -1.5250000000000057), ('SAR', 1.8004245283018876, -2.0, -1, -1, -0.030000000000001137)]\n",
      "\n",
      "\n",
      "[('macd', 1.8256410256410247, 154.16773223876953, 1, 2, 0.09999999999999432), ('macdsignal', 1.8527035830618888, -7.694999933242798, 3, 4, 0.37000000000000455), ('macdhist', 1.6374590163934422, -2.0, -1, -1, -0.45000000000001705), ('MOM', 2.420909090909093, -2.0, -1, -1, -2.7350000000000136), ('SAR', 1.7109122807017545, -2.0, -1, -1, 0.4199999999999875)]\n",
      "\n",
      "\n",
      "[('macd', 10.31361305361305, -6.504047632217407, 1, 2, 0.06000000000005912), ('macdsignal', 9.014285714285686, -2.0, -1, -1, -15.639999999999986), ('macdhist', 10.199668246445496, -23.666199684143066, 3, 4, 0.09499999999997044), ('MOM', 3.966666666666697, -2.0, -1, -1, 15.990000000000009), ('SAR', 10.130883054892603, -2.0, -1, -1, 0.07000000000005002)]\n",
      "\n",
      "\n",
      "[('macd', 2.0228904428904415, 1.5499999523162842, 1, 2, 0.10000000000002274), ('macdsignal', 1.8787984496124022, -6.820000171661377, 3, 4, -0.5700000000000074), ('macdhist', 1.8743859649122803, -2.0, -1, -1, 1.25), ('MOM', 2.178378378378377, -2.0, -1, -1, -2.5600000000000023), ('SAR', 1.7230316742081428, -2.0, -1, -1, -0.20000000000000284)]\n",
      "\n",
      "\n",
      "[('macd', 3.232517482517478, -4.684999942779541, 1, 2, 0.3199999999999932), ('macdsignal', 3.699215686274508, -2.0, -1, -1, -2.780000000000001), ('macdhist', 2.769510703363917, 10.59000015258789, 3, 4, 0.8600000000000136), ('MOM', 2.427977528089891, -2.0, -1, -1, 0.5099999999999909), ('SAR', 3.5334999999999988, -2.0, -1, -1, 3.480000000000004)]\n",
      "\n",
      "\n",
      "[('macd', 0.6793006993006995, -0.10507242381572723, 1, 2, 0.10000000000000853), ('macdsignal', 0.7164150943396219, 0.1259039305150509, 3, 4, -0.4900000000000091), ('macdhist', 0.5992260061919505, -2.0, -1, -1, 0.25), ('MOM', 0.6663265306122441, -2.0, -1, -1, -0.4200000000000017), ('SAR', 0.4624999999999986, -2.0, -1, -1, -1.5600000000000023)]\n",
      "\n",
      "\n",
      "[('macd', 1.0417948717948717, -0.006717658368870616, 1, 2, 0.12000000000000455), ('macdsignal', 1.0399421965317928, 0.6304542422294617, 3, 4, -0.4000000000000057), ('macdhist', 0.920625, -2.0, -1, -1, 0.44000000000000483), ('MOM', 1.0138607594936713, -2.0, -1, -1, -0.3100000000000023), ('SAR', 0.6660000000000025, -2.0, -1, -1, -1.490000000000009)]\n",
      "\n",
      "\n",
      "[('macd', 3.9870629370629347, -0.8516544103622437, 1, 2, 0.03999999999996362), ('macdsignal', 4.54989010989011, -2.0, -1, -1, -3.400000000000034), ('macdhist', 3.5498520710059194, 1.0890786051750183, 3, 4, 0.785000000000025), ('MOM', 3.463082706766916, -2.0, -1, -1, 0.06499999999999773), ('SAR', 2.997361111111109, -2.0, -1, -1, 3.509999999999991)]\n",
      "\n",
      "\n",
      "[('macd', 2.0382871794871784, 154.85921478271484, 1, 2, 0.05000000000001137), ('macdsignal', 1.8461724999999976, -0.2644677460193634, 3, 4, 0.2400000000000091), ('macdhist', 2.5265137614678888, -2.0, -1, -1, -0.5100000000000193), ('MOM', 2.241000000000002, -2.0, -1, -1, -1.125), ('SAR', 1.626620799999998, -2.0, -1, -1, 0.5)]\n",
      "\n",
      "\n",
      "[('macd', 3.426293706293705, -8.680000305175781, 1, 2, 0.08999999999997499), ('macdsignal', 4.488769230769236, -2.0, -1, -1, -4.399999999999977), ('macdhist', 3.014670329670328, 5.8399999141693115, 3, 4, 0.4300000000000068), ('MOM', 2.886728395061727, -2.0, -1, -1, -0.13999999999998636), ('SAR', 2.8222727272727277, -2.0, -1, -1, 2.1499999999999773)]\n",
      "\n",
      "\n",
      "[('macd', 1.9017482517482516, -0.3264901787042618, 1, 2, -0.010000000000005116), ('macdsignal', 1.8925, -2.0, -1, -1, -1.3350000000000009), ('macdhist', 1.7676947040498445, 10.545000076293945, 3, 4, 0.4000000000000057), ('MOM', 1.7002236421725234, -2.0, -1, -1, 0.3300000000000125), ('SAR', 1.4087500000000013, -2.0, -1, -1, 5.034999999999997)]\n",
      "\n",
      "\n",
      "[('macd', 10.18393939393939, 794.4198608398438, 1, 2, 0.5600000000000023), ('macdsignal', 8.654630071599037, -2.0, -1, -1, 0.660000000000025), ('macdhist', 69.29599999999999, -349.72500228881836, 3, 4, -14.705000000000041), ('MOM', 0.0, -2.0, -1, -1, -565.07), ('SAR', 15.662222222222214, -2.0, -1, -1, -13.07000000000005)]\n",
      "\n",
      "\n",
      "[('macd', 3.9844522144522143, -0.9001838862895966, 1, 2, -0.8599999999999994), ('macdsignal', 3.891417910447761, -2.0, -1, -1, -2.594999999999999), ('macdhist', 3.7267118644067785, 0.7350000143051147, 3, 4, 0.28000000000000114), ('MOM', 3.269407407407409, -2.0, -1, -1, -0.8999999999999915), ('SAR', 3.8513124999999975, -2.0, -1, -1, 1.509999999999991)]\n",
      "\n",
      "\n",
      "[('macd', 12.487039627039627, -7.60115647315979, 1, 2, -0.03999999999996362), ('macdsignal', 15.702580645161284, -2.0, -1, -1, -14.620000000000005), ('macdhist', 12.025829145728645, 19.369999885559082, 3, 4, 0.1799999999999784), ('MOM', 11.883427407407407, -2.0, -1, -1, -1.8599999999999852), ('SAR', 10.057265625000001, -2.0, -1, -1, 8.484999999999985)]\n",
      "\n",
      "\n",
      "[('macd', 2.0820512820512818, -0.17210452258586884, 1, 2, -0.13000000000000256), ('macdsignal', 1.9633742331288353, -2.0, -1, -1, -1.5400000000000063), ('macdhist', 1.8608270676691745, 2.0850000381469727, 3, 4, 0.5050000000000026), ('MOM', 1.694671532846715, -2.0, -1, -1, 0.13000000000000966), ('SAR', 1.874961240310078, -2.0, -1, -1, 1.230000000000004)]\n",
      "\n",
      "\n",
      "[('macd', 1.0855510204081644, -0.1529679074883461, 1, 2, -0.14000000000000057), ('macdsignal', 0.9282795698924733, 39.89716339111328, 3, 4, -0.7100000000000009), ('macdhist', 1.0586842105263152, -2.0, -1, -1, 0.22500000000000142), ('MOM', 0.8690000000000002, -2.0, -1, -1, -0.5650000000000013), ('SAR', 0.9056521739130438, -2.0, -1, -1, -1.3399999999999963)]\n",
      "\n",
      "\n",
      "[('macd', 3.5846620046620044, -8.914999961853027, 1, 2, 0.030000000000001137), ('macdsignal', 4.716571428571426, -2.0, -1, -1, -3.184999999999995), ('macdhist', 3.113147632311979, 7.184999942779541, 3, 4, 0.6299999999999955), ('MOM', 2.677421875000001, -2.0, -1, -1, -0.015000000000000568), ('SAR', 3.912621359223303, -2.0, -1, -1, 1.9200000000000017)]\n",
      "\n",
      "\n",
      "[('macd', 7.671235431235427, 3.2740143537521362, 1, 2, 77.89), ('macdsignal', 4.614397163120569, 81.37910079956055, 3, 4, 77.83), ('macdhist', 1.6283333333333208, -2.0, -1, -1, 301.63), ('MOM', 3.0044491525423767, -2.0, -1, -1, 75.575), ('SAR', 4.509037433155081, -2.0, -1, -1, 83.7)]\n",
      "\n",
      "\n",
      "[('macd', 0.8452680652680654, 0.5550000071525574, 1, 2, 0.09000000000000341), ('macdsignal', 0.7699152542372878, -1.8550000190734863, 3, 4, -0.25), ('macdhist', 0.7926424870466316, -2.0, -1, -1, 0.5300000000000011), ('MOM', 0.8915999999999993, -2.0, -1, -1, -0.6200000000000045), ('SAR', 0.6661490683229819, -2.0, -1, -1, -0.0799999999999983)]\n",
      "\n",
      "\n",
      "[('macd', 0.5712820512820508, -0.16236567497253418, 1, 2, 0.010000000000005116), ('macdsignal', 0.5878861788617886, -2.0, -1, -1, -0.23999999999999488), ('macdhist', 0.5290196078431374, 0.1558881402015686, 3, 4, 0.14499999999999602), ('MOM', 0.48477272727272663, -2.0, -1, -1, 0.04999999999999716), ('SAR', 0.5638372093023258, -2.0, -1, -1, 0.3949999999999996)]\n",
      "\n",
      "\n",
      "[('macd', 0.7093473193473186, -0.19343875348567963, 1, 2, 0.0), ('macdsignal', 0.812, -2.0, -1, -1, -0.3299999999999983), ('macdhist', 0.6598148148148159, 1.4500000476837158, 3, 4, 0.0799999999999983), ('MOM', 0.6139834024896269, -2.0, -1, -1, -0.030000000000001137), ('SAR', 0.5963855421686742, -2.0, -1, -1, 0.5799999999999983)]\n",
      "\n",
      "\n",
      "[('macd', 0.7704195804195803, -0.06336373835802078, 1, 2, 0.07000000000000739), ('macdsignal', 0.8411678832116792, 0.7349999845027924, 3, 4, -0.4899999999999949), ('macdhist', 0.6698972602739734, -2.0, -1, -1, 0.26500000000000057), ('MOM', 0.7992000000000001, -2.0, -1, -1, -0.5900000000000034), ('SAR', 0.6600000000000025, -2.0, -1, -1, 0.6050000000000111)]\n",
      "\n",
      "\n",
      "[('macd', 1.398181818181818, -0.11447849497199059, 1, 2, 0.0700000000000216), ('macdsignal', 1.5443749999999994, -2.0, -1, -1, -0.9000000000000057), ('macdhist', 1.211827242524916, 4.3399999141693115, 3, 4, 0.44999999999998863), ('MOM', 1.1306349206349193, -2.0, -1, -1, 0.19499999999999318), ('SAR', 1.14591836734694, -2.0, -1, -1, 1.5800000000000125)]\n",
      "\n",
      "\n",
      "[('macd', 0.47839160839160855, 0.3400000035762787, 1, 2, 0.060000000000002274), ('macdsignal', 0.5007974137931036, 0.4404832720756531, 3, 4, -0.120000000000001), ('macdhist', 0.387081218274112, -2.0, -1, -1, 0.25), ('MOM', 0.5395541401273886, -2.0, -1, -1, -0.02999999999999403), ('SAR', 0.39246666666666746, -2.0, -1, -1, -0.22999999999999687)]\n",
      "\n",
      "\n",
      "[('macd', 0.6500233100233095, 0.0595238097012043, 1, 2, 0.010000000000005116), ('macdsignal', 0.6722093023255816, -1.024999976158142, 3, 4, -0.14000000000000057), ('macdhist', 0.5684795321637417, -2.0, -1, -1, 0.25), ('MOM', 0.6065196078431369, -2.0, -1, -1, -0.5749999999999957), ('SAR', 0.5866987179487183, -2.0, -1, -1, 0.1700000000000017)]\n",
      "\n",
      "\n",
      "[('macd', 0.5735431235431238, -0.013095238246023655, 1, 2, 0.05999999999999517), ('macdsignal', 0.5801086956521743, -2.0, -1, -1, -0.0849999999999973), ('macdhist', 0.5452244897959186, 1.1399999856948853, 3, 4, 0.1700000000000017), ('MOM', 0.5400000000000005, -2.0, -1, -1, 0.05999999999999872), ('SAR', 0.4917204301075269, -2.0, -1, -1, 0.3999999999999986)]\n",
      "\n",
      "\n",
      "[('macd', 0.7488321167883215, -0.20136894285678864, 1, 2, -0.1899999999999995), ('macdsignal', 0.6880769230769229, -2.0, -1, -1, -0.6150000000000011), ('macdhist', 0.6410588235294119, 0.07196671515703201, 3, 4, 0.1899999999999995), ('MOM', 0.6258208955223882, -2.0, -1, -1, 0.009999999999999787), ('SAR', 0.4711111111111104, -2.0, -1, -1, 0.6500000000000004)]\n",
      "\n",
      "\n",
      "[('macd', 1.2296736596736593, 0.949999988079071, 1, 2, -0.10000000000000142), ('macdsignal', 1.1111235955056176, -0.6190918684005737, 3, 4, -0.4399999999999977), ('macdhist', 1.2382716049382718, -2.0, -1, -1, 0.5999999999999979), ('MOM', 1.002727272727273, -2.0, -1, -1, -3.1200000000000045), ('SAR', 1.0508593750000006, -2.0, -1, -1, -0.4049999999999976)]\n",
      "\n",
      "\n",
      "[('macd', 1.9185547785547767, 0.5064285695552826, 1, 2, 0.3199999999999932), ('macdsignal', 1.8573475609756074, -2.7200000286102295, 3, 4, 0.10500000000000398), ('macdhist', 1.9357425742574255, -2.0, -1, -1, 1.3800000000000239), ('MOM', 1.9907317073170734, -2.0, -1, -1, -2.1400000000000006), ('SAR', 1.5989837398373985, -2.0, -1, -1, 0.519999999999996)]\n",
      "\n",
      "\n",
      "[('macd', 3.768694638694638, -0.6752229034900665, 1, 2, 0.3299999999999841), ('macdsignal', 4.202604166666661, -2.0, -1, -1, -3.0250000000000057), ('macdhist', 3.2791891891891893, 6.644999980926514, 3, 4, 1.0199999999999818), ('MOM', 2.9329493087557608, -2.0, -1, -1, 0.20999999999997954), ('SAR', 3.4671551724137974, -2.0, -1, -1, 2.6350000000000193)]\n",
      "\n",
      "\n"
     ]
    }
   ],
   "source": [
    "for i in tree_dict:\n",
    "    \n",
    "    # produces list of regression tree with thresholds\n",
    "    saved_features = zip(df_temp_X.columns,\\\n",
    "                     i['Tree'].tree_.impurity,\\\n",
    "                     i['Tree'].tree_.threshold,\\\n",
    "                     i['Tree'].tree_.children_left,\\\n",
    "                     i['Tree'].tree_.children_right,\\\n",
    "                     list(itertools.chain.from_iterable(list(itertools.chain.from_iterable(i['Tree'].tree_.value.tolist())))))\n",
    "\n",
    "    print(list(saved_features))\n",
    "    print(\"\\n\")"
   ]
  },
  {
   "cell_type": "code",
   "execution_count": null,
   "id": "8fc8ba68",
   "metadata": {},
   "outputs": [],
   "source": []
  }
 ],
 "metadata": {
  "kernelspec": {
   "display_name": "Python 3 (ipykernel)",
   "language": "python",
   "name": "python3"
  },
  "language_info": {
   "codemirror_mode": {
    "name": "ipython",
    "version": 3
   },
   "file_extension": ".py",
   "mimetype": "text/x-python",
   "name": "python",
   "nbconvert_exporter": "python",
   "pygments_lexer": "ipython3",
   "version": "3.10.4"
  }
 },
 "nbformat": 4,
 "nbformat_minor": 5
}
