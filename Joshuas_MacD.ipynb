{
 "cells": [
  {
   "cell_type": "code",
   "execution_count": 1,
   "id": "63821b0d",
   "metadata": {},
   "outputs": [],
   "source": [
    "import json\n",
    "import os\n",
    "\n",
    "%load_ext dotenv\n",
    "%dotenv\n",
    "\n",
    "# f = open(\"authPaper.json\")\n",
    "# auth = json.load(f)"
   ]
  },
  {
   "cell_type": "code",
   "execution_count": 6,
   "id": "71e76f23",
   "metadata": {},
   "outputs": [],
   "source": [
    "import alpaca_trade_api as tradeapi\n",
    "from alpaca_trade_api.rest import REST, TimeFrame\n",
    "# BASE_URL = \"https://paper-api.alpaca.markets\"\n",
    "# API_KEY = auth['ID']\n",
    "# SECRET_KEY = auth['Secret']"
   ]
  },
  {
   "cell_type": "code",
   "execution_count": 3,
   "id": "c5cd8f60",
   "metadata": {},
   "outputs": [],
   "source": [
    "api = tradeapi.REST(key_id= os.getenv('API_KEY'), secret_key=os.getenv('SECRET_KEY'), base_url=os.getenv('APCA_API_BASE_URL'), api_version='v2')"
   ]
  },
  {
   "cell_type": "code",
   "execution_count": 11,
   "id": "23ae8b48",
   "metadata": {},
   "outputs": [],
   "source": [
    "import talib as tb"
   ]
  },
  {
   "cell_type": "code",
   "execution_count": 48,
   "id": "c21888be",
   "metadata": {},
   "outputs": [],
   "source": [
    "df_apple = api.get_bars(\"AAPL\", TimeFrame.Day, \"2020-01-01\", \"2022-01-08\", adjustment='raw').df"
   ]
  },
  {
   "cell_type": "code",
   "execution_count": 49,
   "id": "da5590ac",
   "metadata": {},
   "outputs": [],
   "source": [
    "macd, macdsignal, macdhist = tb.MACD(df_apple['close'], fastperiod=12, slowperiod=26, signalperiod=9)"
   ]
  },
  {
   "cell_type": "code",
   "execution_count": 175,
   "id": "b1435415",
   "metadata": {},
   "outputs": [
    {
     "data": {
      "text/plain": [
       "<AxesSubplot:xlabel='timestamp'>"
      ]
     },
     "execution_count": 175,
     "metadata": {},
     "output_type": "execute_result"
    },
    {
     "data": {
      "image/png": "[encoded data removed]",
      "text/plain": [
       "<Figure size 432x288 with 1 Axes>"
      ]
     },
     "metadata": {
      "needs_background": "light"
     },
     "output_type": "display_data"
    }
   ],
   "source": [
    "df_apple['close'].plot()"
   ]
  },
  {
   "cell_type": "code",
   "execution_count": 85,
   "id": "c41adef9",
   "metadata": {},
   "outputs": [],
   "source": [
    "# importing forecasting libraries\n",
    "import pmdarima as pm\n",
    "import numpy as npf\n",
    "import matplotlib.pyplot as plt\n",
    "import seaborn as sn"
   ]
  },
  {
   "cell_type": "code",
   "execution_count": 72,
   "id": "13091290",
   "metadata": {},
   "outputs": [],
   "source": [
    "arima_model = pm.auto_arima(df_apple['close'], seasonal = False)"
   ]
  },
  {
   "cell_type": "markdown",
   "id": "fa359072",
   "metadata": {},
   "source": [
    "# Random Walk (Useless)\n",
    "A random walk does not help predict the next values only that the variance will increase... lame <br>\n",
    "This is for predictions involving the closing cost"
   ]
  },
  {
   "cell_type": "code",
   "execution_count": 73,
   "id": "4bd56fd2",
   "metadata": {},
   "outputs": [
    {
     "data": {
      "text/html": [
       "<style>#sk-container-id-7 {color: black;background-color: white;}#sk-container-id-7 pre{padding: 0;}#sk-container-id-7 div.sk-toggleable {background-color: white;}#sk-container-id-7 label.sk-toggleable__label {cursor: pointer;display: block;width: 100%;margin-bottom: 0;padding: 0.3em;box-sizing: border-box;text-align: center;}#sk-container-id-7 label.sk-toggleable__label-arrow:before {content: \"▸\";float: left;margin-right: 0.25em;color: #696969;}#sk-container-id-7 label.sk-toggleable__label-arrow:hover:before {color: black;}#sk-container-id-7 div.sk-estimator:hover label.sk-toggleable__label-arrow:before {color: black;}#sk-container-id-7 div.sk-toggleable__content {max-height: 0;max-width: 0;overflow: hidden;text-align: left;background-color: #f0f8ff;}#sk-container-id-7 div.sk-toggleable__content pre {margin: 0.2em;color: black;border-radius: 0.25em;background-color: #f0f8ff;}#sk-container-id-7 input.sk-toggleable__control:checked~div.sk-toggleable__content {max-height: 200px;max-width: 100%;overflow: auto;}#sk-container-id-7 input.sk-toggleable__control:checked~label.sk-toggleable__label-arrow:before {content: \"▾\";}#sk-container-id-7 div.sk-estimator input.sk-toggleable__control:checked~label.sk-toggleable__label {background-color: #d4ebff;}#sk-container-id-7 div.sk-label input.sk-toggleable__control:checked~label.sk-toggleable__label {background-color: #d4ebff;}#sk-container-id-7 input.sk-hidden--visually {border: 0;clip: rect(1px 1px 1px 1px);clip: rect(1px, 1px, 1px, 1px);height: 1px;margin: -1px;overflow: hidden;padding: 0;position: absolute;width: 1px;}#sk-container-id-7 div.sk-estimator {font-family: monospace;background-color: #f0f8ff;border: 1px dotted black;border-radius: 0.25em;box-sizing: border-box;margin-bottom: 0.5em;}#sk-container-id-7 div.sk-estimator:hover {background-color: #d4ebff;}#sk-container-id-7 div.sk-parallel-item::after {content: \"\";width: 100%;border-bottom: 1px solid gray;flex-grow: 1;}#sk-container-id-7 div.sk-label:hover label.sk-toggleable__label {background-color: #d4ebff;}#sk-container-id-7 div.sk-serial::before {content: \"\";position: absolute;border-left: 1px solid gray;box-sizing: border-box;top: 0;bottom: 0;left: 50%;z-index: 0;}#sk-container-id-7 div.sk-serial {display: flex;flex-direction: column;align-items: center;background-color: white;padding-right: 0.2em;padding-left: 0.2em;position: relative;}#sk-container-id-7 div.sk-item {position: relative;z-index: 1;}#sk-container-id-7 div.sk-parallel {display: flex;align-items: stretch;justify-content: center;background-color: white;position: relative;}#sk-container-id-7 div.sk-item::before, #sk-container-id-7 div.sk-parallel-item::before {content: \"\";position: absolute;border-left: 1px solid gray;box-sizing: border-box;top: 0;bottom: 0;left: 50%;z-index: -1;}#sk-container-id-7 div.sk-parallel-item {display: flex;flex-direction: column;z-index: 1;position: relative;background-color: white;}#sk-container-id-7 div.sk-parallel-item:first-child::after {align-self: flex-end;width: 50%;}#sk-container-id-7 div.sk-parallel-item:last-child::after {align-self: flex-start;width: 50%;}#sk-container-id-7 div.sk-parallel-item:only-child::after {width: 0;}#sk-container-id-7 div.sk-dashed-wrapped {border: 1px dashed gray;margin: 0 0.4em 0.5em 0.4em;box-sizing: border-box;padding-bottom: 0.4em;background-color: white;}#sk-container-id-7 div.sk-label label {font-family: monospace;font-weight: bold;display: inline-block;line-height: 1.2em;}#sk-container-id-7 div.sk-label-container {text-align: center;}#sk-container-id-7 div.sk-container {/* jupyter's `normalize.less` sets `[hidden] { display: none; }` but bootstrap.min.css set `[hidden] { display: none !important; }` so we also need the `!important` here to be able to override the default hidden behavior on the sphinx rendered scikit-learn.org. See: https://github.com/scikit-learn/scikit-learn/issues/21755 */display: inline-block !important;position: relative;}#sk-container-id-7 div.sk-text-repr-fallback {display: none;}</style><div id=\"sk-container-id-7\" class=\"sk-top-container\"><div class=\"sk-text-repr-fallback\"><pre> ARIMA(0,1,0)(0,0,0)[0]          </pre><b>In a Jupyter environment, please rerun this cell to show the HTML representation or trust the notebook. <br />On GitHub, the HTML representation is unable to render, please try loading this page with nbviewer.org.</b></div><div class=\"sk-container\" hidden><div class=\"sk-item\"><div class=\"sk-estimator sk-toggleable\"><input class=\"sk-toggleable__control sk-hidden--visually\" id=\"sk-estimator-id-7\" type=\"checkbox\" checked><label for=\"sk-estimator-id-7\" class=\"sk-toggleable__label sk-toggleable__label-arrow\">ARIMA</label><div class=\"sk-toggleable__content\"><pre> ARIMA(0,1,0)(0,0,0)[0]          </pre></div></div></div></div></div>"
      ],
      "text/plain": [
       "ARIMA(order=(0, 1, 0), scoring_args={}, suppress_warnings=True,\n",
       "      with_intercept=False)"
      ]
     },
     "execution_count": 73,
     "metadata": {},
     "output_type": "execute_result"
    }
   ],
   "source": [
    "arima_model"
   ]
  },
  {
   "cell_type": "markdown",
   "id": "879f8309",
   "metadata": {},
   "source": [
    "# Forecasting Volume\n",
    "\n",
    "We can see that volume is dependant on on previous lag with a ar and ma term."
   ]
  },
  {
   "cell_type": "code",
   "execution_count": 74,
   "id": "59d8abcd",
   "metadata": {},
   "outputs": [
    {
     "data": {
      "text/html": [
       "<style>#sk-container-id-8 {color: black;background-color: white;}#sk-container-id-8 pre{padding: 0;}#sk-container-id-8 div.sk-toggleable {background-color: white;}#sk-container-id-8 label.sk-toggleable__label {cursor: pointer;display: block;width: 100%;margin-bottom: 0;padding: 0.3em;box-sizing: border-box;text-align: center;}#sk-container-id-8 label.sk-toggleable__label-arrow:before {content: \"▸\";float: left;margin-right: 0.25em;color: #696969;}#sk-container-id-8 label.sk-toggleable__label-arrow:hover:before {color: black;}#sk-container-id-8 div.sk-estimator:hover label.sk-toggleable__label-arrow:before {color: black;}#sk-container-id-8 div.sk-toggleable__content {max-height: 0;max-width: 0;overflow: hidden;text-align: left;background-color: #f0f8ff;}#sk-container-id-8 div.sk-toggleable__content pre {margin: 0.2em;color: black;border-radius: 0.25em;background-color: #f0f8ff;}#sk-container-id-8 input.sk-toggleable__control:checked~div.sk-toggleable__content {max-height: 200px;max-width: 100%;overflow: auto;}#sk-container-id-8 input.sk-toggleable__control:checked~label.sk-toggleable__label-arrow:before {content: \"▾\";}#sk-container-id-8 div.sk-estimator input.sk-toggleable__control:checked~label.sk-toggleable__label {background-color: #d4ebff;}#sk-container-id-8 div.sk-label input.sk-toggleable__control:checked~label.sk-toggleable__label {background-color: #d4ebff;}#sk-container-id-8 input.sk-hidden--visually {border: 0;clip: rect(1px 1px 1px 1px);clip: rect(1px, 1px, 1px, 1px);height: 1px;margin: -1px;overflow: hidden;padding: 0;position: absolute;width: 1px;}#sk-container-id-8 div.sk-estimator {font-family: monospace;background-color: #f0f8ff;border: 1px dotted black;border-radius: 0.25em;box-sizing: border-box;margin-bottom: 0.5em;}#sk-container-id-8 div.sk-estimator:hover {background-color: #d4ebff;}#sk-container-id-8 div.sk-parallel-item::after {content: \"\";width: 100%;border-bottom: 1px solid gray;flex-grow: 1;}#sk-container-id-8 div.sk-label:hover label.sk-toggleable__label {background-color: #d4ebff;}#sk-container-id-8 div.sk-serial::before {content: \"\";position: absolute;border-left: 1px solid gray;box-sizing: border-box;top: 0;bottom: 0;left: 50%;z-index: 0;}#sk-container-id-8 div.sk-serial {display: flex;flex-direction: column;align-items: center;background-color: white;padding-right: 0.2em;padding-left: 0.2em;position: relative;}#sk-container-id-8 div.sk-item {position: relative;z-index: 1;}#sk-container-id-8 div.sk-parallel {display: flex;align-items: stretch;justify-content: center;background-color: white;position: relative;}#sk-container-id-8 div.sk-item::before, #sk-container-id-8 div.sk-parallel-item::before {content: \"\";position: absolute;border-left: 1px solid gray;box-sizing: border-box;top: 0;bottom: 0;left: 50%;z-index: -1;}#sk-container-id-8 div.sk-parallel-item {display: flex;flex-direction: column;z-index: 1;position: relative;background-color: white;}#sk-container-id-8 div.sk-parallel-item:first-child::after {align-self: flex-end;width: 50%;}#sk-container-id-8 div.sk-parallel-item:last-child::after {align-self: flex-start;width: 50%;}#sk-container-id-8 div.sk-parallel-item:only-child::after {width: 0;}#sk-container-id-8 div.sk-dashed-wrapped {border: 1px dashed gray;margin: 0 0.4em 0.5em 0.4em;box-sizing: border-box;padding-bottom: 0.4em;background-color: white;}#sk-container-id-8 div.sk-label label {font-family: monospace;font-weight: bold;display: inline-block;line-height: 1.2em;}#sk-container-id-8 div.sk-label-container {text-align: center;}#sk-container-id-8 div.sk-container {/* jupyter's `normalize.less` sets `[hidden] { display: none; }` but bootstrap.min.css set `[hidden] { display: none !important; }` so we also need the `!important` here to be able to override the default hidden behavior on the sphinx rendered scikit-learn.org. See: https://github.com/scikit-learn/scikit-learn/issues/21755 */display: inline-block !important;position: relative;}#sk-container-id-8 div.sk-text-repr-fallback {display: none;}</style><div id=\"sk-container-id-8\" class=\"sk-top-container\"><div class=\"sk-text-repr-fallback\"><pre> ARIMA(1,1,1)(0,0,0)[0]          </pre><b>In a Jupyter environment, please rerun this cell to show the HTML representation or trust the notebook. <br />On GitHub, the HTML representation is unable to render, please try loading this page with nbviewer.org.</b></div><div class=\"sk-container\" hidden><div class=\"sk-item\"><div class=\"sk-estimator sk-toggleable\"><input class=\"sk-toggleable__control sk-hidden--visually\" id=\"sk-estimator-id-8\" type=\"checkbox\" checked><label for=\"sk-estimator-id-8\" class=\"sk-toggleable__label sk-toggleable__label-arrow\">ARIMA</label><div class=\"sk-toggleable__content\"><pre> ARIMA(1,1,1)(0,0,0)[0]          </pre></div></div></div></div></div>"
      ],
      "text/plain": [
       "ARIMA(order=(1, 1, 1), scoring_args={}, suppress_warnings=True,\n",
       "      with_intercept=False)"
      ]
     },
     "execution_count": 74,
     "metadata": {},
     "output_type": "execute_result"
    }
   ],
   "source": [
    "arima_model = pm.auto_arima(df_apple['volume'], seasonal = False)\n",
    "\n",
    "arima_model"
   ]
  },
  {
   "cell_type": "markdown",
   "id": "5a21503c",
   "metadata": {},
   "source": [
    "# Correlation plot"
   ]
  },
  {
   "cell_type": "code",
   "execution_count": 75,
   "id": "fbc7b040",
   "metadata": {},
   "outputs": [
    {
     "data": {
      "image/png": "[encoded data removed]",
      "text/plain": [
       "<Figure size 432x288 with 2 Axes>"
      ]
     },
     "metadata": {
      "needs_background": "light"
     },
     "output_type": "display_data"
    }
   ],
   "source": [
    "corrMatrix = df_apple.corr()\n",
    "sn.heatmap(corrMatrix, annot=True)\n",
    "plt.show()"
   ]
  },
  {
   "cell_type": "code",
   "execution_count": 171,
   "id": "79105998",
   "metadata": {},
   "outputs": [],
   "source": [
    "# building  linear model\n",
    "import statsmodels.api as sm\n",
    "import math\n",
    "from scipy import stats\n",
    "from scipy import special"
   ]
  },
  {
   "cell_type": "code",
   "execution_count": null,
   "id": "5cf14c43",
   "metadata": {},
   "outputs": [],
   "source": [
    "# build a function that can take in a stock, apply a transformation on it, forecast it and test it as well."
   ]
  },
  {
   "cell_type": "code",
   "execution_count": 177,
   "id": "1733feef",
   "metadata": {},
   "outputs": [],
   "source": [
    "stock = \"AAPL\"\n",
    "test_set_length = 30"
   ]
  },
  {
   "cell_type": "code",
   "execution_count": 263,
   "id": "46820218",
   "metadata": {},
   "outputs": [],
   "source": [
    "df_bars = api.get_bars(stock, TimeFrame.Day, \"2020-01-01\", \"2022-01-08\", adjustment='raw').df"
   ]
  },
  {
   "cell_type": "code",
   "execution_count": 264,
   "id": "38b7f379",
   "metadata": {},
   "outputs": [
    {
     "data": {
      "text/html": [
       "<div>\n",
       "<style scoped>\n",
       "    .dataframe tbody tr th:only-of-type {\n",
       "        vertical-align: middle;\n",
       "    }\n",
       "\n",
       "    .dataframe tbody tr th {\n",
       "        vertical-align: top;\n",
       "    }\n",
       "\n",
       "    .dataframe thead th {\n",
       "        text-align: right;\n",
       "    }\n",
       "</style>\n",
       "<table border=\"1\" class=\"dataframe\">\n",
       "  <thead>\n",
       "    <tr style=\"text-align: right;\">\n",
       "      <th></th>\n",
       "      <th>open</th>\n",
       "      <th>high</th>\n",
       "      <th>low</th>\n",
       "      <th>close</th>\n",
       "      <th>volume</th>\n",
       "      <th>trade_count</th>\n",
       "      <th>vwap</th>\n",
       "    </tr>\n",
       "    <tr>\n",
       "      <th>timestamp</th>\n",
       "      <th></th>\n",
       "      <th></th>\n",
       "      <th></th>\n",
       "      <th></th>\n",
       "      <th></th>\n",
       "      <th></th>\n",
       "      <th></th>\n",
       "    </tr>\n",
       "  </thead>\n",
       "  <tbody>\n",
       "    <tr>\n",
       "      <th>2020-01-02 05:00:00+00:00</th>\n",
       "      <td>296.27</td>\n",
       "      <td>300.6000</td>\n",
       "      <td>295.190</td>\n",
       "      <td>300.350</td>\n",
       "      <td>33920004</td>\n",
       "      <td>283490</td>\n",
       "      <td>298.439935</td>\n",
       "    </tr>\n",
       "    <tr>\n",
       "      <th>2020-01-03 05:00:00+00:00</th>\n",
       "      <td>296.95</td>\n",
       "      <td>300.5800</td>\n",
       "      <td>296.500</td>\n",
       "      <td>297.430</td>\n",
       "      <td>36633995</td>\n",
       "      <td>280942</td>\n",
       "      <td>298.810386</td>\n",
       "    </tr>\n",
       "    <tr>\n",
       "      <th>2020-01-06 05:00:00+00:00</th>\n",
       "      <td>293.70</td>\n",
       "      <td>299.9600</td>\n",
       "      <td>292.750</td>\n",
       "      <td>299.800</td>\n",
       "      <td>29644779</td>\n",
       "      <td>242867</td>\n",
       "      <td>297.799601</td>\n",
       "    </tr>\n",
       "    <tr>\n",
       "      <th>2020-01-07 05:00:00+00:00</th>\n",
       "      <td>299.98</td>\n",
       "      <td>300.9000</td>\n",
       "      <td>297.480</td>\n",
       "      <td>298.390</td>\n",
       "      <td>27885664</td>\n",
       "      <td>227873</td>\n",
       "      <td>298.924596</td>\n",
       "    </tr>\n",
       "    <tr>\n",
       "      <th>2020-01-08 05:00:00+00:00</th>\n",
       "      <td>297.17</td>\n",
       "      <td>304.4399</td>\n",
       "      <td>297.156</td>\n",
       "      <td>303.190</td>\n",
       "      <td>33091741</td>\n",
       "      <td>261777</td>\n",
       "      <td>301.165533</td>\n",
       "    </tr>\n",
       "    <tr>\n",
       "      <th>...</th>\n",
       "      <td>...</td>\n",
       "      <td>...</td>\n",
       "      <td>...</td>\n",
       "      <td>...</td>\n",
       "      <td>...</td>\n",
       "      <td>...</td>\n",
       "      <td>...</td>\n",
       "    </tr>\n",
       "    <tr>\n",
       "      <th>2022-01-03 05:00:00+00:00</th>\n",
       "      <td>177.81</td>\n",
       "      <td>182.8800</td>\n",
       "      <td>177.710</td>\n",
       "      <td>182.010</td>\n",
       "      <td>104690466</td>\n",
       "      <td>772367</td>\n",
       "      <td>181.415512</td>\n",
       "    </tr>\n",
       "    <tr>\n",
       "      <th>2022-01-04 05:00:00+00:00</th>\n",
       "      <td>182.61</td>\n",
       "      <td>182.9400</td>\n",
       "      <td>179.120</td>\n",
       "      <td>179.700</td>\n",
       "      <td>99284337</td>\n",
       "      <td>831619</td>\n",
       "      <td>180.555450</td>\n",
       "    </tr>\n",
       "    <tr>\n",
       "      <th>2022-01-05 05:00:00+00:00</th>\n",
       "      <td>179.61</td>\n",
       "      <td>180.1700</td>\n",
       "      <td>174.650</td>\n",
       "      <td>174.835</td>\n",
       "      <td>86753815</td>\n",
       "      <td>844519</td>\n",
       "      <td>177.497784</td>\n",
       "    </tr>\n",
       "    <tr>\n",
       "      <th>2022-01-06 05:00:00+00:00</th>\n",
       "      <td>172.40</td>\n",
       "      <td>175.3000</td>\n",
       "      <td>171.640</td>\n",
       "      <td>172.000</td>\n",
       "      <td>96792639</td>\n",
       "      <td>958689</td>\n",
       "      <td>173.079885</td>\n",
       "    </tr>\n",
       "    <tr>\n",
       "      <th>2022-01-07 05:00:00+00:00</th>\n",
       "      <td>172.73</td>\n",
       "      <td>174.1400</td>\n",
       "      <td>171.030</td>\n",
       "      <td>172.170</td>\n",
       "      <td>87682425</td>\n",
       "      <td>716119</td>\n",
       "      <td>172.439116</td>\n",
       "    </tr>\n",
       "  </tbody>\n",
       "</table>\n",
       "<p>510 rows × 7 columns</p>\n",
       "</div>"
      ],
      "text/plain": [
       "                             open      high      low    close     volume  \\\n",
       "timestamp                                                                  \n",
       "2020-01-02 05:00:00+00:00  296.27  300.6000  295.190  300.350   33920004   \n",
       "2020-01-03 05:00:00+00:00  296.95  300.5800  296.500  297.430   36633995   \n",
       "2020-01-06 05:00:00+00:00  293.70  299.9600  292.750  299.800   29644779   \n",
       "2020-01-07 05:00:00+00:00  299.98  300.9000  297.480  298.390   27885664   \n",
       "2020-01-08 05:00:00+00:00  297.17  304.4399  297.156  303.190   33091741   \n",
       "...                           ...       ...      ...      ...        ...   \n",
       "2022-01-03 05:00:00+00:00  177.81  182.8800  177.710  182.010  104690466   \n",
       "2022-01-04 05:00:00+00:00  182.61  182.9400  179.120  179.700   99284337   \n",
       "2022-01-05 05:00:00+00:00  179.61  180.1700  174.650  174.835   86753815   \n",
       "2022-01-06 05:00:00+00:00  172.40  175.3000  171.640  172.000   96792639   \n",
       "2022-01-07 05:00:00+00:00  172.73  174.1400  171.030  172.170   87682425   \n",
       "\n",
       "                           trade_count        vwap  \n",
       "timestamp                                           \n",
       "2020-01-02 05:00:00+00:00       283490  298.439935  \n",
       "2020-01-03 05:00:00+00:00       280942  298.810386  \n",
       "2020-01-06 05:00:00+00:00       242867  297.799601  \n",
       "2020-01-07 05:00:00+00:00       227873  298.924596  \n",
       "2020-01-08 05:00:00+00:00       261777  301.165533  \n",
       "...                                ...         ...  \n",
       "2022-01-03 05:00:00+00:00       772367  181.415512  \n",
       "2022-01-04 05:00:00+00:00       831619  180.555450  \n",
       "2022-01-05 05:00:00+00:00       844519  177.497784  \n",
       "2022-01-06 05:00:00+00:00       958689  173.079885  \n",
       "2022-01-07 05:00:00+00:00       716119  172.439116  \n",
       "\n",
       "[510 rows x 7 columns]"
      ]
     },
     "execution_count": 264,
     "metadata": {},
     "output_type": "execute_result"
    }
   ],
   "source": [
    "df_bars"
   ]
  },
  {
   "cell_type": "code",
   "execution_count": 193,
   "id": "e87d47af",
   "metadata": {},
   "outputs": [],
   "source": [
    "transform_variables = ['close', 'volume', 'trade_count']\n",
    "lambda_fitted = [None] * len(transform_variables)\n",
    "# transform training data & save lambda value\n",
    "for ind, variables in enumerate(transform_variables):\n",
    "    transformed_data, fitted_lambda = stats.boxcox(df_bars[variables])\n",
    "    \n",
    "    df_bars[variables] = transformed_data\n",
    "    \n",
    "    lambda_fitted[ind] = fitted_lambda"
   ]
  },
  {
   "cell_type": "code",
   "execution_count": 194,
   "id": "2b710d32",
   "metadata": {},
   "outputs": [],
   "source": [
    "df_bars_train = df_bars[:-test_set_length]\n",
    "df_bars_test = df_bars[-test_set_length:]"
   ]
  },
  {
   "cell_type": "code",
   "execution_count": 195,
   "id": "69b13ba5",
   "metadata": {},
   "outputs": [
    {
     "data": {
      "text/html": [
       "<table class=\"simpletable\">\n",
       "<caption>OLS Regression Results</caption>\n",
       "<tr>\n",
       "  <th>Dep. Variable:</th>          <td>close</td>      <th>  R-squared:         </th> <td>   0.734</td> \n",
       "</tr>\n",
       "<tr>\n",
       "  <th>Model:</th>                   <td>OLS</td>       <th>  Adj. R-squared:    </th> <td>   0.733</td> \n",
       "</tr>\n",
       "<tr>\n",
       "  <th>Method:</th>             <td>Least Squares</td>  <th>  F-statistic:       </th> <td>   698.6</td> \n",
       "</tr>\n",
       "<tr>\n",
       "  <th>Date:</th>             <td>Fri, 10 Jun 2022</td> <th>  Prob (F-statistic):</th> <td>2.06e-146</td>\n",
       "</tr>\n",
       "<tr>\n",
       "  <th>Time:</th>                 <td>22:39:27</td>     <th>  Log-Likelihood:    </th> <td>  3970.0</td> \n",
       "</tr>\n",
       "<tr>\n",
       "  <th>No. Observations:</th>      <td>   510</td>      <th>  AIC:               </th> <td>  -7934.</td> \n",
       "</tr>\n",
       "<tr>\n",
       "  <th>Df Residuals:</th>          <td>   507</td>      <th>  BIC:               </th> <td>  -7921.</td> \n",
       "</tr>\n",
       "<tr>\n",
       "  <th>Df Model:</th>              <td>     2</td>      <th>                     </th>     <td> </td>    \n",
       "</tr>\n",
       "<tr>\n",
       "  <th>Covariance Type:</th>      <td>nonrobust</td>    <th>                     </th>     <td> </td>    \n",
       "</tr>\n",
       "</table>\n",
       "<table class=\"simpletable\">\n",
       "<tr>\n",
       "       <td></td>          <th>coef</th>     <th>std err</th>      <th>t</th>      <th>P>|t|</th>  <th>[0.025</th>    <th>0.975]</th>  \n",
       "</tr>\n",
       "<tr>\n",
       "  <th>const</th>       <td>    0.6702</td> <td>    0.001</td> <td>  767.869</td> <td> 0.000</td> <td>    0.669</td> <td>    0.672</td>\n",
       "</tr>\n",
       "<tr>\n",
       "  <th>volume</th>      <td>-3.927e-05</td> <td> 1.38e-06</td> <td>  -28.486</td> <td> 0.000</td> <td> -4.2e-05</td> <td>-3.66e-05</td>\n",
       "</tr>\n",
       "<tr>\n",
       "  <th>trade_count</th> <td>    0.0028</td> <td>    0.000</td> <td>   16.820</td> <td> 0.000</td> <td>    0.002</td> <td>    0.003</td>\n",
       "</tr>\n",
       "</table>\n",
       "<table class=\"simpletable\">\n",
       "<tr>\n",
       "  <th>Omnibus:</th>       <td>16.005</td> <th>  Durbin-Watson:     </th> <td>   0.651</td>\n",
       "</tr>\n",
       "<tr>\n",
       "  <th>Prob(Omnibus):</th> <td> 0.000</td> <th>  Jarque-Bera (JB):  </th> <td>  17.636</td>\n",
       "</tr>\n",
       "<tr>\n",
       "  <th>Skew:</th>          <td> 0.373</td> <th>  Prob(JB):          </th> <td>0.000148</td>\n",
       "</tr>\n",
       "<tr>\n",
       "  <th>Kurtosis:</th>      <td> 3.522</td> <th>  Cond. No.          </th> <td>1.89e+04</td>\n",
       "</tr>\n",
       "</table><br/><br/>Notes:<br/>[1] Standard Errors assume that the covariance matrix of the errors is correctly specified.<br/>[2] The condition number is large, 1.89e+04. This might indicate that there are<br/>strong multicollinearity or other numerical problems."
      ],
      "text/plain": [
       "<class 'statsmodels.iolib.summary.Summary'>\n",
       "\"\"\"\n",
       "                            OLS Regression Results                            \n",
       "==============================================================================\n",
       "Dep. Variable:                  close   R-squared:                       0.734\n",
       "Model:                            OLS   Adj. R-squared:                  0.733\n",
       "Method:                 Least Squares   F-statistic:                     698.6\n",
       "Date:                Fri, 10 Jun 2022   Prob (F-statistic):          2.06e-146\n",
       "Time:                        22:39:27   Log-Likelihood:                 3970.0\n",
       "No. Observations:                 510   AIC:                            -7934.\n",
       "Df Residuals:                     507   BIC:                            -7921.\n",
       "Df Model:                           2                                         \n",
       "Covariance Type:            nonrobust                                         \n",
       "===============================================================================\n",
       "                  coef    std err          t      P>|t|      [0.025      0.975]\n",
       "-------------------------------------------------------------------------------\n",
       "const           0.6702      0.001    767.869      0.000       0.669       0.672\n",
       "volume      -3.927e-05   1.38e-06    -28.486      0.000    -4.2e-05   -3.66e-05\n",
       "trade_count     0.0028      0.000     16.820      0.000       0.002       0.003\n",
       "==============================================================================\n",
       "Omnibus:                       16.005   Durbin-Watson:                   0.651\n",
       "Prob(Omnibus):                  0.000   Jarque-Bera (JB):               17.636\n",
       "Skew:                           0.373   Prob(JB):                     0.000148\n",
       "Kurtosis:                       3.522   Cond. No.                     1.89e+04\n",
       "==============================================================================\n",
       "\n",
       "Notes:\n",
       "[1] Standard Errors assume that the covariance matrix of the errors is correctly specified.\n",
       "[2] The condition number is large, 1.89e+04. This might indicate that there are\n",
       "strong multicollinearity or other numerical problems.\n",
       "\"\"\""
      ]
     },
     "execution_count": 195,
     "metadata": {},
     "output_type": "execute_result"
    }
   ],
   "source": [
    "# building linear model\n",
    "predictors = df_bars[['volume', 'trade_count']]\n",
    "predictors = sm.add_constant(predictors)\n",
    "\n",
    "fitted_linear = sm.OLS(df_bars['close'], predictors).fit()\n",
    "\n",
    "fitted_linear.summary()"
   ]
  },
  {
   "cell_type": "code",
   "execution_count": 196,
   "id": "9e6166a4",
   "metadata": {},
   "outputs": [],
   "source": [
    "new_data_lm = sm.add_constant(df_bars_test[['volume', 'trade_count']])"
   ]
  },
  {
   "cell_type": "code",
   "execution_count": 197,
   "id": "7e2a9f95",
   "metadata": {},
   "outputs": [],
   "source": [
    "test_pred_lm = fitted_linear.predict(new_data_lm)"
   ]
  },
  {
   "cell_type": "code",
   "execution_count": 308,
   "id": "58875291",
   "metadata": {},
   "outputs": [
    {
     "data": {
      "text/plain": [
       "29.597793272764925"
      ]
     },
     "execution_count": 308,
     "metadata": {},
     "output_type": "execute_result"
    }
   ],
   "source": [
    "# getting mae for linear model will be used to set trigger for buy and cell\n",
    "np.mean(np.abs(special.inv_boxcox(test_pred_lm, lambda_fitted[0]) - special.inv_boxcox(df_bars_test['close'], lambda_fitted[0])))"
   ]
  },
  {
   "cell_type": "code",
   "execution_count": 205,
   "id": "b4b895a8",
   "metadata": {},
   "outputs": [],
   "source": [
    "# forecasting the predictor variables"
   ]
  },
  {
   "cell_type": "code",
   "execution_count": 206,
   "id": "060a1b9e",
   "metadata": {},
   "outputs": [],
   "source": [
    "arima_volume_model = pm.auto_arima(df_bars_train['volume'], seasonal = False)\n",
    "arima_trade_model = pm.auto_arima(df_bars_train['trade_count'], seasonal = False)"
   ]
  },
  {
   "cell_type": "code",
   "execution_count": 251,
   "id": "acccd965",
   "metadata": {},
   "outputs": [],
   "source": [
    "test_volume_error = []\n",
    "test_trade_error = []\n",
    "\n",
    "for i in range((test_set_length), 0, -1):\n",
    "    \n",
    "    tmp_volume_model = arima_volume_model\n",
    "    tmp_trade_model = arima_trade_model\n",
    "\n",
    "    if (i == 30):\n",
    "        \n",
    "        test_volume_error.append(tmp_volume_model.predict(n_periods = 1)[0])\n",
    "        \n",
    "        test_trade_error.append(arima_trade_model.predict(n_periods = 1)[0])\n",
    "    else:\n",
    "        tmp_volume_model.update(df_bars_test[i:].volume)\n",
    "        \n",
    "        test_volume_error.append(tmp_volume_model.predict(n_periods = 1)[0])\n",
    "        \n",
    "        tmp_trade_model.update(df_bars_test[i:].trade_count)\n",
    "        \n",
    "        test_trade_error.append(tmp_trade_model.predict(n_periods = 1)[0])"
   ]
  },
  {
   "cell_type": "code",
   "execution_count": 266,
   "id": "ade7274c",
   "metadata": {},
   "outputs": [
    {
     "data": {
      "text/plain": [
       "29624002.290013783"
      ]
     },
     "execution_count": 266,
     "metadata": {},
     "output_type": "execute_result"
    }
   ],
   "source": [
    "# getting mae for volume one step ahead forecasts\n",
    "np.mean(np.abs(special.inv_boxcox(test_volume_error, lambda_fitted[1]) - special.inv_boxcox(df_bars_test['volume'], lambda_fitted[1])))"
   ]
  },
  {
   "cell_type": "code",
   "execution_count": 277,
   "id": "2af885ce",
   "metadata": {},
   "outputs": [
    {
     "data": {
      "text/plain": [
       "0.25038800352407603"
      ]
     },
     "execution_count": 277,
     "metadata": {},
     "output_type": "execute_result"
    }
   ],
   "source": [
    "# getting mape for volume\n",
    "np.mean(np.abs(special.inv_boxcox(test_volume_error, lambda_fitted[1]) - special.inv_boxcox(df_bars_test['volume'], lambda_fitted[1]))/special.inv_boxcox(df_bars_test['volume'], lambda_fitted[1]))"
   ]
  },
  {
   "cell_type": "code",
   "execution_count": 267,
   "id": "d4268f88",
   "metadata": {},
   "outputs": [
    {
     "data": {
      "text/plain": [
       "189399.52548357088"
      ]
     },
     "execution_count": 267,
     "metadata": {},
     "output_type": "execute_result"
    }
   ],
   "source": [
    "# getting mae for volume one step ahead for trade_count\n",
    "np.mean(np.abs(special.inv_boxcox(test_trade_error, lambda_fitted[2]) - special.inv_boxcox(df_bars_test['trade_count'], lambda_fitted[2])))"
   ]
  },
  {
   "cell_type": "code",
   "execution_count": 276,
   "id": "5b693f5d",
   "metadata": {},
   "outputs": [
    {
     "data": {
      "text/plain": [
       "0.22697219626969523"
      ]
     },
     "execution_count": 276,
     "metadata": {},
     "output_type": "execute_result"
    }
   ],
   "source": [
    "# mape for trade_count\n",
    "np.mean(np.abs(special.inv_boxcox(test_trade_error, lambda_fitted[2]) - special.inv_boxcox(df_bars_test['trade_count'], lambda_fitted[2]))/ special.inv_boxcox(df_bars_test['trade_count'], lambda_fitted[2]))"
   ]
  },
  {
   "cell_type": "code",
   "execution_count": 279,
   "id": "62046cad",
   "metadata": {},
   "outputs": [],
   "source": [
    "import pandas as pd"
   ]
  },
  {
   "cell_type": "code",
   "execution_count": 284,
   "id": "ccaa11e7",
   "metadata": {},
   "outputs": [],
   "source": [
    "# instead of using the actual testset to test linear model use the forecasted\n",
    "df_new_forecast = pd.DataFrame({'volume': test_volume_error, 'trade_count': test_trade_error})\n",
    "# if mape is smaller than .5, we are acurate more than 50% of the time..."
   ]
  },
  {
   "cell_type": "code",
   "execution_count": 286,
   "id": "10853a0e",
   "metadata": {},
   "outputs": [],
   "source": [
    "df_new_forecast = sm.add_constant(df_new_forecast)"
   ]
  },
  {
   "cell_type": "code",
   "execution_count": 288,
   "id": "24c993b5",
   "metadata": {},
   "outputs": [],
   "source": [
    "pred_lm_forecast = fitted_linear.predict(df_new_forecast)"
   ]
  },
  {
   "cell_type": "code",
   "execution_count": 302,
   "id": "06c8fa16",
   "metadata": {},
   "outputs": [
    {
     "data": {
      "text/plain": [
       "17.705809987970497"
      ]
     },
     "execution_count": 302,
     "metadata": {},
     "output_type": "execute_result"
    }
   ],
   "source": [
    "np.mean(np.abs(special.inv_boxcox(pred_lm_forecast, lambda_fitted[0]) - special.inv_boxcox(df_bars_test['close'], lambda_fitted[0]).reset_index(drop = True)))"
   ]
  },
  {
   "cell_type": "code",
   "execution_count": 306,
   "id": "7908d951",
   "metadata": {},
   "outputs": [
    {
     "data": {
      "text/plain": [
       "12.72382343635026"
      ]
     },
     "execution_count": 306,
     "metadata": {},
     "output_type": "execute_result"
    }
   ],
   "source": [
    "# getting standard deviation to see the spread of the data\n",
    "1.96*np.std(special.inv_boxcox(df_bars_test['close'], lambda_fitted[0]))"
   ]
  },
  {
   "cell_type": "code",
   "execution_count": 301,
   "id": "fa434cff",
   "metadata": {},
   "outputs": [
    {
     "data": {
      "text/plain": [
       "0.10123101917620109"
      ]
     },
     "execution_count": 301,
     "metadata": {},
     "output_type": "execute_result"
    }
   ],
   "source": [
    "# mape for the forecasted new dataset using one step ahead forecasts\n",
    "# getting 10% is pretty great from forecast to a linear model.. \n",
    "np.mean(np.abs(special.inv_boxcox(pred_lm_forecast, lambda_fitted[0]) - special.inv_boxcox(df_bars_test['close'], lambda_fitted[0]).reset_index(drop = True))/special.inv_boxcox(df_bars_test['close'], lambda_fitted[0]).reset_index(drop = True))"
   ]
  },
  {
   "cell_type": "code",
   "execution_count": 309,
   "id": "e25cb777",
   "metadata": {},
   "outputs": [],
   "source": [
    "# this method is decent, but what if we pulled a random 50 stocks and do the same for apple?"
   ]
  },
  {
   "cell_type": "code",
   "execution_count": 311,
   "id": "2aa5640d",
   "metadata": {},
   "outputs": [],
   "source": [
    "stock_list = ['DIDI', 'AMD', 'APPL', 'AMZN', 'CCL', 'NIO', 'F', 'BBD', 'ITUB', \\\n",
    "             'ABEV', 'BABA', 'NVDA', 'NOK', 'AAL', 'DOCU', 'SNAP', 'PCG', 'SOFI', \\\n",
    "             'SWN', 'INTC', 'AUY', 'CERN', 'PBR', 'T', 'TSLA', 'GRAB', 'NCLH', \\\n",
    "             'NU', 'MSFT', 'NLY', 'PLTR', 'UBER', 'WFC', 'META', 'XOM', 'MU', \\\n",
    "             'OXY', 'AMC', 'WBD', 'RIG', 'CS', 'OPEN', 'RBLX', 'PFE', 'PDD', \\\n",
    "             'FCX', 'GFI', 'DKNG']"
   ]
  },
  {
   "cell_type": "code",
   "execution_count": 390,
   "id": "71d5927d",
   "metadata": {},
   "outputs": [],
   "source": [
    "df_group_bars = pd.DataFrame()\n",
    "\n",
    "for stocks in stock_list:\n",
    "    \n",
    "    if (len(df_group_bars) == 0):\n",
    "        \n",
    "        df_group_bars = api.get_bars(stocks, TimeFrame.Day, \"2021-01-01\", \"2022-06-10\", adjustment='raw').df\n",
    "        \n",
    "        df_group_bars['stock'] = stocks\n",
    "    else:\n",
    "    \n",
    "        df_temp_stock = api.get_bars(stocks, TimeFrame.Day, \"2021-01-01\", \"2022-06-10\", adjustment='raw').df\n",
    "        \n",
    "        df_temp_stock['stock'] = stocks\n",
    "        \n",
    "        df_group_bars = pd.concat([df_group_bars, df_temp_stock])"
   ]
  },
  {
   "cell_type": "code",
   "execution_count": 391,
   "id": "97a99a60",
   "metadata": {},
   "outputs": [],
   "source": [
    "df_group_bars['datetime'] = df_group_bars.index\n",
    "df_group_bars['datetime'] = pd.to_datetime(df_group_bars['datetime'])\n",
    "# df_group_bars.pivot(index='patient', columns='obs', values='score')"
   ]
  },
  {
   "cell_type": "code",
   "execution_count": 392,
   "id": "f570c829",
   "metadata": {},
   "outputs": [],
   "source": [
    "df_pivot_bars = df_group_bars.pivot(index='datetime', columns='stock', values=['close', 'volume', 'trade_count'])"
   ]
  },
  {
   "cell_type": "code",
   "execution_count": 393,
   "id": "6181c845",
   "metadata": {},
   "outputs": [],
   "source": [
    "# pivot to create columns for each variable\n",
    "df_pivot_bars.columns = df_pivot_bars.columns.get_level_values(0) + '_' +  df_pivot_bars.columns.get_level_values(1)"
   ]
  },
  {
   "cell_type": "code",
   "execution_count": 394,
   "id": "00106b87",
   "metadata": {},
   "outputs": [],
   "source": [
    "# picking the target variable, of course I'm choosing Apple\n",
    "target = df_pivot_bars.pop('close_AAL')"
   ]
  },
  {
   "cell_type": "code",
   "execution_count": null,
   "id": "4f1a5384",
   "metadata": {},
   "outputs": [],
   "source": []
  },
  {
   "cell_type": "code",
   "execution_count": 395,
   "id": "88668e46",
   "metadata": {},
   "outputs": [],
   "source": [
    "# use PCA on all the variables into accouple and use elbow method to select the \n",
    "# number of components\n",
    "# then add in the target variables, check the forecasting is even possible..."
   ]
  },
  {
   "cell_type": "code",
   "execution_count": 398,
   "id": "23906580",
   "metadata": {},
   "outputs": [],
   "source": [
    "from sklearn.preprocessing import StandardScaler\n",
    "# scalling the data for pca\n",
    "df_scaled_bars = StandardScaler().fit_transform(df_pivot_bars.dropna(axis = 'columns'))"
   ]
  },
  {
   "cell_type": "code",
   "execution_count": 454,
   "id": "11352346",
   "metadata": {},
   "outputs": [],
   "source": [
    "from sklearn.decomposition import PCA\n",
    "\n",
    "pca = PCA(n_components = 5)\n",
    "\n",
    "principalComponents = pca.fit_transform(df_scaled_bars)\n",
    "\n",
    "principalDf = pd.DataFrame(data = principalComponents)"
   ]
  },
  {
   "cell_type": "code",
   "execution_count": 455,
   "id": "b683658a",
   "metadata": {},
   "outputs": [],
   "source": [
    "principalDf['Target'] = target.reset_index(drop = True)"
   ]
  },
  {
   "cell_type": "code",
   "execution_count": 456,
   "id": "9bdd26f9",
   "metadata": {},
   "outputs": [],
   "source": [
    "transformed_principal, fitted_lambda = stats.boxcox(principalDf['Target'])"
   ]
  },
  {
   "cell_type": "code",
   "execution_count": 457,
   "id": "a9e1ca76",
   "metadata": {},
   "outputs": [],
   "source": [
    "principalDf['Target'] = transformed_principal"
   ]
  },
  {
   "cell_type": "code",
   "execution_count": 465,
   "id": "14ce4649",
   "metadata": {},
   "outputs": [
    {
     "data": {
      "text/plain": [
       "<AxesSubplot:>"
      ]
     },
     "execution_count": 465,
     "metadata": {},
     "output_type": "execute_result"
    },
    {
     "data": {
      "image/png": "[encoded data removed]",
      "text/plain": [
       "<Figure size 432x288 with 1 Axes>"
      ]
     },
     "metadata": {
      "needs_background": "light"
     },
     "output_type": "display_data"
    }
   ],
   "source": [
    "principalDf[3].plot()"
   ]
  },
  {
   "cell_type": "code",
   "execution_count": 444,
   "id": "1ee3bd35",
   "metadata": {},
   "outputs": [
    {
     "data": {
      "image/png": "[encoded data removed]",
      "text/plain": [
       "<Figure size 432x288 with 2 Axes>"
      ]
     },
     "metadata": {
      "needs_background": "light"
     },
     "output_type": "display_data"
    }
   ],
   "source": [
    "# correlation plot with target and pca\n",
    "corrMatrix = principalDf.corr()\n",
    "sn.heatmap(corrMatrix, annot=True)\n",
    "plt.show()"
   ]
  },
  {
   "cell_type": "code",
   "execution_count": 476,
   "id": "c4598445",
   "metadata": {},
   "outputs": [
    {
     "data": {
      "text/html": [
       "<table class=\"simpletable\">\n",
       "<caption>OLS Regression Results</caption>\n",
       "<tr>\n",
       "  <th>Dep. Variable:</th>         <td>Target</td>      <th>  R-squared:         </th> <td>   0.573</td>\n",
       "</tr>\n",
       "<tr>\n",
       "  <th>Model:</th>                   <td>OLS</td>       <th>  Adj. R-squared:    </th> <td>   0.567</td>\n",
       "</tr>\n",
       "<tr>\n",
       "  <th>Method:</th>             <td>Least Squares</td>  <th>  F-statistic:       </th> <td>   95.86</td>\n",
       "</tr>\n",
       "<tr>\n",
       "  <th>Date:</th>             <td>Sun, 12 Jun 2022</td> <th>  Prob (F-statistic):</th> <td>8.07e-64</td>\n",
       "</tr>\n",
       "<tr>\n",
       "  <th>Time:</th>                 <td>11:21:54</td>     <th>  Log-Likelihood:    </th> <td> -159.00</td>\n",
       "</tr>\n",
       "<tr>\n",
       "  <th>No. Observations:</th>      <td>   363</td>      <th>  AIC:               </th> <td>   330.0</td>\n",
       "</tr>\n",
       "<tr>\n",
       "  <th>Df Residuals:</th>          <td>   357</td>      <th>  BIC:               </th> <td>   353.4</td>\n",
       "</tr>\n",
       "<tr>\n",
       "  <th>Df Model:</th>              <td>     5</td>      <th>                     </th>     <td> </td>   \n",
       "</tr>\n",
       "<tr>\n",
       "  <th>Covariance Type:</th>      <td>nonrobust</td>    <th>                     </th>     <td> </td>   \n",
       "</tr>\n",
       "</table>\n",
       "<table class=\"simpletable\">\n",
       "<tr>\n",
       "    <td></td>       <th>coef</th>     <th>std err</th>      <th>t</th>      <th>P>|t|</th>  <th>[0.025</th>    <th>0.975]</th>  \n",
       "</tr>\n",
       "<tr>\n",
       "  <th>const</th> <td>    6.7396</td> <td>    0.020</td> <td>  339.606</td> <td> 0.000</td> <td>    6.701</td> <td>    6.779</td>\n",
       "</tr>\n",
       "<tr>\n",
       "  <th>0</th>     <td>   -0.0667</td> <td>    0.004</td> <td>  -18.062</td> <td> 0.000</td> <td>   -0.074</td> <td>   -0.059</td>\n",
       "</tr>\n",
       "<tr>\n",
       "  <th>1</th>     <td>   -0.0152</td> <td>    0.005</td> <td>   -2.821</td> <td> 0.005</td> <td>   -0.026</td> <td>   -0.005</td>\n",
       "</tr>\n",
       "<tr>\n",
       "  <th>2</th>     <td>   -0.0147</td> <td>    0.007</td> <td>   -2.155</td> <td> 0.032</td> <td>   -0.028</td> <td>   -0.001</td>\n",
       "</tr>\n",
       "<tr>\n",
       "  <th>3</th>     <td>    0.0308</td> <td>    0.009</td> <td>    3.413</td> <td> 0.001</td> <td>    0.013</td> <td>    0.048</td>\n",
       "</tr>\n",
       "<tr>\n",
       "  <th>4</th>     <td>   -0.1106</td> <td>    0.010</td> <td>  -11.351</td> <td> 0.000</td> <td>   -0.130</td> <td>   -0.091</td>\n",
       "</tr>\n",
       "</table>\n",
       "<table class=\"simpletable\">\n",
       "<tr>\n",
       "  <th>Omnibus:</th>       <td> 1.644</td> <th>  Durbin-Watson:     </th> <td>   0.294</td>\n",
       "</tr>\n",
       "<tr>\n",
       "  <th>Prob(Omnibus):</th> <td> 0.440</td> <th>  Jarque-Bera (JB):  </th> <td>   1.491</td>\n",
       "</tr>\n",
       "<tr>\n",
       "  <th>Skew:</th>          <td>-0.023</td> <th>  Prob(JB):          </th> <td>   0.474</td>\n",
       "</tr>\n",
       "<tr>\n",
       "  <th>Kurtosis:</th>      <td> 3.311</td> <th>  Cond. No.          </th> <td>    5.37</td>\n",
       "</tr>\n",
       "</table><br/><br/>Notes:<br/>[1] Standard Errors assume that the covariance matrix of the errors is correctly specified."
      ],
      "text/plain": [
       "<class 'statsmodels.iolib.summary.Summary'>\n",
       "\"\"\"\n",
       "                            OLS Regression Results                            \n",
       "==============================================================================\n",
       "Dep. Variable:                 Target   R-squared:                       0.573\n",
       "Model:                            OLS   Adj. R-squared:                  0.567\n",
       "Method:                 Least Squares   F-statistic:                     95.86\n",
       "Date:                Sun, 12 Jun 2022   Prob (F-statistic):           8.07e-64\n",
       "Time:                        11:21:54   Log-Likelihood:                -159.00\n",
       "No. Observations:                 363   AIC:                             330.0\n",
       "Df Residuals:                     357   BIC:                             353.4\n",
       "Df Model:                           5                                         \n",
       "Covariance Type:            nonrobust                                         \n",
       "==============================================================================\n",
       "                 coef    std err          t      P>|t|      [0.025      0.975]\n",
       "------------------------------------------------------------------------------\n",
       "const          6.7396      0.020    339.606      0.000       6.701       6.779\n",
       "0             -0.0667      0.004    -18.062      0.000      -0.074      -0.059\n",
       "1             -0.0152      0.005     -2.821      0.005      -0.026      -0.005\n",
       "2             -0.0147      0.007     -2.155      0.032      -0.028      -0.001\n",
       "3              0.0308      0.009      3.413      0.001       0.013       0.048\n",
       "4             -0.1106      0.010    -11.351      0.000      -0.130      -0.091\n",
       "==============================================================================\n",
       "Omnibus:                        1.644   Durbin-Watson:                   0.294\n",
       "Prob(Omnibus):                  0.440   Jarque-Bera (JB):                1.491\n",
       "Skew:                          -0.023   Prob(JB):                        0.474\n",
       "Kurtosis:                       3.311   Cond. No.                         5.37\n",
       "==============================================================================\n",
       "\n",
       "Notes:\n",
       "[1] Standard Errors assume that the covariance matrix of the errors is correctly specified.\n",
       "\"\"\""
      ]
     },
     "execution_count": 476,
     "metadata": {},
     "output_type": "execute_result"
    }
   ],
   "source": [
    "# building linear model\n",
    "predictors = principalDf[[0,1,2,3,4]]\n",
    "predictors_cons = sm.add_constant(predictors)\n",
    "\n",
    "fitted_linear = sm.OLS(principalDf['Target'], predictors_cons).fit()\n",
    "\n",
    "fitted_linear.summary()"
   ]
  },
  {
   "cell_type": "code",
   "execution_count": 478,
   "id": "20934cb3",
   "metadata": {},
   "outputs": [],
   "source": [
    "forecast_list = []\n",
    "for col in principalDf.columns:\n",
    "    forecast_list.append(pm.auto_arima(principalDf[col], seasonal = False))"
   ]
  },
  {
   "cell_type": "code",
   "execution_count": 484,
   "id": "2f930d0b",
   "metadata": {},
   "outputs": [
    {
     "data": {
      "text/html": [
       "<table class=\"simpletable\">\n",
       "<caption>SARIMAX Results</caption>\n",
       "<tr>\n",
       "  <th>Dep. Variable:</th>           <td>y</td>        <th>  No. Observations:  </th>    <td>363</td>  \n",
       "</tr>\n",
       "<tr>\n",
       "  <th>Model:</th>           <td>SARIMAX(3, 1, 3)</td> <th>  Log Likelihood     </th> <td>-569.218</td>\n",
       "</tr>\n",
       "<tr>\n",
       "  <th>Date:</th>            <td>Sun, 12 Jun 2022</td> <th>  AIC                </th> <td>1154.436</td>\n",
       "</tr>\n",
       "<tr>\n",
       "  <th>Time:</th>                <td>11:25:24</td>     <th>  BIC                </th> <td>1185.570</td>\n",
       "</tr>\n",
       "<tr>\n",
       "  <th>Sample:</th>                  <td>0</td>        <th>  HQIC               </th> <td>1166.813</td>\n",
       "</tr>\n",
       "<tr>\n",
       "  <th></th>                      <td> - 363</td>      <th>                     </th>     <td> </td>   \n",
       "</tr>\n",
       "<tr>\n",
       "  <th>Covariance Type:</th>        <td>opg</td>       <th>                     </th>     <td> </td>   \n",
       "</tr>\n",
       "</table>\n",
       "<table class=\"simpletable\">\n",
       "<tr>\n",
       "      <td></td>         <th>coef</th>     <th>std err</th>      <th>z</th>      <th>P>|z|</th>  <th>[0.025</th>    <th>0.975]</th>  \n",
       "</tr>\n",
       "<tr>\n",
       "  <th>intercept</th> <td>    0.0537</td> <td>    0.024</td> <td>    2.241</td> <td> 0.025</td> <td>    0.007</td> <td>    0.101</td>\n",
       "</tr>\n",
       "<tr>\n",
       "  <th>ar.L1</th>     <td>   -1.1382</td> <td>    0.064</td> <td>  -17.923</td> <td> 0.000</td> <td>   -1.263</td> <td>   -1.014</td>\n",
       "</tr>\n",
       "<tr>\n",
       "  <th>ar.L2</th>     <td>    0.2253</td> <td>    0.105</td> <td>    2.145</td> <td> 0.032</td> <td>    0.019</td> <td>    0.431</td>\n",
       "</tr>\n",
       "<tr>\n",
       "  <th>ar.L3</th>     <td>    0.6119</td> <td>    0.056</td> <td>   10.950</td> <td> 0.000</td> <td>    0.502</td> <td>    0.721</td>\n",
       "</tr>\n",
       "<tr>\n",
       "  <th>ma.L1</th>     <td>    0.8753</td> <td>    0.036</td> <td>   24.110</td> <td> 0.000</td> <td>    0.804</td> <td>    0.946</td>\n",
       "</tr>\n",
       "<tr>\n",
       "  <th>ma.L2</th>     <td>   -0.6951</td> <td>    0.054</td> <td>  -12.846</td> <td> 0.000</td> <td>   -0.801</td> <td>   -0.589</td>\n",
       "</tr>\n",
       "<tr>\n",
       "  <th>ma.L3</th>     <td>   -0.9093</td> <td>    0.035</td> <td>  -26.148</td> <td> 0.000</td> <td>   -0.977</td> <td>   -0.841</td>\n",
       "</tr>\n",
       "<tr>\n",
       "  <th>sigma2</th>    <td>    1.3470</td> <td>    0.088</td> <td>   15.312</td> <td> 0.000</td> <td>    1.175</td> <td>    1.519</td>\n",
       "</tr>\n",
       "</table>\n",
       "<table class=\"simpletable\">\n",
       "<tr>\n",
       "  <th>Ljung-Box (L1) (Q):</th>     <td>0.25</td> <th>  Jarque-Bera (JB):  </th> <td>100.45</td>\n",
       "</tr>\n",
       "<tr>\n",
       "  <th>Prob(Q):</th>                <td>0.62</td> <th>  Prob(JB):          </th>  <td>0.00</td> \n",
       "</tr>\n",
       "<tr>\n",
       "  <th>Heteroskedasticity (H):</th> <td>2.33</td> <th>  Skew:              </th>  <td>0.95</td> \n",
       "</tr>\n",
       "<tr>\n",
       "  <th>Prob(H) (two-sided):</th>    <td>0.00</td> <th>  Kurtosis:          </th>  <td>4.75</td> \n",
       "</tr>\n",
       "</table><br/><br/>Warnings:<br/>[1] Covariance matrix calculated using the outer product of gradients (complex-step)."
      ],
      "text/plain": [
       "<class 'statsmodels.iolib.summary.Summary'>\n",
       "\"\"\"\n",
       "                               SARIMAX Results                                \n",
       "==============================================================================\n",
       "Dep. Variable:                      y   No. Observations:                  363\n",
       "Model:               SARIMAX(3, 1, 3)   Log Likelihood                -569.218\n",
       "Date:                Sun, 12 Jun 2022   AIC                           1154.436\n",
       "Time:                        11:25:24   BIC                           1185.570\n",
       "Sample:                             0   HQIC                          1166.813\n",
       "                                - 363                                         \n",
       "Covariance Type:                  opg                                         \n",
       "==============================================================================\n",
       "                 coef    std err          z      P>|z|      [0.025      0.975]\n",
       "------------------------------------------------------------------------------\n",
       "intercept      0.0537      0.024      2.241      0.025       0.007       0.101\n",
       "ar.L1         -1.1382      0.064    -17.923      0.000      -1.263      -1.014\n",
       "ar.L2          0.2253      0.105      2.145      0.032       0.019       0.431\n",
       "ar.L3          0.6119      0.056     10.950      0.000       0.502       0.721\n",
       "ma.L1          0.8753      0.036     24.110      0.000       0.804       0.946\n",
       "ma.L2         -0.6951      0.054    -12.846      0.000      -0.801      -0.589\n",
       "ma.L3         -0.9093      0.035    -26.148      0.000      -0.977      -0.841\n",
       "sigma2         1.3470      0.088     15.312      0.000       1.175       1.519\n",
       "===================================================================================\n",
       "Ljung-Box (L1) (Q):                   0.25   Jarque-Bera (JB):               100.45\n",
       "Prob(Q):                              0.62   Prob(JB):                         0.00\n",
       "Heteroskedasticity (H):               2.33   Skew:                             0.95\n",
       "Prob(H) (two-sided):                  0.00   Kurtosis:                         4.75\n",
       "===================================================================================\n",
       "\n",
       "Warnings:\n",
       "[1] Covariance matrix calculated using the outer product of gradients (complex-step).\n",
       "\"\"\""
      ]
     },
     "execution_count": 484,
     "metadata": {},
     "output_type": "execute_result"
    }
   ],
   "source": [
    "forecast_list[0].summary()"
   ]
  },
  {
   "cell_type": "code",
   "execution_count": 473,
   "id": "32021386",
   "metadata": {},
   "outputs": [
    {
     "data": {
      "text/plain": [
       "Index(['const', 0, 1, 2, 3, 4], dtype='object')"
      ]
     },
     "execution_count": 473,
     "metadata": {},
     "output_type": "execute_result"
    }
   ],
   "source": []
  },
  {
   "cell_type": "code",
   "execution_count": null,
   "id": "1b2050a4",
   "metadata": {},
   "outputs": [],
   "source": []
  }
 ],
 "metadata": {
  "kernelspec": {
   "display_name": "Python 3 (ipykernel)",
   "language": "python",
   "name": "python3"
  },
  "language_info": {
   "codemirror_mode": {
    "name": "ipython",
    "version": 3
   },
   "file_extension": ".py",
   "mimetype": "text/x-python",
   "name": "python",
   "nbconvert_exporter": "python",
   "pygments_lexer": "ipython3",
   "version": "3.10.4"
  }
 },
 "nbformat": 4,
 "nbformat_minor": 5
}
